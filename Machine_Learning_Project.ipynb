{
  "cells": [
    {
      "cell_type": "markdown",
      "metadata": {
        "id": "view-in-github",
        "colab_type": "text"
      },
      "source": [
        "<a href=\"https://colab.research.google.com/github/JSGarris/MLProject/blob/improve-date/Machine_Learning_Project.ipynb\" target=\"_parent\"><img src=\"https://colab.research.google.com/assets/colab-badge.svg\" alt=\"Open In Colab\"/></a>"
      ]
    },
    {
      "cell_type": "markdown",
      "metadata": {
        "id": "NVrCJy2uoQUb"
      },
      "source": [
        "# Data Setup"
      ]
    },
    {
      "cell_type": "code",
      "execution_count": null,
      "metadata": {
        "id": "QoOSTe5I6Om6"
      },
      "outputs": [],
      "source": [
        "# Some common packages that we may need\n",
        "from pandas.plotting import scatter_matrix \n",
        "from sklearn.impute import SimpleImputer\n",
        "from sklearn.preprocessing import LabelEncoder\n",
        "from sklearn.preprocessing import OneHotEncoder\n",
        "from sklearn.pipeline import Pipeline\n",
        "from sklearn.preprocessing import StandardScaler\n",
        "\n",
        "# Import some common packages\n",
        "import os\n",
        "import numpy as np\n",
        "import matplotlib\n",
        "import matplotlib.pyplot as plt\n",
        "import pandas as pd\n",
        "\n",
        "# to make this notebook's output stable across runs\n",
        "np.random.seed(42)\n",
        "\n",
        "def load_police_data():\n",
        "  crimes=pd.read_csv('./data/Crime_Data.csv')\n",
        "  return crimes\n",
        "\n",
        "def load_oridinal_violence_features():\n",
        "  ordinal_violence=pd.read_csv('./data/crime_categories.csv')\n",
        "  return ordinal_violence"
      ]
    },
    {
      "cell_type": "markdown",
      "metadata": {
        "id": "A9hjjV5SDs0z"
      },
      "source": [
        "Now that the data is loaded we want to look at the data and see how it is organized and what groups are being used. We can also get some insight onto if the data may be useful adn we can look and see how we may split or encode our data."
      ]
    },
    {
      "cell_type": "code",
      "execution_count": null,
      "metadata": {
        "colab": {
          "base_uri": "https://localhost:8080/"
        },
        "id": "CZEtJ3IB6P3a",
        "outputId": "db260df7-f61e-4373-9a15-22c81430e226"
      },
      "outputs": [
        {
          "name": "stdout",
          "output_type": "stream",
          "text": [
            "<class 'pandas.core.frame.DataFrame'>\n",
            "RangeIndex: 24577 entries, 0 to 24576\n",
            "Data columns (total 9 columns):\n",
            " #   Column            Non-Null Count  Dtype  \n",
            "---  ------            --------------  -----  \n",
            " 0   RecordID          24577 non-null  int64  \n",
            " 1   Offense           24577 non-null  object \n",
            " 2   IncidentID        24577 non-null  int64  \n",
            " 3   BlockNumber       23229 non-null  float64\n",
            " 4   StreetName        24577 non-null  object \n",
            " 5   Agency            24577 non-null  object \n",
            " 6   DateReported      24577 non-null  object \n",
            " 7   HourReported      24577 non-null  int64  \n",
            " 8   ReportingOfficer  24534 non-null  object \n",
            "dtypes: float64(1), int64(3), object(5)\n",
            "memory usage: 1.7+ MB\n"
          ]
        }
      ],
      "source": [
        "crimes = load_police_data()\n",
        "crimes.info()"
      ]
    },
    {
      "cell_type": "code",
      "execution_count": null,
      "metadata": {
        "colab": {
          "base_uri": "https://localhost:8080/",
          "height": 581
        },
        "id": "7DdYGrkM6AAu",
        "outputId": "9cd37764-9e92-40e4-ef35-d116260a5841"
      },
      "outputs": [
        {
          "data": {
            "text/html": [
              "\n",
              "  <div id=\"df-5d00def2-a3b9-4bac-be11-5ef33dc755dc\">\n",
              "    <div class=\"colab-df-container\">\n",
              "      <div>\n",
              "<style scoped>\n",
              "    .dataframe tbody tr th:only-of-type {\n",
              "        vertical-align: middle;\n",
              "    }\n",
              "\n",
              "    .dataframe tbody tr th {\n",
              "        vertical-align: top;\n",
              "    }\n",
              "\n",
              "    .dataframe thead th {\n",
              "        text-align: right;\n",
              "    }\n",
              "</style>\n",
              "<table border=\"1\" class=\"dataframe\">\n",
              "  <thead>\n",
              "    <tr style=\"text-align: right;\">\n",
              "      <th></th>\n",
              "      <th>RecordID</th>\n",
              "      <th>Offense</th>\n",
              "      <th>IncidentID</th>\n",
              "      <th>BlockNumber</th>\n",
              "      <th>StreetName</th>\n",
              "      <th>Agency</th>\n",
              "      <th>DateReported</th>\n",
              "      <th>HourReported</th>\n",
              "      <th>ReportingOfficer</th>\n",
              "    </tr>\n",
              "  </thead>\n",
              "  <tbody>\n",
              "    <tr>\n",
              "      <th>0</th>\n",
              "      <td>1</td>\n",
              "      <td>Larceny - All Other</td>\n",
              "      <td>202200030104</td>\n",
              "      <td>800.0</td>\n",
              "      <td>ELLIOTT AVE</td>\n",
              "      <td>CPD</td>\n",
              "      <td>2022/10/18 01:08:59+00</td>\n",
              "      <td>2108</td>\n",
              "      <td>Lowe, Courtney</td>\n",
              "    </tr>\n",
              "    <tr>\n",
              "      <th>1</th>\n",
              "      <td>2</td>\n",
              "      <td>Burglary</td>\n",
              "      <td>202200030099</td>\n",
              "      <td>800.0</td>\n",
              "      <td>RAYMOND RD</td>\n",
              "      <td>CPD</td>\n",
              "      <td>2022/10/18 00:31:50+00</td>\n",
              "      <td>2031</td>\n",
              "      <td>Lowe, Courtney</td>\n",
              "    </tr>\n",
              "    <tr>\n",
              "      <th>2</th>\n",
              "      <td>3</td>\n",
              "      <td>Assault Aggravated</td>\n",
              "      <td>202200030096</td>\n",
              "      <td>900.0</td>\n",
              "      <td>W MAIN ST</td>\n",
              "      <td>CPD</td>\n",
              "      <td>2022/10/17 23:40:34+00</td>\n",
              "      <td>1940</td>\n",
              "      <td>Alfonso, Sean</td>\n",
              "    </tr>\n",
              "    <tr>\n",
              "      <th>3</th>\n",
              "      <td>4</td>\n",
              "      <td>Assist Citizen - Mental/TDO/ECO</td>\n",
              "      <td>202200030087</td>\n",
              "      <td>600.0</td>\n",
              "      <td>E MARKET ST</td>\n",
              "      <td>CPD</td>\n",
              "      <td>2022/10/17 22:24:21+00</td>\n",
              "      <td>1824</td>\n",
              "      <td>Lowe, Courtney</td>\n",
              "    </tr>\n",
              "    <tr>\n",
              "      <th>4</th>\n",
              "      <td>5</td>\n",
              "      <td>Assault Simple</td>\n",
              "      <td>202200030080</td>\n",
              "      <td>1400.0</td>\n",
              "      <td>UNIVERSITY AVE</td>\n",
              "      <td>CPD</td>\n",
              "      <td>2022/10/17 19:58:39+00</td>\n",
              "      <td>1558</td>\n",
              "      <td>Houchens, Logan</td>\n",
              "    </tr>\n",
              "    <tr>\n",
              "      <th>5</th>\n",
              "      <td>6</td>\n",
              "      <td>Trespass</td>\n",
              "      <td>202200030061</td>\n",
              "      <td>500.0</td>\n",
              "      <td>PRESTON AVE</td>\n",
              "      <td>CPD</td>\n",
              "      <td>2022/10/17 17:35:18+00</td>\n",
              "      <td>1335</td>\n",
              "      <td>Houchens, Jamell</td>\n",
              "    </tr>\n",
              "    <tr>\n",
              "      <th>6</th>\n",
              "      <td>7</td>\n",
              "      <td>Motor Vehicle Theft</td>\n",
              "      <td>202200030053</td>\n",
              "      <td>600.0</td>\n",
              "      <td>14TH ST NW</td>\n",
              "      <td>CPD</td>\n",
              "      <td>2022/10/17 14:54:03+00</td>\n",
              "      <td>1054</td>\n",
              "      <td>Nash, Darius</td>\n",
              "    </tr>\n",
              "    <tr>\n",
              "      <th>7</th>\n",
              "      <td>8</td>\n",
              "      <td>Larceny - Theft from Building</td>\n",
              "      <td>202280000894</td>\n",
              "      <td>100.0</td>\n",
              "      <td>BAYLOR LN</td>\n",
              "      <td>CPD</td>\n",
              "      <td>2022/10/17 13:24:02+00</td>\n",
              "      <td>924</td>\n",
              "      <td>Moje, Ashley</td>\n",
              "    </tr>\n",
              "    <tr>\n",
              "      <th>8</th>\n",
              "      <td>9</td>\n",
              "      <td>Larceny - From Motor Vehicle</td>\n",
              "      <td>202280000893</td>\n",
              "      <td>1400.0</td>\n",
              "      <td>FOREST RIDGE RD</td>\n",
              "      <td>CPD</td>\n",
              "      <td>2022/10/17 12:39:53+00</td>\n",
              "      <td>839</td>\n",
              "      <td>Moje, Ashley</td>\n",
              "    </tr>\n",
              "    <tr>\n",
              "      <th>9</th>\n",
              "      <td>10</td>\n",
              "      <td>Drug/Narcotics Violation</td>\n",
              "      <td>202200030029</td>\n",
              "      <td>1700.0</td>\n",
              "      <td>HYDRAULIC RD</td>\n",
              "      <td>CPD</td>\n",
              "      <td>2022/10/17 10:40:25+00</td>\n",
              "      <td>640</td>\n",
              "      <td>Curry, Brian</td>\n",
              "    </tr>\n",
              "  </tbody>\n",
              "</table>\n",
              "</div>\n",
              "      <button class=\"colab-df-convert\" onclick=\"convertToInteractive('df-5d00def2-a3b9-4bac-be11-5ef33dc755dc')\"\n",
              "              title=\"Convert this dataframe to an interactive table.\"\n",
              "              style=\"display:none;\">\n",
              "        \n",
              "  <svg xmlns=\"http://www.w3.org/2000/svg\" height=\"24px\"viewBox=\"0 0 24 24\"\n",
              "       width=\"24px\">\n",
              "    <path d=\"M0 0h24v24H0V0z\" fill=\"none\"/>\n",
              "    <path d=\"M18.56 5.44l.94 2.06.94-2.06 2.06-.94-2.06-.94-.94-2.06-.94 2.06-2.06.94zm-11 1L8.5 8.5l.94-2.06 2.06-.94-2.06-.94L8.5 2.5l-.94 2.06-2.06.94zm10 10l.94 2.06.94-2.06 2.06-.94-2.06-.94-.94-2.06-.94 2.06-2.06.94z\"/><path d=\"M17.41 7.96l-1.37-1.37c-.4-.4-.92-.59-1.43-.59-.52 0-1.04.2-1.43.59L10.3 9.45l-7.72 7.72c-.78.78-.78 2.05 0 2.83L4 21.41c.39.39.9.59 1.41.59.51 0 1.02-.2 1.41-.59l7.78-7.78 2.81-2.81c.8-.78.8-2.07 0-2.86zM5.41 20L4 18.59l7.72-7.72 1.47 1.35L5.41 20z\"/>\n",
              "  </svg>\n",
              "      </button>\n",
              "      \n",
              "  <style>\n",
              "    .colab-df-container {\n",
              "      display:flex;\n",
              "      flex-wrap:wrap;\n",
              "      gap: 12px;\n",
              "    }\n",
              "\n",
              "    .colab-df-convert {\n",
              "      background-color: #E8F0FE;\n",
              "      border: none;\n",
              "      border-radius: 50%;\n",
              "      cursor: pointer;\n",
              "      display: none;\n",
              "      fill: #1967D2;\n",
              "      height: 32px;\n",
              "      padding: 0 0 0 0;\n",
              "      width: 32px;\n",
              "    }\n",
              "\n",
              "    .colab-df-convert:hover {\n",
              "      background-color: #E2EBFA;\n",
              "      box-shadow: 0px 1px 2px rgba(60, 64, 67, 0.3), 0px 1px 3px 1px rgba(60, 64, 67, 0.15);\n",
              "      fill: #174EA6;\n",
              "    }\n",
              "\n",
              "    [theme=dark] .colab-df-convert {\n",
              "      background-color: #3B4455;\n",
              "      fill: #D2E3FC;\n",
              "    }\n",
              "\n",
              "    [theme=dark] .colab-df-convert:hover {\n",
              "      background-color: #434B5C;\n",
              "      box-shadow: 0px 1px 3px 1px rgba(0, 0, 0, 0.15);\n",
              "      filter: drop-shadow(0px 1px 2px rgba(0, 0, 0, 0.3));\n",
              "      fill: #FFFFFF;\n",
              "    }\n",
              "  </style>\n",
              "\n",
              "      <script>\n",
              "        const buttonEl =\n",
              "          document.querySelector('#df-5d00def2-a3b9-4bac-be11-5ef33dc755dc button.colab-df-convert');\n",
              "        buttonEl.style.display =\n",
              "          google.colab.kernel.accessAllowed ? 'block' : 'none';\n",
              "\n",
              "        async function convertToInteractive(key) {\n",
              "          const element = document.querySelector('#df-5d00def2-a3b9-4bac-be11-5ef33dc755dc');\n",
              "          const dataTable =\n",
              "            await google.colab.kernel.invokeFunction('convertToInteractive',\n",
              "                                                     [key], {});\n",
              "          if (!dataTable) return;\n",
              "\n",
              "          const docLinkHtml = 'Like what you see? Visit the ' +\n",
              "            '<a target=\"_blank\" href=https://colab.research.google.com/notebooks/data_table.ipynb>data table notebook</a>'\n",
              "            + ' to learn more about interactive tables.';\n",
              "          element.innerHTML = '';\n",
              "          dataTable['output_type'] = 'display_data';\n",
              "          await google.colab.output.renderOutput(dataTable, element);\n",
              "          const docLink = document.createElement('div');\n",
              "          docLink.innerHTML = docLinkHtml;\n",
              "          element.appendChild(docLink);\n",
              "        }\n",
              "      </script>\n",
              "    </div>\n",
              "  </div>\n",
              "  "
            ],
            "text/plain": [
              "   RecordID                          Offense    IncidentID  BlockNumber  \\\n",
              "0         1              Larceny - All Other  202200030104        800.0   \n",
              "1         2                         Burglary  202200030099        800.0   \n",
              "2         3               Assault Aggravated  202200030096        900.0   \n",
              "3         4  Assist Citizen - Mental/TDO/ECO  202200030087        600.0   \n",
              "4         5                   Assault Simple  202200030080       1400.0   \n",
              "5         6                         Trespass  202200030061        500.0   \n",
              "6         7              Motor Vehicle Theft  202200030053        600.0   \n",
              "7         8    Larceny - Theft from Building  202280000894        100.0   \n",
              "8         9     Larceny - From Motor Vehicle  202280000893       1400.0   \n",
              "9        10         Drug/Narcotics Violation  202200030029       1700.0   \n",
              "\n",
              "        StreetName Agency            DateReported  HourReported  \\\n",
              "0      ELLIOTT AVE    CPD  2022/10/18 01:08:59+00          2108   \n",
              "1       RAYMOND RD    CPD  2022/10/18 00:31:50+00          2031   \n",
              "2        W MAIN ST    CPD  2022/10/17 23:40:34+00          1940   \n",
              "3      E MARKET ST    CPD  2022/10/17 22:24:21+00          1824   \n",
              "4   UNIVERSITY AVE    CPD  2022/10/17 19:58:39+00          1558   \n",
              "5      PRESTON AVE    CPD  2022/10/17 17:35:18+00          1335   \n",
              "6       14TH ST NW    CPD  2022/10/17 14:54:03+00          1054   \n",
              "7        BAYLOR LN    CPD  2022/10/17 13:24:02+00           924   \n",
              "8  FOREST RIDGE RD    CPD  2022/10/17 12:39:53+00           839   \n",
              "9     HYDRAULIC RD    CPD  2022/10/17 10:40:25+00           640   \n",
              "\n",
              "   ReportingOfficer  \n",
              "0    Lowe, Courtney  \n",
              "1    Lowe, Courtney  \n",
              "2     Alfonso, Sean  \n",
              "3    Lowe, Courtney  \n",
              "4   Houchens, Logan  \n",
              "5  Houchens, Jamell  \n",
              "6      Nash, Darius  \n",
              "7      Moje, Ashley  \n",
              "8      Moje, Ashley  \n",
              "9      Curry, Brian  "
            ]
          },
          "execution_count": 3,
          "metadata": {},
          "output_type": "execute_result"
        }
      ],
      "source": [
        "crimes.head(10)"
      ]
    },
    {
      "cell_type": "code",
      "execution_count": null,
      "metadata": {
        "colab": {
          "base_uri": "https://localhost:8080/"
        },
        "id": "FoNBGaBZDqV8",
        "outputId": "69bff03d-2beb-47f4-eac6-9762d62288e2"
      },
      "outputs": [
        {
          "name": "stdout",
          "output_type": "stream",
          "text": [
            "<class 'pandas.core.frame.DataFrame'>\n",
            "RangeIndex: 24577 entries, 0 to 24576\n",
            "Data columns (total 9 columns):\n",
            " #   Column            Non-Null Count  Dtype  \n",
            "---  ------            --------------  -----  \n",
            " 0   RecordID          24577 non-null  int64  \n",
            " 1   Offense           24577 non-null  object \n",
            " 2   IncidentID        24577 non-null  int64  \n",
            " 3   BlockNumber       23229 non-null  float64\n",
            " 4   StreetName        24577 non-null  object \n",
            " 5   Agency            24577 non-null  object \n",
            " 6   DateReported      24577 non-null  object \n",
            " 7   HourReported      24577 non-null  int64  \n",
            " 8   ReportingOfficer  24534 non-null  object \n",
            "dtypes: float64(1), int64(3), object(5)\n",
            "memory usage: 1.7+ MB\n"
          ]
        }
      ],
      "source": [
        "crimes.info()"
      ]
    },
    {
      "cell_type": "markdown",
      "metadata": {
        "id": "NELH584yoQUf"
      },
      "source": [
        "# Data Exploration"
      ]
    },
    {
      "cell_type": "markdown",
      "metadata": {
        "id": "slYFckZJIpnE"
      },
      "source": [
        "## Non Numerical Data Exploration"
      ]
    },
    {
      "cell_type": "markdown",
      "metadata": {
        "id": "AGo8CBHUESWQ"
      },
      "source": [
        "Now lets look a little closer at the non numerical data"
      ]
    },
    {
      "cell_type": "code",
      "execution_count": null,
      "metadata": {
        "colab": {
          "base_uri": "https://localhost:8080/"
        },
        "id": "gMmPDQjqEs01",
        "outputId": "5ff8dba0-a141-4248-a780-43b3ca363722"
      },
      "outputs": [
        {
          "data": {
            "text/plain": [
              "Hit and Run                         2120\n",
              "Assault Simple                      1963\n",
              "Suspicious Activity                 1634\n",
              "Vandalism                           1609\n",
              "Larceny - All Other                 1557\n",
              "                                    ... \n",
              "Tactical Crime Initiative - TCI        1\n",
              "911 Investigation                      1\n",
              "Prostitution-assisting/promoting       1\n",
              "Field Interview                        1\n",
              "Alarm-Accidental                       1\n",
              "Name: Offense, Length: 119, dtype: int64"
            ]
          },
          "execution_count": 5,
          "metadata": {},
          "output_type": "execute_result"
        }
      ],
      "source": [
        "crimes[\"Offense\"].value_counts()"
      ]
    },
    {
      "cell_type": "code",
      "execution_count": null,
      "metadata": {
        "colab": {
          "base_uri": "https://localhost:8080/"
        },
        "id": "3F9L_pO3E3El",
        "outputId": "1254b95c-b6fc-4a3a-f705-81dd0fcd74fb"
      },
      "outputs": [
        {
          "data": {
            "text/plain": [
              "E MARKET ST               1134\n",
              "EMMET ST N                1048\n",
              "W MAIN ST                 1007\n",
              "E MAIN ST                  520\n",
              "5TH ST SW                  450\n",
              "                          ... \n",
              "1ST ST S, 207                1\n",
              "MICHIE DR, 115               1\n",
              "HOLIDAY DR, 116              1\n",
              "CULBRETH RD / RUGBY RD       1\n",
              "15TH ST NW, 2013             1\n",
              "Name: StreetName, Length: 3401, dtype: int64"
            ]
          },
          "execution_count": 6,
          "metadata": {},
          "output_type": "execute_result"
        }
      ],
      "source": [
        "crimes[\"StreetName\"].value_counts()"
      ]
    },
    {
      "cell_type": "code",
      "execution_count": null,
      "metadata": {
        "colab": {
          "base_uri": "https://localhost:8080/"
        },
        "id": "g9hUNNInE-YH",
        "outputId": "fe086d0a-c8c4-4431-ea2a-1c087d377cbc"
      },
      "outputs": [
        {
          "data": {
            "text/plain": [
              "CPD    24577\n",
              "Name: Agency, dtype: int64"
            ]
          },
          "execution_count": 7,
          "metadata": {},
          "output_type": "execute_result"
        }
      ],
      "source": [
        "crimes[\"Agency\"].value_counts()"
      ]
    },
    {
      "cell_type": "code",
      "execution_count": null,
      "metadata": {
        "colab": {
          "base_uri": "https://localhost:8080/"
        },
        "id": "PkOLS_eyFEyt",
        "outputId": "cb0b9af1-bafe-4a1e-c01d-d34ae26e5a4c"
      },
      "outputs": [
        {
          "data": {
            "text/plain": [
              "2017/10/21 12:30:00+00    6\n",
              "2018/06/29 02:20:19+00    6\n",
              "2017/11/04 15:00:00+00    4\n",
              "2019/10/07 18:46:09+00    4\n",
              "2018/06/15 14:08:49+00    4\n",
              "                         ..\n",
              "2021/04/02 19:55:45+00    1\n",
              "2021/04/03 00:29:07+00    1\n",
              "2021/04/03 02:48:26+00    1\n",
              "2021/04/03 03:17:20+00    1\n",
              "2017/10/20 04:35:00+00    1\n",
              "Name: DateReported, Length: 24453, dtype: int64"
            ]
          },
          "execution_count": 8,
          "metadata": {},
          "output_type": "execute_result"
        }
      ],
      "source": [
        "crimes[\"DateReported\"].value_counts()"
      ]
    },
    {
      "cell_type": "code",
      "execution_count": null,
      "metadata": {
        "colab": {
          "base_uri": "https://localhost:8080/"
        },
        "id": "YCClWbbeFIAY",
        "outputId": "181d4a55-420f-4f48-ff8a-5df1957b45e5"
      },
      "outputs": [
        {
          "data": {
            "text/plain": [
              "Moje, Ashley        1060\n",
              "Shiflett, Tammy      611\n",
              "Stein, Nathan        523\n",
              "Newton, Arla         472\n",
              "Pittman, Terry       447\n",
              "                    ... \n",
              "Arnette, Locia         1\n",
              "Beasley, Timothy       1\n",
              "Hopkins, Emma          1\n",
              "Cosgro, Blaine         1\n",
              "Thomas, Alfred         1\n",
              "Name: ReportingOfficer, Length: 175, dtype: int64"
            ]
          },
          "execution_count": 9,
          "metadata": {},
          "output_type": "execute_result"
        }
      ],
      "source": [
        "crimes[\"ReportingOfficer\"].value_counts()"
      ]
    },
    {
      "cell_type": "markdown",
      "metadata": {
        "id": "mV36HCFbFMUu"
      },
      "source": [
        "There are a lot of categories in the non-numerical data. This is not as worrying as it could be since a lot of the data seems like it is unnecessary for our project. It does not seem like we are going to need Reporting Officer, Agency, and Date Reported. We can just use the hours integer to get the time. \n",
        "\n",
        "Small side note: It would be interesting to look up odds of getting arrested on certain streets depending on who is on duty, but that is outside of the scope of our particular project. "
      ]
    },
    {
      "cell_type": "markdown",
      "metadata": {
        "id": "AIOIhssAIjpI"
      },
      "source": [
        "## Numerical Data Exploration"
      ]
    },
    {
      "cell_type": "markdown",
      "metadata": {
        "id": "6ot4zJZOGOp9"
      },
      "source": [
        "Now we will look at histograms of the numerical data below. From this data we will determine what is important information and what is not. "
      ]
    },
    {
      "cell_type": "code",
      "execution_count": null,
      "metadata": {
        "colab": {
          "base_uri": "https://localhost:8080/",
          "height": 867
        },
        "id": "v2F2rp1KF7X_",
        "outputId": "d2fe4653-c1c4-46d4-aeb2-9da349918ab6"
      },
      "outputs": [
        {
          "data": {
            "text/plain": [
              "array([[<matplotlib.axes._subplots.AxesSubplot object at 0x7fb43e572700>,\n",
              "        <matplotlib.axes._subplots.AxesSubplot object at 0x7fb43e4c4b50>],\n",
              "       [<matplotlib.axes._subplots.AxesSubplot object at 0x7fb43e475f70>,\n",
              "        <matplotlib.axes._subplots.AxesSubplot object at 0x7fb43e4af3a0>]],\n",
              "      dtype=object)"
            ]
          },
          "execution_count": 10,
          "metadata": {},
          "output_type": "execute_result"
        },
        {
          "data": {
            "image/png": "[encoded data removed]",
            "text/plain": [
              "<Figure size 1440x1080 with 4 Axes>"
            ]
          },
          "metadata": {},
          "output_type": "display_data"
        }
      ],
      "source": [
        "crimes.hist(bins=50, figsize=(20,15))"
      ]
    },
    {
      "cell_type": "code",
      "execution_count": null,
      "metadata": {
        "colab": {
          "base_uri": "https://localhost:8080/",
          "height": 283
        },
        "id": "1ByLgGyUoQUj",
        "outputId": "91a18fdd-0df8-43d4-d130-81d4f41ff4ad"
      },
      "outputs": [
        {
          "data": {
            "text/plain": [
              "<matplotlib.axes._subplots.AxesSubplot at 0x7fb43e13d130>"
            ]
          },
          "execution_count": 11,
          "metadata": {},
          "output_type": "execute_result"
        },
        {
          "data": {
            "image/png": "[encoded data removed]",
            "text/plain": [
              "<Figure size 432x288 with 1 Axes>"
            ]
          },
          "metadata": {},
          "output_type": "display_data"
        }
      ],
      "source": [
        "crimes['HourReported'].hist(bins=24) # if we use more than 24 bins, the fact that nothing can be reported after 59 minutes makes the bar plot really weird"
      ]
    },
    {
      "cell_type": "markdown",
      "metadata": {
        "id": "AeJyrfFpGcOU"
      },
      "source": [
        "The histrogram of the Record ID behaved exactly as expected. We assumed that Incident ID would also not be very useful but it is organized by year, which will not really fit into what we are doing for this part of the project, but it would be interesting to look at what crimes have become less frequent over time, and it may actually play a role so even though we initially plan on getting rid of it, we will reevaluate as we continue to work on the project. \n",
        "There are some correlations with lower block numbers having more incidents which we did not suspect as a group but more incidents at later hours was something we expected. "
      ]
    },
    {
      "cell_type": "markdown",
      "metadata": {
        "id": "yfQ1oFS7JF_5"
      },
      "source": [
        "## Null Data"
      ]
    },
    {
      "cell_type": "markdown",
      "metadata": {
        "id": "s5rkgN3mXrxd"
      },
      "source": [
        "First we will observe the null data and think of a plan to deal with it."
      ]
    },
    {
      "cell_type": "code",
      "execution_count": null,
      "metadata": {
        "colab": {
          "base_uri": "https://localhost:8080/",
          "height": 337
        },
        "id": "-3FejjABJL_0",
        "outputId": "96ad23b2-6196-4e0e-9e65-2e899761b38c"
      },
      "outputs": [
        {
          "data": {
            "text/html": [
              "\n",
              "  <div id=\"df-06762b0f-7b38-4816-9518-9d9d7214bdf6\">\n",
              "    <div class=\"colab-df-container\">\n",
              "      <div>\n",
              "<style scoped>\n",
              "    .dataframe tbody tr th:only-of-type {\n",
              "        vertical-align: middle;\n",
              "    }\n",
              "\n",
              "    .dataframe tbody tr th {\n",
              "        vertical-align: top;\n",
              "    }\n",
              "\n",
              "    .dataframe thead th {\n",
              "        text-align: right;\n",
              "    }\n",
              "</style>\n",
              "<table border=\"1\" class=\"dataframe\">\n",
              "  <thead>\n",
              "    <tr style=\"text-align: right;\">\n",
              "      <th></th>\n",
              "      <th>RecordID</th>\n",
              "      <th>Offense</th>\n",
              "      <th>IncidentID</th>\n",
              "      <th>BlockNumber</th>\n",
              "      <th>StreetName</th>\n",
              "      <th>Agency</th>\n",
              "      <th>DateReported</th>\n",
              "      <th>HourReported</th>\n",
              "      <th>ReportingOfficer</th>\n",
              "    </tr>\n",
              "  </thead>\n",
              "  <tbody>\n",
              "    <tr>\n",
              "      <th>15</th>\n",
              "      <td>16</td>\n",
              "      <td>Hit and Run</td>\n",
              "      <td>202200029979</td>\n",
              "      <td>NaN</td>\n",
              "      <td>BAILEY RD @ 5TH ST</td>\n",
              "      <td>CPD</td>\n",
              "      <td>2022/10/16 23:08:33+00</td>\n",
              "      <td>1908</td>\n",
              "      <td>Alfonso, Sean</td>\n",
              "    </tr>\n",
              "    <tr>\n",
              "      <th>39</th>\n",
              "      <td>40</td>\n",
              "      <td>Hit and Run</td>\n",
              "      <td>202200029819</td>\n",
              "      <td>NaN</td>\n",
              "      <td>ALTAMONT CIR / W HIGH ST</td>\n",
              "      <td>CPD</td>\n",
              "      <td>2022/10/15 05:38:27+00</td>\n",
              "      <td>138</td>\n",
              "      <td>Lowry, Brent</td>\n",
              "    </tr>\n",
              "    <tr>\n",
              "      <th>55</th>\n",
              "      <td>56</td>\n",
              "      <td>Hit and Run</td>\n",
              "      <td>202200029704</td>\n",
              "      <td>NaN</td>\n",
              "      <td>IVY RD / EMMET ST N</td>\n",
              "      <td>CPD</td>\n",
              "      <td>2022/10/14 04:47:19+00</td>\n",
              "      <td>47</td>\n",
              "      <td>Hounsel, Eli</td>\n",
              "    </tr>\n",
              "    <tr>\n",
              "      <th>57</th>\n",
              "      <td>58</td>\n",
              "      <td>Vandalism</td>\n",
              "      <td>202200029697</td>\n",
              "      <td>NaN</td>\n",
              "      <td>GARRETT ST / 2ND ST SE</td>\n",
              "      <td>CPD</td>\n",
              "      <td>2022/10/14 03:58:33+00</td>\n",
              "      <td>2358</td>\n",
              "      <td>Blackwell, Ryan</td>\n",
              "    </tr>\n",
              "    <tr>\n",
              "      <th>71</th>\n",
              "      <td>72</td>\n",
              "      <td>Assist Citizen - Welfare Check</td>\n",
              "      <td>202200029599</td>\n",
              "      <td>NaN</td>\n",
              "      <td>LANKFORD AVE / 1ST ST S</td>\n",
              "      <td>CPD</td>\n",
              "      <td>2022/10/13 01:58:30+00</td>\n",
              "      <td>2158</td>\n",
              "      <td>Whitten, Tobyn</td>\n",
              "    </tr>\n",
              "  </tbody>\n",
              "</table>\n",
              "</div>\n",
              "      <button class=\"colab-df-convert\" onclick=\"convertToInteractive('df-06762b0f-7b38-4816-9518-9d9d7214bdf6')\"\n",
              "              title=\"Convert this dataframe to an interactive table.\"\n",
              "              style=\"display:none;\">\n",
              "        \n",
              "  <svg xmlns=\"http://www.w3.org/2000/svg\" height=\"24px\"viewBox=\"0 0 24 24\"\n",
              "       width=\"24px\">\n",
              "    <path d=\"M0 0h24v24H0V0z\" fill=\"none\"/>\n",
              "    <path d=\"M18.56 5.44l.94 2.06.94-2.06 2.06-.94-2.06-.94-.94-2.06-.94 2.06-2.06.94zm-11 1L8.5 8.5l.94-2.06 2.06-.94-2.06-.94L8.5 2.5l-.94 2.06-2.06.94zm10 10l.94 2.06.94-2.06 2.06-.94-2.06-.94-.94-2.06-.94 2.06-2.06.94z\"/><path d=\"M17.41 7.96l-1.37-1.37c-.4-.4-.92-.59-1.43-.59-.52 0-1.04.2-1.43.59L10.3 9.45l-7.72 7.72c-.78.78-.78 2.05 0 2.83L4 21.41c.39.39.9.59 1.41.59.51 0 1.02-.2 1.41-.59l7.78-7.78 2.81-2.81c.8-.78.8-2.07 0-2.86zM5.41 20L4 18.59l7.72-7.72 1.47 1.35L5.41 20z\"/>\n",
              "  </svg>\n",
              "      </button>\n",
              "      \n",
              "  <style>\n",
              "    .colab-df-container {\n",
              "      display:flex;\n",
              "      flex-wrap:wrap;\n",
              "      gap: 12px;\n",
              "    }\n",
              "\n",
              "    .colab-df-convert {\n",
              "      background-color: #E8F0FE;\n",
              "      border: none;\n",
              "      border-radius: 50%;\n",
              "      cursor: pointer;\n",
              "      display: none;\n",
              "      fill: #1967D2;\n",
              "      height: 32px;\n",
              "      padding: 0 0 0 0;\n",
              "      width: 32px;\n",
              "    }\n",
              "\n",
              "    .colab-df-convert:hover {\n",
              "      background-color: #E2EBFA;\n",
              "      box-shadow: 0px 1px 2px rgba(60, 64, 67, 0.3), 0px 1px 3px 1px rgba(60, 64, 67, 0.15);\n",
              "      fill: #174EA6;\n",
              "    }\n",
              "\n",
              "    [theme=dark] .colab-df-convert {\n",
              "      background-color: #3B4455;\n",
              "      fill: #D2E3FC;\n",
              "    }\n",
              "\n",
              "    [theme=dark] .colab-df-convert:hover {\n",
              "      background-color: #434B5C;\n",
              "      box-shadow: 0px 1px 3px 1px rgba(0, 0, 0, 0.15);\n",
              "      filter: drop-shadow(0px 1px 2px rgba(0, 0, 0, 0.3));\n",
              "      fill: #FFFFFF;\n",
              "    }\n",
              "  </style>\n",
              "\n",
              "      <script>\n",
              "        const buttonEl =\n",
              "          document.querySelector('#df-06762b0f-7b38-4816-9518-9d9d7214bdf6 button.colab-df-convert');\n",
              "        buttonEl.style.display =\n",
              "          google.colab.kernel.accessAllowed ? 'block' : 'none';\n",
              "\n",
              "        async function convertToInteractive(key) {\n",
              "          const element = document.querySelector('#df-06762b0f-7b38-4816-9518-9d9d7214bdf6');\n",
              "          const dataTable =\n",
              "            await google.colab.kernel.invokeFunction('convertToInteractive',\n",
              "                                                     [key], {});\n",
              "          if (!dataTable) return;\n",
              "\n",
              "          const docLinkHtml = 'Like what you see? Visit the ' +\n",
              "            '<a target=\"_blank\" href=https://colab.research.google.com/notebooks/data_table.ipynb>data table notebook</a>'\n",
              "            + ' to learn more about interactive tables.';\n",
              "          element.innerHTML = '';\n",
              "          dataTable['output_type'] = 'display_data';\n",
              "          await google.colab.output.renderOutput(dataTable, element);\n",
              "          const docLink = document.createElement('div');\n",
              "          docLink.innerHTML = docLinkHtml;\n",
              "          element.appendChild(docLink);\n",
              "        }\n",
              "      </script>\n",
              "    </div>\n",
              "  </div>\n",
              "  "
            ],
            "text/plain": [
              "    RecordID                         Offense    IncidentID  BlockNumber  \\\n",
              "15        16                     Hit and Run  202200029979          NaN   \n",
              "39        40                     Hit and Run  202200029819          NaN   \n",
              "55        56                     Hit and Run  202200029704          NaN   \n",
              "57        58                       Vandalism  202200029697          NaN   \n",
              "71        72  Assist Citizen - Welfare Check  202200029599          NaN   \n",
              "\n",
              "                  StreetName Agency            DateReported  HourReported  \\\n",
              "15        BAILEY RD @ 5TH ST    CPD  2022/10/16 23:08:33+00          1908   \n",
              "39  ALTAMONT CIR / W HIGH ST    CPD  2022/10/15 05:38:27+00           138   \n",
              "55       IVY RD / EMMET ST N    CPD  2022/10/14 04:47:19+00            47   \n",
              "57    GARRETT ST / 2ND ST SE    CPD  2022/10/14 03:58:33+00          2358   \n",
              "71   LANKFORD AVE / 1ST ST S    CPD  2022/10/13 01:58:30+00          2158   \n",
              "\n",
              "   ReportingOfficer  \n",
              "15    Alfonso, Sean  \n",
              "39     Lowry, Brent  \n",
              "55     Hounsel, Eli  \n",
              "57  Blackwell, Ryan  \n",
              "71   Whitten, Tobyn  "
            ]
          },
          "execution_count": 12,
          "metadata": {},
          "output_type": "execute_result"
        }
      ],
      "source": [
        "incomplete_data = crimes[crimes.isnull().any(axis=1)].head()\n",
        "incomplete_data"
      ]
    },
    {
      "cell_type": "code",
      "execution_count": null,
      "metadata": {
        "colab": {
          "base_uri": "https://localhost:8080/"
        },
        "id": "MhkNtVQwJgbe",
        "outputId": "ce1a4851-e639-4921-e3d4-0a3e22832fb6"
      },
      "outputs": [
        {
          "name": "stdout",
          "output_type": "stream",
          "text": [
            "<class 'pandas.core.frame.DataFrame'>\n",
            "Int64Index: 23189 entries, 0 to 24576\n",
            "Data columns (total 9 columns):\n",
            " #   Column            Non-Null Count  Dtype  \n",
            "---  ------            --------------  -----  \n",
            " 0   RecordID          23189 non-null  int64  \n",
            " 1   Offense           23189 non-null  object \n",
            " 2   IncidentID        23189 non-null  int64  \n",
            " 3   BlockNumber       23189 non-null  float64\n",
            " 4   StreetName        23189 non-null  object \n",
            " 5   Agency            23189 non-null  object \n",
            " 6   DateReported      23189 non-null  object \n",
            " 7   HourReported      23189 non-null  int64  \n",
            " 8   ReportingOfficer  23189 non-null  object \n",
            "dtypes: float64(1), int64(3), object(5)\n",
            "memory usage: 1.8+ MB\n"
          ]
        }
      ],
      "source": [
        "crimes_without_null = crimes.dropna()\n",
        "crimes_without_null.info()"
      ]
    },
    {
      "cell_type": "code",
      "execution_count": null,
      "metadata": {
        "colab": {
          "base_uri": "https://localhost:8080/"
        },
        "id": "nnVLbWixK9qM",
        "outputId": "80dde786-1ae1-4d25-d86d-7ae76320fbd4"
      },
      "outputs": [
        {
          "name": "stdout",
          "output_type": "stream",
          "text": [
            "<class 'pandas.core.frame.DataFrame'>\n",
            "RangeIndex: 24577 entries, 0 to 24576\n",
            "Data columns (total 9 columns):\n",
            " #   Column            Non-Null Count  Dtype  \n",
            "---  ------            --------------  -----  \n",
            " 0   RecordID          24577 non-null  int64  \n",
            " 1   Offense           24577 non-null  object \n",
            " 2   IncidentID        24577 non-null  int64  \n",
            " 3   BlockNumber       23229 non-null  float64\n",
            " 4   StreetName        24577 non-null  object \n",
            " 5   Agency            24577 non-null  object \n",
            " 6   DateReported      24577 non-null  object \n",
            " 7   HourReported      24577 non-null  int64  \n",
            " 8   ReportingOfficer  24534 non-null  object \n",
            "dtypes: float64(1), int64(3), object(5)\n",
            "memory usage: 1.7+ MB\n"
          ]
        }
      ],
      "source": [
        "crimes.info()"
      ]
    },
    {
      "cell_type": "markdown",
      "metadata": {
        "id": "kv-CCkMzLC-u"
      },
      "source": [
        "Looking at the data we see that there are about 1300 missing block numbers, I am not sure how cobining this data with the streetnames is going to work but we will try to use an imputer but it may cause some strange behaviors that will need to be looked at later depending on our observations."
      ]
    },
    {
      "cell_type": "code",
      "execution_count": null,
      "metadata": {
        "id": "GpZGV5jDKeQx"
      },
      "outputs": [],
      "source": [
        "imputer = SimpleImputer(strategy=\"median\")"
      ]
    },
    {
      "cell_type": "markdown",
      "metadata": {
        "id": "c7M24p3RXze3"
      },
      "source": [
        "Here we are going to look at imputing the data but we decided we would get rid of the values that do not matter first. "
      ]
    },
    {
      "cell_type": "code",
      "execution_count": null,
      "metadata": {
        "colab": {
          "base_uri": "https://localhost:8080/"
        },
        "id": "RJ1e3FV8ZlxU",
        "outputId": "a7d1262a-9bdf-4f5e-c2ef-55922d4b9f3a"
      },
      "outputs": [
        {
          "name": "stdout",
          "output_type": "stream",
          "text": [
            "<class 'pandas.core.frame.DataFrame'>\n",
            "RangeIndex: 24577 entries, 0 to 24576\n",
            "Data columns (total 9 columns):\n",
            " #   Column            Non-Null Count  Dtype  \n",
            "---  ------            --------------  -----  \n",
            " 0   RecordID          24577 non-null  int64  \n",
            " 1   Offense           24577 non-null  object \n",
            " 2   IncidentID        24577 non-null  int64  \n",
            " 3   BlockNumber       23229 non-null  float64\n",
            " 4   StreetName        24577 non-null  object \n",
            " 5   Agency            24577 non-null  object \n",
            " 6   DateReported      24577 non-null  object \n",
            " 7   HourReported      24577 non-null  int64  \n",
            " 8   ReportingOfficer  24534 non-null  object \n",
            "dtypes: float64(1), int64(3), object(5)\n",
            "memory usage: 1.7+ MB\n"
          ]
        }
      ],
      "source": [
        "crimes.info()"
      ]
    },
    {
      "cell_type": "code",
      "execution_count": null,
      "metadata": {
        "id": "Iq8mWEMUZWsy"
      },
      "outputs": [],
      "source": [
        "crimes_lean = crimes.drop([\"ReportingOfficer\",\"IncidentID\",\"Agency\",\"RecordID\",],axis=1)"
      ]
    },
    {
      "cell_type": "code",
      "execution_count": null,
      "metadata": {
        "id": "Uk_GRGlwaSrA"
      },
      "outputs": [],
      "source": [
        "crime_num = crimes_lean.drop([\"Offense\",\"DateReported\",\"StreetName\"], axis=1)"
      ]
    },
    {
      "cell_type": "code",
      "execution_count": null,
      "metadata": {
        "colab": {
          "base_uri": "https://localhost:8080/"
        },
        "id": "4p11irr-a1V-",
        "outputId": "2ffadbfd-f2bc-4ec2-8ab7-31a2bcbf2ce6"
      },
      "outputs": [
        {
          "data": {
            "text/plain": [
              "SimpleImputer(strategy='median')"
            ]
          },
          "execution_count": 19,
          "metadata": {},
          "output_type": "execute_result"
        }
      ],
      "source": [
        "imputer.fit(crime_num)"
      ]
    },
    {
      "cell_type": "markdown",
      "metadata": {
        "id": "qgaRTCFBcCmD"
      },
      "source": [
        "Just want to look at the data in the imputed state"
      ]
    },
    {
      "cell_type": "code",
      "execution_count": null,
      "metadata": {
        "colab": {
          "base_uri": "https://localhost:8080/"
        },
        "id": "bbZrDBBga9Dk",
        "outputId": "c929320b-7e4b-439f-8beb-d25de2e48068"
      },
      "outputs": [
        {
          "data": {
            "text/plain": [
              "array([ 800., 1405.])"
            ]
          },
          "execution_count": 20,
          "metadata": {},
          "output_type": "execute_result"
        }
      ],
      "source": [
        "imputer.statistics_"
      ]
    },
    {
      "cell_type": "code",
      "execution_count": null,
      "metadata": {
        "colab": {
          "base_uri": "https://localhost:8080/"
        },
        "id": "BzOp0Jv7bH85",
        "outputId": "a714acc9-2b0a-4b9d-d4b8-1029e2259e4e"
      },
      "outputs": [
        {
          "data": {
            "text/plain": [
              "array([ 800., 1405.])"
            ]
          },
          "execution_count": 21,
          "metadata": {},
          "output_type": "execute_result"
        }
      ],
      "source": [
        "crime_num.median().values"
      ]
    },
    {
      "cell_type": "markdown",
      "metadata": {
        "id": "aRRa2TLqcIYU"
      },
      "source": [
        "Now we need to deal with the categorical data. This is where some big adjustments to what we have input need to happen. "
      ]
    },
    {
      "cell_type": "markdown",
      "metadata": {
        "id": "mEuRvYR4oQUm"
      },
      "source": [
        "# Data Cleaning"
      ]
    },
    {
      "cell_type": "markdown",
      "metadata": {
        "id": "XECS58oKoQUm"
      },
      "source": [
        "First, we are going to drop the features we determined are not particularly useful"
      ]
    },
    {
      "cell_type": "code",
      "execution_count": null,
      "metadata": {
        "id": "tEbh3goBoQUm"
      },
      "outputs": [],
      "source": [
        "crimes_lean = crimes.drop([\"ReportingOfficer\",\"IncidentID\",\"Agency\",\"RecordID\",],axis=1)"
      ]
    },
    {
      "cell_type": "markdown",
      "metadata": {
        "id": "WeDjSBKVoQUm"
      },
      "source": [
        "## Offense Encoding"
      ]
    },
    {
      "cell_type": "code",
      "execution_count": null,
      "metadata": {
        "colab": {
          "base_uri": "https://localhost:8080/",
          "height": 363
        },
        "id": "5gY23EomcO_i",
        "outputId": "db4ed998-b3c0-4333-fe67-44dfb590292b"
      },
      "outputs": [
        {
          "data": {
            "text/html": [
              "\n",
              "  <div id=\"df-15bbd583-8f24-4b7b-9f1e-3f4f0c4b4602\">\n",
              "    <div class=\"colab-df-container\">\n",
              "      <div>\n",
              "<style scoped>\n",
              "    .dataframe tbody tr th:only-of-type {\n",
              "        vertical-align: middle;\n",
              "    }\n",
              "\n",
              "    .dataframe tbody tr th {\n",
              "        vertical-align: top;\n",
              "    }\n",
              "\n",
              "    .dataframe thead th {\n",
              "        text-align: right;\n",
              "    }\n",
              "</style>\n",
              "<table border=\"1\" class=\"dataframe\">\n",
              "  <thead>\n",
              "    <tr style=\"text-align: right;\">\n",
              "      <th></th>\n",
              "      <th>Offense</th>\n",
              "    </tr>\n",
              "  </thead>\n",
              "  <tbody>\n",
              "    <tr>\n",
              "      <th>0</th>\n",
              "      <td>Larceny - All Other</td>\n",
              "    </tr>\n",
              "    <tr>\n",
              "      <th>1</th>\n",
              "      <td>Burglary</td>\n",
              "    </tr>\n",
              "    <tr>\n",
              "      <th>2</th>\n",
              "      <td>Assault Aggravated</td>\n",
              "    </tr>\n",
              "    <tr>\n",
              "      <th>3</th>\n",
              "      <td>Assist Citizen - Mental/TDO/ECO</td>\n",
              "    </tr>\n",
              "    <tr>\n",
              "      <th>4</th>\n",
              "      <td>Assault Simple</td>\n",
              "    </tr>\n",
              "    <tr>\n",
              "      <th>5</th>\n",
              "      <td>Trespass</td>\n",
              "    </tr>\n",
              "    <tr>\n",
              "      <th>6</th>\n",
              "      <td>Motor Vehicle Theft</td>\n",
              "    </tr>\n",
              "    <tr>\n",
              "      <th>7</th>\n",
              "      <td>Larceny - Theft from Building</td>\n",
              "    </tr>\n",
              "    <tr>\n",
              "      <th>8</th>\n",
              "      <td>Larceny - From Motor Vehicle</td>\n",
              "    </tr>\n",
              "    <tr>\n",
              "      <th>9</th>\n",
              "      <td>Drug/Narcotics Violation</td>\n",
              "    </tr>\n",
              "  </tbody>\n",
              "</table>\n",
              "</div>\n",
              "      <button class=\"colab-df-convert\" onclick=\"convertToInteractive('df-15bbd583-8f24-4b7b-9f1e-3f4f0c4b4602')\"\n",
              "              title=\"Convert this dataframe to an interactive table.\"\n",
              "              style=\"display:none;\">\n",
              "        \n",
              "  <svg xmlns=\"http://www.w3.org/2000/svg\" height=\"24px\"viewBox=\"0 0 24 24\"\n",
              "       width=\"24px\">\n",
              "    <path d=\"M0 0h24v24H0V0z\" fill=\"none\"/>\n",
              "    <path d=\"M18.56 5.44l.94 2.06.94-2.06 2.06-.94-2.06-.94-.94-2.06-.94 2.06-2.06.94zm-11 1L8.5 8.5l.94-2.06 2.06-.94-2.06-.94L8.5 2.5l-.94 2.06-2.06.94zm10 10l.94 2.06.94-2.06 2.06-.94-2.06-.94-.94-2.06-.94 2.06-2.06.94z\"/><path d=\"M17.41 7.96l-1.37-1.37c-.4-.4-.92-.59-1.43-.59-.52 0-1.04.2-1.43.59L10.3 9.45l-7.72 7.72c-.78.78-.78 2.05 0 2.83L4 21.41c.39.39.9.59 1.41.59.51 0 1.02-.2 1.41-.59l7.78-7.78 2.81-2.81c.8-.78.8-2.07 0-2.86zM5.41 20L4 18.59l7.72-7.72 1.47 1.35L5.41 20z\"/>\n",
              "  </svg>\n",
              "      </button>\n",
              "      \n",
              "  <style>\n",
              "    .colab-df-container {\n",
              "      display:flex;\n",
              "      flex-wrap:wrap;\n",
              "      gap: 12px;\n",
              "    }\n",
              "\n",
              "    .colab-df-convert {\n",
              "      background-color: #E8F0FE;\n",
              "      border: none;\n",
              "      border-radius: 50%;\n",
              "      cursor: pointer;\n",
              "      display: none;\n",
              "      fill: #1967D2;\n",
              "      height: 32px;\n",
              "      padding: 0 0 0 0;\n",
              "      width: 32px;\n",
              "    }\n",
              "\n",
              "    .colab-df-convert:hover {\n",
              "      background-color: #E2EBFA;\n",
              "      box-shadow: 0px 1px 2px rgba(60, 64, 67, 0.3), 0px 1px 3px 1px rgba(60, 64, 67, 0.15);\n",
              "      fill: #174EA6;\n",
              "    }\n",
              "\n",
              "    [theme=dark] .colab-df-convert {\n",
              "      background-color: #3B4455;\n",
              "      fill: #D2E3FC;\n",
              "    }\n",
              "\n",
              "    [theme=dark] .colab-df-convert:hover {\n",
              "      background-color: #434B5C;\n",
              "      box-shadow: 0px 1px 3px 1px rgba(0, 0, 0, 0.15);\n",
              "      filter: drop-shadow(0px 1px 2px rgba(0, 0, 0, 0.3));\n",
              "      fill: #FFFFFF;\n",
              "    }\n",
              "  </style>\n",
              "\n",
              "      <script>\n",
              "        const buttonEl =\n",
              "          document.querySelector('#df-15bbd583-8f24-4b7b-9f1e-3f4f0c4b4602 button.colab-df-convert');\n",
              "        buttonEl.style.display =\n",
              "          google.colab.kernel.accessAllowed ? 'block' : 'none';\n",
              "\n",
              "        async function convertToInteractive(key) {\n",
              "          const element = document.querySelector('#df-15bbd583-8f24-4b7b-9f1e-3f4f0c4b4602');\n",
              "          const dataTable =\n",
              "            await google.colab.kernel.invokeFunction('convertToInteractive',\n",
              "                                                     [key], {});\n",
              "          if (!dataTable) return;\n",
              "\n",
              "          const docLinkHtml = 'Like what you see? Visit the ' +\n",
              "            '<a target=\"_blank\" href=https://colab.research.google.com/notebooks/data_table.ipynb>data table notebook</a>'\n",
              "            + ' to learn more about interactive tables.';\n",
              "          element.innerHTML = '';\n",
              "          dataTable['output_type'] = 'display_data';\n",
              "          await google.colab.output.renderOutput(dataTable, element);\n",
              "          const docLink = document.createElement('div');\n",
              "          docLink.innerHTML = docLinkHtml;\n",
              "          element.appendChild(docLink);\n",
              "        }\n",
              "      </script>\n",
              "    </div>\n",
              "  </div>\n",
              "  "
            ],
            "text/plain": [
              "                           Offense\n",
              "0              Larceny - All Other\n",
              "1                         Burglary\n",
              "2               Assault Aggravated\n",
              "3  Assist Citizen - Mental/TDO/ECO\n",
              "4                   Assault Simple\n",
              "5                         Trespass\n",
              "6              Motor Vehicle Theft\n",
              "7    Larceny - Theft from Building\n",
              "8     Larceny - From Motor Vehicle\n",
              "9         Drug/Narcotics Violation"
            ]
          },
          "execution_count": 23,
          "metadata": {},
          "output_type": "execute_result"
        }
      ],
      "source": [
        "crime_offense_cat = crimes[[\"Offense\"]]\n",
        "crime_offense_cat.head(10)"
      ]
    },
    {
      "cell_type": "markdown",
      "metadata": {
        "id": "3EutE4nGoQUm"
      },
      "source": [
        "We are going to have to label these by hand by the look of it. There's no way to infer how dangerous an offense is by machine, unless perhaps by some sophisticated NLP algorithm which would take longer to write and design than it would to do this project most likely.\n",
        "\n",
        "It is important to acknowledge the fact that our labelling of the data is an inherent source of bias. Unfortunately, if we wish to use this data for predicting safety, it will be necessary as a trade-off, because it would just be too innacurrate to base a decision on walking safety on occurence of trafic law violations or something of that nature. Thus, this is a tradeoff that has to be acknowledged as an inherent source of bias since this is not really a clear-cut line between \"violent\" and \"non-violent\". Additionally, there seem to be some categories that we may or may not actually be able to interpret clearly, such as `'Tactical Crime Initiative - TCI'`, which may mean something to the police department, but has litte meaning for us, unless it's something we can find on Google. There may be very few features with these categorizations however, so this may be a case where we can simply drop those records."
      ]
    },
    {
      "cell_type": "markdown",
      "metadata": {
        "id": "3Fn7wRUroQUm"
      },
      "source": [
        ". . .  time elapses . . .\n",
        "\n",
        "\n",
        "\n",
        "\n",
        "Having now hand-jammed an ordinal encoding for the categorical offense data, we can load it and see if we can't use this engineered feature to our advantage."
      ]
    },
    {
      "cell_type": "code",
      "execution_count": null,
      "metadata": {
        "colab": {
          "base_uri": "https://localhost:8080/",
          "height": 206
        },
        "id": "Mqz2fXc5oQUm",
        "outputId": "8dd5ab01-ae1c-459f-9c6a-858d2996792a"
      },
      "outputs": [
        {
          "data": {
            "text/html": [
              "\n",
              "  <div id=\"df-4cd92327-50bd-4a74-8e33-e61a6f41533f\">\n",
              "    <div class=\"colab-df-container\">\n",
              "      <div>\n",
              "<style scoped>\n",
              "    .dataframe tbody tr th:only-of-type {\n",
              "        vertical-align: middle;\n",
              "    }\n",
              "\n",
              "    .dataframe tbody tr th {\n",
              "        vertical-align: top;\n",
              "    }\n",
              "\n",
              "    .dataframe thead th {\n",
              "        text-align: right;\n",
              "    }\n",
              "</style>\n",
              "<table border=\"1\" class=\"dataframe\">\n",
              "  <thead>\n",
              "    <tr style=\"text-align: right;\">\n",
              "      <th></th>\n",
              "      <th>Offense</th>\n",
              "      <th>Danger_Level</th>\n",
              "    </tr>\n",
              "  </thead>\n",
              "  <tbody>\n",
              "    <tr>\n",
              "      <th>0</th>\n",
              "      <td>911 Investigation</td>\n",
              "      <td>1</td>\n",
              "    </tr>\n",
              "    <tr>\n",
              "      <th>1</th>\n",
              "      <td>Accident - w/out Injuries</td>\n",
              "      <td>0</td>\n",
              "    </tr>\n",
              "    <tr>\n",
              "      <th>2</th>\n",
              "      <td>Accident Private Property</td>\n",
              "      <td>2</td>\n",
              "    </tr>\n",
              "    <tr>\n",
              "      <th>3</th>\n",
              "      <td>Accident Property Damage</td>\n",
              "      <td>2</td>\n",
              "    </tr>\n",
              "    <tr>\n",
              "      <th>4</th>\n",
              "      <td>Accident w/Injuries</td>\n",
              "      <td>2</td>\n",
              "    </tr>\n",
              "  </tbody>\n",
              "</table>\n",
              "</div>\n",
              "      <button class=\"colab-df-convert\" onclick=\"convertToInteractive('df-4cd92327-50bd-4a74-8e33-e61a6f41533f')\"\n",
              "              title=\"Convert this dataframe to an interactive table.\"\n",
              "              style=\"display:none;\">\n",
              "        \n",
              "  <svg xmlns=\"http://www.w3.org/2000/svg\" height=\"24px\"viewBox=\"0 0 24 24\"\n",
              "       width=\"24px\">\n",
              "    <path d=\"M0 0h24v24H0V0z\" fill=\"none\"/>\n",
              "    <path d=\"M18.56 5.44l.94 2.06.94-2.06 2.06-.94-2.06-.94-.94-2.06-.94 2.06-2.06.94zm-11 1L8.5 8.5l.94-2.06 2.06-.94-2.06-.94L8.5 2.5l-.94 2.06-2.06.94zm10 10l.94 2.06.94-2.06 2.06-.94-2.06-.94-.94-2.06-.94 2.06-2.06.94z\"/><path d=\"M17.41 7.96l-1.37-1.37c-.4-.4-.92-.59-1.43-.59-.52 0-1.04.2-1.43.59L10.3 9.45l-7.72 7.72c-.78.78-.78 2.05 0 2.83L4 21.41c.39.39.9.59 1.41.59.51 0 1.02-.2 1.41-.59l7.78-7.78 2.81-2.81c.8-.78.8-2.07 0-2.86zM5.41 20L4 18.59l7.72-7.72 1.47 1.35L5.41 20z\"/>\n",
              "  </svg>\n",
              "      </button>\n",
              "      \n",
              "  <style>\n",
              "    .colab-df-container {\n",
              "      display:flex;\n",
              "      flex-wrap:wrap;\n",
              "      gap: 12px;\n",
              "    }\n",
              "\n",
              "    .colab-df-convert {\n",
              "      background-color: #E8F0FE;\n",
              "      border: none;\n",
              "      border-radius: 50%;\n",
              "      cursor: pointer;\n",
              "      display: none;\n",
              "      fill: #1967D2;\n",
              "      height: 32px;\n",
              "      padding: 0 0 0 0;\n",
              "      width: 32px;\n",
              "    }\n",
              "\n",
              "    .colab-df-convert:hover {\n",
              "      background-color: #E2EBFA;\n",
              "      box-shadow: 0px 1px 2px rgba(60, 64, 67, 0.3), 0px 1px 3px 1px rgba(60, 64, 67, 0.15);\n",
              "      fill: #174EA6;\n",
              "    }\n",
              "\n",
              "    [theme=dark] .colab-df-convert {\n",
              "      background-color: #3B4455;\n",
              "      fill: #D2E3FC;\n",
              "    }\n",
              "\n",
              "    [theme=dark] .colab-df-convert:hover {\n",
              "      background-color: #434B5C;\n",
              "      box-shadow: 0px 1px 3px 1px rgba(0, 0, 0, 0.15);\n",
              "      filter: drop-shadow(0px 1px 2px rgba(0, 0, 0, 0.3));\n",
              "      fill: #FFFFFF;\n",
              "    }\n",
              "  </style>\n",
              "\n",
              "      <script>\n",
              "        const buttonEl =\n",
              "          document.querySelector('#df-4cd92327-50bd-4a74-8e33-e61a6f41533f button.colab-df-convert');\n",
              "        buttonEl.style.display =\n",
              "          google.colab.kernel.accessAllowed ? 'block' : 'none';\n",
              "\n",
              "        async function convertToInteractive(key) {\n",
              "          const element = document.querySelector('#df-4cd92327-50bd-4a74-8e33-e61a6f41533f');\n",
              "          const dataTable =\n",
              "            await google.colab.kernel.invokeFunction('convertToInteractive',\n",
              "                                                     [key], {});\n",
              "          if (!dataTable) return;\n",
              "\n",
              "          const docLinkHtml = 'Like what you see? Visit the ' +\n",
              "            '<a target=\"_blank\" href=https://colab.research.google.com/notebooks/data_table.ipynb>data table notebook</a>'\n",
              "            + ' to learn more about interactive tables.';\n",
              "          element.innerHTML = '';\n",
              "          dataTable['output_type'] = 'display_data';\n",
              "          await google.colab.output.renderOutput(dataTable, element);\n",
              "          const docLink = document.createElement('div');\n",
              "          docLink.innerHTML = docLinkHtml;\n",
              "          element.appendChild(docLink);\n",
              "        }\n",
              "      </script>\n",
              "    </div>\n",
              "  </div>\n",
              "  "
            ],
            "text/plain": [
              "                     Offense  Danger_Level\n",
              "0          911 Investigation             1\n",
              "1  Accident - w/out Injuries             0\n",
              "2  Accident Private Property             2\n",
              "3   Accident Property Damage             2\n",
              "4        Accident w/Injuries             2"
            ]
          },
          "execution_count": 24,
          "metadata": {},
          "output_type": "execute_result"
        }
      ],
      "source": [
        "ord_offenses = load_oridinal_violence_features()\n",
        "ord_offenses.head()"
      ]
    },
    {
      "cell_type": "markdown",
      "metadata": {
        "id": "e3rERrqDoQUm"
      },
      "source": [
        "Unfortunately, this kind of solution is very prone to error, and introduces much inherent bias. This is probably something that it would be good to ask the police department to do, since they actually understand what all of the offences are and how dangerous they really are. Sadly, we are not the police force and they probably would not have time for such a thing if we were to ask them to do it."
      ]
    },
    {
      "cell_type": "markdown",
      "metadata": {
        "id": "JGIPM0SMoQUn"
      },
      "source": [
        "The next task is to try and get this data mapped into the main data set. Notably, `ord_offenses` only has one entry for each kind of offense, so we will have to use some kind of pandas trick here. Or maybe just a good old fashioned nested for loop . . . Parallelization! I blow my nose at you!"
      ]
    },
    {
      "cell_type": "code",
      "execution_count": null,
      "metadata": {
        "colab": {
          "base_uri": "https://localhost:8080/",
          "height": 206
        },
        "id": "wiul9udqoQUn",
        "outputId": "c889189a-803b-46ea-e214-45a1914cd9b2"
      },
      "outputs": [
        {
          "data": {
            "text/html": [
              "\n",
              "  <div id=\"df-d6c4ca14-3dae-4461-b53f-aca0d3b47c7a\">\n",
              "    <div class=\"colab-df-container\">\n",
              "      <div>\n",
              "<style scoped>\n",
              "    .dataframe tbody tr th:only-of-type {\n",
              "        vertical-align: middle;\n",
              "    }\n",
              "\n",
              "    .dataframe tbody tr th {\n",
              "        vertical-align: top;\n",
              "    }\n",
              "\n",
              "    .dataframe thead th {\n",
              "        text-align: right;\n",
              "    }\n",
              "</style>\n",
              "<table border=\"1\" class=\"dataframe\">\n",
              "  <thead>\n",
              "    <tr style=\"text-align: right;\">\n",
              "      <th></th>\n",
              "      <th>Offense</th>\n",
              "      <th>BlockNumber</th>\n",
              "      <th>StreetName</th>\n",
              "      <th>DateReported</th>\n",
              "      <th>HourReported</th>\n",
              "      <th>Danger</th>\n",
              "    </tr>\n",
              "  </thead>\n",
              "  <tbody>\n",
              "    <tr>\n",
              "      <th>0</th>\n",
              "      <td>Larceny - All Other</td>\n",
              "      <td>800.0</td>\n",
              "      <td>ELLIOTT AVE</td>\n",
              "      <td>2022/10/18 01:08:59+00</td>\n",
              "      <td>2108</td>\n",
              "      <td>1</td>\n",
              "    </tr>\n",
              "    <tr>\n",
              "      <th>1</th>\n",
              "      <td>Burglary</td>\n",
              "      <td>800.0</td>\n",
              "      <td>RAYMOND RD</td>\n",
              "      <td>2022/10/18 00:31:50+00</td>\n",
              "      <td>2031</td>\n",
              "      <td>1</td>\n",
              "    </tr>\n",
              "    <tr>\n",
              "      <th>2</th>\n",
              "      <td>Assault Aggravated</td>\n",
              "      <td>900.0</td>\n",
              "      <td>W MAIN ST</td>\n",
              "      <td>2022/10/17 23:40:34+00</td>\n",
              "      <td>1940</td>\n",
              "      <td>1</td>\n",
              "    </tr>\n",
              "    <tr>\n",
              "      <th>3</th>\n",
              "      <td>Assist Citizen - Mental/TDO/ECO</td>\n",
              "      <td>600.0</td>\n",
              "      <td>E MARKET ST</td>\n",
              "      <td>2022/10/17 22:24:21+00</td>\n",
              "      <td>1824</td>\n",
              "      <td>0</td>\n",
              "    </tr>\n",
              "    <tr>\n",
              "      <th>4</th>\n",
              "      <td>Assault Simple</td>\n",
              "      <td>1400.0</td>\n",
              "      <td>UNIVERSITY AVE</td>\n",
              "      <td>2022/10/17 19:58:39+00</td>\n",
              "      <td>1558</td>\n",
              "      <td>1</td>\n",
              "    </tr>\n",
              "  </tbody>\n",
              "</table>\n",
              "</div>\n",
              "      <button class=\"colab-df-convert\" onclick=\"convertToInteractive('df-d6c4ca14-3dae-4461-b53f-aca0d3b47c7a')\"\n",
              "              title=\"Convert this dataframe to an interactive table.\"\n",
              "              style=\"display:none;\">\n",
              "        \n",
              "  <svg xmlns=\"http://www.w3.org/2000/svg\" height=\"24px\"viewBox=\"0 0 24 24\"\n",
              "       width=\"24px\">\n",
              "    <path d=\"M0 0h24v24H0V0z\" fill=\"none\"/>\n",
              "    <path d=\"M18.56 5.44l.94 2.06.94-2.06 2.06-.94-2.06-.94-.94-2.06-.94 2.06-2.06.94zm-11 1L8.5 8.5l.94-2.06 2.06-.94-2.06-.94L8.5 2.5l-.94 2.06-2.06.94zm10 10l.94 2.06.94-2.06 2.06-.94-2.06-.94-.94-2.06-.94 2.06-2.06.94z\"/><path d=\"M17.41 7.96l-1.37-1.37c-.4-.4-.92-.59-1.43-.59-.52 0-1.04.2-1.43.59L10.3 9.45l-7.72 7.72c-.78.78-.78 2.05 0 2.83L4 21.41c.39.39.9.59 1.41.59.51 0 1.02-.2 1.41-.59l7.78-7.78 2.81-2.81c.8-.78.8-2.07 0-2.86zM5.41 20L4 18.59l7.72-7.72 1.47 1.35L5.41 20z\"/>\n",
              "  </svg>\n",
              "      </button>\n",
              "      \n",
              "  <style>\n",
              "    .colab-df-container {\n",
              "      display:flex;\n",
              "      flex-wrap:wrap;\n",
              "      gap: 12px;\n",
              "    }\n",
              "\n",
              "    .colab-df-convert {\n",
              "      background-color: #E8F0FE;\n",
              "      border: none;\n",
              "      border-radius: 50%;\n",
              "      cursor: pointer;\n",
              "      display: none;\n",
              "      fill: #1967D2;\n",
              "      height: 32px;\n",
              "      padding: 0 0 0 0;\n",
              "      width: 32px;\n",
              "    }\n",
              "\n",
              "    .colab-df-convert:hover {\n",
              "      background-color: #E2EBFA;\n",
              "      box-shadow: 0px 1px 2px rgba(60, 64, 67, 0.3), 0px 1px 3px 1px rgba(60, 64, 67, 0.15);\n",
              "      fill: #174EA6;\n",
              "    }\n",
              "\n",
              "    [theme=dark] .colab-df-convert {\n",
              "      background-color: #3B4455;\n",
              "      fill: #D2E3FC;\n",
              "    }\n",
              "\n",
              "    [theme=dark] .colab-df-convert:hover {\n",
              "      background-color: #434B5C;\n",
              "      box-shadow: 0px 1px 3px 1px rgba(0, 0, 0, 0.15);\n",
              "      filter: drop-shadow(0px 1px 2px rgba(0, 0, 0, 0.3));\n",
              "      fill: #FFFFFF;\n",
              "    }\n",
              "  </style>\n",
              "\n",
              "      <script>\n",
              "        const buttonEl =\n",
              "          document.querySelector('#df-d6c4ca14-3dae-4461-b53f-aca0d3b47c7a button.colab-df-convert');\n",
              "        buttonEl.style.display =\n",
              "          google.colab.kernel.accessAllowed ? 'block' : 'none';\n",
              "\n",
              "        async function convertToInteractive(key) {\n",
              "          const element = document.querySelector('#df-d6c4ca14-3dae-4461-b53f-aca0d3b47c7a');\n",
              "          const dataTable =\n",
              "            await google.colab.kernel.invokeFunction('convertToInteractive',\n",
              "                                                     [key], {});\n",
              "          if (!dataTable) return;\n",
              "\n",
              "          const docLinkHtml = 'Like what you see? Visit the ' +\n",
              "            '<a target=\"_blank\" href=https://colab.research.google.com/notebooks/data_table.ipynb>data table notebook</a>'\n",
              "            + ' to learn more about interactive tables.';\n",
              "          element.innerHTML = '';\n",
              "          dataTable['output_type'] = 'display_data';\n",
              "          await google.colab.output.renderOutput(dataTable, element);\n",
              "          const docLink = document.createElement('div');\n",
              "          docLink.innerHTML = docLinkHtml;\n",
              "          element.appendChild(docLink);\n",
              "        }\n",
              "      </script>\n",
              "    </div>\n",
              "  </div>\n",
              "  "
            ],
            "text/plain": [
              "                           Offense  BlockNumber      StreetName  \\\n",
              "0              Larceny - All Other        800.0     ELLIOTT AVE   \n",
              "1                         Burglary        800.0      RAYMOND RD   \n",
              "2               Assault Aggravated        900.0       W MAIN ST   \n",
              "3  Assist Citizen - Mental/TDO/ECO        600.0     E MARKET ST   \n",
              "4                   Assault Simple       1400.0  UNIVERSITY AVE   \n",
              "\n",
              "             DateReported  HourReported  Danger  \n",
              "0  2022/10/18 01:08:59+00          2108       1  \n",
              "1  2022/10/18 00:31:50+00          2031       1  \n",
              "2  2022/10/17 23:40:34+00          1940       1  \n",
              "3  2022/10/17 22:24:21+00          1824       0  \n",
              "4  2022/10/17 19:58:39+00          1558       1  "
            ]
          },
          "execution_count": 25,
          "metadata": {},
          "output_type": "execute_result"
        }
      ],
      "source": [
        "# first, we'll add a duplicate of the `Offense` column for the `danger` feature\n",
        "crimes_lean['Danger'] = crimes_lean.loc[:, 'Offense']\n",
        "\n",
        "# next, we'll turn the `ord_offenses` data frame into a dictionary\n",
        "danger_dict = dict(zip(ord_offenses.Offense, ord_offenses.Danger_Level))\n",
        "# print(danger_dict)\n",
        "\n",
        "# finally, we can map the new `Danger` column to it's categorical value\n",
        "crimes_lean['Danger'] = crimes_lean['Danger'].map(danger_dict).map(lambda x: int(x >= 3))\n",
        "\n",
        "# now, we can take a peek at our lovely new column!\n",
        "crimes_lean.head()\n"
      ]
    },
    {
      "cell_type": "code",
      "execution_count": null,
      "metadata": {
        "colab": {
          "base_uri": "https://localhost:8080/",
          "height": 283
        },
        "id": "cuCYPRs9oQUn",
        "outputId": "b6180208-dd67-43b9-9c7d-a1bb1644ee62"
      },
      "outputs": [
        {
          "data": {
            "text/plain": [
              "<matplotlib.axes._subplots.AxesSubplot at 0x7fb43e1da100>"
            ]
          },
          "execution_count": 26,
          "metadata": {},
          "output_type": "execute_result"
        },
        {
          "data": {
            "image/png": "[encoded data removed]",
            "text/plain": [
              "<Figure size 432x288 with 1 Axes>"
            ]
          },
          "metadata": {},
          "output_type": "display_data"
        }
      ],
      "source": [
        "crimes_lean['Danger'].hist(bins=2)"
      ]
    },
    {
      "cell_type": "markdown",
      "metadata": {
        "id": "5bfwozzxoQUn"
      },
      "source": [
        "## Date Conversion"
      ]
    },
    {
      "cell_type": "markdown",
      "metadata": {
        "id": "Vhru4_kIoQUn"
      },
      "source": [
        "Another problem we need to deal with is converting the date to some sort of usable numerical format, such as milliseconds since the last unix epoch. Let's examine this feature again."
      ]
    },
    {
      "cell_type": "code",
      "execution_count": null,
      "metadata": {
        "colab": {
          "base_uri": "https://localhost:8080/"
        },
        "id": "W6SUf8wzoQUn",
        "outputId": "e204db98-926f-4615-f4fc-e7e4ae31ee0e"
      },
      "outputs": [
        {
          "data": {
            "text/plain": [
              "0    2022/10/18 01:08:59+00\n",
              "1    2022/10/18 00:31:50+00\n",
              "2    2022/10/17 23:40:34+00\n",
              "3    2022/10/17 22:24:21+00\n",
              "4    2022/10/17 19:58:39+00\n",
              "Name: DateReported, dtype: object"
            ]
          },
          "execution_count": 27,
          "metadata": {},
          "output_type": "execute_result"
        }
      ],
      "source": [
        "crimes_lean['DateReported'].head()"
      ]
    },
    {
      "cell_type": "markdown",
      "metadata": {
        "id": "k8N_5A9RoQUo"
      },
      "source": [
        " Commence string munging tricks . . . or maybe we'll just find a library like [`dateutil`](https://labix.org/python-dateutil#head-a23e8ae0a661d77b89dfb3476f85b26f0b30349c)"
      ]
    },
    {
      "cell_type": "markdown",
      "metadata": {
        "id": "OH8-LhxIoQUo"
      },
      "source": [
        "Yeah, the library is totally the way to go. Of course.\n",
        "\n",
        "Now, just a matter of using a map or something like that to convert the thing!"
      ]
    },
    {
      "cell_type": "code",
      "execution_count": null,
      "metadata": {
        "colab": {
          "base_uri": "https://localhost:8080/",
          "height": 337
        },
        "id": "uzA4lqx6oQUo",
        "outputId": "8841c6b5-fa51-4a1e-85f4-217d8d5f7859"
      },
      "outputs": [
        {
          "data": {
            "text/html": [
              "\n",
              "  <div id=\"df-b479a3f6-942f-41d1-8401-b2717110ba04\">\n",
              "    <div class=\"colab-df-container\">\n",
              "      <div>\n",
              "<style scoped>\n",
              "    .dataframe tbody tr th:only-of-type {\n",
              "        vertical-align: middle;\n",
              "    }\n",
              "\n",
              "    .dataframe tbody tr th {\n",
              "        vertical-align: top;\n",
              "    }\n",
              "\n",
              "    .dataframe thead th {\n",
              "        text-align: right;\n",
              "    }\n",
              "</style>\n",
              "<table border=\"1\" class=\"dataframe\">\n",
              "  <thead>\n",
              "    <tr style=\"text-align: right;\">\n",
              "      <th></th>\n",
              "      <th>Offense</th>\n",
              "      <th>BlockNumber</th>\n",
              "      <th>StreetName</th>\n",
              "      <th>DateReported</th>\n",
              "      <th>HourReported</th>\n",
              "      <th>Danger</th>\n",
              "      <th>Epoch</th>\n",
              "      <th>Weekday</th>\n",
              "      <th>Year</th>\n",
              "      <th>Month</th>\n",
              "      <th>Day</th>\n",
              "    </tr>\n",
              "  </thead>\n",
              "  <tbody>\n",
              "    <tr>\n",
              "      <th>0</th>\n",
              "      <td>Larceny - All Other</td>\n",
              "      <td>800.0</td>\n",
              "      <td>ELLIOTT AVE</td>\n",
              "      <td>2022/10/18 01:08:59+00</td>\n",
              "      <td>2108</td>\n",
              "      <td>1</td>\n",
              "      <td>2022/10/18 01:08:59+00</td>\n",
              "      <td>1</td>\n",
              "      <td>2022</td>\n",
              "      <td>10</td>\n",
              "      <td>18</td>\n",
              "    </tr>\n",
              "    <tr>\n",
              "      <th>1</th>\n",
              "      <td>Burglary</td>\n",
              "      <td>800.0</td>\n",
              "      <td>RAYMOND RD</td>\n",
              "      <td>2022/10/18 00:31:50+00</td>\n",
              "      <td>2031</td>\n",
              "      <td>1</td>\n",
              "      <td>2022/10/18 00:31:50+00</td>\n",
              "      <td>1</td>\n",
              "      <td>2022</td>\n",
              "      <td>10</td>\n",
              "      <td>18</td>\n",
              "    </tr>\n",
              "    <tr>\n",
              "      <th>2</th>\n",
              "      <td>Assault Aggravated</td>\n",
              "      <td>900.0</td>\n",
              "      <td>W MAIN ST</td>\n",
              "      <td>2022/10/17 23:40:34+00</td>\n",
              "      <td>1940</td>\n",
              "      <td>1</td>\n",
              "      <td>2022/10/17 23:40:34+00</td>\n",
              "      <td>0</td>\n",
              "      <td>2022</td>\n",
              "      <td>10</td>\n",
              "      <td>17</td>\n",
              "    </tr>\n",
              "    <tr>\n",
              "      <th>3</th>\n",
              "      <td>Assist Citizen - Mental/TDO/ECO</td>\n",
              "      <td>600.0</td>\n",
              "      <td>E MARKET ST</td>\n",
              "      <td>2022/10/17 22:24:21+00</td>\n",
              "      <td>1824</td>\n",
              "      <td>0</td>\n",
              "      <td>2022/10/17 22:24:21+00</td>\n",
              "      <td>0</td>\n",
              "      <td>2022</td>\n",
              "      <td>10</td>\n",
              "      <td>17</td>\n",
              "    </tr>\n",
              "    <tr>\n",
              "      <th>4</th>\n",
              "      <td>Assault Simple</td>\n",
              "      <td>1400.0</td>\n",
              "      <td>UNIVERSITY AVE</td>\n",
              "      <td>2022/10/17 19:58:39+00</td>\n",
              "      <td>1558</td>\n",
              "      <td>1</td>\n",
              "      <td>2022/10/17 19:58:39+00</td>\n",
              "      <td>0</td>\n",
              "      <td>2022</td>\n",
              "      <td>10</td>\n",
              "      <td>17</td>\n",
              "    </tr>\n",
              "  </tbody>\n",
              "</table>\n",
              "</div>\n",
              "      <button class=\"colab-df-convert\" onclick=\"convertToInteractive('df-b479a3f6-942f-41d1-8401-b2717110ba04')\"\n",
              "              title=\"Convert this dataframe to an interactive table.\"\n",
              "              style=\"display:none;\">\n",
              "        \n",
              "  <svg xmlns=\"http://www.w3.org/2000/svg\" height=\"24px\"viewBox=\"0 0 24 24\"\n",
              "       width=\"24px\">\n",
              "    <path d=\"M0 0h24v24H0V0z\" fill=\"none\"/>\n",
              "    <path d=\"M18.56 5.44l.94 2.06.94-2.06 2.06-.94-2.06-.94-.94-2.06-.94 2.06-2.06.94zm-11 1L8.5 8.5l.94-2.06 2.06-.94-2.06-.94L8.5 2.5l-.94 2.06-2.06.94zm10 10l.94 2.06.94-2.06 2.06-.94-2.06-.94-.94-2.06-.94 2.06-2.06.94z\"/><path d=\"M17.41 7.96l-1.37-1.37c-.4-.4-.92-.59-1.43-.59-.52 0-1.04.2-1.43.59L10.3 9.45l-7.72 7.72c-.78.78-.78 2.05 0 2.83L4 21.41c.39.39.9.59 1.41.59.51 0 1.02-.2 1.41-.59l7.78-7.78 2.81-2.81c.8-.78.8-2.07 0-2.86zM5.41 20L4 18.59l7.72-7.72 1.47 1.35L5.41 20z\"/>\n",
              "  </svg>\n",
              "      </button>\n",
              "      \n",
              "  <style>\n",
              "    .colab-df-container {\n",
              "      display:flex;\n",
              "      flex-wrap:wrap;\n",
              "      gap: 12px;\n",
              "    }\n",
              "\n",
              "    .colab-df-convert {\n",
              "      background-color: #E8F0FE;\n",
              "      border: none;\n",
              "      border-radius: 50%;\n",
              "      cursor: pointer;\n",
              "      display: none;\n",
              "      fill: #1967D2;\n",
              "      height: 32px;\n",
              "      padding: 0 0 0 0;\n",
              "      width: 32px;\n",
              "    }\n",
              "\n",
              "    .colab-df-convert:hover {\n",
              "      background-color: #E2EBFA;\n",
              "      box-shadow: 0px 1px 2px rgba(60, 64, 67, 0.3), 0px 1px 3px 1px rgba(60, 64, 67, 0.15);\n",
              "      fill: #174EA6;\n",
              "    }\n",
              "\n",
              "    [theme=dark] .colab-df-convert {\n",
              "      background-color: #3B4455;\n",
              "      fill: #D2E3FC;\n",
              "    }\n",
              "\n",
              "    [theme=dark] .colab-df-convert:hover {\n",
              "      background-color: #434B5C;\n",
              "      box-shadow: 0px 1px 3px 1px rgba(0, 0, 0, 0.15);\n",
              "      filter: drop-shadow(0px 1px 2px rgba(0, 0, 0, 0.3));\n",
              "      fill: #FFFFFF;\n",
              "    }\n",
              "  </style>\n",
              "\n",
              "      <script>\n",
              "        const buttonEl =\n",
              "          document.querySelector('#df-b479a3f6-942f-41d1-8401-b2717110ba04 button.colab-df-convert');\n",
              "        buttonEl.style.display =\n",
              "          google.colab.kernel.accessAllowed ? 'block' : 'none';\n",
              "\n",
              "        async function convertToInteractive(key) {\n",
              "          const element = document.querySelector('#df-b479a3f6-942f-41d1-8401-b2717110ba04');\n",
              "          const dataTable =\n",
              "            await google.colab.kernel.invokeFunction('convertToInteractive',\n",
              "                                                     [key], {});\n",
              "          if (!dataTable) return;\n",
              "\n",
              "          const docLinkHtml = 'Like what you see? Visit the ' +\n",
              "            '<a target=\"_blank\" href=https://colab.research.google.com/notebooks/data_table.ipynb>data table notebook</a>'\n",
              "            + ' to learn more about interactive tables.';\n",
              "          element.innerHTML = '';\n",
              "          dataTable['output_type'] = 'display_data';\n",
              "          await google.colab.output.renderOutput(dataTable, element);\n",
              "          const docLink = document.createElement('div');\n",
              "          docLink.innerHTML = docLinkHtml;\n",
              "          element.appendChild(docLink);\n",
              "        }\n",
              "      </script>\n",
              "    </div>\n",
              "  </div>\n",
              "  "
            ],
            "text/plain": [
              "                           Offense  BlockNumber      StreetName  \\\n",
              "0              Larceny - All Other        800.0     ELLIOTT AVE   \n",
              "1                         Burglary        800.0      RAYMOND RD   \n",
              "2               Assault Aggravated        900.0       W MAIN ST   \n",
              "3  Assist Citizen - Mental/TDO/ECO        600.0     E MARKET ST   \n",
              "4                   Assault Simple       1400.0  UNIVERSITY AVE   \n",
              "\n",
              "             DateReported  HourReported  Danger                   Epoch  \\\n",
              "0  2022/10/18 01:08:59+00          2108       1  2022/10/18 01:08:59+00   \n",
              "1  2022/10/18 00:31:50+00          2031       1  2022/10/18 00:31:50+00   \n",
              "2  2022/10/17 23:40:34+00          1940       1  2022/10/17 23:40:34+00   \n",
              "3  2022/10/17 22:24:21+00          1824       0  2022/10/17 22:24:21+00   \n",
              "4  2022/10/17 19:58:39+00          1558       1  2022/10/17 19:58:39+00   \n",
              "\n",
              "   Weekday  Year  Month  Day  \n",
              "0        1  2022     10   18  \n",
              "1        1  2022     10   18  \n",
              "2        0  2022     10   17  \n",
              "3        0  2022     10   17  \n",
              "4        0  2022     10   17  "
            ]
          },
          "execution_count": 28,
          "metadata": {},
          "output_type": "execute_result"
        }
      ],
      "source": [
        "import dateutil as du\n",
        "import datetime as dt\n",
        "\n",
        "# let's start by making a copy of the column like before\n",
        "crimes_lean['Epoch'] = crimes_lean.loc[:, 'DateReported']\n",
        "\n",
        "# next, we need a function that can be mapped over the column to do the conversion.\n",
        "def date_converter(in_str):\n",
        "    date = du.parser.parse(in_str)\n",
        "    return date\n",
        "\n",
        "# finally, we can map the function across the duplicate column to get the unix epoch\n",
        "# crimes_lean['Epoch'] = crimes_lean['Epoch'].map(date_converter)\n",
        "crimes_lean['Weekday'] = crimes_lean['Epoch'].map(lambda x: date_converter(x).weekday())\n",
        "crimes_lean['Year'] = crimes_lean['Epoch'].map(lambda x: date_converter(x).year)\n",
        "crimes_lean['Month'] = crimes_lean['Epoch'].map(lambda x: date_converter(x).month)\n",
        "crimes_lean['Day'] = crimes_lean['Epoch'].map(lambda x: date_converter(x).day)\n",
        "\n",
        "# now, we can take a peek at our lovely new column!\n",
        "crimes_lean.head()\n",
        "   "
      ]
    },
    {
      "cell_type": "markdown",
      "metadata": {
        "id": "tce8U-wBoQUo"
      },
      "source": [
        "Booyah!"
      ]
    },
    {
      "cell_type": "markdown",
      "metadata": {
        "id": "xrOP9Z0KoQUo"
      },
      "source": [
        "Now we can actually look at these times numerically to see trends with time for example!"
      ]
    },
    {
      "cell_type": "markdown",
      "metadata": {
        "id": "x-fpgn7xoQUo"
      },
      "source": [
        "## Location Encoding"
      ]
    },
    {
      "cell_type": "markdown",
      "metadata": {
        "id": "k5lxVYfqoQUo"
      },
      "source": [
        "### Road Centerlines Dataset"
      ]
    },
    {
      "cell_type": "markdown",
      "metadata": {
        "id": "jjEjSvrjoQUo"
      },
      "source": [
        "The first step to this process is going to be to find some sort of way to translate the block system used by the Charlottesville Police Department to something that is practically useful. To this end, we have downloaded and will utilize the [Road Centerlines](https://opendata.charlottesville.org/datasets/charlottesville::road-centerlines-block-level/about) dataset."
      ]
    },
    {
      "cell_type": "code",
      "execution_count": null,
      "metadata": {
        "colab": {
          "base_uri": "https://localhost:8080/"
        },
        "id": "XnGBOSvtoQUs",
        "outputId": "548b0db1-34ae-4682-effb-5dc7a726d509"
      },
      "outputs": [
        {
          "name": "stdout",
          "output_type": "stream",
          "text": [
            "Looking in indexes: https://pypi.org/simple, https://us-python.pkg.dev/colab-wheels/public/simple/\n",
            "Requirement already satisfied: geopandas in /usr/local/lib/python3.8/dist-packages (0.12.1)\n",
            "Requirement already satisfied: pandas>=1.0.0 in /usr/local/lib/python3.8/dist-packages (from geopandas) (1.3.5)\n",
            "Requirement already satisfied: fiona>=1.8 in /usr/local/lib/python3.8/dist-packages (from geopandas) (1.8.22)\n",
            "Requirement already satisfied: pyproj>=2.6.1.post1 in /usr/local/lib/python3.8/dist-packages (from geopandas) (3.4.0)\n",
            "Requirement already satisfied: shapely>=1.7 in /usr/local/lib/python3.8/dist-packages (from geopandas) (1.8.5.post1)\n",
            "Requirement already satisfied: packaging in /usr/local/lib/python3.8/dist-packages (from geopandas) (21.3)\n",
            "Requirement already satisfied: certifi in /usr/local/lib/python3.8/dist-packages (from fiona>=1.8->geopandas) (2022.9.24)\n",
            "Requirement already satisfied: click-plugins>=1.0 in /usr/local/lib/python3.8/dist-packages (from fiona>=1.8->geopandas) (1.1.1)\n",
            "Requirement already satisfied: cligj>=0.5 in /usr/local/lib/python3.8/dist-packages (from fiona>=1.8->geopandas) (0.7.2)\n",
            "Requirement already satisfied: six>=1.7 in /usr/local/lib/python3.8/dist-packages (from fiona>=1.8->geopandas) (1.15.0)\n",
            "Requirement already satisfied: click>=4.0 in /usr/local/lib/python3.8/dist-packages (from fiona>=1.8->geopandas) (7.1.2)\n",
            "Requirement already satisfied: munch in /usr/local/lib/python3.8/dist-packages (from fiona>=1.8->geopandas) (2.5.0)\n",
            "Requirement already satisfied: attrs>=17 in /usr/local/lib/python3.8/dist-packages (from fiona>=1.8->geopandas) (22.1.0)\n",
            "Requirement already satisfied: setuptools in /usr/local/lib/python3.8/dist-packages (from fiona>=1.8->geopandas) (57.4.0)\n",
            "Requirement already satisfied: numpy>=1.17.3 in /usr/local/lib/python3.8/dist-packages (from pandas>=1.0.0->geopandas) (1.21.6)\n",
            "Requirement already satisfied: python-dateutil>=2.7.3 in /usr/local/lib/python3.8/dist-packages (from pandas>=1.0.0->geopandas) (2.8.2)\n",
            "Requirement already satisfied: pytz>=2017.3 in /usr/local/lib/python3.8/dist-packages (from pandas>=1.0.0->geopandas) (2022.6)\n",
            "Requirement already satisfied: pyparsing!=3.0.5,>=2.0.2 in /usr/local/lib/python3.8/dist-packages (from packaging->geopandas) (3.0.9)\n",
            "   OBJECTID Block Side        Street  \\\n",
            "0         1   100    L  10 1/2 ST NW   \n",
            "1         2   100    R  10 1/2 ST NW   \n",
            "2         3   300    L  10 1/2 ST NW   \n",
            "3         4   300    R  10 1/2 ST NW   \n",
            "4         5   400    L  10 1/2 ST NW   \n",
            "\n",
            "                                            geometry  \n",
            "0  LINESTRING (-78.49530 38.03272, -78.49509 38.0...  \n",
            "1  LINESTRING (-78.49505 38.03335, -78.49527 38.0...  \n",
            "2  LINESTRING (-78.49435 38.03558, -78.49422 38.0...  \n",
            "3  LINESTRING (-78.49323 38.03760, -78.49331 38.0...  \n",
            "4  LINESTRING (-78.49298 38.03817, -78.49283 38.0...  \n"
          ]
        }
      ],
      "source": [
        "!pip install geopandas\n",
        "import geopandas as gpd                         # this allows us to use standard geospatial formats (such as the geojson that we downloaded)\n",
        "\n",
        "road_lines_full = gpd.read_file(\"./data/Road_Centerlines_(Block_Level).geojson\")             # Note that `road_lines` is a geodataframe, and is not json-esque\n",
        "print(road_lines_full.head())"
      ]
    },
    {
      "cell_type": "markdown",
      "metadata": {
        "id": "hyPGpQeMoQUs"
      },
      "source": [
        "Oh, dear. I thought these were supposed to be centerlines . . . It looks like these are linestrings that describe the left and right edges of the road. \\*sigh\\*\n",
        "\n",
        "I suppose we could just pretend one side of the road doesn't exist . . ."
      ]
    },
    {
      "cell_type": "markdown",
      "metadata": {
        "id": "FcmvQGxaoQUs"
      },
      "source": [
        "It could also be that those with a L / R  attribute are for split highways with a median in between. Regardless, we don't have that level of detail in our crimes data if I am not mistaken."
      ]
    },
    {
      "cell_type": "markdown",
      "metadata": {
        "id": "LsISLQqyoQUs"
      },
      "source": [
        "One thing we can try to simplify this scheme is to use the observation that the finest level of detail we have in the crimes data set is by the block number and street name. Therefore, we are not losing any precision if we were to take the center point of each block, and use that as the coordinate for any crime on that block. To do this, we can take the linestrings formed by the left and right halves of the data, draw additional lines between their starts and ends, which will turn each block into a polygon. We can then find the centerpoint of the polygon to determine a single lat-lon point for the block."
      ]
    },
    {
      "cell_type": "markdown",
      "metadata": {
        "id": "hRTxsvj3oQUs"
      },
      "source": [
        "However, because time is short and `geopandas` is complex, we are instead just going to keep only the left side of each block, and we will use the center point of this line string as the geometric coordinate."
      ]
    },
    {
      "cell_type": "code",
      "execution_count": null,
      "metadata": {
        "colab": {
          "base_uri": "https://localhost:8080/"
        },
        "id": "JoRST081oQUs",
        "outputId": "a32e0259-c12e-49e1-c56f-b5a805f1271b"
      },
      "outputs": [
        {
          "name": "stdout",
          "output_type": "stream",
          "text": [
            "<class 'geopandas.geodataframe.GeoDataFrame'>\n",
            "RangeIndex: 2754 entries, 0 to 2753\n",
            "Data columns (total 5 columns):\n",
            " #   Column    Non-Null Count  Dtype   \n",
            "---  ------    --------------  -----   \n",
            " 0   OBJECTID  2754 non-null   int64   \n",
            " 1   Block     2754 non-null   object  \n",
            " 2   Side      2754 non-null   object  \n",
            " 3   Street    2754 non-null   object  \n",
            " 4   geometry  2754 non-null   geometry\n",
            "dtypes: geometry(1), int64(1), object(3)\n",
            "memory usage: 107.7+ KB\n",
            "None\n",
            "Side\n",
            "L       1394\n",
            "R       1360\n",
            "dtype: int64\n"
          ]
        }
      ],
      "source": [
        "# we would like to make sure that there isn't anything besides left and right\n",
        "print(road_lines_full.info())\n",
        "print(road_lines_full.value_counts([\"Side\"]))"
      ]
    },
    {
      "cell_type": "markdown",
      "metadata": {
        "id": "vrPNgAbmoQUt"
      },
      "source": [
        "Notably, there are more left-hand sides than right hand sides. I am guessing/assuming this is because one-way streets only have a left-hand side. This doesn't really make sense though, because we really only drive on the right-hand side. Regardless, dropping all of the right-hand rows will work for now."
      ]
    },
    {
      "cell_type": "code",
      "execution_count": null,
      "metadata": {
        "id": "atfdxi2doQUt"
      },
      "outputs": [],
      "source": [
        "# we start by dropping all of the right hand rows.\n",
        "\n",
        "road_lines_naive = road_lines_full[road_lines_full.Side != \"R\"]"
      ]
    },
    {
      "cell_type": "markdown",
      "metadata": {
        "id": "eqRGptOKoQUt"
      },
      "source": [
        "The center point can then be found with the this [function](https://geopandas.org/en/stable/docs/reference/api/geopandas.GeoSeries.centroid.html)"
      ]
    },
    {
      "cell_type": "code",
      "execution_count": null,
      "metadata": {
        "colab": {
          "base_uri": "https://localhost:8080/"
        },
        "id": "_FX-mp8poQUt",
        "outputId": "fa83f258-8175-470d-83b5-deeaa399a71a"
      },
      "outputs": [
        {
          "name": "stderr",
          "output_type": "stream",
          "text": [
            "/usr/local/lib/python3.8/dist-packages/geopandas/geodataframe.py:1443: SettingWithCopyWarning: \n",
            "A value is trying to be set on a copy of a slice from a DataFrame.\n",
            "Try using .loc[row_indexer,col_indexer] = value instead\n",
            "\n",
            "See the caveats in the documentation: https://pandas.pydata.org/pandas-docs/stable/user_guide/indexing.html#returning-a-view-versus-a-copy\n",
            "  super().__setitem__(key, value)\n"
          ]
        },
        {
          "name": "stdout",
          "output_type": "stream",
          "text": [
            "    OBJECTID Block Side        Street  \\\n",
            "0          1   100    L  10 1/2 ST NW   \n",
            "2          3   300    L  10 1/2 ST NW   \n",
            "4          5   400    L  10 1/2 ST NW   \n",
            "6          7   500    L  10 1/2 ST NW   \n",
            "7          8   600    L  10 1/2 ST NW   \n",
            "9         10   100    L    10TH ST NE   \n",
            "11        12   200    L    10TH ST NE   \n",
            "13        14   300    L    10TH ST NE   \n",
            "16        17   100    L    10TH ST NW   \n",
            "18        19   200    L    10TH ST NW   \n",
            "\n",
            "                                             geometry  \\\n",
            "0   LINESTRING (-78.49530 38.03272, -78.49509 38.0...   \n",
            "2   LINESTRING (-78.49435 38.03558, -78.49422 38.0...   \n",
            "4   LINESTRING (-78.49298 38.03817, -78.49283 38.0...   \n",
            "6   LINESTRING (-78.49326 38.03761, -78.49326 38.0...   \n",
            "7   LINESTRING (-78.49264 38.03882, -78.49264 38.0...   \n",
            "9   LINESTRING (-78.47393 38.02823, -78.47387 38.0...   \n",
            "11  LINESTRING (-78.47350 38.02888, -78.47339 38.0...   \n",
            "13  LINESTRING (-78.47261 38.03012, -78.47257 38.0...   \n",
            "16  LINESTRING (-78.49479 38.03261, -78.49479 38.0...   \n",
            "18  LINESTRING (-78.49382 38.03442, -78.49382 38.0...   \n",
            "\n",
            "                         point  \n",
            "0   POINT (-78.49520 38.03304)  \n",
            "2   POINT (-78.49380 38.03658)  \n",
            "4   POINT (-78.49281 38.03849)  \n",
            "6   POINT (-78.49312 38.03789)  \n",
            "7   POINT (-78.49234 38.03936)  \n",
            "9   POINT (-78.47372 38.02855)  \n",
            "11  POINT (-78.47314 38.02939)  \n",
            "13  POINT (-78.47227 38.03059)  \n",
            "16  POINT (-78.49456 38.03305)  \n",
            "18  POINT (-78.49362 38.03479)  \n"
          ]
        },
        {
          "name": "stderr",
          "output_type": "stream",
          "text": [
            "/usr/local/lib/python3.8/dist-packages/geopandas/geodataframe.py:1443: SettingWithCopyWarning: \n",
            "A value is trying to be set on a copy of a slice from a DataFrame.\n",
            "Try using .loc[row_indexer,col_indexer] = value instead\n",
            "\n",
            "See the caveats in the documentation: https://pandas.pydata.org/pandas-docs/stable/user_guide/indexing.html#returning-a-view-versus-a-copy\n",
            "  super().__setitem__(key, value)\n"
          ]
        }
      ],
      "source": [
        "# we can start by making a copy of the geometry column\n",
        "road_lines_naive['point'] = road_lines_naive.loc[:, 'geometry']\n",
        "\n",
        "# then we can make our mapping function\n",
        "def naive_center_finder(linestring):\n",
        "    return gpd.GeoSeries([linestring]).centroid[0]\n",
        "\n",
        "# and then we can map our handy-dandy function over this column\n",
        "road_lines_naive['point'] = road_lines_naive['point'].map(naive_center_finder)\n",
        "\n",
        "# and finally see if it worked\n",
        "print(road_lines_naive.head(10))"
      ]
    },
    {
      "cell_type": "markdown",
      "metadata": {
        "id": "BlLyJibKoQUt"
      },
      "source": [
        "weeeellll . . . I suppose it worked. We have no real way of knowing whether those are actually the centerpoints I would hope to see, but hey, at least it's something."
      ]
    },
    {
      "cell_type": "markdown",
      "metadata": {
        "id": "H9BMoSL6oQUt"
      },
      "source": [
        "### Using the Road Center Points in the Crimes Data"
      ]
    },
    {
      "cell_type": "markdown",
      "metadata": {
        "id": "dxtkj6l_oQUt"
      },
      "source": [
        "To actually use what we just made, we can now use this data set to add a coordinate to each crime!"
      ]
    },
    {
      "cell_type": "code",
      "execution_count": null,
      "metadata": {
        "id": "5AQjRXAhoQUt"
      },
      "outputs": [],
      "source": [
        "crimes_lean = crimes_lean.dropna()"
      ]
    },
    {
      "cell_type": "code",
      "execution_count": null,
      "metadata": {
        "colab": {
          "base_uri": "https://localhost:8080/"
        },
        "id": "CN8YjWLNoQUu",
        "outputId": "9f57992a-b00b-487f-c014-aade883ca193"
      },
      "outputs": [
        {
          "name": "stdout",
          "output_type": "stream",
          "text": [
            "   OBJECTID Block Side        Street  \\\n",
            "0         1   100    L  10 1/2 ST NW   \n",
            "2         3   300    L  10 1/2 ST NW   \n",
            "4         5   400    L  10 1/2 ST NW   \n",
            "6         7   500    L  10 1/2 ST NW   \n",
            "7         8   600    L  10 1/2 ST NW   \n",
            "\n",
            "                                            geometry  \\\n",
            "0  LINESTRING (-78.49530 38.03272, -78.49509 38.0...   \n",
            "2  LINESTRING (-78.49435 38.03558, -78.49422 38.0...   \n",
            "4  LINESTRING (-78.49298 38.03817, -78.49283 38.0...   \n",
            "6  LINESTRING (-78.49326 38.03761, -78.49326 38.0...   \n",
            "7  LINESTRING (-78.49264 38.03882, -78.49264 38.0...   \n",
            "\n",
            "                        point    road_location  \n",
            "0  POINT (-78.49520 38.03304)  10 1/2 ST NW100  \n",
            "2  POINT (-78.49380 38.03658)  10 1/2 ST NW300  \n",
            "4  POINT (-78.49281 38.03849)  10 1/2 ST NW400  \n",
            "6  POINT (-78.49312 38.03789)  10 1/2 ST NW500  \n",
            "7  POINT (-78.49234 38.03936)  10 1/2 ST NW600  \n"
          ]
        },
        {
          "name": "stderr",
          "output_type": "stream",
          "text": [
            "<ipython-input-34-4ea3b86dc8e9>:3: SettingWithCopyWarning: \n",
            "A value is trying to be set on a copy of a slice from a DataFrame.\n",
            "Try using .loc[row_indexer,col_indexer] = value instead\n",
            "\n",
            "See the caveats in the documentation: https://pandas.pydata.org/pandas-docs/stable/user_guide/indexing.html#returning-a-view-versus-a-copy\n",
            "  crimes_lean['road_location'] = crimes_lean['StreetName'] + crimes_lean['BlockNumber'].astype(int).astype(str)\n",
            "/usr/local/lib/python3.8/dist-packages/geopandas/geodataframe.py:1443: SettingWithCopyWarning: \n",
            "A value is trying to be set on a copy of a slice from a DataFrame.\n",
            "Try using .loc[row_indexer,col_indexer] = value instead\n",
            "\n",
            "See the caveats in the documentation: https://pandas.pydata.org/pandas-docs/stable/user_guide/indexing.html#returning-a-view-versus-a-copy\n",
            "  super().__setitem__(key, value)\n"
          ]
        }
      ],
      "source": [
        "# We are going to start by concatenating the block number and street name into one field.\n",
        "# hopefully these will be identical for both data sets.\n",
        "crimes_lean['road_location'] = crimes_lean['StreetName'] + crimes_lean['BlockNumber'].astype(int).astype(str)\n",
        "# print(crimes_lean.head())\n",
        "\n",
        "road_lines_naive['road_location'] = road_lines_naive['Street'] + road_lines_naive['Block'].astype(int).astype(str)\n",
        "print(road_lines_naive.head())"
      ]
    },
    {
      "cell_type": "code",
      "execution_count": null,
      "metadata": {
        "colab": {
          "base_uri": "https://localhost:8080/"
        },
        "id": "sGJmZpx0oQUu",
        "outputId": "b5dfce95-298c-4ae9-884c-07d1a6e83023"
      },
      "outputs": [
        {
          "name": "stdout",
          "output_type": "stream",
          "text": [
            "<class 'pandas.core.frame.DataFrame'>\n",
            "Int64Index: 23229 entries, 0 to 24576\n",
            "Data columns (total 13 columns):\n",
            " #   Column         Non-Null Count  Dtype  \n",
            "---  ------         --------------  -----  \n",
            " 0   Offense        23229 non-null  object \n",
            " 1   BlockNumber    23229 non-null  float64\n",
            " 2   StreetName     23229 non-null  object \n",
            " 3   DateReported   23229 non-null  object \n",
            " 4   HourReported   23229 non-null  int64  \n",
            " 5   Danger         23229 non-null  int64  \n",
            " 6   Epoch          23229 non-null  object \n",
            " 7   Weekday        23229 non-null  int64  \n",
            " 8   Year           23229 non-null  int64  \n",
            " 9   Month          23229 non-null  int64  \n",
            " 10  Day            23229 non-null  int64  \n",
            " 11  road_location  23229 non-null  object \n",
            " 12  Point          17290 non-null  object \n",
            "dtypes: float64(1), int64(6), object(6)\n",
            "memory usage: 2.5+ MB\n",
            "None\n"
          ]
        },
        {
          "name": "stderr",
          "output_type": "stream",
          "text": [
            "<ipython-input-35-8b543430d0fb>:5: SettingWithCopyWarning: \n",
            "A value is trying to be set on a copy of a slice from a DataFrame.\n",
            "Try using .loc[row_indexer,col_indexer] = value instead\n",
            "\n",
            "See the caveats in the documentation: https://pandas.pydata.org/pandas-docs/stable/user_guide/indexing.html#returning-a-view-versus-a-copy\n",
            "  crimes_lean['Point'] = crimes_lean.loc[:, 'road_location']\n",
            "/usr/local/lib/python3.8/dist-packages/pandas/core/dtypes/cast.py:118: ShapelyDeprecationWarning: The array interface is deprecated and will no longer work in Shapely 2.0. Convert the '.coords' to a numpy array instead.\n",
            "  arr = construct_1d_object_array_from_listlike(values)\n",
            "<ipython-input-35-8b543430d0fb>:8: SettingWithCopyWarning: \n",
            "A value is trying to be set on a copy of a slice from a DataFrame.\n",
            "Try using .loc[row_indexer,col_indexer] = value instead\n",
            "\n",
            "See the caveats in the documentation: https://pandas.pydata.org/pandas-docs/stable/user_guide/indexing.html#returning-a-view-versus-a-copy\n",
            "  crimes_lean['Point'] = crimes_lean['Point'].map(road_centers_dict)\n"
          ]
        }
      ],
      "source": [
        "# next we can make a dictionary out of the road_lines_naive data set\n",
        "road_centers_dict = dict(zip(road_lines_naive.road_location, road_lines_naive.point))\n",
        "\n",
        "# and then make a point column for the crimes data\n",
        "crimes_lean['Point'] = crimes_lean.loc[:, 'road_location']\n",
        "\n",
        "# and finally we can use the dictionary to map over this column to get our points\n",
        "crimes_lean['Point'] = crimes_lean['Point'].map(road_centers_dict)\n",
        "\n",
        "print(crimes_lean.info())"
      ]
    },
    {
      "cell_type": "markdown",
      "metadata": {
        "id": "501YVrS6oQUu"
      },
      "source": [
        "We have successfully given each crime a lat-lon coordinate, which is super fantastic! Even if we had to lose about 6k crimes in the process, and even if the point isn't as accurate as it could be since we only used half of the street."
      ]
    },
    {
      "cell_type": "markdown",
      "metadata": {
        "id": "EtG6xqEuoQUu"
      },
      "source": [
        "Also, we really need that point to be split into latitude and longitude columns practically speaking . . ."
      ]
    },
    {
      "cell_type": "code",
      "execution_count": null,
      "metadata": {
        "colab": {
          "base_uri": "https://localhost:8080/"
        },
        "id": "XiXU4qN7oQUu",
        "outputId": "df45bc36-41ea-44df-fdd3-2b0b94d329dc"
      },
      "outputs": [
        {
          "name": "stdout",
          "output_type": "stream",
          "text": [
            "                           Offense  BlockNumber      StreetName  \\\n",
            "0              Larceny - All Other        800.0     ELLIOTT AVE   \n",
            "1                         Burglary        800.0      RAYMOND RD   \n",
            "2               Assault Aggravated        900.0       W MAIN ST   \n",
            "3  Assist Citizen - Mental/TDO/ECO        600.0     E MARKET ST   \n",
            "4                   Assault Simple       1400.0  UNIVERSITY AVE   \n",
            "\n",
            "             DateReported  HourReported  Danger                   Epoch  \\\n",
            "0  2022/10/18 01:08:59+00          2108       1  2022/10/18 01:08:59+00   \n",
            "1  2022/10/18 00:31:50+00          2031       1  2022/10/18 00:31:50+00   \n",
            "2  2022/10/17 23:40:34+00          1940       1  2022/10/17 23:40:34+00   \n",
            "3  2022/10/17 22:24:21+00          1824       0  2022/10/17 22:24:21+00   \n",
            "4  2022/10/17 19:58:39+00          1558       1  2022/10/17 19:58:39+00   \n",
            "\n",
            "   Weekday  Year  Month  Day       road_location  \\\n",
            "0        1  2022     10   18      ELLIOTT AVE800   \n",
            "1        1  2022     10   18       RAYMOND RD800   \n",
            "2        0  2022     10   17        W MAIN ST900   \n",
            "3        0  2022     10   17      E MARKET ST600   \n",
            "4        0  2022     10   17  UNIVERSITY AVE1400   \n",
            "\n",
            "                                           Point  Longitude   Latitude  \n",
            "0   POINT (-78.47900013558797 38.02018638093148) -78.479000  38.020186  \n",
            "1    POINT (-78.4928023048947 38.01972150538345) -78.492802  38.019722  \n",
            "2   POINT (-78.49430839164548 38.03249178536627) -78.494308  38.032492  \n",
            "3  POINT (-78.47704152035922 38.030277200726914) -78.477042  38.030277  \n",
            "4   POINT (-78.50004637188796 38.03429477193843) -78.500046  38.034295  \n"
          ]
        }
      ],
      "source": [
        "# We can do that very easily using geopandas as well\n",
        "crimes_lean = crimes_lean.dropna()\n",
        "\n",
        "crimes_lean['Longitude'] = crimes_lean['Point'].apply(lambda point: point.x)\n",
        "crimes_lean['Latitude'] = crimes_lean['Point'].apply(lambda point: point.y)\n",
        "\n",
        "print(crimes_lean.head())"
      ]
    },
    {
      "cell_type": "markdown",
      "metadata": {
        "id": "C06pKLj8oQUu"
      },
      "source": [
        "# Modeling"
      ]
    },
    {
      "cell_type": "code",
      "execution_count": null,
      "metadata": {
        "colab": {
          "base_uri": "https://localhost:8080/"
        },
        "id": "vboGB5zcoQUu",
        "outputId": "9fea8b4c-7257-40a1-8911-7577be294688"
      },
      "outputs": [
        {
          "name": "stdout",
          "output_type": "stream",
          "text": [
            "   Weekday  Year  Month  Day   Latitude  Longitude  Danger\n",
            "0        1  2022     10   18  38.020186 -78.479000       1\n",
            "1        1  2022     10   18  38.019722 -78.492802       1\n",
            "2        0  2022     10   17  38.032492 -78.494308       1\n",
            "3        0  2022     10   17  38.030277 -78.477042       0\n",
            "4        0  2022     10   17  38.034295 -78.500046       1\n"
          ]
        }
      ],
      "source": [
        "# and now, lets grab just the really useful features we have constructed and see if we get some interesting regression results out of it\n",
        "crimes_sparse = crimes_lean[['Weekday', 'Year', 'Month', 'Day', 'Latitude', 'Longitude', 'Danger']]\n",
        "\n",
        "print(crimes_sparse.head())"
      ]
    },
    {
      "cell_type": "markdown",
      "metadata": {
        "id": "Qe2_JhF1oQUu"
      },
      "source": [
        "Wow, we say \"sparse\", but we should probably say \"Charlie-Brown-Christmas-Tree-Esque\".\n",
        "\n",
        "![charlie-brown-tree](https://wallpapercave.com/wp/9Dvub0b.jpg)\n",
        "\n",
        "It's funny how after extracting the essential information out of the data, we really have very, very little to work with for each record. Just when the reported happened, where the reported incident happend, and how bad the incident was on a scale of 0 to 4. Hopefully that's enough to do some reasonable machine learning . . ."
      ]
    },
    {
      "cell_type": "markdown",
      "metadata": {
        "id": "wV70dSG_oQUu"
      },
      "source": [
        "### Visualization Detour"
      ]
    },
    {
      "cell_type": "markdown",
      "metadata": {
        "id": "R_XxwgERoQUu"
      },
      "source": [
        "Let's do a quick 3D graph with a random subset of our data to try and get a feel for whether we can legitimately try to use a linear regression to solve our problem."
      ]
    },
    {
      "cell_type": "code",
      "execution_count": null,
      "metadata": {
        "colab": {
          "base_uri": "https://localhost:8080/",
          "height": 266
        },
        "id": "RhJcaG-yoQUu",
        "outputId": "2d4eec34-4239-418c-a073-6b7b7860a39d"
      },
      "outputs": [
        {
          "data": {
            "text/plain": [
              "<mpl_toolkits.mplot3d.art3d.Path3DCollection at 0x7fb438ce6d60>"
            ]
          },
          "execution_count": 38,
          "metadata": {},
          "output_type": "execute_result"
        },
        {
          "data": {
            "image/png": "[encoded data removed]",
            "text/plain": [
              "<Figure size 432x288 with 1 Axes>"
            ]
          },
          "metadata": {},
          "output_type": "display_data"
        }
      ],
      "source": [
        "sample_crimes = crimes_sparse.sample(frac=0.1, random_state=42)\n",
        "\n",
        "fig = plt.figure()\n",
        "ax = plt.axes(projection='3d')\n",
        "ax.scatter3D(sample_crimes['Longitude'], sample_crimes['Latitude'], c=sample_crimes['Danger'], cmap='jet')"
      ]
    },
    {
      "cell_type": "markdown",
      "metadata": {
        "id": "ZQr_SFCZoQUv"
      },
      "source": [
        "In the above plot, the axes are longitude, latitude, and time for x, y, and z respectively, and the color of each dot is based on its danger level from 0 to 4. Although this isn't the greatest plot, I tend to think this data is _not_ going to be linearly separable by any stretch of the imagination."
      ]
    },
    {
      "cell_type": "markdown",
      "metadata": {
        "id": "6Wkj3ZH_oQUv"
      },
      "source": [
        "So the question then becomes, if we can't do a linear regression, what should we do instead? We have just graphed the full dimensionality of our space, so SVM may not be sufficient here as there doesn't seem to be any sort of clear pattern whatsoever. SVM might still be worth looking into however, especially since it can be used to map the feature space to higher dimensions.\n",
        "\n",
        "An interesting thing to consider here is that the feature we would want to predict, `Danger`, can be treated as either a categorical or a numeric value. What this means practically is that we can treat this problem not so much as a regression, but rather as a classification problem. Unfortunately, K-Means and other clustering methods will also probably fail to be of use here since the dimensionality is so very low, although they may still be worth trying. \n",
        "\n",
        "This leaves us with Neural Nets. A deep neural net may be able to make sense of this low dimensionality feature space in a meaningful way."
      ]
    },
    {
      "cell_type": "markdown",
      "metadata": {
        "id": "2MrgusFVoQUv"
      },
      "source": [
        "### Neural Net mk. I"
      ]
    },
    {
      "cell_type": "markdown",
      "metadata": {
        "id": "Lw0WkQTMoQUv"
      },
      "source": [
        "Let's give the neural net a go."
      ]
    },
    {
      "cell_type": "markdown",
      "metadata": {
        "id": "qxl4lyV2oQUv"
      },
      "source": [
        "We can make a validation set and a training set."
      ]
    },
    {
      "cell_type": "code",
      "execution_count": null,
      "metadata": {
        "id": "MluKpJdWoQUv"
      },
      "outputs": [],
      "source": [
        "# and we can also standard scale our features\n",
        "from sklearn import pipeline\n",
        "from sklearn.compose import ColumnTransformer\n",
        "# pipeline to standard scale the input\n",
        "numeric_transformer = Pipeline(\n",
        "    steps=[(\"scaler\", StandardScaler())]\n",
        ")\n",
        "\n",
        "categorical_features = ['Weekday', 'Year', 'Month', 'Day']\n",
        "numeric_features = ['Latitude', 'Longitude']\n",
        "categorical_transformer = OneHotEncoder(handle_unknown=\"ignore\")\n",
        "\n",
        "preprocessor = ColumnTransformer(\n",
        "    transformers=[\n",
        "        (\"num\", numeric_transformer, numeric_features),\n",
        "        (\"cat\", categorical_transformer, categorical_features),\n",
        "    ]\n",
        ")\n",
        "\n",
        "# # full pipeline:\n",
        "# full_pipeline = ColumnTransformer([\n",
        "#         (\"num\", num_pipeline, num_attribs),\n",
        "#     ])\n",
        "nn_1_pipeline = preprocessor\n",
        "# to_be_X = crimes_sparse.drop(\"Danger\", axis=1)"
      ]
    },
    {
      "cell_type": "code",
      "execution_count": null,
      "metadata": {
        "colab": {
          "base_uri": "https://localhost:8080/"
        },
        "id": "lcnaso0coQUv",
        "outputId": "fdd7731c-523d-40c0-b253-e29b2e4d10e8"
      },
      "outputs": [
        {
          "name": "stdout",
          "output_type": "stream",
          "text": [
            "(12448, 58)\n",
            "(1384, 58)\n"
          ]
        }
      ],
      "source": [
        "from sklearn.model_selection import train_test_split\n",
        "X = crimes_sparse.drop('Danger', axis=1)\n",
        "Y = crimes_sparse['Danger']\n",
        "\n",
        "nn_1_train_full_X, nn_1_test_X, nn_1_train_full_Y, nn_1_test_Y = train_test_split(X, Y, test_size=0.2, random_state=42)\n",
        "nn_1_train_full_X = nn_1_pipeline.fit_transform(nn_1_train_full_X, nn_1_train_full_Y)\n",
        "nn_1_test_X = nn_1_pipeline.fit(nn_1_test_X, nn_1_test_Y)\n",
        "nn_1_train_x, nn_1_val_x, nn_1_train_y, nn_1_val_y = train_test_split(nn_1_train_full_X, nn_1_train_full_Y, test_size=0.1, random_state=42)\n",
        "\n",
        "print(nn_1_train_x.shape)\n",
        "\n",
        "print(nn_1_val_x.shape)"
      ]
    },
    {
      "cell_type": "code",
      "execution_count": null,
      "metadata": {
        "id": "rjJTVeTPoQUv"
      },
      "outputs": [],
      "source": [
        "import tensorflow as tf\n",
        "import keras\n",
        "\n",
        "nn_1 = tf.keras.models.Sequential(layers=[\n",
        "    keras.layers.Flatten(),        # input layer\n",
        "    keras.layers.Dense(units=100, activation='relu'),  # hidden layer\n",
        "    # keras.layers.Dense(units=1750, activation='relu'), # hidden layer\n",
        "    keras.layers.Dense(units=100, activation='relu'), # hidden layer\n",
        "    # keras.layers.Dropout(0.5),\n",
        "    keras.layers.Dense(units=2, activation='softmax') # output softmax layer\n",
        "])"
      ]
    },
    {
      "cell_type": "code",
      "execution_count": null,
      "metadata": {
        "colab": {
          "base_uri": "https://localhost:8080/",
          "height": 1000
        },
        "id": "erWw3Rr_oQUw",
        "outputId": "8ae647f4-ca8f-434f-f17b-f83951a2d768"
      },
      "outputs": [
        {
          "name": "stdout",
          "output_type": "stream",
          "text": [
            "Epoch 1/50\n",
            "389/389 [==============================] - 3s 3ms/step - loss: 0.6495 - accuracy: 0.6445 - val_loss: 0.6448 - val_accuracy: 0.6575\n",
            "Epoch 2/50\n",
            "389/389 [==============================] - 1s 3ms/step - loss: 0.6403 - accuracy: 0.6466 - val_loss: 0.6428 - val_accuracy: 0.6582\n",
            "Epoch 3/50\n",
            "389/389 [==============================] - 1s 3ms/step - loss: 0.6335 - accuracy: 0.6504 - val_loss: 0.6452 - val_accuracy: 0.6568\n",
            "Epoch 4/50\n",
            "389/389 [==============================] - 1s 3ms/step - loss: 0.6256 - accuracy: 0.6554 - val_loss: 0.6436 - val_accuracy: 0.6539\n",
            "Epoch 5/50\n",
            "389/389 [==============================] - 1s 3ms/step - loss: 0.6168 - accuracy: 0.6663 - val_loss: 0.6499 - val_accuracy: 0.6517\n",
            "Epoch 6/50\n",
            "389/389 [==============================] - 1s 3ms/step - loss: 0.6066 - accuracy: 0.6735 - val_loss: 0.6551 - val_accuracy: 0.6329\n",
            "Epoch 7/50\n",
            "389/389 [==============================] - 1s 3ms/step - loss: 0.5969 - accuracy: 0.6838 - val_loss: 0.6590 - val_accuracy: 0.6236\n",
            "Epoch 8/50\n",
            "389/389 [==============================] - 1s 3ms/step - loss: 0.5854 - accuracy: 0.6937 - val_loss: 0.6671 - val_accuracy: 0.6077\n",
            "Epoch 9/50\n",
            "389/389 [==============================] - 1s 3ms/step - loss: 0.5743 - accuracy: 0.7006 - val_loss: 0.6691 - val_accuracy: 0.6236\n",
            "Epoch 10/50\n",
            "389/389 [==============================] - 1s 3ms/step - loss: 0.5619 - accuracy: 0.7109 - val_loss: 0.6863 - val_accuracy: 0.6329\n",
            "Epoch 11/50\n",
            "389/389 [==============================] - 1s 3ms/step - loss: 0.5513 - accuracy: 0.7201 - val_loss: 0.6983 - val_accuracy: 0.6236\n",
            "Epoch 12/50\n",
            "389/389 [==============================] - 1s 3ms/step - loss: 0.5406 - accuracy: 0.7263 - val_loss: 0.7064 - val_accuracy: 0.6236\n",
            "Epoch 13/50\n",
            "389/389 [==============================] - 1s 3ms/step - loss: 0.5299 - accuracy: 0.7361 - val_loss: 0.7082 - val_accuracy: 0.6149\n",
            "Epoch 14/50\n",
            "389/389 [==============================] - 1s 3ms/step - loss: 0.5198 - accuracy: 0.7407 - val_loss: 0.7374 - val_accuracy: 0.5983\n",
            "Epoch 15/50\n",
            "389/389 [==============================] - 1s 3ms/step - loss: 0.5094 - accuracy: 0.7476 - val_loss: 0.7504 - val_accuracy: 0.5788\n",
            "Epoch 16/50\n",
            "389/389 [==============================] - 1s 3ms/step - loss: 0.5011 - accuracy: 0.7529 - val_loss: 0.7537 - val_accuracy: 0.6019\n",
            "Epoch 17/50\n",
            "389/389 [==============================] - 1s 3ms/step - loss: 0.4909 - accuracy: 0.7619 - val_loss: 0.7631 - val_accuracy: 0.5968\n",
            "Epoch 18/50\n",
            "389/389 [==============================] - 1s 3ms/step - loss: 0.4822 - accuracy: 0.7634 - val_loss: 0.7817 - val_accuracy: 0.5802\n",
            "Epoch 19/50\n",
            "389/389 [==============================] - 1s 3ms/step - loss: 0.4733 - accuracy: 0.7719 - val_loss: 0.7693 - val_accuracy: 0.6026\n",
            "Epoch 20/50\n",
            "389/389 [==============================] - 1s 3ms/step - loss: 0.4660 - accuracy: 0.7750 - val_loss: 0.7956 - val_accuracy: 0.5961\n",
            "Epoch 21/50\n",
            "389/389 [==============================] - 1s 3ms/step - loss: 0.4579 - accuracy: 0.7825 - val_loss: 0.7969 - val_accuracy: 0.6026\n",
            "Epoch 22/50\n",
            "389/389 [==============================] - 1s 3ms/step - loss: 0.4487 - accuracy: 0.7849 - val_loss: 0.8251 - val_accuracy: 0.5990\n",
            "Epoch 23/50\n",
            "389/389 [==============================] - 1s 3ms/step - loss: 0.4402 - accuracy: 0.7898 - val_loss: 0.8252 - val_accuracy: 0.5932\n",
            "Epoch 24/50\n",
            "389/389 [==============================] - 1s 3ms/step - loss: 0.4321 - accuracy: 0.7951 - val_loss: 0.8411 - val_accuracy: 0.5990\n",
            "Epoch 25/50\n",
            "389/389 [==============================] - 1s 3ms/step - loss: 0.4233 - accuracy: 0.8007 - val_loss: 0.8490 - val_accuracy: 0.5889\n",
            "Epoch 26/50\n",
            "389/389 [==============================] - 1s 3ms/step - loss: 0.4174 - accuracy: 0.8022 - val_loss: 0.8659 - val_accuracy: 0.5947\n",
            "Epoch 27/50\n",
            "389/389 [==============================] - 1s 3ms/step - loss: 0.4128 - accuracy: 0.8073 - val_loss: 0.8808 - val_accuracy: 0.5896\n",
            "Epoch 28/50\n",
            "389/389 [==============================] - 1s 3ms/step - loss: 0.4055 - accuracy: 0.8078 - val_loss: 0.8892 - val_accuracy: 0.5918\n",
            "Epoch 29/50\n",
            "389/389 [==============================] - 1s 3ms/step - loss: 0.3990 - accuracy: 0.8129 - val_loss: 0.9088 - val_accuracy: 0.5766\n",
            "Epoch 30/50\n",
            "389/389 [==============================] - 1s 3ms/step - loss: 0.3913 - accuracy: 0.8183 - val_loss: 0.9266 - val_accuracy: 0.5845\n",
            "Epoch 31/50\n",
            "389/389 [==============================] - 1s 3ms/step - loss: 0.3844 - accuracy: 0.8228 - val_loss: 0.9296 - val_accuracy: 0.5983\n",
            "Epoch 32/50\n",
            "389/389 [==============================] - 1s 3ms/step - loss: 0.3793 - accuracy: 0.8240 - val_loss: 0.9382 - val_accuracy: 0.5867\n",
            "Epoch 33/50\n",
            "389/389 [==============================] - 1s 3ms/step - loss: 0.3734 - accuracy: 0.8274 - val_loss: 0.9583 - val_accuracy: 0.5983\n",
            "Epoch 34/50\n",
            "389/389 [==============================] - 1s 3ms/step - loss: 0.3664 - accuracy: 0.8326 - val_loss: 0.9747 - val_accuracy: 0.5997\n",
            "Epoch 35/50\n",
            "389/389 [==============================] - 1s 3ms/step - loss: 0.3622 - accuracy: 0.8339 - val_loss: 1.0085 - val_accuracy: 0.5961\n",
            "Epoch 36/50\n",
            "389/389 [==============================] - 1s 3ms/step - loss: 0.3560 - accuracy: 0.8364 - val_loss: 0.9987 - val_accuracy: 0.5925\n",
            "Epoch 37/50\n",
            "389/389 [==============================] - 1s 3ms/step - loss: 0.3501 - accuracy: 0.8387 - val_loss: 1.0322 - val_accuracy: 0.5751\n",
            "Epoch 38/50\n",
            "389/389 [==============================] - 1s 3ms/step - loss: 0.3430 - accuracy: 0.8437 - val_loss: 1.0349 - val_accuracy: 0.5882\n",
            "Epoch 39/50\n",
            "389/389 [==============================] - 1s 4ms/step - loss: 0.3395 - accuracy: 0.8447 - val_loss: 1.0390 - val_accuracy: 0.5975\n",
            "Epoch 40/50\n",
            "389/389 [==============================] - 1s 3ms/step - loss: 0.3348 - accuracy: 0.8455 - val_loss: 1.0704 - val_accuracy: 0.5809\n",
            "Epoch 41/50\n",
            "389/389 [==============================] - 1s 3ms/step - loss: 0.3287 - accuracy: 0.8492 - val_loss: 1.0931 - val_accuracy: 0.5751\n",
            "Epoch 42/50\n",
            "389/389 [==============================] - 1s 3ms/step - loss: 0.3270 - accuracy: 0.8493 - val_loss: 1.0921 - val_accuracy: 0.5896\n",
            "Epoch 43/50\n",
            "389/389 [==============================] - 1s 3ms/step - loss: 0.3215 - accuracy: 0.8519 - val_loss: 1.1035 - val_accuracy: 0.5961\n",
            "Epoch 44/50\n",
            "389/389 [==============================] - 1s 3ms/step - loss: 0.3162 - accuracy: 0.8563 - val_loss: 1.1131 - val_accuracy: 0.5802\n",
            "Epoch 45/50\n",
            "389/389 [==============================] - 1s 3ms/step - loss: 0.3101 - accuracy: 0.8589 - val_loss: 1.1698 - val_accuracy: 0.5867\n",
            "Epoch 46/50\n",
            "254/389 [==================>...........] - ETA: 0s - loss: 0.2903 - accuracy: 0.8734"
          ]
        },
        {
          "ename": "KeyboardInterrupt",
          "evalue": "ignored",
          "output_type": "error",
          "traceback": [
            "\u001b[0;31m---------------------------------------------------------------------------\u001b[0m",
            "\u001b[0;31mKeyboardInterrupt\u001b[0m                         Traceback (most recent call last)",
            "\u001b[0;32m<ipython-input-42-eedb5cd69e14>\u001b[0m in \u001b[0;36m<module>\u001b[0;34m\u001b[0m\n\u001b[1;32m      5\u001b[0m \u001b[0mnn_1_mtrx\u001b[0m \u001b[0;34m=\u001b[0m \u001b[0;34m[\u001b[0m\u001b[0;34m\"accuracy\"\u001b[0m\u001b[0;34m]\u001b[0m\u001b[0;34m\u001b[0m\u001b[0;34m\u001b[0m\u001b[0m\n\u001b[1;32m      6\u001b[0m \u001b[0mnn_1\u001b[0m\u001b[0;34m.\u001b[0m\u001b[0mcompile\u001b[0m\u001b[0;34m(\u001b[0m\u001b[0mloss\u001b[0m\u001b[0;34m=\u001b[0m \u001b[0mnn_1_loss\u001b[0m\u001b[0;34m,\u001b[0m \u001b[0moptimizer\u001b[0m \u001b[0;34m=\u001b[0m \u001b[0mnn_1_opt\u001b[0m\u001b[0;34m,\u001b[0m \u001b[0mmetrics\u001b[0m \u001b[0;34m=\u001b[0m \u001b[0mnn_1_mtrx\u001b[0m\u001b[0;34m)\u001b[0m\u001b[0;34m\u001b[0m\u001b[0;34m\u001b[0m\u001b[0m\n\u001b[0;32m----> 7\u001b[0;31m \u001b[0mhistory\u001b[0m \u001b[0;34m=\u001b[0m \u001b[0mnn_1\u001b[0m\u001b[0;34m.\u001b[0m\u001b[0mfit\u001b[0m\u001b[0;34m(\u001b[0m\u001b[0mnn_1_train_x\u001b[0m\u001b[0;34m.\u001b[0m\u001b[0mtoarray\u001b[0m\u001b[0;34m(\u001b[0m\u001b[0;34m)\u001b[0m\u001b[0;34m,\u001b[0m \u001b[0mnn_1_train_y\u001b[0m\u001b[0;34m,\u001b[0m \u001b[0mvalidation_data\u001b[0m\u001b[0;34m=\u001b[0m\u001b[0;34m(\u001b[0m\u001b[0mnn_1_val_x\u001b[0m\u001b[0;34m.\u001b[0m\u001b[0mtoarray\u001b[0m\u001b[0;34m(\u001b[0m\u001b[0;34m)\u001b[0m\u001b[0;34m,\u001b[0m \u001b[0mnn_1_val_y\u001b[0m\u001b[0;34m)\u001b[0m\u001b[0;34m,\u001b[0m \u001b[0mepochs\u001b[0m \u001b[0;34m=\u001b[0m \u001b[0mnn_1_epochs\u001b[0m\u001b[0;34m)\u001b[0m\u001b[0;34m\u001b[0m\u001b[0;34m\u001b[0m\u001b[0m\n\u001b[0m",
            "\u001b[0;32m/usr/local/lib/python3.8/dist-packages/keras/utils/traceback_utils.py\u001b[0m in \u001b[0;36merror_handler\u001b[0;34m(*args, **kwargs)\u001b[0m\n\u001b[1;32m     62\u001b[0m     \u001b[0mfiltered_tb\u001b[0m \u001b[0;34m=\u001b[0m \u001b[0;32mNone\u001b[0m\u001b[0;34m\u001b[0m\u001b[0;34m\u001b[0m\u001b[0m\n\u001b[1;32m     63\u001b[0m     \u001b[0;32mtry\u001b[0m\u001b[0;34m:\u001b[0m\u001b[0;34m\u001b[0m\u001b[0;34m\u001b[0m\u001b[0m\n\u001b[0;32m---> 64\u001b[0;31m       \u001b[0;32mreturn\u001b[0m \u001b[0mfn\u001b[0m\u001b[0;34m(\u001b[0m\u001b[0;34m*\u001b[0m\u001b[0margs\u001b[0m\u001b[0;34m,\u001b[0m \u001b[0;34m**\u001b[0m\u001b[0mkwargs\u001b[0m\u001b[0;34m)\u001b[0m\u001b[0;34m\u001b[0m\u001b[0;34m\u001b[0m\u001b[0m\n\u001b[0m\u001b[1;32m     65\u001b[0m     \u001b[0;32mexcept\u001b[0m \u001b[0mException\u001b[0m \u001b[0;32mas\u001b[0m \u001b[0me\u001b[0m\u001b[0;34m:\u001b[0m  \u001b[0;31m# pylint: disable=broad-except\u001b[0m\u001b[0;34m\u001b[0m\u001b[0;34m\u001b[0m\u001b[0m\n\u001b[1;32m     66\u001b[0m       \u001b[0mfiltered_tb\u001b[0m \u001b[0;34m=\u001b[0m \u001b[0m_process_traceback_frames\u001b[0m\u001b[0;34m(\u001b[0m\u001b[0me\u001b[0m\u001b[0;34m.\u001b[0m\u001b[0m__traceback__\u001b[0m\u001b[0;34m)\u001b[0m\u001b[0;34m\u001b[0m\u001b[0;34m\u001b[0m\u001b[0m\n",
            "\u001b[0;32m/usr/local/lib/python3.8/dist-packages/keras/engine/training.py\u001b[0m in \u001b[0;36mfit\u001b[0;34m(self, x, y, batch_size, epochs, verbose, callbacks, validation_split, validation_data, shuffle, class_weight, sample_weight, initial_epoch, steps_per_epoch, validation_steps, validation_batch_size, validation_freq, max_queue_size, workers, use_multiprocessing)\u001b[0m\n\u001b[1;32m   1407\u001b[0m                 _r=1):\n\u001b[1;32m   1408\u001b[0m               \u001b[0mcallbacks\u001b[0m\u001b[0;34m.\u001b[0m\u001b[0mon_train_batch_begin\u001b[0m\u001b[0;34m(\u001b[0m\u001b[0mstep\u001b[0m\u001b[0;34m)\u001b[0m\u001b[0;34m\u001b[0m\u001b[0;34m\u001b[0m\u001b[0m\n\u001b[0;32m-> 1409\u001b[0;31m               \u001b[0mtmp_logs\u001b[0m \u001b[0;34m=\u001b[0m \u001b[0mself\u001b[0m\u001b[0;34m.\u001b[0m\u001b[0mtrain_function\u001b[0m\u001b[0;34m(\u001b[0m\u001b[0miterator\u001b[0m\u001b[0;34m)\u001b[0m\u001b[0;34m\u001b[0m\u001b[0;34m\u001b[0m\u001b[0m\n\u001b[0m\u001b[1;32m   1410\u001b[0m               \u001b[0;32mif\u001b[0m \u001b[0mdata_handler\u001b[0m\u001b[0;34m.\u001b[0m\u001b[0mshould_sync\u001b[0m\u001b[0;34m:\u001b[0m\u001b[0;34m\u001b[0m\u001b[0;34m\u001b[0m\u001b[0m\n\u001b[1;32m   1411\u001b[0m                 \u001b[0mcontext\u001b[0m\u001b[0;34m.\u001b[0m\u001b[0masync_wait\u001b[0m\u001b[0;34m(\u001b[0m\u001b[0;34m)\u001b[0m\u001b[0;34m\u001b[0m\u001b[0;34m\u001b[0m\u001b[0m\n",
            "\u001b[0;32m/usr/local/lib/python3.8/dist-packages/tensorflow/python/util/traceback_utils.py\u001b[0m in \u001b[0;36merror_handler\u001b[0;34m(*args, **kwargs)\u001b[0m\n\u001b[1;32m    148\u001b[0m     \u001b[0mfiltered_tb\u001b[0m \u001b[0;34m=\u001b[0m \u001b[0;32mNone\u001b[0m\u001b[0;34m\u001b[0m\u001b[0;34m\u001b[0m\u001b[0m\n\u001b[1;32m    149\u001b[0m     \u001b[0;32mtry\u001b[0m\u001b[0;34m:\u001b[0m\u001b[0;34m\u001b[0m\u001b[0;34m\u001b[0m\u001b[0m\n\u001b[0;32m--> 150\u001b[0;31m       \u001b[0;32mreturn\u001b[0m \u001b[0mfn\u001b[0m\u001b[0;34m(\u001b[0m\u001b[0;34m*\u001b[0m\u001b[0margs\u001b[0m\u001b[0;34m,\u001b[0m \u001b[0;34m**\u001b[0m\u001b[0mkwargs\u001b[0m\u001b[0;34m)\u001b[0m\u001b[0;34m\u001b[0m\u001b[0;34m\u001b[0m\u001b[0m\n\u001b[0m\u001b[1;32m    151\u001b[0m     \u001b[0;32mexcept\u001b[0m \u001b[0mException\u001b[0m \u001b[0;32mas\u001b[0m \u001b[0me\u001b[0m\u001b[0;34m:\u001b[0m\u001b[0;34m\u001b[0m\u001b[0;34m\u001b[0m\u001b[0m\n\u001b[1;32m    152\u001b[0m       \u001b[0mfiltered_tb\u001b[0m \u001b[0;34m=\u001b[0m \u001b[0m_process_traceback_frames\u001b[0m\u001b[0;34m(\u001b[0m\u001b[0me\u001b[0m\u001b[0;34m.\u001b[0m\u001b[0m__traceback__\u001b[0m\u001b[0;34m)\u001b[0m\u001b[0;34m\u001b[0m\u001b[0;34m\u001b[0m\u001b[0m\n",
            "\u001b[0;32m/usr/local/lib/python3.8/dist-packages/tensorflow/python/eager/def_function.py\u001b[0m in \u001b[0;36m__call__\u001b[0;34m(self, *args, **kwds)\u001b[0m\n\u001b[1;32m    913\u001b[0m \u001b[0;34m\u001b[0m\u001b[0m\n\u001b[1;32m    914\u001b[0m       \u001b[0;32mwith\u001b[0m \u001b[0mOptionalXlaContext\u001b[0m\u001b[0;34m(\u001b[0m\u001b[0mself\u001b[0m\u001b[0;34m.\u001b[0m\u001b[0m_jit_compile\u001b[0m\u001b[0;34m)\u001b[0m\u001b[0;34m:\u001b[0m\u001b[0;34m\u001b[0m\u001b[0;34m\u001b[0m\u001b[0m\n\u001b[0;32m--> 915\u001b[0;31m         \u001b[0mresult\u001b[0m \u001b[0;34m=\u001b[0m \u001b[0mself\u001b[0m\u001b[0;34m.\u001b[0m\u001b[0m_call\u001b[0m\u001b[0;34m(\u001b[0m\u001b[0;34m*\u001b[0m\u001b[0margs\u001b[0m\u001b[0;34m,\u001b[0m \u001b[0;34m**\u001b[0m\u001b[0mkwds\u001b[0m\u001b[0;34m)\u001b[0m\u001b[0;34m\u001b[0m\u001b[0;34m\u001b[0m\u001b[0m\n\u001b[0m\u001b[1;32m    916\u001b[0m \u001b[0;34m\u001b[0m\u001b[0m\n\u001b[1;32m    917\u001b[0m       \u001b[0mnew_tracing_count\u001b[0m \u001b[0;34m=\u001b[0m \u001b[0mself\u001b[0m\u001b[0;34m.\u001b[0m\u001b[0mexperimental_get_tracing_count\u001b[0m\u001b[0;34m(\u001b[0m\u001b[0;34m)\u001b[0m\u001b[0;34m\u001b[0m\u001b[0;34m\u001b[0m\u001b[0m\n",
            "\u001b[0;32m/usr/local/lib/python3.8/dist-packages/tensorflow/python/eager/def_function.py\u001b[0m in \u001b[0;36m_call\u001b[0;34m(self, *args, **kwds)\u001b[0m\n\u001b[1;32m    945\u001b[0m       \u001b[0;31m# In this case we have created variables on the first call, so we run the\u001b[0m\u001b[0;34m\u001b[0m\u001b[0;34m\u001b[0m\u001b[0;34m\u001b[0m\u001b[0m\n\u001b[1;32m    946\u001b[0m       \u001b[0;31m# defunned version which is guaranteed to never create variables.\u001b[0m\u001b[0;34m\u001b[0m\u001b[0;34m\u001b[0m\u001b[0;34m\u001b[0m\u001b[0m\n\u001b[0;32m--> 947\u001b[0;31m       \u001b[0;32mreturn\u001b[0m \u001b[0mself\u001b[0m\u001b[0;34m.\u001b[0m\u001b[0m_stateless_fn\u001b[0m\u001b[0;34m(\u001b[0m\u001b[0;34m*\u001b[0m\u001b[0margs\u001b[0m\u001b[0;34m,\u001b[0m \u001b[0;34m**\u001b[0m\u001b[0mkwds\u001b[0m\u001b[0;34m)\u001b[0m  \u001b[0;31m# pylint: disable=not-callable\u001b[0m\u001b[0;34m\u001b[0m\u001b[0;34m\u001b[0m\u001b[0m\n\u001b[0m\u001b[1;32m    948\u001b[0m     \u001b[0;32melif\u001b[0m \u001b[0mself\u001b[0m\u001b[0;34m.\u001b[0m\u001b[0m_stateful_fn\u001b[0m \u001b[0;32mis\u001b[0m \u001b[0;32mnot\u001b[0m \u001b[0;32mNone\u001b[0m\u001b[0;34m:\u001b[0m\u001b[0;34m\u001b[0m\u001b[0;34m\u001b[0m\u001b[0m\n\u001b[1;32m    949\u001b[0m       \u001b[0;31m# Release the lock early so that multiple threads can perform the call\u001b[0m\u001b[0;34m\u001b[0m\u001b[0;34m\u001b[0m\u001b[0;34m\u001b[0m\u001b[0m\n",
            "\u001b[0;32m/usr/local/lib/python3.8/dist-packages/tensorflow/python/eager/function.py\u001b[0m in \u001b[0;36m__call__\u001b[0;34m(self, *args, **kwargs)\u001b[0m\n\u001b[1;32m   2451\u001b[0m       (graph_function,\n\u001b[1;32m   2452\u001b[0m        filtered_flat_args) = self._maybe_define_function(args, kwargs)\n\u001b[0;32m-> 2453\u001b[0;31m     return graph_function._call_flat(\n\u001b[0m\u001b[1;32m   2454\u001b[0m         filtered_flat_args, captured_inputs=graph_function.captured_inputs)  # pylint: disable=protected-access\n\u001b[1;32m   2455\u001b[0m \u001b[0;34m\u001b[0m\u001b[0m\n",
            "\u001b[0;32m/usr/local/lib/python3.8/dist-packages/tensorflow/python/eager/function.py\u001b[0m in \u001b[0;36m_call_flat\u001b[0;34m(self, args, captured_inputs, cancellation_manager)\u001b[0m\n\u001b[1;32m   1858\u001b[0m         and executing_eagerly):\n\u001b[1;32m   1859\u001b[0m       \u001b[0;31m# No tape is watching; skip to running the function.\u001b[0m\u001b[0;34m\u001b[0m\u001b[0;34m\u001b[0m\u001b[0;34m\u001b[0m\u001b[0m\n\u001b[0;32m-> 1860\u001b[0;31m       return self._build_call_outputs(self._inference_function.call(\n\u001b[0m\u001b[1;32m   1861\u001b[0m           ctx, args, cancellation_manager=cancellation_manager))\n\u001b[1;32m   1862\u001b[0m     forward_backward = self._select_forward_and_backward_functions(\n",
            "\u001b[0;32m/usr/local/lib/python3.8/dist-packages/tensorflow/python/eager/function.py\u001b[0m in \u001b[0;36mcall\u001b[0;34m(self, ctx, args, cancellation_manager)\u001b[0m\n\u001b[1;32m    495\u001b[0m       \u001b[0;32mwith\u001b[0m \u001b[0m_InterpolateFunctionError\u001b[0m\u001b[0;34m(\u001b[0m\u001b[0mself\u001b[0m\u001b[0;34m)\u001b[0m\u001b[0;34m:\u001b[0m\u001b[0;34m\u001b[0m\u001b[0;34m\u001b[0m\u001b[0m\n\u001b[1;32m    496\u001b[0m         \u001b[0;32mif\u001b[0m \u001b[0mcancellation_manager\u001b[0m \u001b[0;32mis\u001b[0m \u001b[0;32mNone\u001b[0m\u001b[0;34m:\u001b[0m\u001b[0;34m\u001b[0m\u001b[0;34m\u001b[0m\u001b[0m\n\u001b[0;32m--> 497\u001b[0;31m           outputs = execute.execute(\n\u001b[0m\u001b[1;32m    498\u001b[0m               \u001b[0mstr\u001b[0m\u001b[0;34m(\u001b[0m\u001b[0mself\u001b[0m\u001b[0;34m.\u001b[0m\u001b[0msignature\u001b[0m\u001b[0;34m.\u001b[0m\u001b[0mname\u001b[0m\u001b[0;34m)\u001b[0m\u001b[0;34m,\u001b[0m\u001b[0;34m\u001b[0m\u001b[0;34m\u001b[0m\u001b[0m\n\u001b[1;32m    499\u001b[0m               \u001b[0mnum_outputs\u001b[0m\u001b[0;34m=\u001b[0m\u001b[0mself\u001b[0m\u001b[0;34m.\u001b[0m\u001b[0m_num_outputs\u001b[0m\u001b[0;34m,\u001b[0m\u001b[0;34m\u001b[0m\u001b[0;34m\u001b[0m\u001b[0m\n",
            "\u001b[0;32m/usr/local/lib/python3.8/dist-packages/tensorflow/python/eager/execute.py\u001b[0m in \u001b[0;36mquick_execute\u001b[0;34m(op_name, num_outputs, inputs, attrs, ctx, name)\u001b[0m\n\u001b[1;32m     52\u001b[0m   \u001b[0;32mtry\u001b[0m\u001b[0;34m:\u001b[0m\u001b[0;34m\u001b[0m\u001b[0;34m\u001b[0m\u001b[0m\n\u001b[1;32m     53\u001b[0m     \u001b[0mctx\u001b[0m\u001b[0;34m.\u001b[0m\u001b[0mensure_initialized\u001b[0m\u001b[0;34m(\u001b[0m\u001b[0;34m)\u001b[0m\u001b[0;34m\u001b[0m\u001b[0;34m\u001b[0m\u001b[0m\n\u001b[0;32m---> 54\u001b[0;31m     tensors = pywrap_tfe.TFE_Py_Execute(ctx._handle, device_name, op_name,\n\u001b[0m\u001b[1;32m     55\u001b[0m                                         inputs, attrs, num_outputs)\n\u001b[1;32m     56\u001b[0m   \u001b[0;32mexcept\u001b[0m \u001b[0mcore\u001b[0m\u001b[0;34m.\u001b[0m\u001b[0m_NotOkStatusException\u001b[0m \u001b[0;32mas\u001b[0m \u001b[0me\u001b[0m\u001b[0;34m:\u001b[0m\u001b[0;34m\u001b[0m\u001b[0;34m\u001b[0m\u001b[0m\n",
            "\u001b[0;31mKeyboardInterrupt\u001b[0m: "
          ]
        }
      ],
      "source": [
        "nn_1_epochs = 50 \n",
        "# nn_1_opt = tf.keras.optimizers.SGD(learning_rate=0.2, momentum=0.1)\n",
        "nn_1_opt = tf.keras.optimizers.Nadam()\n",
        "nn_1_loss = [\"sparse_categorical_crossentropy\"]\n",
        "nn_1_mtrx = [\"accuracy\"] \n",
        "nn_1.compile(loss= nn_1_loss, optimizer = nn_1_opt, metrics = nn_1_mtrx)\n",
        "history = nn_1.fit(nn_1_train_x.toarray(), nn_1_train_y, validation_data=(nn_1_val_x.toarray(), nn_1_val_y), epochs = nn_1_epochs)"
      ]
    },
    {
      "cell_type": "code",
      "execution_count": null,
      "metadata": {
        "id": "dgwm6NhJoQUw"
      },
      "outputs": [],
      "source": [
        "nn_1.summary()"
      ]
    },
    {
      "cell_type": "markdown",
      "metadata": {
        "id": "5DRptDhooQUw"
      },
      "source": [
        "### SVM Model"
      ]
    },
    {
      "cell_type": "code",
      "execution_count": null,
      "metadata": {
        "id": "tkyR1Gx2oQUw"
      },
      "outputs": [],
      "source": [
        "from sklearn.svm import SVC\n",
        "from sklearn.model_selection import RandomizedSearchCV\n",
        "from sklearn.metrics import confusion_matrix, precision_score, recall_score\n",
        "from scipy.stats import reciprocal, uniform, randint\n",
        "\n",
        "\n",
        "X_train = nn_1_train_full_X.toarray()\n",
        "y_train = nn_1_train_full_Y\n",
        "X_test  = nn_1_val_x.toarray()\n",
        "y_test  = nn_1_val_y"
      ]
    },
    {
      "cell_type": "code",
      "execution_count": null,
      "metadata": {
        "colab": {
          "base_uri": "https://localhost:8080/"
        },
        "id": "d2xzRPLzoQUw",
        "outputId": "e164ac84-43a5-4b66-bad7-94980910ff54"
      },
      "outputs": [
        {
          "name": "stdout",
          "output_type": "stream",
          "text": [
            "Confusion Matrix: [[  0 474]\n",
            " [  0 910]]\n",
            "Precision Score: 0.6575144508670521\n",
            "Recall Score: 1.0\n"
          ]
        }
      ],
      "source": [
        "# linear\n",
        "svm_linear = SVC(kernel=\"linear\", C=1.0)\n",
        "svm_linear.fit(X_train, y_train)\n",
        "\n",
        "# print confusion matrix, precision score, and recall score\n",
        "y_pred = svm_linear.predict(X_test)\n",
        "confusion = confusion_matrix(y_test, y_pred)\n",
        "precision = precision_score(y_test, y_pred)\n",
        "recall = recall_score(y_test, y_pred)\n",
        "print(f'Confusion Matrix: {confusion}')\n",
        "print(f'Precision Score: {precision}')\n",
        "print(f'Recall Score: {recall}')"
      ]
    },
    {
      "cell_type": "code",
      "execution_count": null,
      "metadata": {
        "colab": {
          "base_uri": "https://localhost:8080/"
        },
        "id": "PRfe8OnRoQUw",
        "outputId": "6e84e631-a66a-488a-a211-b3ba686eb53c"
      },
      "outputs": [
        {
          "data": {
            "text/plain": [
              "SVC(kernel='poly')"
            ]
          },
          "execution_count": 46,
          "metadata": {},
          "output_type": "execute_result"
        }
      ],
      "source": [
        "# Polynomial\n",
        "svm_poly = SVC(kernel=\"poly\", C=1.0)\n",
        "svm_poly.fit(X_train, y_train)"
      ]
    },
    {
      "cell_type": "code",
      "execution_count": null,
      "metadata": {
        "colab": {
          "base_uri": "https://localhost:8080/"
        },
        "id": "j1NEc8KCoQUy",
        "outputId": "32ee5d6b-fe2b-47db-ae38-4c95980686ce"
      },
      "outputs": [
        {
          "data": {
            "text/plain": [
              "SVC()"
            ]
          },
          "execution_count": 47,
          "metadata": {},
          "output_type": "execute_result"
        }
      ],
      "source": [
        "# Gaussian RBF \n",
        "svm_rbf = SVC(kernel=\"rbf\", C=1.0)\n",
        "svm_rbf.fit(X_train, y_train)"
      ]
    },
    {
      "cell_type": "code",
      "execution_count": null,
      "metadata": {
        "colab": {
          "background_save": true,
          "base_uri": "https://localhost:8080/"
        },
        "id": "ARXciNvgoQUy",
        "outputId": "3fa05858-cadd-4921-96d8-ed343131c4d6"
      },
      "outputs": [
        {
          "name": "stdout",
          "output_type": "stream",
          "text": [
            "Fitting 3 folds for each of 5 candidates, totalling 15 fits\n",
            "[CV 1/3] END C=19.34347898661638, gamma=0.03625617634576227;, score=0.649 total time=  25.1s\n",
            "[CV 2/3] END C=19.34347898661638, gamma=0.03625617634576227;, score=0.649 total time=  23.5s\n",
            "[CV 3/3] END C=19.34347898661638, gamma=0.03625617634576227;, score=0.649 total time= 1.3min\n"
          ]
        }
      ],
      "source": [
        "classifiers = [svm_linear, svm_poly, svm_rbf]\n",
        "names = ['linear', 'poly', 'rbf']\n",
        "\n",
        "param_distributions = [{\"gamma\": reciprocal(0.001, 0.1), \"C\": uniform(1, 100)},\n",
        "                       {\"gamma\": reciprocal(0.001, 0.1), \"C\": uniform(1, 100), \"degree\": randint(2, 10)},\n",
        "                       {\"gamma\": reciprocal(0.001, 0.1), \"C\": uniform(1, 100)}]\n",
        "\n",
        "for i in [0, 1, 2]:\n",
        "  rnd_search_cv = RandomizedSearchCV(classifiers[i], param_distributions[i], n_iter=5, verbose=3, cv=3)\n",
        "  rnd_search_cv.fit(X_train, y_train)\n",
        "  print('\\n\\n-----------------------------------------------------------------')\n",
        "  print(f'svc with {names[i]} kernel:')\n",
        "  print(f'best score: {rnd_search_cv.best_score_}')\n",
        "  print(f'best_estimator: {rnd_search_cv.best_estimator_}')\n",
        "\n",
        "  # print confusion matrix, precision score, and recall score\n",
        "  y_pred = rnd_search_cv.predict(X_test)\n",
        "  confusion = confusion_matrix(y_test, y_pred)\n",
        "  precision = precision_score(y_test, y_pred)\n",
        "  recall = recall_score(y_test, y_pred)\n",
        "  print(f'Confusion Matrix: {confusion}')\n",
        "  print(f'Precision Score: {precision}')\n",
        "  print(f'Recall Score: {recall}')"
      ]
    },
    {
      "cell_type": "code",
      "execution_count": null,
      "metadata": {
        "id": "RQA17zFiyCpa"
      },
      "outputs": [],
      "source": []
    }
  ],
  "metadata": {
    "colab": {
      "provenance": [],
      "include_colab_link": true
    },
    "kernelspec": {
      "display_name": "Python 3.10.6 64-bit",
      "language": "python",
      "name": "python3"
    },
    "language_info": {
      "codemirror_mode": {
        "name": "ipython",
        "version": 3
      },
      "file_extension": ".py",
      "mimetype": "text/x-python",
      "name": "python",
      "nbconvert_exporter": "python",
      "pygments_lexer": "ipython3",
      "version": "3.10.6"
    },
    "vscode": {
      "interpreter": {
        "hash": "26de051ba29f2982a8de78e945f0abaf191376122a1563185a90213a26c5da77"
      }
    }
  },
  "nbformat": 4,
  "nbformat_minor": 0
}