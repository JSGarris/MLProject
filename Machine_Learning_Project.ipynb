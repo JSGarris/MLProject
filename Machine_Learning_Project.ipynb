{
 "cells": [
  {
   "cell_type": "code",
   "execution_count": 41,
   "metadata": {
    "id": "QoOSTe5I6Om6"
   },
   "outputs": [],
   "source": [
    "# Some common packages that we may need\n",
    "from pandas.plotting import scatter_matrix \n",
    "from sklearn.impute import SimpleImputer\n",
    "from sklearn.preprocessing import LabelEncoder\n",
    "from sklearn.preprocessing import OneHotEncoder\n",
    "from sklearn.pipeline import Pipeline\n",
    "from sklearn.preprocessing import StandardScaler\n",
    "\n",
    "# Import some common packages\n",
    "import os\n",
    "import numpy as np\n",
    "import matplotlib\n",
    "import matplotlib.pyplot as plt\n",
    "import pandas as pd\n",
    "\n",
    "# to make this notebook's output stable across runs\n",
    "np.random.seed(42)\n",
    "\n",
    "def load_police_data():\n",
    "  crimes=pd.read_csv('Crime_Data.csv')\n",
    "  return crimes"
   ]
  },
  {
   "cell_type": "markdown",
   "metadata": {
    "id": "A9hjjV5SDs0z"
   },
   "source": [
    "Now that the data is loaded we want to look at the data and see how it is organized and what groups are being used. We can also get some insight onto if the data may be useful adn we can look and see how we may split or encode our data."
   ]
  },
  {
   "cell_type": "code",
   "execution_count": 42,
   "metadata": {
    "colab": {
     "base_uri": "https://localhost:8080/"
    },
    "id": "CZEtJ3IB6P3a",
    "outputId": "6b50b936-dc14-49b9-fecd-21461f2ee4f4"
   },
   "outputs": [
    {
     "name": "stdout",
     "output_type": "stream",
     "text": [
      "<class 'pandas.core.frame.DataFrame'>\n",
      "RangeIndex: 24541 entries, 0 to 24540\n",
      "Data columns (total 9 columns):\n",
      " #   Column            Non-Null Count  Dtype  \n",
      "---  ------            --------------  -----  \n",
      " 0   RecordID          24541 non-null  int64  \n",
      " 1   Offense           24541 non-null  object \n",
      " 2   IncidentID        24541 non-null  int64  \n",
      " 3   BlockNumber       23187 non-null  float64\n",
      " 4   StreetName        24541 non-null  object \n",
      " 5   Agency            24541 non-null  object \n",
      " 6   DateReported      24541 non-null  object \n",
      " 7   HourReported      24541 non-null  int64  \n",
      " 8   ReportingOfficer  24498 non-null  object \n",
      "dtypes: float64(1), int64(3), object(5)\n",
      "memory usage: 1.7+ MB\n"
     ]
    }
   ],
   "source": [
    "crimes = load_police_data()\n",
    "crimes.info()"
   ]
  },
  {
   "cell_type": "code",
   "execution_count": 43,
   "metadata": {
    "colab": {
     "base_uri": "https://localhost:8080/",
     "height": 601
    },
    "id": "7DdYGrkM6AAu",
    "outputId": "20e3dfee-509c-4997-cad9-b5c56ff8ab95"
   },
   "outputs": [
    {
     "data": {
      "text/plain": "   RecordID                          Offense    IncidentID  BlockNumber  \\\n0         1              Motor Vehicle Theft  202200030697        800.0   \n1         2              Suspicious Activity  202200030687        800.0   \n2         3     Larceny - From Motor Vehicle  202200030677       2100.0   \n3         4                      Hit and Run  202200030671       2400.0   \n4         5                        Vandalism  202200030669        100.0   \n5         6               Assault Aggravated  202200030660          NaN   \n6         7                   Assault Simple  202200030659       1100.0   \n7         8                         Burglary  202200030655        700.0   \n8         9  Assist Citizen - Mental/TDO/ECO  202200030646        500.0   \n9        10                        Vandalism  202200030645       1000.0   \n\n                StreetName Agency            DateReported  HourReported  \\\n0            ROCK CREEK RD    CPD  2022/10/24 03:39:36+00          2339   \n1                 RIDGE ST    CPD  2022/10/24 02:52:01+00          2252   \n2       JEFFERSON PARK AVE    CPD  2022/10/23 23:02:08+00          1902   \n3             FONTAINE AVE    CPD  2022/10/23 21:19:04+00          1719   \n4                E MAIN ST    CPD  2022/10/23 20:26:09+00          1626   \n5  4TH ST NW @ PRESTON AVE    CPD  2022/10/23 17:35:08+00          1335   \n6                HARRIS ST    CPD  2022/10/23 16:49:43+00          1249   \n7                  PARK ST    CPD  2022/10/23 14:18:45+00          1018   \n8          W US 250-BYPASS    CPD  2022/10/23 08:02:32+00           402   \n9         ALTAVISTA AVE, A    CPD  2022/10/23 07:25:26+00           325   \n\n      ReportingOfficer  \n0         Bise, Collin  \n1  Vlasis, Christopher  \n2      Venereo, Arturo  \n3       Darby, Michael  \n4       Whitten, Tobyn  \n5        Hopiane, Sayd  \n6      Shiflett, Tammy  \n7      Shiflett, Tammy  \n8       Wells, Matthew  \n9  Vlasis, Christopher  ",
      "text/html": "<div>\n<style scoped>\n    .dataframe tbody tr th:only-of-type {\n        vertical-align: middle;\n    }\n\n    .dataframe tbody tr th {\n        vertical-align: top;\n    }\n\n    .dataframe thead th {\n        text-align: right;\n    }\n</style>\n<table border=\"1\" class=\"dataframe\">\n  <thead>\n    <tr style=\"text-align: right;\">\n      <th></th>\n      <th>RecordID</th>\n      <th>Offense</th>\n      <th>IncidentID</th>\n      <th>BlockNumber</th>\n      <th>StreetName</th>\n      <th>Agency</th>\n      <th>DateReported</th>\n      <th>HourReported</th>\n      <th>ReportingOfficer</th>\n    </tr>\n  </thead>\n  <tbody>\n    <tr>\n      <th>0</th>\n      <td>1</td>\n      <td>Motor Vehicle Theft</td>\n      <td>202200030697</td>\n      <td>800.0</td>\n      <td>ROCK CREEK RD</td>\n      <td>CPD</td>\n      <td>2022/10/24 03:39:36+00</td>\n      <td>2339</td>\n      <td>Bise, Collin</td>\n    </tr>\n    <tr>\n      <th>1</th>\n      <td>2</td>\n      <td>Suspicious Activity</td>\n      <td>202200030687</td>\n      <td>800.0</td>\n      <td>RIDGE ST</td>\n      <td>CPD</td>\n      <td>2022/10/24 02:52:01+00</td>\n      <td>2252</td>\n      <td>Vlasis, Christopher</td>\n    </tr>\n    <tr>\n      <th>2</th>\n      <td>3</td>\n      <td>Larceny - From Motor Vehicle</td>\n      <td>202200030677</td>\n      <td>2100.0</td>\n      <td>JEFFERSON PARK AVE</td>\n      <td>CPD</td>\n      <td>2022/10/23 23:02:08+00</td>\n      <td>1902</td>\n      <td>Venereo, Arturo</td>\n    </tr>\n    <tr>\n      <th>3</th>\n      <td>4</td>\n      <td>Hit and Run</td>\n      <td>202200030671</td>\n      <td>2400.0</td>\n      <td>FONTAINE AVE</td>\n      <td>CPD</td>\n      <td>2022/10/23 21:19:04+00</td>\n      <td>1719</td>\n      <td>Darby, Michael</td>\n    </tr>\n    <tr>\n      <th>4</th>\n      <td>5</td>\n      <td>Vandalism</td>\n      <td>202200030669</td>\n      <td>100.0</td>\n      <td>E MAIN ST</td>\n      <td>CPD</td>\n      <td>2022/10/23 20:26:09+00</td>\n      <td>1626</td>\n      <td>Whitten, Tobyn</td>\n    </tr>\n    <tr>\n      <th>5</th>\n      <td>6</td>\n      <td>Assault Aggravated</td>\n      <td>202200030660</td>\n      <td>NaN</td>\n      <td>4TH ST NW @ PRESTON AVE</td>\n      <td>CPD</td>\n      <td>2022/10/23 17:35:08+00</td>\n      <td>1335</td>\n      <td>Hopiane, Sayd</td>\n    </tr>\n    <tr>\n      <th>6</th>\n      <td>7</td>\n      <td>Assault Simple</td>\n      <td>202200030659</td>\n      <td>1100.0</td>\n      <td>HARRIS ST</td>\n      <td>CPD</td>\n      <td>2022/10/23 16:49:43+00</td>\n      <td>1249</td>\n      <td>Shiflett, Tammy</td>\n    </tr>\n    <tr>\n      <th>7</th>\n      <td>8</td>\n      <td>Burglary</td>\n      <td>202200030655</td>\n      <td>700.0</td>\n      <td>PARK ST</td>\n      <td>CPD</td>\n      <td>2022/10/23 14:18:45+00</td>\n      <td>1018</td>\n      <td>Shiflett, Tammy</td>\n    </tr>\n    <tr>\n      <th>8</th>\n      <td>9</td>\n      <td>Assist Citizen - Mental/TDO/ECO</td>\n      <td>202200030646</td>\n      <td>500.0</td>\n      <td>W US 250-BYPASS</td>\n      <td>CPD</td>\n      <td>2022/10/23 08:02:32+00</td>\n      <td>402</td>\n      <td>Wells, Matthew</td>\n    </tr>\n    <tr>\n      <th>9</th>\n      <td>10</td>\n      <td>Vandalism</td>\n      <td>202200030645</td>\n      <td>1000.0</td>\n      <td>ALTAVISTA AVE, A</td>\n      <td>CPD</td>\n      <td>2022/10/23 07:25:26+00</td>\n      <td>325</td>\n      <td>Vlasis, Christopher</td>\n    </tr>\n  </tbody>\n</table>\n</div>"
     },
     "execution_count": 43,
     "metadata": {},
     "output_type": "execute_result"
    }
   ],
   "source": [
    "crimes.head(10)"
   ]
  },
  {
   "cell_type": "code",
   "execution_count": 44,
   "metadata": {
    "colab": {
     "base_uri": "https://localhost:8080/"
    },
    "id": "FoNBGaBZDqV8",
    "outputId": "7b9c4cc6-3919-4ade-f22e-ef578f1292ff"
   },
   "outputs": [
    {
     "name": "stdout",
     "output_type": "stream",
     "text": [
      "<class 'pandas.core.frame.DataFrame'>\n",
      "RangeIndex: 24541 entries, 0 to 24540\n",
      "Data columns (total 9 columns):\n",
      " #   Column            Non-Null Count  Dtype  \n",
      "---  ------            --------------  -----  \n",
      " 0   RecordID          24541 non-null  int64  \n",
      " 1   Offense           24541 non-null  object \n",
      " 2   IncidentID        24541 non-null  int64  \n",
      " 3   BlockNumber       23187 non-null  float64\n",
      " 4   StreetName        24541 non-null  object \n",
      " 5   Agency            24541 non-null  object \n",
      " 6   DateReported      24541 non-null  object \n",
      " 7   HourReported      24541 non-null  int64  \n",
      " 8   ReportingOfficer  24498 non-null  object \n",
      "dtypes: float64(1), int64(3), object(5)\n",
      "memory usage: 1.7+ MB\n"
     ]
    }
   ],
   "source": [
    "crimes.info()"
   ]
  },
  {
   "cell_type": "markdown",
   "metadata": {
    "id": "slYFckZJIpnE"
   },
   "source": [
    "# Non Numerical Data"
   ]
  },
  {
   "cell_type": "markdown",
   "metadata": {
    "id": "AGo8CBHUESWQ"
   },
   "source": [
    "Now lets look a little closer at the non numerical data"
   ]
  },
  {
   "cell_type": "code",
   "execution_count": 45,
   "metadata": {
    "colab": {
     "base_uri": "https://localhost:8080/"
    },
    "id": "gMmPDQjqEs01",
    "outputId": "d3b1a6e5-02f4-48e5-85cd-93472c2636d5"
   },
   "outputs": [
    {
     "data": {
      "text/plain": "Hit and Run                         2119\nAssault Simple                      1962\nSuspicious Activity                 1635\nVandalism                           1605\nLarceny - All Other                 1557\n                                    ... \nTactical Crime Initiative - TCI        1\n911 Investigation                      1\nProstitution-assisting/promoting       1\nField Interview                        1\nAlarm-Accidental                       1\nName: Offense, Length: 119, dtype: int64"
     },
     "execution_count": 45,
     "metadata": {},
     "output_type": "execute_result"
    }
   ],
   "source": [
    "crimes[\"Offense\"].value_counts()"
   ]
  },
  {
   "cell_type": "code",
   "execution_count": 46,
   "metadata": {
    "colab": {
     "base_uri": "https://localhost:8080/"
    },
    "id": "3F9L_pO3E3El",
    "outputId": "e3ee62cd-b04e-406c-eaa9-7c6a917e10b9"
   },
   "outputs": [
    {
     "data": {
      "text/plain": "E MARKET ST                1125\nEMMET ST N                 1050\nW MAIN ST                  1002\nE MAIN ST                   523\n5TH ST SW                   448\n                           ... \nGORDON AVE / 16TH ST NW       1\nJEFFERSON PARK AVE, 132       1\nJEFFERSON PARK AVE, 25        1\nMERCHANT WALK AVE, 300        1\nFONTAINE AVE, 104             1\nName: StreetName, Length: 3405, dtype: int64"
     },
     "execution_count": 46,
     "metadata": {},
     "output_type": "execute_result"
    }
   ],
   "source": [
    "crimes[\"StreetName\"].value_counts()"
   ]
  },
  {
   "cell_type": "code",
   "execution_count": 47,
   "metadata": {
    "colab": {
     "base_uri": "https://localhost:8080/"
    },
    "id": "g9hUNNInE-YH",
    "outputId": "80f4d32d-fc97-4b36-c213-b329f4553ff1"
   },
   "outputs": [
    {
     "data": {
      "text/plain": "CPD    24541\nName: Agency, dtype: int64"
     },
     "execution_count": 47,
     "metadata": {},
     "output_type": "execute_result"
    }
   ],
   "source": [
    "crimes[\"Agency\"].value_counts()"
   ]
  },
  {
   "cell_type": "code",
   "execution_count": 48,
   "metadata": {
    "colab": {
     "base_uri": "https://localhost:8080/"
    },
    "id": "PkOLS_eyFEyt",
    "outputId": "ae3b28e5-fcf7-43c3-f67f-661e0fd4495d"
   },
   "outputs": [
    {
     "data": {
      "text/plain": "2018/06/29 02:20:19+00    6\n2018/03/03 18:28:25+00    4\n2019/10/07 18:46:09+00    4\n2018/06/15 14:08:49+00    4\n2020/04/04 01:52:56+00    4\n                         ..\n2021/04/11 22:13:52+00    1\n2021/04/11 23:54:01+00    1\n2021/04/12 00:25:04+00    1\n2021/04/12 01:43:17+00    1\n2017/10/26 04:06:00+00    1\nName: DateReported, Length: 24429, dtype: int64"
     },
     "execution_count": 48,
     "metadata": {},
     "output_type": "execute_result"
    }
   ],
   "source": [
    "crimes[\"DateReported\"].value_counts()"
   ]
  },
  {
   "cell_type": "code",
   "execution_count": 49,
   "metadata": {
    "colab": {
     "base_uri": "https://localhost:8080/"
    },
    "id": "YCClWbbeFIAY",
    "outputId": "abf73f86-e1bf-4a79-eb87-3f85209ba0ce"
   },
   "outputs": [
    {
     "data": {
      "text/plain": "Moje, Ashley        1081\nShiflett, Tammy      614\nStein, Nathan        521\nNewton, Arla         469\nPittman, Terry       444\n                    ... \nBeasley, Timothy       1\nArnette, Locia         1\nColeman, Ursula        1\nHopkins, Emma          1\nCosgro, Blaine         1\nName: ReportingOfficer, Length: 174, dtype: int64"
     },
     "execution_count": 49,
     "metadata": {},
     "output_type": "execute_result"
    }
   ],
   "source": [
    "crimes[\"ReportingOfficer\"].value_counts()"
   ]
  },
  {
   "cell_type": "markdown",
   "metadata": {
    "id": "mV36HCFbFMUu"
   },
   "source": [
    "There are a lot of categories in the non-numerical data. This is not as worrying as it could be since a lot of the data seems like it is unnecessary for our project. It does not seem like we are going to need Reporting Officer, Agency, and Date Reported. We can just use the hours integer to get the time. \n",
    "\n",
    "Small side note: It would be interesting to look up odds of getting arrested on certain streets depending on who is on duty, but that is outside of the scope of our particular project. "
   ]
  },
  {
   "cell_type": "markdown",
   "metadata": {
    "id": "AIOIhssAIjpI"
   },
   "source": [
    "# Numerical Data"
   ]
  },
  {
   "cell_type": "markdown",
   "metadata": {
    "id": "6ot4zJZOGOp9"
   },
   "source": [
    "Now we will look at histograms of the numerical data below. From this data we will determine what is important information and what is not. "
   ]
  },
  {
   "cell_type": "code",
   "execution_count": 50,
   "metadata": {
    "colab": {
     "base_uri": "https://localhost:8080/",
     "height": 566
    },
    "id": "v2F2rp1KF7X_",
    "outputId": "8b7d6f1a-3eaf-4ea0-cfe9-132ac7a4185f"
   },
   "outputs": [
    {
     "data": {
      "text/plain": "array([[<AxesSubplot:title={'center':'RecordID'}>,\n        <AxesSubplot:title={'center':'IncidentID'}>],\n       [<AxesSubplot:title={'center':'BlockNumber'}>,\n        <AxesSubplot:title={'center':'HourReported'}>]], dtype=object)"
     },
     "execution_count": 50,
     "metadata": {},
     "output_type": "execute_result"
    },
    {
     "data": {
      "text/plain": "<Figure size 2000x1500 with 4 Axes>",
      "image/png": "[encoded data removed]"
     },
     "metadata": {},
     "output_type": "display_data"
    }
   ],
   "source": [
    "crimes.hist(bins=50, figsize=(20,15))"
   ]
  },
  {
   "cell_type": "markdown",
   "metadata": {
    "id": "AeJyrfFpGcOU"
   },
   "source": [
    "The histrogram of the Record ID behaved exactly as expected. We assumed that Incident ID would also not be very useful but it is organized by year, which will not really fit into what we are doing for this part of the project, but it would be interesting to look at what crimes have become less frequent over time, and it may actually play a role so even though we initially plan on getting rid of it, we will reevaluate as we continue to work on the project. \n",
    "There are some correlations with lower block numbers having more incidents which we did not suspect as a group but more incidents at later hours was something we expeted but there is some strange behavior where it rises and falls from hour to hour which we did not suspect. "
   ]
  },
  {
   "cell_type": "markdown",
   "metadata": {
    "id": "yfQ1oFS7JF_5"
   },
   "source": [
    "# Null Data\n",
    "\n",
    "\n"
   ]
  },
  {
   "cell_type": "markdown",
   "metadata": {
    "id": "s5rkgN3mXrxd"
   },
   "source": [
    "First we will observe the null data and think of a plan to deal with it."
   ]
  },
  {
   "cell_type": "code",
   "execution_count": 51,
   "metadata": {
    "colab": {
     "base_uri": "https://localhost:8080/",
     "height": 444
    },
    "id": "-3FejjABJL_0",
    "outputId": "ad3f84eb-23f6-4afb-de54-07ebc4f942ae"
   },
   "outputs": [
    {
     "data": {
      "text/plain": "    RecordID                        Offense    IncidentID  BlockNumber  \\\n5          6             Assault Aggravated  202200030660          NaN   \n23        24                    Hit and Run  202200030487          NaN   \n28        29  Larceny - Of Veh Parts/Access  202280000916          NaN   \n41        42                    Hit and Run  202200030353          NaN   \n48        49               Fraud-wire fraud  202280000912          NaN   \n\n                    StreetName Agency            DateReported  HourReported  \\\n5      4TH ST NW @ PRESTON AVE    CPD  2022/10/23 17:35:08+00          1335   \n23      10TH ST NW / W MAIN ST    CPD  2022/10/21 19:42:39+00          1542   \n28  1029 PRESTON AVENUE AVE, A    CPD  2022/10/21 14:10:02+00          1010   \n41      ELLIOTT AVE / 1ST ST S    CPD  2022/10/20 19:40:20+00          1540   \n48                ROSE HILL DR    CPD  2022/10/20 15:33:19+00          1133   \n\n   ReportingOfficer  \n5     Hopiane, Sayd  \n23   Darby, Michael  \n28     Moje, Ashley  \n41   Lowe, Courtney  \n48     Moje, Ashley  ",
      "text/html": "<div>\n<style scoped>\n    .dataframe tbody tr th:only-of-type {\n        vertical-align: middle;\n    }\n\n    .dataframe tbody tr th {\n        vertical-align: top;\n    }\n\n    .dataframe thead th {\n        text-align: right;\n    }\n</style>\n<table border=\"1\" class=\"dataframe\">\n  <thead>\n    <tr style=\"text-align: right;\">\n      <th></th>\n      <th>RecordID</th>\n      <th>Offense</th>\n      <th>IncidentID</th>\n      <th>BlockNumber</th>\n      <th>StreetName</th>\n      <th>Agency</th>\n      <th>DateReported</th>\n      <th>HourReported</th>\n      <th>ReportingOfficer</th>\n    </tr>\n  </thead>\n  <tbody>\n    <tr>\n      <th>5</th>\n      <td>6</td>\n      <td>Assault Aggravated</td>\n      <td>202200030660</td>\n      <td>NaN</td>\n      <td>4TH ST NW @ PRESTON AVE</td>\n      <td>CPD</td>\n      <td>2022/10/23 17:35:08+00</td>\n      <td>1335</td>\n      <td>Hopiane, Sayd</td>\n    </tr>\n    <tr>\n      <th>23</th>\n      <td>24</td>\n      <td>Hit and Run</td>\n      <td>202200030487</td>\n      <td>NaN</td>\n      <td>10TH ST NW / W MAIN ST</td>\n      <td>CPD</td>\n      <td>2022/10/21 19:42:39+00</td>\n      <td>1542</td>\n      <td>Darby, Michael</td>\n    </tr>\n    <tr>\n      <th>28</th>\n      <td>29</td>\n      <td>Larceny - Of Veh Parts/Access</td>\n      <td>202280000916</td>\n      <td>NaN</td>\n      <td>1029 PRESTON AVENUE AVE, A</td>\n      <td>CPD</td>\n      <td>2022/10/21 14:10:02+00</td>\n      <td>1010</td>\n      <td>Moje, Ashley</td>\n    </tr>\n    <tr>\n      <th>41</th>\n      <td>42</td>\n      <td>Hit and Run</td>\n      <td>202200030353</td>\n      <td>NaN</td>\n      <td>ELLIOTT AVE / 1ST ST S</td>\n      <td>CPD</td>\n      <td>2022/10/20 19:40:20+00</td>\n      <td>1540</td>\n      <td>Lowe, Courtney</td>\n    </tr>\n    <tr>\n      <th>48</th>\n      <td>49</td>\n      <td>Fraud-wire fraud</td>\n      <td>202280000912</td>\n      <td>NaN</td>\n      <td>ROSE HILL DR</td>\n      <td>CPD</td>\n      <td>2022/10/20 15:33:19+00</td>\n      <td>1133</td>\n      <td>Moje, Ashley</td>\n    </tr>\n  </tbody>\n</table>\n</div>"
     },
     "execution_count": 51,
     "metadata": {},
     "output_type": "execute_result"
    }
   ],
   "source": [
    "incomplete_data = crimes[crimes.isnull().any(axis=1)].head()\n",
    "incomplete_data"
   ]
  },
  {
   "cell_type": "code",
   "execution_count": 52,
   "metadata": {
    "colab": {
     "base_uri": "https://localhost:8080/"
    },
    "id": "MhkNtVQwJgbe",
    "outputId": "9d3144eb-e9b7-4fbb-c2eb-054c5309af15"
   },
   "outputs": [
    {
     "name": "stdout",
     "output_type": "stream",
     "text": [
      "<class 'pandas.core.frame.DataFrame'>\n",
      "Int64Index: 23147 entries, 0 to 24540\n",
      "Data columns (total 9 columns):\n",
      " #   Column            Non-Null Count  Dtype  \n",
      "---  ------            --------------  -----  \n",
      " 0   RecordID          23147 non-null  int64  \n",
      " 1   Offense           23147 non-null  object \n",
      " 2   IncidentID        23147 non-null  int64  \n",
      " 3   BlockNumber       23147 non-null  float64\n",
      " 4   StreetName        23147 non-null  object \n",
      " 5   Agency            23147 non-null  object \n",
      " 6   DateReported      23147 non-null  object \n",
      " 7   HourReported      23147 non-null  int64  \n",
      " 8   ReportingOfficer  23147 non-null  object \n",
      "dtypes: float64(1), int64(3), object(5)\n",
      "memory usage: 1.8+ MB\n"
     ]
    }
   ],
   "source": [
    "crimes_without_null = crimes.dropna()\n",
    "crimes_without_null.info()"
   ]
  },
  {
   "cell_type": "code",
   "execution_count": 53,
   "metadata": {
    "colab": {
     "base_uri": "https://localhost:8080/"
    },
    "id": "nnVLbWixK9qM",
    "outputId": "26ecf8cd-9b27-4bfb-b6a7-d2ceb8f615af"
   },
   "outputs": [
    {
     "name": "stdout",
     "output_type": "stream",
     "text": [
      "<class 'pandas.core.frame.DataFrame'>\n",
      "RangeIndex: 24541 entries, 0 to 24540\n",
      "Data columns (total 9 columns):\n",
      " #   Column            Non-Null Count  Dtype  \n",
      "---  ------            --------------  -----  \n",
      " 0   RecordID          24541 non-null  int64  \n",
      " 1   Offense           24541 non-null  object \n",
      " 2   IncidentID        24541 non-null  int64  \n",
      " 3   BlockNumber       23187 non-null  float64\n",
      " 4   StreetName        24541 non-null  object \n",
      " 5   Agency            24541 non-null  object \n",
      " 6   DateReported      24541 non-null  object \n",
      " 7   HourReported      24541 non-null  int64  \n",
      " 8   ReportingOfficer  24498 non-null  object \n",
      "dtypes: float64(1), int64(3), object(5)\n",
      "memory usage: 1.7+ MB\n"
     ]
    }
   ],
   "source": [
    "crimes.info()"
   ]
  },
  {
   "cell_type": "markdown",
   "metadata": {
    "id": "kv-CCkMzLC-u"
   },
   "source": [
    "Looking at the data we see that there are about 1300 missing block numbers, I am not sure how cobining this data with the streetnames is going to work but we will try to use an imputer but it may cause some strange behaviors that will need to be looked at later depending on our observations."
   ]
  },
  {
   "cell_type": "code",
   "execution_count": 54,
   "metadata": {
    "id": "GpZGV5jDKeQx"
   },
   "outputs": [],
   "source": [
    "imputer = SimpleImputer(strategy=\"median\", )"
   ]
  },
  {
   "cell_type": "markdown",
   "metadata": {
    "id": "c7M24p3RXze3"
   },
   "source": [
    "Here we are going to look at imputing the data but we decided we would get rid of the values that do not matter first. "
   ]
  },
  {
   "cell_type": "code",
   "execution_count": 55,
   "metadata": {
    "colab": {
     "base_uri": "https://localhost:8080/"
    },
    "id": "RJ1e3FV8ZlxU",
    "outputId": "5b777a73-5f12-4d52-8c30-19c49d2ccd70"
   },
   "outputs": [
    {
     "name": "stdout",
     "output_type": "stream",
     "text": [
      "<class 'pandas.core.frame.DataFrame'>\n",
      "RangeIndex: 24541 entries, 0 to 24540\n",
      "Data columns (total 9 columns):\n",
      " #   Column            Non-Null Count  Dtype  \n",
      "---  ------            --------------  -----  \n",
      " 0   RecordID          24541 non-null  int64  \n",
      " 1   Offense           24541 non-null  object \n",
      " 2   IncidentID        24541 non-null  int64  \n",
      " 3   BlockNumber       23187 non-null  float64\n",
      " 4   StreetName        24541 non-null  object \n",
      " 5   Agency            24541 non-null  object \n",
      " 6   DateReported      24541 non-null  object \n",
      " 7   HourReported      24541 non-null  int64  \n",
      " 8   ReportingOfficer  24498 non-null  object \n",
      "dtypes: float64(1), int64(3), object(5)\n",
      "memory usage: 1.7+ MB\n"
     ]
    }
   ],
   "source": [
    "crimes.info()"
   ]
  },
  {
   "cell_type": "code",
   "execution_count": 56,
   "metadata": {
    "colab": {
     "base_uri": "https://localhost:8080/",
     "height": 397
    },
    "id": "Iq8mWEMUZWsy",
    "outputId": "7fac3461-5c99-4071-c288-9e8aa5f378d6"
   },
   "outputs": [],
   "source": [
    "crimes = crimes.drop(\"ReportingOfficer\",axis=1)\n",
    "crimes = crimes.drop(\"IncidentID\", axis=1)\n",
    "crimes = crimes.drop(\"Agency\", axis=1)\n",
    "crimes = crimes.drop(\"RecordID\", axis=1)"
   ]
  },
  {
   "cell_type": "code",
   "execution_count": 57,
   "metadata": {
    "id": "Uk_GRGlwaSrA"
   },
   "outputs": [],
   "source": [
    "crime_num = crimes.drop([\"Offense\", \"StreetName\"], axis=1)"
   ]
  },
  {
   "cell_type": "code",
   "execution_count": 58,
   "metadata": {
    "colab": {
     "base_uri": "https://localhost:8080/"
    },
    "id": "4p11irr-a1V-",
    "outputId": "c189555b-68c6-48e9-8637-308047641c8a"
   },
   "outputs": [
    {
     "ename": "ValueError",
     "evalue": "Cannot use median strategy with non-numeric data:\ncould not convert string to float: '2022/10/24 03:39:36+00'",
     "output_type": "error",
     "traceback": [
      "\u001B[0;31m---------------------------------------------------------------------------\u001B[0m",
      "\u001B[0;31mValueError\u001B[0m                                Traceback (most recent call last)",
      "Input \u001B[0;32mIn [58]\u001B[0m, in \u001B[0;36m<cell line: 1>\u001B[0;34m()\u001B[0m\n\u001B[0;32m----> 1\u001B[0m \u001B[43mimputer\u001B[49m\u001B[38;5;241;43m.\u001B[39;49m\u001B[43mfit\u001B[49m\u001B[43m(\u001B[49m\u001B[43mcrime_num\u001B[49m\u001B[43m)\u001B[49m\n",
      "File \u001B[0;32m~/.conda/envs/workspace/lib/python3.10/site-packages/sklearn/impute/_base.py:345\u001B[0m, in \u001B[0;36mSimpleImputer.fit\u001B[0;34m(self, X, y)\u001B[0m\n\u001B[1;32m    336\u001B[0m \u001B[38;5;28;01mif\u001B[39;00m \u001B[38;5;28mself\u001B[39m\u001B[38;5;241m.\u001B[39mverbose \u001B[38;5;241m!=\u001B[39m \u001B[38;5;124m\"\u001B[39m\u001B[38;5;124mdeprecated\u001B[39m\u001B[38;5;124m\"\u001B[39m:\n\u001B[1;32m    337\u001B[0m     warnings\u001B[38;5;241m.\u001B[39mwarn(\n\u001B[1;32m    338\u001B[0m         \u001B[38;5;124m\"\u001B[39m\u001B[38;5;124mThe \u001B[39m\u001B[38;5;124m'\u001B[39m\u001B[38;5;124mverbose\u001B[39m\u001B[38;5;124m'\u001B[39m\u001B[38;5;124m parameter was deprecated in version \u001B[39m\u001B[38;5;124m\"\u001B[39m\n\u001B[1;32m    339\u001B[0m         \u001B[38;5;124m\"\u001B[39m\u001B[38;5;124m1.1 and will be removed in 1.3. A warning will \u001B[39m\u001B[38;5;124m\"\u001B[39m\n\u001B[0;32m   (...)\u001B[0m\n\u001B[1;32m    342\u001B[0m         \u001B[38;5;167;01mFutureWarning\u001B[39;00m,\n\u001B[1;32m    343\u001B[0m     )\n\u001B[0;32m--> 345\u001B[0m X \u001B[38;5;241m=\u001B[39m \u001B[38;5;28;43mself\u001B[39;49m\u001B[38;5;241;43m.\u001B[39;49m\u001B[43m_validate_input\u001B[49m\u001B[43m(\u001B[49m\u001B[43mX\u001B[49m\u001B[43m,\u001B[49m\u001B[43m \u001B[49m\u001B[43min_fit\u001B[49m\u001B[38;5;241;43m=\u001B[39;49m\u001B[38;5;28;43;01mTrue\u001B[39;49;00m\u001B[43m)\u001B[49m\n\u001B[1;32m    347\u001B[0m \u001B[38;5;66;03m# default fill_value is 0 for numerical input and \"missing_value\"\u001B[39;00m\n\u001B[1;32m    348\u001B[0m \u001B[38;5;66;03m# otherwise\u001B[39;00m\n\u001B[1;32m    349\u001B[0m \u001B[38;5;28;01mif\u001B[39;00m \u001B[38;5;28mself\u001B[39m\u001B[38;5;241m.\u001B[39mfill_value \u001B[38;5;129;01mis\u001B[39;00m \u001B[38;5;28;01mNone\u001B[39;00m:\n",
      "File \u001B[0;32m~/.conda/envs/workspace/lib/python3.10/site-packages/sklearn/impute/_base.py:302\u001B[0m, in \u001B[0;36mSimpleImputer._validate_input\u001B[0;34m(self, X, in_fit)\u001B[0m\n\u001B[1;32m    296\u001B[0m \u001B[38;5;28;01mif\u001B[39;00m \u001B[38;5;124m\"\u001B[39m\u001B[38;5;124mcould not convert\u001B[39m\u001B[38;5;124m\"\u001B[39m \u001B[38;5;129;01min\u001B[39;00m \u001B[38;5;28mstr\u001B[39m(ve):\n\u001B[1;32m    297\u001B[0m     new_ve \u001B[38;5;241m=\u001B[39m \u001B[38;5;167;01mValueError\u001B[39;00m(\n\u001B[1;32m    298\u001B[0m         \u001B[38;5;124m\"\u001B[39m\u001B[38;5;124mCannot use \u001B[39m\u001B[38;5;132;01m{}\u001B[39;00m\u001B[38;5;124m strategy with non-numeric data:\u001B[39m\u001B[38;5;130;01m\\n\u001B[39;00m\u001B[38;5;132;01m{}\u001B[39;00m\u001B[38;5;124m\"\u001B[39m\u001B[38;5;241m.\u001B[39mformat(\n\u001B[1;32m    299\u001B[0m             \u001B[38;5;28mself\u001B[39m\u001B[38;5;241m.\u001B[39mstrategy, ve\n\u001B[1;32m    300\u001B[0m         )\n\u001B[1;32m    301\u001B[0m     )\n\u001B[0;32m--> 302\u001B[0m     \u001B[38;5;28;01mraise\u001B[39;00m new_ve \u001B[38;5;28;01mfrom\u001B[39;00m \u001B[38;5;28mNone\u001B[39m\n\u001B[1;32m    303\u001B[0m \u001B[38;5;28;01melse\u001B[39;00m:\n\u001B[1;32m    304\u001B[0m     \u001B[38;5;28;01mraise\u001B[39;00m ve\n",
      "\u001B[0;31mValueError\u001B[0m: Cannot use median strategy with non-numeric data:\ncould not convert string to float: '2022/10/24 03:39:36+00'"
     ]
    }
   ],
   "source": [
    "imputer.fit(crime_num)"
   ]
  },
  {
   "cell_type": "markdown",
   "metadata": {
    "id": "qgaRTCFBcCmD"
   },
   "source": [
    "Just want to look at the data in the imputed state"
   ]
  },
  {
   "cell_type": "code",
   "execution_count": null,
   "metadata": {
    "colab": {
     "base_uri": "https://localhost:8080/"
    },
    "id": "bbZrDBBga9Dk",
    "outputId": "4efefb76-ee9c-402e-857c-be077dae4843"
   },
   "outputs": [],
   "source": [
    "imputer.statistics_"
   ]
  },
  {
   "cell_type": "code",
   "execution_count": null,
   "metadata": {
    "colab": {
     "base_uri": "https://localhost:8080/"
    },
    "id": "BzOp0Jv7bH85",
    "outputId": "9b44a434-4f97-4dbb-f3ab-58640efed43e"
   },
   "outputs": [],
   "source": [
    "crime_num.median().values"
   ]
  },
  {
   "cell_type": "markdown",
   "metadata": {
    "id": "aRRa2TLqcIYU"
   },
   "source": [
    "Now we need to deal with the categorical data. This is where some big adjustments to what we have inputneed to happen. "
   ]
  },
  {
   "cell_type": "code",
   "execution_count": null,
   "metadata": {
    "colab": {
     "base_uri": "https://localhost:8080/",
     "height": 363
    },
    "id": "5gY23EomcO_i",
    "outputId": "18459b73-20fe-49cc-fa56-9cc8c74f3576"
   },
   "outputs": [],
   "source": [
    "crime_offense_cat = crimes[[\"Offense\"]]\n",
    "crime_offense_cat.head(10)"
   ]
  },
  {
   "cell_type": "markdown",
   "source": [
    "We mostly want assault for our first pass"
   ],
   "metadata": {
    "collapsed": false
   }
  },
  {
   "cell_type": "code",
   "execution_count": 59,
   "outputs": [
    {
     "data": {
      "text/plain": "                    Offense  BlockNumber               StreetName  \\\n5        Assault Aggravated          NaN  4TH ST NW @ PRESTON AVE   \n6            Assault Simple       1100.0                HARRIS ST   \n10       Assault Aggravated        200.0                W MAIN ST   \n12     Assault Intimidation        200.0                E MAIN ST   \n18     Assault Intimidation        100.0               14TH ST NW   \n...                     ...          ...                      ...   \n24504  Assault Intimidation        100.0              E MARKET ST   \n24521    Assault Aggravated        100.0                9TH ST NE   \n24524  Assault Intimidation       1500.0                 GROVE RD   \n24538        Assault Simple        200.0               W WATER ST   \n24539    Assault Aggravated        100.0              E MARKET ST   \n\n                 DateReported  HourReported  \n5      2022/10/23 17:35:08+00          1335  \n6      2022/10/23 16:49:43+00          1249  \n10     2022/10/23 04:55:05+00            55  \n12     2022/10/22 19:13:08+00          1513  \n18     2022/10/22 05:27:31+00           127  \n...                       ...           ...  \n24504  2017/10/27 18:39:00+00          1439  \n24521  2017/10/26 23:03:00+00          1903  \n24524  2017/10/26 20:23:00+00          1623  \n24538  2017/10/26 10:52:00+00           652  \n24539  2017/10/26 06:09:00+00           209  \n\n[2788 rows x 5 columns]",
      "text/html": "<div>\n<style scoped>\n    .dataframe tbody tr th:only-of-type {\n        vertical-align: middle;\n    }\n\n    .dataframe tbody tr th {\n        vertical-align: top;\n    }\n\n    .dataframe thead th {\n        text-align: right;\n    }\n</style>\n<table border=\"1\" class=\"dataframe\">\n  <thead>\n    <tr style=\"text-align: right;\">\n      <th></th>\n      <th>Offense</th>\n      <th>BlockNumber</th>\n      <th>StreetName</th>\n      <th>DateReported</th>\n      <th>HourReported</th>\n    </tr>\n  </thead>\n  <tbody>\n    <tr>\n      <th>5</th>\n      <td>Assault Aggravated</td>\n      <td>NaN</td>\n      <td>4TH ST NW @ PRESTON AVE</td>\n      <td>2022/10/23 17:35:08+00</td>\n      <td>1335</td>\n    </tr>\n    <tr>\n      <th>6</th>\n      <td>Assault Simple</td>\n      <td>1100.0</td>\n      <td>HARRIS ST</td>\n      <td>2022/10/23 16:49:43+00</td>\n      <td>1249</td>\n    </tr>\n    <tr>\n      <th>10</th>\n      <td>Assault Aggravated</td>\n      <td>200.0</td>\n      <td>W MAIN ST</td>\n      <td>2022/10/23 04:55:05+00</td>\n      <td>55</td>\n    </tr>\n    <tr>\n      <th>12</th>\n      <td>Assault Intimidation</td>\n      <td>200.0</td>\n      <td>E MAIN ST</td>\n      <td>2022/10/22 19:13:08+00</td>\n      <td>1513</td>\n    </tr>\n    <tr>\n      <th>18</th>\n      <td>Assault Intimidation</td>\n      <td>100.0</td>\n      <td>14TH ST NW</td>\n      <td>2022/10/22 05:27:31+00</td>\n      <td>127</td>\n    </tr>\n    <tr>\n      <th>...</th>\n      <td>...</td>\n      <td>...</td>\n      <td>...</td>\n      <td>...</td>\n      <td>...</td>\n    </tr>\n    <tr>\n      <th>24504</th>\n      <td>Assault Intimidation</td>\n      <td>100.0</td>\n      <td>E MARKET ST</td>\n      <td>2017/10/27 18:39:00+00</td>\n      <td>1439</td>\n    </tr>\n    <tr>\n      <th>24521</th>\n      <td>Assault Aggravated</td>\n      <td>100.0</td>\n      <td>9TH ST NE</td>\n      <td>2017/10/26 23:03:00+00</td>\n      <td>1903</td>\n    </tr>\n    <tr>\n      <th>24524</th>\n      <td>Assault Intimidation</td>\n      <td>1500.0</td>\n      <td>GROVE RD</td>\n      <td>2017/10/26 20:23:00+00</td>\n      <td>1623</td>\n    </tr>\n    <tr>\n      <th>24538</th>\n      <td>Assault Simple</td>\n      <td>200.0</td>\n      <td>W WATER ST</td>\n      <td>2017/10/26 10:52:00+00</td>\n      <td>652</td>\n    </tr>\n    <tr>\n      <th>24539</th>\n      <td>Assault Aggravated</td>\n      <td>100.0</td>\n      <td>E MARKET ST</td>\n      <td>2017/10/26 06:09:00+00</td>\n      <td>209</td>\n    </tr>\n  </tbody>\n</table>\n<p>2788 rows × 5 columns</p>\n</div>"
     },
     "execution_count": 59,
     "metadata": {},
     "output_type": "execute_result"
    }
   ],
   "source": [
    "assaults = crimes[crimes[\"Offense\"].str.contains(\"Assault\")]\n",
    "assaults"
   ],
   "metadata": {
    "collapsed": false
   }
  },
  {
   "cell_type": "markdown",
   "source": [
    "When are the assaults happening?"
   ],
   "metadata": {
    "collapsed": false
   }
  },
  {
   "cell_type": "code",
   "execution_count": 76,
   "outputs": [
    {
     "data": {
      "text/plain": "                                BlockNumber  HourReported\nOffense                                                  \nAssault Aggravated                    700.0        1354.0\nAssault Intimidation                  700.0        1453.5\nAssault Simple                        800.0        1505.5\nSex Offense - Assault w/Object        900.0        1127.0",
      "text/html": "<div>\n<style scoped>\n    .dataframe tbody tr th:only-of-type {\n        vertical-align: middle;\n    }\n\n    .dataframe tbody tr th {\n        vertical-align: top;\n    }\n\n    .dataframe thead th {\n        text-align: right;\n    }\n</style>\n<table border=\"1\" class=\"dataframe\">\n  <thead>\n    <tr style=\"text-align: right;\">\n      <th></th>\n      <th>BlockNumber</th>\n      <th>HourReported</th>\n    </tr>\n    <tr>\n      <th>Offense</th>\n      <th></th>\n      <th></th>\n    </tr>\n  </thead>\n  <tbody>\n    <tr>\n      <th>Assault Aggravated</th>\n      <td>700.0</td>\n      <td>1354.0</td>\n    </tr>\n    <tr>\n      <th>Assault Intimidation</th>\n      <td>700.0</td>\n      <td>1453.5</td>\n    </tr>\n    <tr>\n      <th>Assault Simple</th>\n      <td>800.0</td>\n      <td>1505.5</td>\n    </tr>\n    <tr>\n      <th>Sex Offense - Assault w/Object</th>\n      <td>900.0</td>\n      <td>1127.0</td>\n    </tr>\n  </tbody>\n</table>\n</div>"
     },
     "execution_count": 76,
     "metadata": {},
     "output_type": "execute_result"
    }
   ],
   "source": [
    "assaults.groupby(\"Offense\").median()"
   ],
   "metadata": {
    "collapsed": false
   }
  },
  {
   "cell_type": "code",
   "execution_count": 88,
   "outputs": [
    {
     "name": "stdout",
     "output_type": "stream",
     "text": [
      "43% of the assaults happen between 8pm and 8am\n"
     ]
    }
   ],
   "source": [
    "x = assaults.query('HourReported >= 2000 | HourReported <= 800').count()[\"Offense\"]\n",
    "print(f\"{round(x/assaults.count()['Offense']*100)}% of the assaults happen between 8pm and 8am\")"
   ],
   "metadata": {
    "collapsed": false
   }
  },
  {
   "cell_type": "code",
   "execution_count": null,
   "outputs": [],
   "source": [],
   "metadata": {
    "collapsed": false
   }
  }
 ],
 "metadata": {
  "colab": {
   "collapsed_sections": [],
   "provenance": []
  },
  "kernelspec": {
   "display_name": "Python 3",
   "name": "python3"
  }
 },
 "nbformat": 4,
 "nbformat_minor": 0
}
