{
  "cells": [
    {
      "cell_type": "code",
      "execution_count": 1,
      "metadata": {
        "id": "QoOSTe5I6Om6"
      },
      "outputs": [],
      "source": [
        "# Some common packages that we may need\n",
        "from pandas.plotting import scatter_matrix \n",
        "from sklearn.impute import SimpleImputer\n",
        "from sklearn.preprocessing import LabelEncoder\n",
        "from sklearn.preprocessing import OneHotEncoder\n",
        "from sklearn.pipeline import Pipeline\n",
        "from sklearn.preprocessing import StandardScaler\n",
        "\n",
        "# Import some common packages\n",
        "import os\n",
        "import numpy as np\n",
        "import matplotlib\n",
        "import matplotlib.pyplot as plt\n",
        "import pandas as pd\n",
        "\n",
        "# to make this notebook's output stable across runs\n",
        "np.random.seed(42)\n",
        "\n",
        "def load_police_data():\n",
        "  crimes=pd.read_csv('./data/Crime_Data.csv')\n",
        "  return crimes\n",
        "\n",
        "def load_oridinal_violence_features():\n",
        "  ordinal_violence=pd.read_csv('./data/crime_categories.csv')\n",
        "  return ordinal_violence"
      ]
    },
    {
      "cell_type": "markdown",
      "metadata": {
        "id": "A9hjjV5SDs0z"
      },
      "source": [
        "Now that the data is loaded we want to look at the data and see how it is organized and what groups are being used. We can also get some insight onto if the data may be useful adn we can look and see how we may split or encode our data."
      ]
    },
    {
      "cell_type": "code",
      "execution_count": 7,
      "metadata": {
        "colab": {
          "base_uri": "https://localhost:8080/"
        },
        "id": "CZEtJ3IB6P3a",
        "outputId": "6b50b936-dc14-49b9-fecd-21461f2ee4f4"
      },
      "outputs": [
        {
          "name": "stdout",
          "output_type": "stream",
          "text": [
            "<class 'pandas.core.frame.DataFrame'>\n",
            "RangeIndex: 24577 entries, 0 to 24576\n",
            "Data columns (total 9 columns):\n",
            " #   Column            Non-Null Count  Dtype  \n",
            "---  ------            --------------  -----  \n",
            " 0   RecordID          24577 non-null  int64  \n",
            " 1   Offense           24577 non-null  object \n",
            " 2   IncidentID        24577 non-null  int64  \n",
            " 3   BlockNumber       23229 non-null  float64\n",
            " 4   StreetName        24577 non-null  object \n",
            " 5   Agency            24577 non-null  object \n",
            " 6   DateReported      24577 non-null  object \n",
            " 7   HourReported      24577 non-null  int64  \n",
            " 8   ReportingOfficer  24534 non-null  object \n",
            "dtypes: float64(1), int64(3), object(5)\n",
            "memory usage: 1.7+ MB\n"
          ]
        }
      ],
      "source": [
        "crimes = load_police_data()\n",
        "crimes.info()"
      ]
    },
    {
      "cell_type": "code",
      "execution_count": 8,
      "metadata": {
        "colab": {
          "base_uri": "https://localhost:8080/",
          "height": 601
        },
        "id": "7DdYGrkM6AAu",
        "outputId": "20e3dfee-509c-4997-cad9-b5c56ff8ab95"
      },
      "outputs": [
        {
          "data": {
            "text/html": [
              "<div>\n",
              "<style scoped>\n",
              "    .dataframe tbody tr th:only-of-type {\n",
              "        vertical-align: middle;\n",
              "    }\n",
              "\n",
              "    .dataframe tbody tr th {\n",
              "        vertical-align: top;\n",
              "    }\n",
              "\n",
              "    .dataframe thead th {\n",
              "        text-align: right;\n",
              "    }\n",
              "</style>\n",
              "<table border=\"1\" class=\"dataframe\">\n",
              "  <thead>\n",
              "    <tr style=\"text-align: right;\">\n",
              "      <th></th>\n",
              "      <th>RecordID</th>\n",
              "      <th>Offense</th>\n",
              "      <th>IncidentID</th>\n",
              "      <th>BlockNumber</th>\n",
              "      <th>StreetName</th>\n",
              "      <th>Agency</th>\n",
              "      <th>DateReported</th>\n",
              "      <th>HourReported</th>\n",
              "      <th>ReportingOfficer</th>\n",
              "    </tr>\n",
              "  </thead>\n",
              "  <tbody>\n",
              "    <tr>\n",
              "      <th>0</th>\n",
              "      <td>1</td>\n",
              "      <td>Larceny - All Other</td>\n",
              "      <td>202200030104</td>\n",
              "      <td>800.0</td>\n",
              "      <td>ELLIOTT AVE</td>\n",
              "      <td>CPD</td>\n",
              "      <td>2022/10/18 01:08:59+00</td>\n",
              "      <td>2108</td>\n",
              "      <td>Lowe, Courtney</td>\n",
              "    </tr>\n",
              "    <tr>\n",
              "      <th>1</th>\n",
              "      <td>2</td>\n",
              "      <td>Burglary</td>\n",
              "      <td>202200030099</td>\n",
              "      <td>800.0</td>\n",
              "      <td>RAYMOND RD</td>\n",
              "      <td>CPD</td>\n",
              "      <td>2022/10/18 00:31:50+00</td>\n",
              "      <td>2031</td>\n",
              "      <td>Lowe, Courtney</td>\n",
              "    </tr>\n",
              "    <tr>\n",
              "      <th>2</th>\n",
              "      <td>3</td>\n",
              "      <td>Assault Aggravated</td>\n",
              "      <td>202200030096</td>\n",
              "      <td>900.0</td>\n",
              "      <td>W MAIN ST</td>\n",
              "      <td>CPD</td>\n",
              "      <td>2022/10/17 23:40:34+00</td>\n",
              "      <td>1940</td>\n",
              "      <td>Alfonso, Sean</td>\n",
              "    </tr>\n",
              "    <tr>\n",
              "      <th>3</th>\n",
              "      <td>4</td>\n",
              "      <td>Assist Citizen - Mental/TDO/ECO</td>\n",
              "      <td>202200030087</td>\n",
              "      <td>600.0</td>\n",
              "      <td>E MARKET ST</td>\n",
              "      <td>CPD</td>\n",
              "      <td>2022/10/17 22:24:21+00</td>\n",
              "      <td>1824</td>\n",
              "      <td>Lowe, Courtney</td>\n",
              "    </tr>\n",
              "    <tr>\n",
              "      <th>4</th>\n",
              "      <td>5</td>\n",
              "      <td>Assault Simple</td>\n",
              "      <td>202200030080</td>\n",
              "      <td>1400.0</td>\n",
              "      <td>UNIVERSITY AVE</td>\n",
              "      <td>CPD</td>\n",
              "      <td>2022/10/17 19:58:39+00</td>\n",
              "      <td>1558</td>\n",
              "      <td>Houchens, Logan</td>\n",
              "    </tr>\n",
              "    <tr>\n",
              "      <th>5</th>\n",
              "      <td>6</td>\n",
              "      <td>Trespass</td>\n",
              "      <td>202200030061</td>\n",
              "      <td>500.0</td>\n",
              "      <td>PRESTON AVE</td>\n",
              "      <td>CPD</td>\n",
              "      <td>2022/10/17 17:35:18+00</td>\n",
              "      <td>1335</td>\n",
              "      <td>Houchens, Jamell</td>\n",
              "    </tr>\n",
              "    <tr>\n",
              "      <th>6</th>\n",
              "      <td>7</td>\n",
              "      <td>Motor Vehicle Theft</td>\n",
              "      <td>202200030053</td>\n",
              "      <td>600.0</td>\n",
              "      <td>14TH ST NW</td>\n",
              "      <td>CPD</td>\n",
              "      <td>2022/10/17 14:54:03+00</td>\n",
              "      <td>1054</td>\n",
              "      <td>Nash, Darius</td>\n",
              "    </tr>\n",
              "    <tr>\n",
              "      <th>7</th>\n",
              "      <td>8</td>\n",
              "      <td>Larceny - Theft from Building</td>\n",
              "      <td>202280000894</td>\n",
              "      <td>100.0</td>\n",
              "      <td>BAYLOR LN</td>\n",
              "      <td>CPD</td>\n",
              "      <td>2022/10/17 13:24:02+00</td>\n",
              "      <td>924</td>\n",
              "      <td>Moje, Ashley</td>\n",
              "    </tr>\n",
              "    <tr>\n",
              "      <th>8</th>\n",
              "      <td>9</td>\n",
              "      <td>Larceny - From Motor Vehicle</td>\n",
              "      <td>202280000893</td>\n",
              "      <td>1400.0</td>\n",
              "      <td>FOREST RIDGE RD</td>\n",
              "      <td>CPD</td>\n",
              "      <td>2022/10/17 12:39:53+00</td>\n",
              "      <td>839</td>\n",
              "      <td>Moje, Ashley</td>\n",
              "    </tr>\n",
              "    <tr>\n",
              "      <th>9</th>\n",
              "      <td>10</td>\n",
              "      <td>Drug/Narcotics Violation</td>\n",
              "      <td>202200030029</td>\n",
              "      <td>1700.0</td>\n",
              "      <td>HYDRAULIC RD</td>\n",
              "      <td>CPD</td>\n",
              "      <td>2022/10/17 10:40:25+00</td>\n",
              "      <td>640</td>\n",
              "      <td>Curry, Brian</td>\n",
              "    </tr>\n",
              "  </tbody>\n",
              "</table>\n",
              "</div>"
            ],
            "text/plain": [
              "   RecordID                          Offense    IncidentID  BlockNumber  \\\n",
              "0         1              Larceny - All Other  202200030104        800.0   \n",
              "1         2                         Burglary  202200030099        800.0   \n",
              "2         3               Assault Aggravated  202200030096        900.0   \n",
              "3         4  Assist Citizen - Mental/TDO/ECO  202200030087        600.0   \n",
              "4         5                   Assault Simple  202200030080       1400.0   \n",
              "5         6                         Trespass  202200030061        500.0   \n",
              "6         7              Motor Vehicle Theft  202200030053        600.0   \n",
              "7         8    Larceny - Theft from Building  202280000894        100.0   \n",
              "8         9     Larceny - From Motor Vehicle  202280000893       1400.0   \n",
              "9        10         Drug/Narcotics Violation  202200030029       1700.0   \n",
              "\n",
              "        StreetName Agency            DateReported  HourReported  \\\n",
              "0      ELLIOTT AVE    CPD  2022/10/18 01:08:59+00          2108   \n",
              "1       RAYMOND RD    CPD  2022/10/18 00:31:50+00          2031   \n",
              "2        W MAIN ST    CPD  2022/10/17 23:40:34+00          1940   \n",
              "3      E MARKET ST    CPD  2022/10/17 22:24:21+00          1824   \n",
              "4   UNIVERSITY AVE    CPD  2022/10/17 19:58:39+00          1558   \n",
              "5      PRESTON AVE    CPD  2022/10/17 17:35:18+00          1335   \n",
              "6       14TH ST NW    CPD  2022/10/17 14:54:03+00          1054   \n",
              "7        BAYLOR LN    CPD  2022/10/17 13:24:02+00           924   \n",
              "8  FOREST RIDGE RD    CPD  2022/10/17 12:39:53+00           839   \n",
              "9     HYDRAULIC RD    CPD  2022/10/17 10:40:25+00           640   \n",
              "\n",
              "   ReportingOfficer  \n",
              "0    Lowe, Courtney  \n",
              "1    Lowe, Courtney  \n",
              "2     Alfonso, Sean  \n",
              "3    Lowe, Courtney  \n",
              "4   Houchens, Logan  \n",
              "5  Houchens, Jamell  \n",
              "6      Nash, Darius  \n",
              "7      Moje, Ashley  \n",
              "8      Moje, Ashley  \n",
              "9      Curry, Brian  "
            ]
          },
          "execution_count": 8,
          "metadata": {},
          "output_type": "execute_result"
        }
      ],
      "source": [
        "crimes.head(10)"
      ]
    },
    {
      "cell_type": "code",
      "execution_count": 9,
      "metadata": {
        "colab": {
          "base_uri": "https://localhost:8080/"
        },
        "id": "FoNBGaBZDqV8",
        "outputId": "7b9c4cc6-3919-4ade-f22e-ef578f1292ff"
      },
      "outputs": [
        {
          "name": "stdout",
          "output_type": "stream",
          "text": [
            "<class 'pandas.core.frame.DataFrame'>\n",
            "RangeIndex: 24577 entries, 0 to 24576\n",
            "Data columns (total 9 columns):\n",
            " #   Column            Non-Null Count  Dtype  \n",
            "---  ------            --------------  -----  \n",
            " 0   RecordID          24577 non-null  int64  \n",
            " 1   Offense           24577 non-null  object \n",
            " 2   IncidentID        24577 non-null  int64  \n",
            " 3   BlockNumber       23229 non-null  float64\n",
            " 4   StreetName        24577 non-null  object \n",
            " 5   Agency            24577 non-null  object \n",
            " 6   DateReported      24577 non-null  object \n",
            " 7   HourReported      24577 non-null  int64  \n",
            " 8   ReportingOfficer  24534 non-null  object \n",
            "dtypes: float64(1), int64(3), object(5)\n",
            "memory usage: 1.7+ MB\n"
          ]
        }
      ],
      "source": [
        "crimes.info()"
      ]
    },
    {
      "cell_type": "markdown",
      "metadata": {
        "id": "slYFckZJIpnE"
      },
      "source": [
        "# Non Numerical Data"
      ]
    },
    {
      "cell_type": "markdown",
      "metadata": {
        "id": "AGo8CBHUESWQ"
      },
      "source": [
        "Now lets look a little closer at the non numerical data"
      ]
    },
    {
      "cell_type": "code",
      "execution_count": 10,
      "metadata": {
        "colab": {
          "base_uri": "https://localhost:8080/"
        },
        "id": "gMmPDQjqEs01",
        "outputId": "d3b1a6e5-02f4-48e5-85cd-93472c2636d5"
      },
      "outputs": [
        {
          "data": {
            "text/plain": [
              "Hit and Run                         2120\n",
              "Assault Simple                      1963\n",
              "Suspicious Activity                 1634\n",
              "Vandalism                           1609\n",
              "Larceny - All Other                 1557\n",
              "                                    ... \n",
              "Tactical Crime Initiative - TCI        1\n",
              "911 Investigation                      1\n",
              "Prostitution-assisting/promoting       1\n",
              "Field Interview                        1\n",
              "Alarm-Accidental                       1\n",
              "Name: Offense, Length: 119, dtype: int64"
            ]
          },
          "execution_count": 10,
          "metadata": {},
          "output_type": "execute_result"
        }
      ],
      "source": [
        "crimes[\"Offense\"].value_counts()"
      ]
    },
    {
      "cell_type": "code",
      "execution_count": 11,
      "metadata": {
        "colab": {
          "base_uri": "https://localhost:8080/"
        },
        "id": "3F9L_pO3E3El",
        "outputId": "e3ee62cd-b04e-406c-eaa9-7c6a917e10b9"
      },
      "outputs": [
        {
          "data": {
            "text/plain": [
              "E MARKET ST               1134\n",
              "EMMET ST N                1048\n",
              "W MAIN ST                 1007\n",
              "E MAIN ST                  520\n",
              "5TH ST SW                  450\n",
              "                          ... \n",
              "1ST ST S, 207                1\n",
              "MICHIE DR, 115               1\n",
              "HOLIDAY DR, 116              1\n",
              "CULBRETH RD / RUGBY RD       1\n",
              "15TH ST NW, 2013             1\n",
              "Name: StreetName, Length: 3401, dtype: int64"
            ]
          },
          "execution_count": 11,
          "metadata": {},
          "output_type": "execute_result"
        }
      ],
      "source": [
        "crimes[\"StreetName\"].value_counts()"
      ]
    },
    {
      "cell_type": "code",
      "execution_count": 12,
      "metadata": {
        "colab": {
          "base_uri": "https://localhost:8080/"
        },
        "id": "g9hUNNInE-YH",
        "outputId": "80f4d32d-fc97-4b36-c213-b329f4553ff1"
      },
      "outputs": [
        {
          "data": {
            "text/plain": [
              "CPD    24577\n",
              "Name: Agency, dtype: int64"
            ]
          },
          "execution_count": 12,
          "metadata": {},
          "output_type": "execute_result"
        }
      ],
      "source": [
        "crimes[\"Agency\"].value_counts()"
      ]
    },
    {
      "cell_type": "code",
      "execution_count": 13,
      "metadata": {
        "colab": {
          "base_uri": "https://localhost:8080/"
        },
        "id": "PkOLS_eyFEyt",
        "outputId": "ae3b28e5-fcf7-43c3-f67f-661e0fd4495d"
      },
      "outputs": [
        {
          "data": {
            "text/plain": [
              "2017/10/21 12:30:00+00    6\n",
              "2018/06/29 02:20:19+00    6\n",
              "2017/11/04 15:00:00+00    4\n",
              "2019/10/07 18:46:09+00    4\n",
              "2018/06/15 14:08:49+00    4\n",
              "                         ..\n",
              "2021/04/02 19:55:45+00    1\n",
              "2021/04/03 00:29:07+00    1\n",
              "2021/04/03 02:48:26+00    1\n",
              "2021/04/03 03:17:20+00    1\n",
              "2017/10/20 04:35:00+00    1\n",
              "Name: DateReported, Length: 24453, dtype: int64"
            ]
          },
          "execution_count": 13,
          "metadata": {},
          "output_type": "execute_result"
        }
      ],
      "source": [
        "crimes[\"DateReported\"].value_counts()"
      ]
    },
    {
      "cell_type": "code",
      "execution_count": 14,
      "metadata": {
        "colab": {
          "base_uri": "https://localhost:8080/"
        },
        "id": "YCClWbbeFIAY",
        "outputId": "abf73f86-e1bf-4a79-eb87-3f85209ba0ce"
      },
      "outputs": [
        {
          "data": {
            "text/plain": [
              "Moje, Ashley        1060\n",
              "Shiflett, Tammy      611\n",
              "Stein, Nathan        523\n",
              "Newton, Arla         472\n",
              "Pittman, Terry       447\n",
              "                    ... \n",
              "Arnette, Locia         1\n",
              "Beasley, Timothy       1\n",
              "Hopkins, Emma          1\n",
              "Cosgro, Blaine         1\n",
              "Thomas, Alfred         1\n",
              "Name: ReportingOfficer, Length: 175, dtype: int64"
            ]
          },
          "execution_count": 14,
          "metadata": {},
          "output_type": "execute_result"
        }
      ],
      "source": [
        "crimes[\"ReportingOfficer\"].value_counts()"
      ]
    },
    {
      "cell_type": "markdown",
      "metadata": {
        "id": "mV36HCFbFMUu"
      },
      "source": [
        "There are a lot of categories in the non-numerical data. This is not as worrying as it could be since a lot of the data seems like it is unnecessary for our project. It does not seem like we are going to need Reporting Officer, Agency, and Date Reported. We can just use the hours integer to get the time. \n",
        "\n",
        "Small side note: It would be interesting to look up odds of getting arrested on certain streets depending on who is on duty, but that is outside of the scope of our particular project. "
      ]
    },
    {
      "cell_type": "markdown",
      "metadata": {
        "id": "AIOIhssAIjpI"
      },
      "source": [
        "# Numerical Data"
      ]
    },
    {
      "cell_type": "markdown",
      "metadata": {
        "id": "6ot4zJZOGOp9"
      },
      "source": [
        "Now we will look at histograms of the numerical data below. From this data we will determine what is important information and what is not. "
      ]
    },
    {
      "cell_type": "code",
      "execution_count": 15,
      "metadata": {
        "colab": {
          "base_uri": "https://localhost:8080/",
          "height": 566
        },
        "id": "v2F2rp1KF7X_",
        "outputId": "8b7d6f1a-3eaf-4ea0-cfe9-132ac7a4185f"
      },
      "outputs": [
        {
          "data": {
            "text/plain": [
              "array([[<AxesSubplot:title={'center':'RecordID'}>,\n",
              "        <AxesSubplot:title={'center':'IncidentID'}>],\n",
              "       [<AxesSubplot:title={'center':'BlockNumber'}>,\n",
              "        <AxesSubplot:title={'center':'HourReported'}>]], dtype=object)"
            ]
          },
          "execution_count": 15,
          "metadata": {},
          "output_type": "execute_result"
        },
        {
          "data": {
            "image/png": "[encoded data removed]",
            "text/plain": [
              "<Figure size 2000x1500 with 4 Axes>"
            ]
          },
          "metadata": {},
          "output_type": "display_data"
        }
      ],
      "source": [
        "crimes.hist(bins=50, figsize=(20,15))"
      ]
    },
    {
      "cell_type": "code",
      "execution_count": 16,
      "metadata": {},
      "outputs": [
        {
          "data": {
            "text/plain": [
              "<AxesSubplot:>"
            ]
          },
          "execution_count": 16,
          "metadata": {},
          "output_type": "execute_result"
        },
        {
          "data": {
            "image/png": "[encoded data removed]",
            "text/plain": [
              "<Figure size 640x480 with 1 Axes>"
            ]
          },
          "metadata": {},
          "output_type": "display_data"
        }
      ],
      "source": [
        "crimes['HourReported'].hist(bins=24) # if we use more than 24 bins, the fact that nothing can be reported after 59 minutes makes the bar plot really weird"
      ]
    },
    {
      "cell_type": "markdown",
      "metadata": {
        "id": "AeJyrfFpGcOU"
      },
      "source": [
        "The histrogram of the Record ID behaved exactly as expected. We assumed that Incident ID would also not be very useful but it is organized by year, which will not really fit into what we are doing for this part of the project, but it would be interesting to look at what crimes have become less frequent over time, and it may actually play a role so even though we initially plan on getting rid of it, we will reevaluate as we continue to work on the project. \n",
        "There are some correlations with lower block numbers having more incidents which we did not suspect as a group but more incidents at later hours was something we expected. "
      ]
    },
    {
      "cell_type": "markdown",
      "metadata": {
        "id": "yfQ1oFS7JF_5"
      },
      "source": [
        "# Null Data\n",
        "\n",
        "\n"
      ]
    },
    {
      "cell_type": "markdown",
      "metadata": {
        "id": "s5rkgN3mXrxd"
      },
      "source": [
        "First we will observe the null data and think of a plan to deal with it."
      ]
    },
    {
      "cell_type": "code",
      "execution_count": 17,
      "metadata": {
        "colab": {
          "base_uri": "https://localhost:8080/",
          "height": 444
        },
        "id": "-3FejjABJL_0",
        "outputId": "ad3f84eb-23f6-4afb-de54-07ebc4f942ae"
      },
      "outputs": [
        {
          "data": {
            "text/html": [
              "<div>\n",
              "<style scoped>\n",
              "    .dataframe tbody tr th:only-of-type {\n",
              "        vertical-align: middle;\n",
              "    }\n",
              "\n",
              "    .dataframe tbody tr th {\n",
              "        vertical-align: top;\n",
              "    }\n",
              "\n",
              "    .dataframe thead th {\n",
              "        text-align: right;\n",
              "    }\n",
              "</style>\n",
              "<table border=\"1\" class=\"dataframe\">\n",
              "  <thead>\n",
              "    <tr style=\"text-align: right;\">\n",
              "      <th></th>\n",
              "      <th>RecordID</th>\n",
              "      <th>Offense</th>\n",
              "      <th>IncidentID</th>\n",
              "      <th>BlockNumber</th>\n",
              "      <th>StreetName</th>\n",
              "      <th>Agency</th>\n",
              "      <th>DateReported</th>\n",
              "      <th>HourReported</th>\n",
              "      <th>ReportingOfficer</th>\n",
              "    </tr>\n",
              "  </thead>\n",
              "  <tbody>\n",
              "    <tr>\n",
              "      <th>15</th>\n",
              "      <td>16</td>\n",
              "      <td>Hit and Run</td>\n",
              "      <td>202200029979</td>\n",
              "      <td>NaN</td>\n",
              "      <td>BAILEY RD @ 5TH ST</td>\n",
              "      <td>CPD</td>\n",
              "      <td>2022/10/16 23:08:33+00</td>\n",
              "      <td>1908</td>\n",
              "      <td>Alfonso, Sean</td>\n",
              "    </tr>\n",
              "    <tr>\n",
              "      <th>39</th>\n",
              "      <td>40</td>\n",
              "      <td>Hit and Run</td>\n",
              "      <td>202200029819</td>\n",
              "      <td>NaN</td>\n",
              "      <td>ALTAMONT CIR / W HIGH ST</td>\n",
              "      <td>CPD</td>\n",
              "      <td>2022/10/15 05:38:27+00</td>\n",
              "      <td>138</td>\n",
              "      <td>Lowry, Brent</td>\n",
              "    </tr>\n",
              "    <tr>\n",
              "      <th>55</th>\n",
              "      <td>56</td>\n",
              "      <td>Hit and Run</td>\n",
              "      <td>202200029704</td>\n",
              "      <td>NaN</td>\n",
              "      <td>IVY RD / EMMET ST N</td>\n",
              "      <td>CPD</td>\n",
              "      <td>2022/10/14 04:47:19+00</td>\n",
              "      <td>47</td>\n",
              "      <td>Hounsel, Eli</td>\n",
              "    </tr>\n",
              "    <tr>\n",
              "      <th>57</th>\n",
              "      <td>58</td>\n",
              "      <td>Vandalism</td>\n",
              "      <td>202200029697</td>\n",
              "      <td>NaN</td>\n",
              "      <td>GARRETT ST / 2ND ST SE</td>\n",
              "      <td>CPD</td>\n",
              "      <td>2022/10/14 03:58:33+00</td>\n",
              "      <td>2358</td>\n",
              "      <td>Blackwell, Ryan</td>\n",
              "    </tr>\n",
              "    <tr>\n",
              "      <th>71</th>\n",
              "      <td>72</td>\n",
              "      <td>Assist Citizen - Welfare Check</td>\n",
              "      <td>202200029599</td>\n",
              "      <td>NaN</td>\n",
              "      <td>LANKFORD AVE / 1ST ST S</td>\n",
              "      <td>CPD</td>\n",
              "      <td>2022/10/13 01:58:30+00</td>\n",
              "      <td>2158</td>\n",
              "      <td>Whitten, Tobyn</td>\n",
              "    </tr>\n",
              "  </tbody>\n",
              "</table>\n",
              "</div>"
            ],
            "text/plain": [
              "    RecordID                         Offense    IncidentID  BlockNumber  \\\n",
              "15        16                     Hit and Run  202200029979          NaN   \n",
              "39        40                     Hit and Run  202200029819          NaN   \n",
              "55        56                     Hit and Run  202200029704          NaN   \n",
              "57        58                       Vandalism  202200029697          NaN   \n",
              "71        72  Assist Citizen - Welfare Check  202200029599          NaN   \n",
              "\n",
              "                  StreetName Agency            DateReported  HourReported  \\\n",
              "15        BAILEY RD @ 5TH ST    CPD  2022/10/16 23:08:33+00          1908   \n",
              "39  ALTAMONT CIR / W HIGH ST    CPD  2022/10/15 05:38:27+00           138   \n",
              "55       IVY RD / EMMET ST N    CPD  2022/10/14 04:47:19+00            47   \n",
              "57    GARRETT ST / 2ND ST SE    CPD  2022/10/14 03:58:33+00          2358   \n",
              "71   LANKFORD AVE / 1ST ST S    CPD  2022/10/13 01:58:30+00          2158   \n",
              "\n",
              "   ReportingOfficer  \n",
              "15    Alfonso, Sean  \n",
              "39     Lowry, Brent  \n",
              "55     Hounsel, Eli  \n",
              "57  Blackwell, Ryan  \n",
              "71   Whitten, Tobyn  "
            ]
          },
          "execution_count": 17,
          "metadata": {},
          "output_type": "execute_result"
        }
      ],
      "source": [
        "incomplete_data = crimes[crimes.isnull().any(axis=1)].head()\n",
        "incomplete_data"
      ]
    },
    {
      "cell_type": "code",
      "execution_count": 18,
      "metadata": {
        "colab": {
          "base_uri": "https://localhost:8080/"
        },
        "id": "MhkNtVQwJgbe",
        "outputId": "9d3144eb-e9b7-4fbb-c2eb-054c5309af15"
      },
      "outputs": [
        {
          "name": "stdout",
          "output_type": "stream",
          "text": [
            "<class 'pandas.core.frame.DataFrame'>\n",
            "Int64Index: 23189 entries, 0 to 24576\n",
            "Data columns (total 9 columns):\n",
            " #   Column            Non-Null Count  Dtype  \n",
            "---  ------            --------------  -----  \n",
            " 0   RecordID          23189 non-null  int64  \n",
            " 1   Offense           23189 non-null  object \n",
            " 2   IncidentID        23189 non-null  int64  \n",
            " 3   BlockNumber       23189 non-null  float64\n",
            " 4   StreetName        23189 non-null  object \n",
            " 5   Agency            23189 non-null  object \n",
            " 6   DateReported      23189 non-null  object \n",
            " 7   HourReported      23189 non-null  int64  \n",
            " 8   ReportingOfficer  23189 non-null  object \n",
            "dtypes: float64(1), int64(3), object(5)\n",
            "memory usage: 1.8+ MB\n"
          ]
        }
      ],
      "source": [
        "crimes_without_null = crimes.dropna()\n",
        "crimes_without_null.info()"
      ]
    },
    {
      "cell_type": "code",
      "execution_count": 19,
      "metadata": {
        "colab": {
          "base_uri": "https://localhost:8080/"
        },
        "id": "nnVLbWixK9qM",
        "outputId": "26ecf8cd-9b27-4bfb-b6a7-d2ceb8f615af"
      },
      "outputs": [
        {
          "name": "stdout",
          "output_type": "stream",
          "text": [
            "<class 'pandas.core.frame.DataFrame'>\n",
            "RangeIndex: 24577 entries, 0 to 24576\n",
            "Data columns (total 9 columns):\n",
            " #   Column            Non-Null Count  Dtype  \n",
            "---  ------            --------------  -----  \n",
            " 0   RecordID          24577 non-null  int64  \n",
            " 1   Offense           24577 non-null  object \n",
            " 2   IncidentID        24577 non-null  int64  \n",
            " 3   BlockNumber       23229 non-null  float64\n",
            " 4   StreetName        24577 non-null  object \n",
            " 5   Agency            24577 non-null  object \n",
            " 6   DateReported      24577 non-null  object \n",
            " 7   HourReported      24577 non-null  int64  \n",
            " 8   ReportingOfficer  24534 non-null  object \n",
            "dtypes: float64(1), int64(3), object(5)\n",
            "memory usage: 1.7+ MB\n"
          ]
        }
      ],
      "source": [
        "crimes.info()"
      ]
    },
    {
      "cell_type": "markdown",
      "metadata": {
        "id": "kv-CCkMzLC-u"
      },
      "source": [
        "Looking at the data we see that there are about 1300 missing block numbers, I am not sure how cobining this data with the streetnames is going to work but we will try to use an imputer but it may cause some strange behaviors that will need to be looked at later depending on our observations."
      ]
    },
    {
      "cell_type": "code",
      "execution_count": 20,
      "metadata": {
        "id": "GpZGV5jDKeQx"
      },
      "outputs": [],
      "source": [
        "imputer = SimpleImputer(strategy=\"median\")"
      ]
    },
    {
      "cell_type": "markdown",
      "metadata": {
        "id": "c7M24p3RXze3"
      },
      "source": [
        "Here we are going to look at imputing the data but we decided we would get rid of the values that do not matter first. "
      ]
    },
    {
      "cell_type": "code",
      "execution_count": 21,
      "metadata": {
        "colab": {
          "base_uri": "https://localhost:8080/"
        },
        "id": "RJ1e3FV8ZlxU",
        "outputId": "5b777a73-5f12-4d52-8c30-19c49d2ccd70"
      },
      "outputs": [
        {
          "name": "stdout",
          "output_type": "stream",
          "text": [
            "<class 'pandas.core.frame.DataFrame'>\n",
            "RangeIndex: 24577 entries, 0 to 24576\n",
            "Data columns (total 9 columns):\n",
            " #   Column            Non-Null Count  Dtype  \n",
            "---  ------            --------------  -----  \n",
            " 0   RecordID          24577 non-null  int64  \n",
            " 1   Offense           24577 non-null  object \n",
            " 2   IncidentID        24577 non-null  int64  \n",
            " 3   BlockNumber       23229 non-null  float64\n",
            " 4   StreetName        24577 non-null  object \n",
            " 5   Agency            24577 non-null  object \n",
            " 6   DateReported      24577 non-null  object \n",
            " 7   HourReported      24577 non-null  int64  \n",
            " 8   ReportingOfficer  24534 non-null  object \n",
            "dtypes: float64(1), int64(3), object(5)\n",
            "memory usage: 1.7+ MB\n"
          ]
        }
      ],
      "source": [
        "crimes.info()"
      ]
    },
    {
      "cell_type": "code",
      "execution_count": 32,
      "metadata": {
        "colab": {
          "base_uri": "https://localhost:8080/",
          "height": 397
        },
        "id": "Iq8mWEMUZWsy",
        "outputId": "7fac3461-5c99-4071-c288-9e8aa5f378d6"
      },
      "outputs": [],
      "source": [
        "crimes_lean = crimes.drop([\"ReportingOfficer\",\"IncidentID\",\"Agency\",\"RecordID\",],axis=1)"
      ]
    },
    {
      "cell_type": "code",
      "execution_count": 25,
      "metadata": {
        "id": "Uk_GRGlwaSrA"
      },
      "outputs": [],
      "source": [
        "crime_num = crimes_lean.drop([\"Offense\",\"DateReported\",\"StreetName\"], axis=1)"
      ]
    },
    {
      "cell_type": "code",
      "execution_count": 26,
      "metadata": {
        "colab": {
          "base_uri": "https://localhost:8080/"
        },
        "id": "4p11irr-a1V-",
        "outputId": "c189555b-68c6-48e9-8637-308047641c8a"
      },
      "outputs": [
        {
          "data": {
            "text/html": [
              "<style>#sk-container-id-1 {color: black;background-color: white;}#sk-container-id-1 pre{padding: 0;}#sk-container-id-1 div.sk-toggleable {background-color: white;}#sk-container-id-1 label.sk-toggleable__label {cursor: pointer;display: block;width: 100%;margin-bottom: 0;padding: 0.3em;box-sizing: border-box;text-align: center;}#sk-container-id-1 label.sk-toggleable__label-arrow:before {content: \"▸\";float: left;margin-right: 0.25em;color: #696969;}#sk-container-id-1 label.sk-toggleable__label-arrow:hover:before {color: black;}#sk-container-id-1 div.sk-estimator:hover label.sk-toggleable__label-arrow:before {color: black;}#sk-container-id-1 div.sk-toggleable__content {max-height: 0;max-width: 0;overflow: hidden;text-align: left;background-color: #f0f8ff;}#sk-container-id-1 div.sk-toggleable__content pre {margin: 0.2em;color: black;border-radius: 0.25em;background-color: #f0f8ff;}#sk-container-id-1 input.sk-toggleable__control:checked~div.sk-toggleable__content {max-height: 200px;max-width: 100%;overflow: auto;}#sk-container-id-1 input.sk-toggleable__control:checked~label.sk-toggleable__label-arrow:before {content: \"▾\";}#sk-container-id-1 div.sk-estimator input.sk-toggleable__control:checked~label.sk-toggleable__label {background-color: #d4ebff;}#sk-container-id-1 div.sk-label input.sk-toggleable__control:checked~label.sk-toggleable__label {background-color: #d4ebff;}#sk-container-id-1 input.sk-hidden--visually {border: 0;clip: rect(1px 1px 1px 1px);clip: rect(1px, 1px, 1px, 1px);height: 1px;margin: -1px;overflow: hidden;padding: 0;position: absolute;width: 1px;}#sk-container-id-1 div.sk-estimator {font-family: monospace;background-color: #f0f8ff;border: 1px dotted black;border-radius: 0.25em;box-sizing: border-box;margin-bottom: 0.5em;}#sk-container-id-1 div.sk-estimator:hover {background-color: #d4ebff;}#sk-container-id-1 div.sk-parallel-item::after {content: \"\";width: 100%;border-bottom: 1px solid gray;flex-grow: 1;}#sk-container-id-1 div.sk-label:hover label.sk-toggleable__label {background-color: #d4ebff;}#sk-container-id-1 div.sk-serial::before {content: \"\";position: absolute;border-left: 1px solid gray;box-sizing: border-box;top: 0;bottom: 0;left: 50%;z-index: 0;}#sk-container-id-1 div.sk-serial {display: flex;flex-direction: column;align-items: center;background-color: white;padding-right: 0.2em;padding-left: 0.2em;position: relative;}#sk-container-id-1 div.sk-item {position: relative;z-index: 1;}#sk-container-id-1 div.sk-parallel {display: flex;align-items: stretch;justify-content: center;background-color: white;position: relative;}#sk-container-id-1 div.sk-item::before, #sk-container-id-1 div.sk-parallel-item::before {content: \"\";position: absolute;border-left: 1px solid gray;box-sizing: border-box;top: 0;bottom: 0;left: 50%;z-index: -1;}#sk-container-id-1 div.sk-parallel-item {display: flex;flex-direction: column;z-index: 1;position: relative;background-color: white;}#sk-container-id-1 div.sk-parallel-item:first-child::after {align-self: flex-end;width: 50%;}#sk-container-id-1 div.sk-parallel-item:last-child::after {align-self: flex-start;width: 50%;}#sk-container-id-1 div.sk-parallel-item:only-child::after {width: 0;}#sk-container-id-1 div.sk-dashed-wrapped {border: 1px dashed gray;margin: 0 0.4em 0.5em 0.4em;box-sizing: border-box;padding-bottom: 0.4em;background-color: white;}#sk-container-id-1 div.sk-label label {font-family: monospace;font-weight: bold;display: inline-block;line-height: 1.2em;}#sk-container-id-1 div.sk-label-container {text-align: center;}#sk-container-id-1 div.sk-container {/* jupyter's `normalize.less` sets `[hidden] { display: none; }` but bootstrap.min.css set `[hidden] { display: none !important; }` so we also need the `!important` here to be able to override the default hidden behavior on the sphinx rendered scikit-learn.org. See: https://github.com/scikit-learn/scikit-learn/issues/21755 */display: inline-block !important;position: relative;}#sk-container-id-1 div.sk-text-repr-fallback {display: none;}</style><div id=\"sk-container-id-1\" class=\"sk-top-container\"><div class=\"sk-text-repr-fallback\"><pre>SimpleImputer(strategy=&#x27;median&#x27;)</pre><b>In a Jupyter environment, please rerun this cell to show the HTML representation or trust the notebook. <br />On GitHub, the HTML representation is unable to render, please try loading this page with nbviewer.org.</b></div><div class=\"sk-container\" hidden><div class=\"sk-item\"><div class=\"sk-estimator sk-toggleable\"><input class=\"sk-toggleable__control sk-hidden--visually\" id=\"sk-estimator-id-1\" type=\"checkbox\" checked><label for=\"sk-estimator-id-1\" class=\"sk-toggleable__label sk-toggleable__label-arrow\">SimpleImputer</label><div class=\"sk-toggleable__content\"><pre>SimpleImputer(strategy=&#x27;median&#x27;)</pre></div></div></div></div></div>"
            ],
            "text/plain": [
              "SimpleImputer(strategy='median')"
            ]
          },
          "execution_count": 26,
          "metadata": {},
          "output_type": "execute_result"
        }
      ],
      "source": [
        "imputer.fit(crime_num)"
      ]
    },
    {
      "cell_type": "markdown",
      "metadata": {
        "id": "qgaRTCFBcCmD"
      },
      "source": [
        "Just want to look at the data in the imputed state"
      ]
    },
    {
      "cell_type": "code",
      "execution_count": 27,
      "metadata": {
        "colab": {
          "base_uri": "https://localhost:8080/"
        },
        "id": "bbZrDBBga9Dk",
        "outputId": "4efefb76-ee9c-402e-857c-be077dae4843"
      },
      "outputs": [
        {
          "data": {
            "text/plain": [
              "array([ 800., 1405.])"
            ]
          },
          "execution_count": 27,
          "metadata": {},
          "output_type": "execute_result"
        }
      ],
      "source": [
        "imputer.statistics_"
      ]
    },
    {
      "cell_type": "code",
      "execution_count": 28,
      "metadata": {
        "colab": {
          "base_uri": "https://localhost:8080/"
        },
        "id": "BzOp0Jv7bH85",
        "outputId": "9b44a434-4f97-4dbb-f3ab-58640efed43e"
      },
      "outputs": [
        {
          "data": {
            "text/plain": [
              "array([ 800., 1405.])"
            ]
          },
          "execution_count": 28,
          "metadata": {},
          "output_type": "execute_result"
        }
      ],
      "source": [
        "crime_num.median().values"
      ]
    },
    {
      "cell_type": "markdown",
      "metadata": {
        "id": "aRRa2TLqcIYU"
      },
      "source": [
        "Now we need to deal with the categorical data. This is where some big adjustments to what we have input need to happen. "
      ]
    },
    {
      "cell_type": "code",
      "execution_count": 29,
      "metadata": {
        "colab": {
          "base_uri": "https://localhost:8080/",
          "height": 363
        },
        "id": "5gY23EomcO_i",
        "outputId": "18459b73-20fe-49cc-fa56-9cc8c74f3576"
      },
      "outputs": [
        {
          "data": {
            "text/html": [
              "<div>\n",
              "<style scoped>\n",
              "    .dataframe tbody tr th:only-of-type {\n",
              "        vertical-align: middle;\n",
              "    }\n",
              "\n",
              "    .dataframe tbody tr th {\n",
              "        vertical-align: top;\n",
              "    }\n",
              "\n",
              "    .dataframe thead th {\n",
              "        text-align: right;\n",
              "    }\n",
              "</style>\n",
              "<table border=\"1\" class=\"dataframe\">\n",
              "  <thead>\n",
              "    <tr style=\"text-align: right;\">\n",
              "      <th></th>\n",
              "      <th>Offense</th>\n",
              "    </tr>\n",
              "  </thead>\n",
              "  <tbody>\n",
              "    <tr>\n",
              "      <th>0</th>\n",
              "      <td>Larceny - All Other</td>\n",
              "    </tr>\n",
              "    <tr>\n",
              "      <th>1</th>\n",
              "      <td>Burglary</td>\n",
              "    </tr>\n",
              "    <tr>\n",
              "      <th>2</th>\n",
              "      <td>Assault Aggravated</td>\n",
              "    </tr>\n",
              "    <tr>\n",
              "      <th>3</th>\n",
              "      <td>Assist Citizen - Mental/TDO/ECO</td>\n",
              "    </tr>\n",
              "    <tr>\n",
              "      <th>4</th>\n",
              "      <td>Assault Simple</td>\n",
              "    </tr>\n",
              "    <tr>\n",
              "      <th>5</th>\n",
              "      <td>Trespass</td>\n",
              "    </tr>\n",
              "    <tr>\n",
              "      <th>6</th>\n",
              "      <td>Motor Vehicle Theft</td>\n",
              "    </tr>\n",
              "    <tr>\n",
              "      <th>7</th>\n",
              "      <td>Larceny - Theft from Building</td>\n",
              "    </tr>\n",
              "    <tr>\n",
              "      <th>8</th>\n",
              "      <td>Larceny - From Motor Vehicle</td>\n",
              "    </tr>\n",
              "    <tr>\n",
              "      <th>9</th>\n",
              "      <td>Drug/Narcotics Violation</td>\n",
              "    </tr>\n",
              "  </tbody>\n",
              "</table>\n",
              "</div>"
            ],
            "text/plain": [
              "                           Offense\n",
              "0              Larceny - All Other\n",
              "1                         Burglary\n",
              "2               Assault Aggravated\n",
              "3  Assist Citizen - Mental/TDO/ECO\n",
              "4                   Assault Simple\n",
              "5                         Trespass\n",
              "6              Motor Vehicle Theft\n",
              "7    Larceny - Theft from Building\n",
              "8     Larceny - From Motor Vehicle\n",
              "9         Drug/Narcotics Violation"
            ]
          },
          "execution_count": 29,
          "metadata": {},
          "output_type": "execute_result"
        }
      ],
      "source": [
        "crime_offense_cat = crimes[[\"Offense\"]]\n",
        "crime_offense_cat.head(10)"
      ]
    },
    {
      "cell_type": "markdown",
      "metadata": {},
      "source": [
        "We are going to have to label these by hand by the look of it. There's no way to infer how dangerous an offense is by machine, unless perhaps by some sophisticated NLP algorithm which would take longer to write and design than it would to do this project most likely.\n",
        "\n",
        "It is important to acknowledge the fact that our labelling of the data is an inherent source of bias. Unfortunately, if we wish to use this data for predicting safety, it will be necessary as a trade-off, because it would just be too innacurrate to base a decision on walking safety on occurence of trafic law violations or something of that nature. Thus, this is a tradeoff that has to be acknowledged as an inherent source of bias since this is not really a clear-cut line between \"violent\" and \"non-violent\". Additionally, there seem to be some categories that we may or may not actually be able to interpret clearly, such as `'Tactical Crime Initiative - TCI'`, which may mean something to the police department, but has litte meaning for us, unless it's something we can find on Google. There may be very few features with these categorizations however, so this may be a case where we can simply drop those records."
      ]
    },
    {
      "cell_type": "markdown",
      "metadata": {},
      "source": [
        ". . .  time elapses . . .\n",
        "\n",
        "\n",
        "\n",
        "\n",
        "Having now hand-jammed an ordinal encoding for the categorical offense data, we can load it and see if we can't use this engineered feature to our advantage."
      ]
    },
    {
      "cell_type": "code",
      "execution_count": 45,
      "metadata": {},
      "outputs": [
        {
          "data": {
            "text/html": [
              "<div>\n",
              "<style scoped>\n",
              "    .dataframe tbody tr th:only-of-type {\n",
              "        vertical-align: middle;\n",
              "    }\n",
              "\n",
              "    .dataframe tbody tr th {\n",
              "        vertical-align: top;\n",
              "    }\n",
              "\n",
              "    .dataframe thead th {\n",
              "        text-align: right;\n",
              "    }\n",
              "</style>\n",
              "<table border=\"1\" class=\"dataframe\">\n",
              "  <thead>\n",
              "    <tr style=\"text-align: right;\">\n",
              "      <th></th>\n",
              "      <th>Offense</th>\n",
              "      <th>Danger_Level</th>\n",
              "    </tr>\n",
              "  </thead>\n",
              "  <tbody>\n",
              "    <tr>\n",
              "      <th>0</th>\n",
              "      <td>911 Investigation</td>\n",
              "      <td>1.0</td>\n",
              "    </tr>\n",
              "    <tr>\n",
              "      <th>1</th>\n",
              "      <td>Accident - w/out Injuries</td>\n",
              "      <td>0.0</td>\n",
              "    </tr>\n",
              "    <tr>\n",
              "      <th>2</th>\n",
              "      <td>Accident Private Property</td>\n",
              "      <td>2.0</td>\n",
              "    </tr>\n",
              "    <tr>\n",
              "      <th>3</th>\n",
              "      <td>Accident Property Damage</td>\n",
              "      <td>2.0</td>\n",
              "    </tr>\n",
              "    <tr>\n",
              "      <th>4</th>\n",
              "      <td>Accident w/Injuries</td>\n",
              "      <td>2.0</td>\n",
              "    </tr>\n",
              "  </tbody>\n",
              "</table>\n",
              "</div>"
            ],
            "text/plain": [
              "                     Offense  Danger_Level\n",
              "0          911 Investigation           1.0\n",
              "1  Accident - w/out Injuries           0.0\n",
              "2  Accident Private Property           2.0\n",
              "3   Accident Property Damage           2.0\n",
              "4        Accident w/Injuries           2.0"
            ]
          },
          "execution_count": 45,
          "metadata": {},
          "output_type": "execute_result"
        }
      ],
      "source": [
        "ord_offenses = load_oridinal_violence_features()\n",
        "ord_offenses.head()"
      ]
    },
    {
      "cell_type": "markdown",
      "metadata": {},
      "source": [
        "Unfortunately, this kind of solution is very prone to error, and introduces much inherent bias. This is probably something that it would be good to ask the police department to do, since they actually understand what all of the offences are and how dangerous they really are. Sadly, we are not the police force and they probably would not have time for such a thing if we were to ask them to do it."
      ]
    },
    {
      "cell_type": "markdown",
      "metadata": {},
      "source": [
        "The next task is to try and get this data mapped into the main data set. Notably, `ord_offenses` only has one entry for each kind of offense, so we will have to use some kind of pandas trick here. Or maybe just a good old fashioned nested for loop . . . Parallelization! I blow my nose at you!"
      ]
    },
    {
      "cell_type": "code",
      "execution_count": 47,
      "metadata": {},
      "outputs": [
        {
          "data": {
            "text/html": [
              "<div>\n",
              "<style scoped>\n",
              "    .dataframe tbody tr th:only-of-type {\n",
              "        vertical-align: middle;\n",
              "    }\n",
              "\n",
              "    .dataframe tbody tr th {\n",
              "        vertical-align: top;\n",
              "    }\n",
              "\n",
              "    .dataframe thead th {\n",
              "        text-align: right;\n",
              "    }\n",
              "</style>\n",
              "<table border=\"1\" class=\"dataframe\">\n",
              "  <thead>\n",
              "    <tr style=\"text-align: right;\">\n",
              "      <th></th>\n",
              "      <th>Offense</th>\n",
              "      <th>BlockNumber</th>\n",
              "      <th>StreetName</th>\n",
              "      <th>DateReported</th>\n",
              "      <th>HourReported</th>\n",
              "      <th>Danger</th>\n",
              "    </tr>\n",
              "  </thead>\n",
              "  <tbody>\n",
              "    <tr>\n",
              "      <th>0</th>\n",
              "      <td>Larceny - All Other</td>\n",
              "      <td>800.0</td>\n",
              "      <td>ELLIOTT AVE</td>\n",
              "      <td>2022/10/18 01:08:59+00</td>\n",
              "      <td>2108</td>\n",
              "      <td>3.0</td>\n",
              "    </tr>\n",
              "    <tr>\n",
              "      <th>1</th>\n",
              "      <td>Burglary</td>\n",
              "      <td>800.0</td>\n",
              "      <td>RAYMOND RD</td>\n",
              "      <td>2022/10/18 00:31:50+00</td>\n",
              "      <td>2031</td>\n",
              "      <td>4.0</td>\n",
              "    </tr>\n",
              "    <tr>\n",
              "      <th>2</th>\n",
              "      <td>Assault Aggravated</td>\n",
              "      <td>900.0</td>\n",
              "      <td>W MAIN ST</td>\n",
              "      <td>2022/10/17 23:40:34+00</td>\n",
              "      <td>1940</td>\n",
              "      <td>4.0</td>\n",
              "    </tr>\n",
              "    <tr>\n",
              "      <th>3</th>\n",
              "      <td>Assist Citizen - Mental/TDO/ECO</td>\n",
              "      <td>600.0</td>\n",
              "      <td>E MARKET ST</td>\n",
              "      <td>2022/10/17 22:24:21+00</td>\n",
              "      <td>1824</td>\n",
              "      <td>0.0</td>\n",
              "    </tr>\n",
              "    <tr>\n",
              "      <th>4</th>\n",
              "      <td>Assault Simple</td>\n",
              "      <td>1400.0</td>\n",
              "      <td>UNIVERSITY AVE</td>\n",
              "      <td>2022/10/17 19:58:39+00</td>\n",
              "      <td>1558</td>\n",
              "      <td>4.0</td>\n",
              "    </tr>\n",
              "  </tbody>\n",
              "</table>\n",
              "</div>"
            ],
            "text/plain": [
              "                           Offense  BlockNumber      StreetName  \\\n",
              "0              Larceny - All Other        800.0     ELLIOTT AVE   \n",
              "1                         Burglary        800.0      RAYMOND RD   \n",
              "2               Assault Aggravated        900.0       W MAIN ST   \n",
              "3  Assist Citizen - Mental/TDO/ECO        600.0     E MARKET ST   \n",
              "4                   Assault Simple       1400.0  UNIVERSITY AVE   \n",
              "\n",
              "             DateReported  HourReported  Danger  \n",
              "0  2022/10/18 01:08:59+00          2108     3.0  \n",
              "1  2022/10/18 00:31:50+00          2031     4.0  \n",
              "2  2022/10/17 23:40:34+00          1940     4.0  \n",
              "3  2022/10/17 22:24:21+00          1824     0.0  \n",
              "4  2022/10/17 19:58:39+00          1558     4.0  "
            ]
          },
          "execution_count": 47,
          "metadata": {},
          "output_type": "execute_result"
        }
      ],
      "source": [
        "# # first, we'll add a duplicate of the `Offense` column for the `danger` feature\n",
        "crimes_lean['Danger'] = crimes_lean.loc[:, 'Offense']\n",
        "\n",
        "# next, we'll turn the `ord_offenses` data frame into a dictionary\n",
        "danger_dict = dict(zip(ord_offenses.Offense, ord_offenses.Danger_Level))\n",
        "# print(danger_dict)\n",
        "\n",
        "# finally, we can map the new `Danger` column to it's categorical value\n",
        "crimes_lean['Danger'] = crimes_lean['Danger'].map(danger_dict)\n",
        "\n",
        "# now, we can take a peek at our lovely new column!\n",
        "crimes_lean.head()"
      ]
    },
    {
      "cell_type": "code",
      "execution_count": 52,
      "metadata": {},
      "outputs": [
        {
          "data": {
            "text/plain": [
              "<AxesSubplot:>"
            ]
          },
          "execution_count": 52,
          "metadata": {},
          "output_type": "execute_result"
        },
        {
          "data": {
            "image/png": "[encoded data removed]",
            "text/plain": [
              "<Figure size 640x480 with 1 Axes>"
            ]
          },
          "metadata": {},
          "output_type": "display_data"
        }
      ],
      "source": [
        "crimes_lean['Danger'].hist(bins=5)"
      ]
    }
  ],
  "metadata": {
    "colab": {
      "collapsed_sections": [],
      "provenance": []
    },
    "kernelspec": {
      "display_name": "Python 3.10.6 64-bit",
      "language": "python",
      "name": "python3"
    },
    "language_info": {
      "codemirror_mode": {
        "name": "ipython",
        "version": 3
      },
      "file_extension": ".py",
      "mimetype": "text/x-python",
      "name": "python",
      "nbconvert_exporter": "python",
      "pygments_lexer": "ipython3",
      "version": "3.10.6"
    },
    "vscode": {
      "interpreter": {
        "hash": "26de051ba29f2982a8de78e945f0abaf191376122a1563185a90213a26c5da77"
      }
    }
  },
  "nbformat": 4,
  "nbformat_minor": 0
}
