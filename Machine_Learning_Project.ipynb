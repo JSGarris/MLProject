{
  "cells": [
    {
      "cell_type": "code",
      "execution_count": null,
      "metadata": {
        "id": "QoOSTe5I6Om6"
      },
      "outputs": [],
      "source": [
        "# Some common packages that we may need\n",
        "from pandas.plotting import scatter_matrix \n",
        "from sklearn.impute import SimpleImputer\n",
        "from sklearn.preprocessing import LabelEncoder\n",
        "from sklearn.preprocessing import OneHotEncoder\n",
        "from sklearn.pipeline import Pipeline\n",
        "from sklearn.preprocessing import StandardScaler\n",
        "\n",
        "# Import some common packages\n",
        "import os\n",
        "import numpy as np\n",
        "import matplotlib\n",
        "import matplotlib.pyplot as plt\n",
        "import pandas as pd\n",
        "\n",
        "# to make this notebook's output stable across runs\n",
        "np.random.seed(42)\n",
        "\n",
        "def load_police_data():\n",
        "  crimes=pd.read_csv('/content/sample_data/Crime_Data.csv')\n",
        "  return crimes"
      ]
    },
    {
      "cell_type": "markdown",
      "metadata": {
        "id": "A9hjjV5SDs0z"
      },
      "source": [
        "Now that the data is loaded we want to look at the data and see how it is organized and what groups are being used. We can also get some insight onto if the data may be useful adn we can look and see how we may split or encode our data."
      ]
    },
    {
      "cell_type": "code",
      "execution_count": null,
      "metadata": {
        "colab": {
          "base_uri": "https://localhost:8080/"
        },
        "id": "CZEtJ3IB6P3a",
        "outputId": "6b50b936-dc14-49b9-fecd-21461f2ee4f4"
      },
      "outputs": [
        {
          "name": "stdout",
          "output_type": "stream",
          "text": [
            "<class 'pandas.core.frame.DataFrame'>\n",
            "RangeIndex: 24577 entries, 0 to 24576\n",
            "Data columns (total 9 columns):\n",
            " #   Column            Non-Null Count  Dtype  \n",
            "---  ------            --------------  -----  \n",
            " 0   RecordID          24577 non-null  int64  \n",
            " 1   Offense           24577 non-null  object \n",
            " 2   IncidentID        24577 non-null  float64\n",
            " 3   BlockNumber       23229 non-null  float64\n",
            " 4   StreetName        24577 non-null  object \n",
            " 5   Agency            24577 non-null  object \n",
            " 6   DateReported      24577 non-null  object \n",
            " 7   HourReported      24577 non-null  int64  \n",
            " 8   ReportingOfficer  24534 non-null  object \n",
            "dtypes: float64(2), int64(2), object(5)\n",
            "memory usage: 1.7+ MB\n"
          ]
        }
      ],
      "source": [
        "crimes = load_police_data()\n",
        "crimes.info()"
      ]
    },
    {
      "cell_type": "code",
      "execution_count": null,
      "metadata": {
        "colab": {
          "base_uri": "https://localhost:8080/",
          "height": 601
        },
        "id": "7DdYGrkM6AAu",
        "outputId": "20e3dfee-509c-4997-cad9-b5c56ff8ab95"
      },
      "outputs": [
        {
          "data": {
            "text/html": [
              "\n",
              "  <div id=\"df-644f15e3-8410-456a-ad1d-e86c7792878f\">\n",
              "    <div class=\"colab-df-container\">\n",
              "      <div>\n",
              "<style scoped>\n",
              "    .dataframe tbody tr th:only-of-type {\n",
              "        vertical-align: middle;\n",
              "    }\n",
              "\n",
              "    .dataframe tbody tr th {\n",
              "        vertical-align: top;\n",
              "    }\n",
              "\n",
              "    .dataframe thead th {\n",
              "        text-align: right;\n",
              "    }\n",
              "</style>\n",
              "<table border=\"1\" class=\"dataframe\">\n",
              "  <thead>\n",
              "    <tr style=\"text-align: right;\">\n",
              "      <th></th>\n",
              "      <th>RecordID</th>\n",
              "      <th>Offense</th>\n",
              "      <th>IncidentID</th>\n",
              "      <th>BlockNumber</th>\n",
              "      <th>StreetName</th>\n",
              "      <th>Agency</th>\n",
              "      <th>DateReported</th>\n",
              "      <th>HourReported</th>\n",
              "      <th>ReportingOfficer</th>\n",
              "    </tr>\n",
              "  </thead>\n",
              "  <tbody>\n",
              "    <tr>\n",
              "      <th>0</th>\n",
              "      <td>1</td>\n",
              "      <td>Larceny - All Other</td>\n",
              "      <td>2.022000e+11</td>\n",
              "      <td>800.0</td>\n",
              "      <td>ELLIOTT AVE</td>\n",
              "      <td>CPD</td>\n",
              "      <td>2022/10/18 01:08:59+00</td>\n",
              "      <td>2108</td>\n",
              "      <td>Lowe, Courtney</td>\n",
              "    </tr>\n",
              "    <tr>\n",
              "      <th>1</th>\n",
              "      <td>2</td>\n",
              "      <td>Burglary</td>\n",
              "      <td>2.022000e+11</td>\n",
              "      <td>800.0</td>\n",
              "      <td>RAYMOND RD</td>\n",
              "      <td>CPD</td>\n",
              "      <td>2022/10/18 00:31:50+00</td>\n",
              "      <td>2031</td>\n",
              "      <td>Lowe, Courtney</td>\n",
              "    </tr>\n",
              "    <tr>\n",
              "      <th>2</th>\n",
              "      <td>3</td>\n",
              "      <td>Assault Aggravated</td>\n",
              "      <td>2.022000e+11</td>\n",
              "      <td>900.0</td>\n",
              "      <td>W MAIN ST</td>\n",
              "      <td>CPD</td>\n",
              "      <td>2022/10/17 23:40:34+00</td>\n",
              "      <td>1940</td>\n",
              "      <td>Alfonso, Sean</td>\n",
              "    </tr>\n",
              "    <tr>\n",
              "      <th>3</th>\n",
              "      <td>4</td>\n",
              "      <td>Assist Citizen - Mental/TDO/ECO</td>\n",
              "      <td>2.022000e+11</td>\n",
              "      <td>600.0</td>\n",
              "      <td>E MARKET ST</td>\n",
              "      <td>CPD</td>\n",
              "      <td>2022/10/17 22:24:21+00</td>\n",
              "      <td>1824</td>\n",
              "      <td>Lowe, Courtney</td>\n",
              "    </tr>\n",
              "    <tr>\n",
              "      <th>4</th>\n",
              "      <td>5</td>\n",
              "      <td>Assault Simple</td>\n",
              "      <td>2.022000e+11</td>\n",
              "      <td>1400.0</td>\n",
              "      <td>UNIVERSITY AVE</td>\n",
              "      <td>CPD</td>\n",
              "      <td>2022/10/17 19:58:39+00</td>\n",
              "      <td>1558</td>\n",
              "      <td>Houchens, Logan</td>\n",
              "    </tr>\n",
              "    <tr>\n",
              "      <th>5</th>\n",
              "      <td>6</td>\n",
              "      <td>Trespass</td>\n",
              "      <td>2.022000e+11</td>\n",
              "      <td>500.0</td>\n",
              "      <td>PRESTON AVE</td>\n",
              "      <td>CPD</td>\n",
              "      <td>2022/10/17 17:35:18+00</td>\n",
              "      <td>1335</td>\n",
              "      <td>Houchens, Jamell</td>\n",
              "    </tr>\n",
              "    <tr>\n",
              "      <th>6</th>\n",
              "      <td>7</td>\n",
              "      <td>Motor Vehicle Theft</td>\n",
              "      <td>2.022000e+11</td>\n",
              "      <td>600.0</td>\n",
              "      <td>14TH ST NW</td>\n",
              "      <td>CPD</td>\n",
              "      <td>2022/10/17 14:54:03+00</td>\n",
              "      <td>1054</td>\n",
              "      <td>Nash, Darius</td>\n",
              "    </tr>\n",
              "    <tr>\n",
              "      <th>7</th>\n",
              "      <td>8</td>\n",
              "      <td>Larceny - Theft from Building</td>\n",
              "      <td>2.022800e+11</td>\n",
              "      <td>100.0</td>\n",
              "      <td>BAYLOR LN</td>\n",
              "      <td>CPD</td>\n",
              "      <td>2022/10/17 13:24:02+00</td>\n",
              "      <td>924</td>\n",
              "      <td>Moje, Ashley</td>\n",
              "    </tr>\n",
              "    <tr>\n",
              "      <th>8</th>\n",
              "      <td>9</td>\n",
              "      <td>Larceny - From Motor Vehicle</td>\n",
              "      <td>2.022800e+11</td>\n",
              "      <td>1400.0</td>\n",
              "      <td>FOREST RIDGE RD</td>\n",
              "      <td>CPD</td>\n",
              "      <td>2022/10/17 12:39:53+00</td>\n",
              "      <td>839</td>\n",
              "      <td>Moje, Ashley</td>\n",
              "    </tr>\n",
              "    <tr>\n",
              "      <th>9</th>\n",
              "      <td>10</td>\n",
              "      <td>Drug/Narcotics Violation</td>\n",
              "      <td>2.022000e+11</td>\n",
              "      <td>1700.0</td>\n",
              "      <td>HYDRAULIC RD</td>\n",
              "      <td>CPD</td>\n",
              "      <td>2022/10/17 10:40:25+00</td>\n",
              "      <td>640</td>\n",
              "      <td>Curry, Brian</td>\n",
              "    </tr>\n",
              "  </tbody>\n",
              "</table>\n",
              "</div>\n",
              "      <button class=\"colab-df-convert\" onclick=\"convertToInteractive('df-644f15e3-8410-456a-ad1d-e86c7792878f')\"\n",
              "              title=\"Convert this dataframe to an interactive table.\"\n",
              "              style=\"display:none;\">\n",
              "        \n",
              "  <svg xmlns=\"http://www.w3.org/2000/svg\" height=\"24px\"viewBox=\"0 0 24 24\"\n",
              "       width=\"24px\">\n",
              "    <path d=\"M0 0h24v24H0V0z\" fill=\"none\"/>\n",
              "    <path d=\"M18.56 5.44l.94 2.06.94-2.06 2.06-.94-2.06-.94-.94-2.06-.94 2.06-2.06.94zm-11 1L8.5 8.5l.94-2.06 2.06-.94-2.06-.94L8.5 2.5l-.94 2.06-2.06.94zm10 10l.94 2.06.94-2.06 2.06-.94-2.06-.94-.94-2.06-.94 2.06-2.06.94z\"/><path d=\"M17.41 7.96l-1.37-1.37c-.4-.4-.92-.59-1.43-.59-.52 0-1.04.2-1.43.59L10.3 9.45l-7.72 7.72c-.78.78-.78 2.05 0 2.83L4 21.41c.39.39.9.59 1.41.59.51 0 1.02-.2 1.41-.59l7.78-7.78 2.81-2.81c.8-.78.8-2.07 0-2.86zM5.41 20L4 18.59l7.72-7.72 1.47 1.35L5.41 20z\"/>\n",
              "  </svg>\n",
              "      </button>\n",
              "      \n",
              "  <style>\n",
              "    .colab-df-container {\n",
              "      display:flex;\n",
              "      flex-wrap:wrap;\n",
              "      gap: 12px;\n",
              "    }\n",
              "\n",
              "    .colab-df-convert {\n",
              "      background-color: #E8F0FE;\n",
              "      border: none;\n",
              "      border-radius: 50%;\n",
              "      cursor: pointer;\n",
              "      display: none;\n",
              "      fill: #1967D2;\n",
              "      height: 32px;\n",
              "      padding: 0 0 0 0;\n",
              "      width: 32px;\n",
              "    }\n",
              "\n",
              "    .colab-df-convert:hover {\n",
              "      background-color: #E2EBFA;\n",
              "      box-shadow: 0px 1px 2px rgba(60, 64, 67, 0.3), 0px 1px 3px 1px rgba(60, 64, 67, 0.15);\n",
              "      fill: #174EA6;\n",
              "    }\n",
              "\n",
              "    [theme=dark] .colab-df-convert {\n",
              "      background-color: #3B4455;\n",
              "      fill: #D2E3FC;\n",
              "    }\n",
              "\n",
              "    [theme=dark] .colab-df-convert:hover {\n",
              "      background-color: #434B5C;\n",
              "      box-shadow: 0px 1px 3px 1px rgba(0, 0, 0, 0.15);\n",
              "      filter: drop-shadow(0px 1px 2px rgba(0, 0, 0, 0.3));\n",
              "      fill: #FFFFFF;\n",
              "    }\n",
              "  </style>\n",
              "\n",
              "      <script>\n",
              "        const buttonEl =\n",
              "          document.querySelector('#df-644f15e3-8410-456a-ad1d-e86c7792878f button.colab-df-convert');\n",
              "        buttonEl.style.display =\n",
              "          google.colab.kernel.accessAllowed ? 'block' : 'none';\n",
              "\n",
              "        async function convertToInteractive(key) {\n",
              "          const element = document.querySelector('#df-644f15e3-8410-456a-ad1d-e86c7792878f');\n",
              "          const dataTable =\n",
              "            await google.colab.kernel.invokeFunction('convertToInteractive',\n",
              "                                                     [key], {});\n",
              "          if (!dataTable) return;\n",
              "\n",
              "          const docLinkHtml = 'Like what you see? Visit the ' +\n",
              "            '<a target=\"_blank\" href=https://colab.research.google.com/notebooks/data_table.ipynb>data table notebook</a>'\n",
              "            + ' to learn more about interactive tables.';\n",
              "          element.innerHTML = '';\n",
              "          dataTable['output_type'] = 'display_data';\n",
              "          await google.colab.output.renderOutput(dataTable, element);\n",
              "          const docLink = document.createElement('div');\n",
              "          docLink.innerHTML = docLinkHtml;\n",
              "          element.appendChild(docLink);\n",
              "        }\n",
              "      </script>\n",
              "    </div>\n",
              "  </div>\n",
              "  "
            ],
            "text/plain": [
              "   RecordID                          Offense    IncidentID  BlockNumber  \\\n",
              "0         1              Larceny - All Other  2.022000e+11        800.0   \n",
              "1         2                         Burglary  2.022000e+11        800.0   \n",
              "2         3               Assault Aggravated  2.022000e+11        900.0   \n",
              "3         4  Assist Citizen - Mental/TDO/ECO  2.022000e+11        600.0   \n",
              "4         5                   Assault Simple  2.022000e+11       1400.0   \n",
              "5         6                         Trespass  2.022000e+11        500.0   \n",
              "6         7              Motor Vehicle Theft  2.022000e+11        600.0   \n",
              "7         8    Larceny - Theft from Building  2.022800e+11        100.0   \n",
              "8         9     Larceny - From Motor Vehicle  2.022800e+11       1400.0   \n",
              "9        10         Drug/Narcotics Violation  2.022000e+11       1700.0   \n",
              "\n",
              "        StreetName Agency            DateReported  HourReported  \\\n",
              "0      ELLIOTT AVE    CPD  2022/10/18 01:08:59+00          2108   \n",
              "1       RAYMOND RD    CPD  2022/10/18 00:31:50+00          2031   \n",
              "2        W MAIN ST    CPD  2022/10/17 23:40:34+00          1940   \n",
              "3      E MARKET ST    CPD  2022/10/17 22:24:21+00          1824   \n",
              "4   UNIVERSITY AVE    CPD  2022/10/17 19:58:39+00          1558   \n",
              "5      PRESTON AVE    CPD  2022/10/17 17:35:18+00          1335   \n",
              "6       14TH ST NW    CPD  2022/10/17 14:54:03+00          1054   \n",
              "7        BAYLOR LN    CPD  2022/10/17 13:24:02+00           924   \n",
              "8  FOREST RIDGE RD    CPD  2022/10/17 12:39:53+00           839   \n",
              "9     HYDRAULIC RD    CPD  2022/10/17 10:40:25+00           640   \n",
              "\n",
              "   ReportingOfficer  \n",
              "0    Lowe, Courtney  \n",
              "1    Lowe, Courtney  \n",
              "2     Alfonso, Sean  \n",
              "3    Lowe, Courtney  \n",
              "4   Houchens, Logan  \n",
              "5  Houchens, Jamell  \n",
              "6      Nash, Darius  \n",
              "7      Moje, Ashley  \n",
              "8      Moje, Ashley  \n",
              "9      Curry, Brian  "
            ]
          },
          "execution_count": 20,
          "metadata": {},
          "output_type": "execute_result"
        }
      ],
      "source": [
        "crimes.head(10)"
      ]
    },
    {
      "cell_type": "code",
      "execution_count": null,
      "metadata": {
        "colab": {
          "base_uri": "https://localhost:8080/"
        },
        "id": "FoNBGaBZDqV8",
        "outputId": "7b9c4cc6-3919-4ade-f22e-ef578f1292ff"
      },
      "outputs": [
        {
          "name": "stdout",
          "output_type": "stream",
          "text": [
            "<class 'pandas.core.frame.DataFrame'>\n",
            "RangeIndex: 24577 entries, 0 to 24576\n",
            "Data columns (total 9 columns):\n",
            " #   Column            Non-Null Count  Dtype  \n",
            "---  ------            --------------  -----  \n",
            " 0   RecordID          24577 non-null  int64  \n",
            " 1   Offense           24577 non-null  object \n",
            " 2   IncidentID        24577 non-null  float64\n",
            " 3   BlockNumber       23229 non-null  float64\n",
            " 4   StreetName        24577 non-null  object \n",
            " 5   Agency            24577 non-null  object \n",
            " 6   DateReported      24577 non-null  object \n",
            " 7   HourReported      24577 non-null  int64  \n",
            " 8   ReportingOfficer  24534 non-null  object \n",
            "dtypes: float64(2), int64(2), object(5)\n",
            "memory usage: 1.7+ MB\n"
          ]
        }
      ],
      "source": [
        "crimes.info()"
      ]
    },
    {
      "cell_type": "markdown",
      "metadata": {
        "id": "slYFckZJIpnE"
      },
      "source": [
        "# Non Numerical Data"
      ]
    },
    {
      "cell_type": "markdown",
      "metadata": {
        "id": "AGo8CBHUESWQ"
      },
      "source": [
        "Now lets look a little closer at the non numerical data"
      ]
    },
    {
      "cell_type": "code",
      "execution_count": null,
      "metadata": {
        "colab": {
          "base_uri": "https://localhost:8080/"
        },
        "id": "gMmPDQjqEs01",
        "outputId": "d3b1a6e5-02f4-48e5-85cd-93472c2636d5"
      },
      "outputs": [
        {
          "data": {
            "text/plain": [
              "Hit and Run                         2120\n",
              "Assault Simple                      1963\n",
              "Suspicious Activity                 1634\n",
              "Vandalism                           1609\n",
              "Larceny - All Other                 1557\n",
              "                                    ... \n",
              "Tactical Crime Initiative - TCI        1\n",
              "911 Investigation                      1\n",
              "Prostitution-assisting/promoting       1\n",
              "Field Interview                        1\n",
              "Alarm-Accidental                       1\n",
              "Name: Offense, Length: 119, dtype: int64"
            ]
          },
          "execution_count": 22,
          "metadata": {},
          "output_type": "execute_result"
        }
      ],
      "source": [
        "crimes[\"Offense\"].value_counts()"
      ]
    },
    {
      "cell_type": "code",
      "execution_count": null,
      "metadata": {
        "colab": {
          "base_uri": "https://localhost:8080/"
        },
        "id": "3F9L_pO3E3El",
        "outputId": "e3ee62cd-b04e-406c-eaa9-7c6a917e10b9"
      },
      "outputs": [
        {
          "data": {
            "text/plain": [
              "E MARKET ST               1134\n",
              "EMMET ST N                1048\n",
              "W MAIN ST                 1007\n",
              "E MAIN ST                  520\n",
              "5TH ST SW                  450\n",
              "                          ... \n",
              "1ST ST S, 207                1\n",
              "MICHIE DR, 115               1\n",
              "HOLIDAY DR, 116              1\n",
              "CULBRETH RD / RUGBY RD       1\n",
              "15TH ST NW, 2013             1\n",
              "Name: StreetName, Length: 3401, dtype: int64"
            ]
          },
          "execution_count": 23,
          "metadata": {},
          "output_type": "execute_result"
        }
      ],
      "source": [
        "crimes[\"StreetName\"].value_counts()"
      ]
    },
    {
      "cell_type": "code",
      "execution_count": null,
      "metadata": {
        "colab": {
          "base_uri": "https://localhost:8080/"
        },
        "id": "g9hUNNInE-YH",
        "outputId": "80f4d32d-fc97-4b36-c213-b329f4553ff1"
      },
      "outputs": [
        {
          "data": {
            "text/plain": [
              "CPD    24577\n",
              "Name: Agency, dtype: int64"
            ]
          },
          "execution_count": 24,
          "metadata": {},
          "output_type": "execute_result"
        }
      ],
      "source": [
        "crimes[\"Agency\"].value_counts()"
      ]
    },
    {
      "cell_type": "code",
      "execution_count": null,
      "metadata": {
        "colab": {
          "base_uri": "https://localhost:8080/"
        },
        "id": "PkOLS_eyFEyt",
        "outputId": "ae3b28e5-fcf7-43c3-f67f-661e0fd4495d"
      },
      "outputs": [
        {
          "data": {
            "text/plain": [
              "2017/10/21 12:30:00+00    6\n",
              "2018/06/29 02:20:19+00    6\n",
              "2017/11/04 15:00:00+00    4\n",
              "2019/10/07 18:46:09+00    4\n",
              "2018/06/15 14:08:49+00    4\n",
              "                         ..\n",
              "2021/04/02 19:55:45+00    1\n",
              "2021/04/03 00:29:07+00    1\n",
              "2021/04/03 02:48:26+00    1\n",
              "2021/04/03 03:17:20+00    1\n",
              "2017/10/20 04:35:00+00    1\n",
              "Name: DateReported, Length: 24453, dtype: int64"
            ]
          },
          "execution_count": 25,
          "metadata": {},
          "output_type": "execute_result"
        }
      ],
      "source": [
        "crimes[\"DateReported\"].value_counts()"
      ]
    },
    {
      "cell_type": "code",
      "execution_count": null,
      "metadata": {
        "colab": {
          "base_uri": "https://localhost:8080/"
        },
        "id": "YCClWbbeFIAY",
        "outputId": "abf73f86-e1bf-4a79-eb87-3f85209ba0ce"
      },
      "outputs": [
        {
          "data": {
            "text/plain": [
              "Moje, Ashley        1060\n",
              "Shiflett, Tammy      611\n",
              "Stein, Nathan        523\n",
              "Newton, Arla         472\n",
              "Pittman, Terry       447\n",
              "                    ... \n",
              "Arnette, Locia         1\n",
              "Beasley, Timothy       1\n",
              "Hopkins, Emma          1\n",
              "Cosgro, Blaine         1\n",
              "Thomas, Alfred         1\n",
              "Name: ReportingOfficer, Length: 175, dtype: int64"
            ]
          },
          "execution_count": 26,
          "metadata": {},
          "output_type": "execute_result"
        }
      ],
      "source": [
        "crimes[\"ReportingOfficer\"].value_counts()"
      ]
    },
    {
      "cell_type": "markdown",
      "metadata": {
        "id": "mV36HCFbFMUu"
      },
      "source": [
        "There are a lot of categories in the non-numerical data. This is not as worrying as it could be since a lot of the data seems like it is unnecessary for our project. It does not seem like we are going to need Reporting Officer, Agency, and Date Reported. We can just use the hours integer to get the time. \n",
        "\n",
        "Small side note: It would be interesting to look up odds of getting arrested on certain streets depending on who is on duty, but that is outside of the scope of our particular project. "
      ]
    },
    {
      "cell_type": "markdown",
      "metadata": {
        "id": "AIOIhssAIjpI"
      },
      "source": [
        "# Numerical Data"
      ]
    },
    {
      "cell_type": "markdown",
      "metadata": {
        "id": "6ot4zJZOGOp9"
      },
      "source": [
        "Now we will look at histograms of the numerical data below. From this data we will determine what is important information and what is not. "
      ]
    },
    {
      "cell_type": "code",
      "execution_count": null,
      "metadata": {
        "colab": {
          "base_uri": "https://localhost:8080/",
          "height": 566
        },
        "id": "v2F2rp1KF7X_",
        "outputId": "8b7d6f1a-3eaf-4ea0-cfe9-132ac7a4185f"
      },
      "outputs": [
        {
          "data": {
            "text/plain": [
              "array([[<matplotlib.axes._subplots.AxesSubplot object at 0x7f4e802aca90>,\n",
              "        <matplotlib.axes._subplots.AxesSubplot object at 0x7f4e80275f90>],\n",
              "       [<matplotlib.axes._subplots.AxesSubplot object at 0x7f4e8023a5d0>,\n",
              "        <matplotlib.axes._subplots.AxesSubplot object at 0x7f4e801efbd0>]],\n",
              "      dtype=object)"
            ]
          },
          "execution_count": 27,
          "metadata": {},
          "output_type": "execute_result"
        },
        {
          "data": {
            "image/png": "[encoded data removed]",
            "text/plain": [
              "<Figure size 1440x1080 with 4 Axes>"
            ]
          },
          "metadata": {
            "needs_background": "light"
          },
          "output_type": "display_data"
        }
      ],
      "source": [
        "crimes.hist(bins=50, figsize=(20,15))"
      ]
    },
    {
      "cell_type": "markdown",
      "metadata": {
        "id": "AeJyrfFpGcOU"
      },
      "source": [
        "The histrogram of the Record ID behaved exactly as expected. We assumed that Incident ID would also not be very useful but it is organized by year, which will not really fit into what we are doing for this part of the project, but it would be interesting to look at what crimes have become less frequent over time, and it may actually play a role so even though we initially plan on getting rid of it, we will reevaluate as we continue to work on the project. \n",
        "There are some correlations with lower block numbers having more incidents which we did not suspect as a group but more incidents at later hours was something we expeted but there is some strange behavior where it rises and falls from hour to hour which we did not suspect. "
      ]
    },
    {
      "cell_type": "markdown",
      "metadata": {
        "id": "yfQ1oFS7JF_5"
      },
      "source": [
        "# Null Data\n",
        "\n",
        "\n"
      ]
    },
    {
      "cell_type": "markdown",
      "metadata": {
        "id": "s5rkgN3mXrxd"
      },
      "source": [
        "First we will observe the null data and think of a plan to deal with it."
      ]
    },
    {
      "cell_type": "code",
      "execution_count": null,
      "metadata": {
        "colab": {
          "base_uri": "https://localhost:8080/",
          "height": 444
        },
        "id": "-3FejjABJL_0",
        "outputId": "ad3f84eb-23f6-4afb-de54-07ebc4f942ae"
      },
      "outputs": [
        {
          "data": {
            "text/html": [
              "\n",
              "  <div id=\"df-5fff054e-1bbf-4331-a65e-d0dd1d6c75ed\">\n",
              "    <div class=\"colab-df-container\">\n",
              "      <div>\n",
              "<style scoped>\n",
              "    .dataframe tbody tr th:only-of-type {\n",
              "        vertical-align: middle;\n",
              "    }\n",
              "\n",
              "    .dataframe tbody tr th {\n",
              "        vertical-align: top;\n",
              "    }\n",
              "\n",
              "    .dataframe thead th {\n",
              "        text-align: right;\n",
              "    }\n",
              "</style>\n",
              "<table border=\"1\" class=\"dataframe\">\n",
              "  <thead>\n",
              "    <tr style=\"text-align: right;\">\n",
              "      <th></th>\n",
              "      <th>RecordID</th>\n",
              "      <th>Offense</th>\n",
              "      <th>IncidentID</th>\n",
              "      <th>BlockNumber</th>\n",
              "      <th>StreetName</th>\n",
              "      <th>Agency</th>\n",
              "      <th>DateReported</th>\n",
              "      <th>HourReported</th>\n",
              "      <th>ReportingOfficer</th>\n",
              "    </tr>\n",
              "  </thead>\n",
              "  <tbody>\n",
              "    <tr>\n",
              "      <th>15</th>\n",
              "      <td>16</td>\n",
              "      <td>Hit and Run</td>\n",
              "      <td>2.022000e+11</td>\n",
              "      <td>NaN</td>\n",
              "      <td>BAILEY RD @ 5TH ST</td>\n",
              "      <td>CPD</td>\n",
              "      <td>2022/10/16 23:08:33+00</td>\n",
              "      <td>1908</td>\n",
              "      <td>Alfonso, Sean</td>\n",
              "    </tr>\n",
              "    <tr>\n",
              "      <th>39</th>\n",
              "      <td>40</td>\n",
              "      <td>Hit and Run</td>\n",
              "      <td>2.022000e+11</td>\n",
              "      <td>NaN</td>\n",
              "      <td>ALTAMONT CIR / W HIGH ST</td>\n",
              "      <td>CPD</td>\n",
              "      <td>2022/10/15 05:38:27+00</td>\n",
              "      <td>138</td>\n",
              "      <td>Lowry, Brent</td>\n",
              "    </tr>\n",
              "    <tr>\n",
              "      <th>55</th>\n",
              "      <td>56</td>\n",
              "      <td>Hit and Run</td>\n",
              "      <td>2.022000e+11</td>\n",
              "      <td>NaN</td>\n",
              "      <td>IVY RD / EMMET ST N</td>\n",
              "      <td>CPD</td>\n",
              "      <td>2022/10/14 04:47:19+00</td>\n",
              "      <td>47</td>\n",
              "      <td>Hounsel, Eli</td>\n",
              "    </tr>\n",
              "    <tr>\n",
              "      <th>57</th>\n",
              "      <td>58</td>\n",
              "      <td>Vandalism</td>\n",
              "      <td>2.022000e+11</td>\n",
              "      <td>NaN</td>\n",
              "      <td>GARRETT ST / 2ND ST SE</td>\n",
              "      <td>CPD</td>\n",
              "      <td>2022/10/14 03:58:33+00</td>\n",
              "      <td>2358</td>\n",
              "      <td>Blackwell, Ryan</td>\n",
              "    </tr>\n",
              "    <tr>\n",
              "      <th>71</th>\n",
              "      <td>72</td>\n",
              "      <td>Assist Citizen - Welfare Check</td>\n",
              "      <td>2.022000e+11</td>\n",
              "      <td>NaN</td>\n",
              "      <td>LANKFORD AVE / 1ST ST S</td>\n",
              "      <td>CPD</td>\n",
              "      <td>2022/10/13 01:58:30+00</td>\n",
              "      <td>2158</td>\n",
              "      <td>Whitten, Tobyn</td>\n",
              "    </tr>\n",
              "  </tbody>\n",
              "</table>\n",
              "</div>\n",
              "      <button class=\"colab-df-convert\" onclick=\"convertToInteractive('df-5fff054e-1bbf-4331-a65e-d0dd1d6c75ed')\"\n",
              "              title=\"Convert this dataframe to an interactive table.\"\n",
              "              style=\"display:none;\">\n",
              "        \n",
              "  <svg xmlns=\"http://www.w3.org/2000/svg\" height=\"24px\"viewBox=\"0 0 24 24\"\n",
              "       width=\"24px\">\n",
              "    <path d=\"M0 0h24v24H0V0z\" fill=\"none\"/>\n",
              "    <path d=\"M18.56 5.44l.94 2.06.94-2.06 2.06-.94-2.06-.94-.94-2.06-.94 2.06-2.06.94zm-11 1L8.5 8.5l.94-2.06 2.06-.94-2.06-.94L8.5 2.5l-.94 2.06-2.06.94zm10 10l.94 2.06.94-2.06 2.06-.94-2.06-.94-.94-2.06-.94 2.06-2.06.94z\"/><path d=\"M17.41 7.96l-1.37-1.37c-.4-.4-.92-.59-1.43-.59-.52 0-1.04.2-1.43.59L10.3 9.45l-7.72 7.72c-.78.78-.78 2.05 0 2.83L4 21.41c.39.39.9.59 1.41.59.51 0 1.02-.2 1.41-.59l7.78-7.78 2.81-2.81c.8-.78.8-2.07 0-2.86zM5.41 20L4 18.59l7.72-7.72 1.47 1.35L5.41 20z\"/>\n",
              "  </svg>\n",
              "      </button>\n",
              "      \n",
              "  <style>\n",
              "    .colab-df-container {\n",
              "      display:flex;\n",
              "      flex-wrap:wrap;\n",
              "      gap: 12px;\n",
              "    }\n",
              "\n",
              "    .colab-df-convert {\n",
              "      background-color: #E8F0FE;\n",
              "      border: none;\n",
              "      border-radius: 50%;\n",
              "      cursor: pointer;\n",
              "      display: none;\n",
              "      fill: #1967D2;\n",
              "      height: 32px;\n",
              "      padding: 0 0 0 0;\n",
              "      width: 32px;\n",
              "    }\n",
              "\n",
              "    .colab-df-convert:hover {\n",
              "      background-color: #E2EBFA;\n",
              "      box-shadow: 0px 1px 2px rgba(60, 64, 67, 0.3), 0px 1px 3px 1px rgba(60, 64, 67, 0.15);\n",
              "      fill: #174EA6;\n",
              "    }\n",
              "\n",
              "    [theme=dark] .colab-df-convert {\n",
              "      background-color: #3B4455;\n",
              "      fill: #D2E3FC;\n",
              "    }\n",
              "\n",
              "    [theme=dark] .colab-df-convert:hover {\n",
              "      background-color: #434B5C;\n",
              "      box-shadow: 0px 1px 3px 1px rgba(0, 0, 0, 0.15);\n",
              "      filter: drop-shadow(0px 1px 2px rgba(0, 0, 0, 0.3));\n",
              "      fill: #FFFFFF;\n",
              "    }\n",
              "  </style>\n",
              "\n",
              "      <script>\n",
              "        const buttonEl =\n",
              "          document.querySelector('#df-5fff054e-1bbf-4331-a65e-d0dd1d6c75ed button.colab-df-convert');\n",
              "        buttonEl.style.display =\n",
              "          google.colab.kernel.accessAllowed ? 'block' : 'none';\n",
              "\n",
              "        async function convertToInteractive(key) {\n",
              "          const element = document.querySelector('#df-5fff054e-1bbf-4331-a65e-d0dd1d6c75ed');\n",
              "          const dataTable =\n",
              "            await google.colab.kernel.invokeFunction('convertToInteractive',\n",
              "                                                     [key], {});\n",
              "          if (!dataTable) return;\n",
              "\n",
              "          const docLinkHtml = 'Like what you see? Visit the ' +\n",
              "            '<a target=\"_blank\" href=https://colab.research.google.com/notebooks/data_table.ipynb>data table notebook</a>'\n",
              "            + ' to learn more about interactive tables.';\n",
              "          element.innerHTML = '';\n",
              "          dataTable['output_type'] = 'display_data';\n",
              "          await google.colab.output.renderOutput(dataTable, element);\n",
              "          const docLink = document.createElement('div');\n",
              "          docLink.innerHTML = docLinkHtml;\n",
              "          element.appendChild(docLink);\n",
              "        }\n",
              "      </script>\n",
              "    </div>\n",
              "  </div>\n",
              "  "
            ],
            "text/plain": [
              "    RecordID                         Offense    IncidentID  BlockNumber  \\\n",
              "15        16                     Hit and Run  2.022000e+11          NaN   \n",
              "39        40                     Hit and Run  2.022000e+11          NaN   \n",
              "55        56                     Hit and Run  2.022000e+11          NaN   \n",
              "57        58                       Vandalism  2.022000e+11          NaN   \n",
              "71        72  Assist Citizen - Welfare Check  2.022000e+11          NaN   \n",
              "\n",
              "                  StreetName Agency            DateReported  HourReported  \\\n",
              "15        BAILEY RD @ 5TH ST    CPD  2022/10/16 23:08:33+00          1908   \n",
              "39  ALTAMONT CIR / W HIGH ST    CPD  2022/10/15 05:38:27+00           138   \n",
              "55       IVY RD / EMMET ST N    CPD  2022/10/14 04:47:19+00            47   \n",
              "57    GARRETT ST / 2ND ST SE    CPD  2022/10/14 03:58:33+00          2358   \n",
              "71   LANKFORD AVE / 1ST ST S    CPD  2022/10/13 01:58:30+00          2158   \n",
              "\n",
              "   ReportingOfficer  \n",
              "15    Alfonso, Sean  \n",
              "39     Lowry, Brent  \n",
              "55     Hounsel, Eli  \n",
              "57  Blackwell, Ryan  \n",
              "71   Whitten, Tobyn  "
            ]
          },
          "execution_count": 30,
          "metadata": {},
          "output_type": "execute_result"
        }
      ],
      "source": [
        "incomplete_data = crimes[crimes.isnull().any(axis=1)].head()\n",
        "incomplete_data"
      ]
    },
    {
      "cell_type": "code",
      "execution_count": null,
      "metadata": {
        "colab": {
          "base_uri": "https://localhost:8080/"
        },
        "id": "MhkNtVQwJgbe",
        "outputId": "9d3144eb-e9b7-4fbb-c2eb-054c5309af15"
      },
      "outputs": [
        {
          "name": "stdout",
          "output_type": "stream",
          "text": [
            "<class 'pandas.core.frame.DataFrame'>\n",
            "Int64Index: 23189 entries, 0 to 24576\n",
            "Data columns (total 9 columns):\n",
            " #   Column            Non-Null Count  Dtype  \n",
            "---  ------            --------------  -----  \n",
            " 0   RecordID          23189 non-null  int64  \n",
            " 1   Offense           23189 non-null  object \n",
            " 2   IncidentID        23189 non-null  float64\n",
            " 3   BlockNumber       23189 non-null  float64\n",
            " 4   StreetName        23189 non-null  object \n",
            " 5   Agency            23189 non-null  object \n",
            " 6   DateReported      23189 non-null  object \n",
            " 7   HourReported      23189 non-null  int64  \n",
            " 8   ReportingOfficer  23189 non-null  object \n",
            "dtypes: float64(2), int64(2), object(5)\n",
            "memory usage: 1.8+ MB\n"
          ]
        }
      ],
      "source": [
        "crimes_without_null = crimes.dropna()\n",
        "crimes_without_null.info()"
      ]
    },
    {
      "cell_type": "code",
      "execution_count": null,
      "metadata": {
        "colab": {
          "base_uri": "https://localhost:8080/"
        },
        "id": "nnVLbWixK9qM",
        "outputId": "26ecf8cd-9b27-4bfb-b6a7-d2ceb8f615af"
      },
      "outputs": [
        {
          "name": "stdout",
          "output_type": "stream",
          "text": [
            "<class 'pandas.core.frame.DataFrame'>\n",
            "RangeIndex: 24577 entries, 0 to 24576\n",
            "Data columns (total 9 columns):\n",
            " #   Column            Non-Null Count  Dtype  \n",
            "---  ------            --------------  -----  \n",
            " 0   RecordID          24577 non-null  int64  \n",
            " 1   Offense           24577 non-null  object \n",
            " 2   IncidentID        24577 non-null  float64\n",
            " 3   BlockNumber       23229 non-null  float64\n",
            " 4   StreetName        24577 non-null  object \n",
            " 5   Agency            24577 non-null  object \n",
            " 6   DateReported      24577 non-null  object \n",
            " 7   HourReported      24577 non-null  int64  \n",
            " 8   ReportingOfficer  24534 non-null  object \n",
            "dtypes: float64(2), int64(2), object(5)\n",
            "memory usage: 1.7+ MB\n"
          ]
        }
      ],
      "source": [
        "crimes.info()"
      ]
    },
    {
      "cell_type": "markdown",
      "metadata": {
        "id": "kv-CCkMzLC-u"
      },
      "source": [
        "Looking at the data we see that there are about 1300 missing block numbers, I am not sure how cobining this data with the streetnames is going to work but we will try to use an imputer but it may cause some strange behaviors that will need to be looked at later depending on our observations."
      ]
    },
    {
      "cell_type": "code",
      "execution_count": null,
      "metadata": {
        "id": "GpZGV5jDKeQx"
      },
      "outputs": [],
      "source": [
        "imputer = SimpleImputer(strategy=\"median\")"
      ]
    },
    {
      "cell_type": "markdown",
      "metadata": {
        "id": "c7M24p3RXze3"
      },
      "source": [
        "Here we are going to look at imputing the data but we decided we would get rid of the values that do not matter first. "
      ]
    },
    {
      "cell_type": "code",
      "execution_count": null,
      "metadata": {
        "colab": {
          "base_uri": "https://localhost:8080/"
        },
        "id": "RJ1e3FV8ZlxU",
        "outputId": "5b777a73-5f12-4d52-8c30-19c49d2ccd70"
      },
      "outputs": [
        {
          "name": "stdout",
          "output_type": "stream",
          "text": [
            "<class 'pandas.core.frame.DataFrame'>\n",
            "RangeIndex: 24577 entries, 0 to 24576\n",
            "Data columns (total 4 columns):\n",
            " #   Column        Non-Null Count  Dtype  \n",
            "---  ------        --------------  -----  \n",
            " 0   Offense       24577 non-null  object \n",
            " 1   BlockNumber   23229 non-null  float64\n",
            " 2   StreetName    24577 non-null  object \n",
            " 3   HourReported  24577 non-null  int64  \n",
            "dtypes: float64(1), int64(1), object(2)\n",
            "memory usage: 768.2+ KB\n"
          ]
        }
      ],
      "source": [
        "crimes.info()"
      ]
    },
    {
      "cell_type": "code",
      "execution_count": null,
      "metadata": {
        "colab": {
          "base_uri": "https://localhost:8080/",
          "height": 397
        },
        "id": "Iq8mWEMUZWsy",
        "outputId": "7fac3461-5c99-4071-c288-9e8aa5f378d6"
      },
      "outputs": [
        {
          "ename": "KeyError",
          "evalue": "ignored",
          "output_type": "error",
          "traceback": [
            "\u001b[0;31m---------------------------------------------------------------------------\u001b[0m",
            "\u001b[0;31mKeyError\u001b[0m                                  Traceback (most recent call last)",
            "\u001b[0;32m<ipython-input-39-87e3292f98d3>\u001b[0m in \u001b[0;36m<module>\u001b[0;34m\u001b[0m\n\u001b[0;32m----> 1\u001b[0;31m \u001b[0mcrimes\u001b[0m \u001b[0;34m=\u001b[0m \u001b[0mcrimes\u001b[0m\u001b[0;34m.\u001b[0m\u001b[0mdrop\u001b[0m\u001b[0;34m(\u001b[0m\u001b[0;34m\"ReportingOfficer\"\u001b[0m\u001b[0;34m,\u001b[0m\u001b[0maxis\u001b[0m\u001b[0;34m=\u001b[0m\u001b[0;36m1\u001b[0m\u001b[0;34m)\u001b[0m\u001b[0;34m\u001b[0m\u001b[0;34m\u001b[0m\u001b[0m\n\u001b[0m\u001b[1;32m      2\u001b[0m \u001b[0mcrimes\u001b[0m \u001b[0;34m=\u001b[0m \u001b[0mcrimes\u001b[0m\u001b[0;34m.\u001b[0m\u001b[0mdrop\u001b[0m\u001b[0;34m(\u001b[0m\u001b[0;34m\"DateReported\"\u001b[0m\u001b[0;34m,\u001b[0m \u001b[0maxis\u001b[0m\u001b[0;34m=\u001b[0m\u001b[0;36m1\u001b[0m\u001b[0;34m)\u001b[0m\u001b[0;34m\u001b[0m\u001b[0;34m\u001b[0m\u001b[0m\n\u001b[1;32m      3\u001b[0m \u001b[0mcrimes\u001b[0m \u001b[0;34m=\u001b[0m \u001b[0mcrimes\u001b[0m\u001b[0;34m.\u001b[0m\u001b[0mdrop\u001b[0m\u001b[0;34m(\u001b[0m\u001b[0;34m\"IncidentID\"\u001b[0m\u001b[0;34m,\u001b[0m \u001b[0maxis\u001b[0m\u001b[0;34m=\u001b[0m\u001b[0;36m1\u001b[0m\u001b[0;34m)\u001b[0m\u001b[0;34m\u001b[0m\u001b[0;34m\u001b[0m\u001b[0m\n\u001b[1;32m      4\u001b[0m \u001b[0mcrimes\u001b[0m \u001b[0;34m=\u001b[0m \u001b[0mcrimes\u001b[0m\u001b[0;34m.\u001b[0m\u001b[0mdrop\u001b[0m\u001b[0;34m(\u001b[0m\u001b[0;34m\"Agency\"\u001b[0m\u001b[0;34m,\u001b[0m \u001b[0maxis\u001b[0m\u001b[0;34m=\u001b[0m\u001b[0;36m1\u001b[0m\u001b[0;34m)\u001b[0m\u001b[0;34m\u001b[0m\u001b[0;34m\u001b[0m\u001b[0m\n\u001b[1;32m      5\u001b[0m \u001b[0mcrimes\u001b[0m \u001b[0;34m=\u001b[0m \u001b[0mcrimes\u001b[0m\u001b[0;34m.\u001b[0m\u001b[0mdrop\u001b[0m\u001b[0;34m(\u001b[0m\u001b[0;34m\"RecordID\"\u001b[0m\u001b[0;34m,\u001b[0m \u001b[0maxis\u001b[0m\u001b[0;34m=\u001b[0m\u001b[0;36m1\u001b[0m\u001b[0;34m)\u001b[0m\u001b[0;34m\u001b[0m\u001b[0;34m\u001b[0m\u001b[0m\n",
            "\u001b[0;32m/usr/local/lib/python3.7/dist-packages/pandas/util/_decorators.py\u001b[0m in \u001b[0;36mwrapper\u001b[0;34m(*args, **kwargs)\u001b[0m\n\u001b[1;32m    309\u001b[0m                     \u001b[0mstacklevel\u001b[0m\u001b[0;34m=\u001b[0m\u001b[0mstacklevel\u001b[0m\u001b[0;34m,\u001b[0m\u001b[0;34m\u001b[0m\u001b[0;34m\u001b[0m\u001b[0m\n\u001b[1;32m    310\u001b[0m                 )\n\u001b[0;32m--> 311\u001b[0;31m             \u001b[0;32mreturn\u001b[0m \u001b[0mfunc\u001b[0m\u001b[0;34m(\u001b[0m\u001b[0;34m*\u001b[0m\u001b[0margs\u001b[0m\u001b[0;34m,\u001b[0m \u001b[0;34m**\u001b[0m\u001b[0mkwargs\u001b[0m\u001b[0;34m)\u001b[0m\u001b[0;34m\u001b[0m\u001b[0;34m\u001b[0m\u001b[0m\n\u001b[0m\u001b[1;32m    312\u001b[0m \u001b[0;34m\u001b[0m\u001b[0m\n\u001b[1;32m    313\u001b[0m         \u001b[0;32mreturn\u001b[0m \u001b[0mwrapper\u001b[0m\u001b[0;34m\u001b[0m\u001b[0;34m\u001b[0m\u001b[0m\n",
            "\u001b[0;32m/usr/local/lib/python3.7/dist-packages/pandas/core/frame.py\u001b[0m in \u001b[0;36mdrop\u001b[0;34m(self, labels, axis, index, columns, level, inplace, errors)\u001b[0m\n\u001b[1;32m   4911\u001b[0m             \u001b[0mlevel\u001b[0m\u001b[0;34m=\u001b[0m\u001b[0mlevel\u001b[0m\u001b[0;34m,\u001b[0m\u001b[0;34m\u001b[0m\u001b[0;34m\u001b[0m\u001b[0m\n\u001b[1;32m   4912\u001b[0m             \u001b[0minplace\u001b[0m\u001b[0;34m=\u001b[0m\u001b[0minplace\u001b[0m\u001b[0;34m,\u001b[0m\u001b[0;34m\u001b[0m\u001b[0;34m\u001b[0m\u001b[0m\n\u001b[0;32m-> 4913\u001b[0;31m             \u001b[0merrors\u001b[0m\u001b[0;34m=\u001b[0m\u001b[0merrors\u001b[0m\u001b[0;34m,\u001b[0m\u001b[0;34m\u001b[0m\u001b[0;34m\u001b[0m\u001b[0m\n\u001b[0m\u001b[1;32m   4914\u001b[0m         )\n\u001b[1;32m   4915\u001b[0m \u001b[0;34m\u001b[0m\u001b[0m\n",
            "\u001b[0;32m/usr/local/lib/python3.7/dist-packages/pandas/core/generic.py\u001b[0m in \u001b[0;36mdrop\u001b[0;34m(self, labels, axis, index, columns, level, inplace, errors)\u001b[0m\n\u001b[1;32m   4148\u001b[0m         \u001b[0;32mfor\u001b[0m \u001b[0maxis\u001b[0m\u001b[0;34m,\u001b[0m \u001b[0mlabels\u001b[0m \u001b[0;32min\u001b[0m \u001b[0maxes\u001b[0m\u001b[0;34m.\u001b[0m\u001b[0mitems\u001b[0m\u001b[0;34m(\u001b[0m\u001b[0;34m)\u001b[0m\u001b[0;34m:\u001b[0m\u001b[0;34m\u001b[0m\u001b[0;34m\u001b[0m\u001b[0m\n\u001b[1;32m   4149\u001b[0m             \u001b[0;32mif\u001b[0m \u001b[0mlabels\u001b[0m \u001b[0;32mis\u001b[0m \u001b[0;32mnot\u001b[0m \u001b[0;32mNone\u001b[0m\u001b[0;34m:\u001b[0m\u001b[0;34m\u001b[0m\u001b[0;34m\u001b[0m\u001b[0m\n\u001b[0;32m-> 4150\u001b[0;31m                 \u001b[0mobj\u001b[0m \u001b[0;34m=\u001b[0m \u001b[0mobj\u001b[0m\u001b[0;34m.\u001b[0m\u001b[0m_drop_axis\u001b[0m\u001b[0;34m(\u001b[0m\u001b[0mlabels\u001b[0m\u001b[0;34m,\u001b[0m \u001b[0maxis\u001b[0m\u001b[0;34m,\u001b[0m \u001b[0mlevel\u001b[0m\u001b[0;34m=\u001b[0m\u001b[0mlevel\u001b[0m\u001b[0;34m,\u001b[0m \u001b[0merrors\u001b[0m\u001b[0;34m=\u001b[0m\u001b[0merrors\u001b[0m\u001b[0;34m)\u001b[0m\u001b[0;34m\u001b[0m\u001b[0;34m\u001b[0m\u001b[0m\n\u001b[0m\u001b[1;32m   4151\u001b[0m \u001b[0;34m\u001b[0m\u001b[0m\n\u001b[1;32m   4152\u001b[0m         \u001b[0;32mif\u001b[0m \u001b[0minplace\u001b[0m\u001b[0;34m:\u001b[0m\u001b[0;34m\u001b[0m\u001b[0;34m\u001b[0m\u001b[0m\n",
            "\u001b[0;32m/usr/local/lib/python3.7/dist-packages/pandas/core/generic.py\u001b[0m in \u001b[0;36m_drop_axis\u001b[0;34m(self, labels, axis, level, errors)\u001b[0m\n\u001b[1;32m   4183\u001b[0m                 \u001b[0mnew_axis\u001b[0m \u001b[0;34m=\u001b[0m \u001b[0maxis\u001b[0m\u001b[0;34m.\u001b[0m\u001b[0mdrop\u001b[0m\u001b[0;34m(\u001b[0m\u001b[0mlabels\u001b[0m\u001b[0;34m,\u001b[0m \u001b[0mlevel\u001b[0m\u001b[0;34m=\u001b[0m\u001b[0mlevel\u001b[0m\u001b[0;34m,\u001b[0m \u001b[0merrors\u001b[0m\u001b[0;34m=\u001b[0m\u001b[0merrors\u001b[0m\u001b[0;34m)\u001b[0m\u001b[0;34m\u001b[0m\u001b[0;34m\u001b[0m\u001b[0m\n\u001b[1;32m   4184\u001b[0m             \u001b[0;32melse\u001b[0m\u001b[0;34m:\u001b[0m\u001b[0;34m\u001b[0m\u001b[0;34m\u001b[0m\u001b[0m\n\u001b[0;32m-> 4185\u001b[0;31m                 \u001b[0mnew_axis\u001b[0m \u001b[0;34m=\u001b[0m \u001b[0maxis\u001b[0m\u001b[0;34m.\u001b[0m\u001b[0mdrop\u001b[0m\u001b[0;34m(\u001b[0m\u001b[0mlabels\u001b[0m\u001b[0;34m,\u001b[0m \u001b[0merrors\u001b[0m\u001b[0;34m=\u001b[0m\u001b[0merrors\u001b[0m\u001b[0;34m)\u001b[0m\u001b[0;34m\u001b[0m\u001b[0;34m\u001b[0m\u001b[0m\n\u001b[0m\u001b[1;32m   4186\u001b[0m             \u001b[0mresult\u001b[0m \u001b[0;34m=\u001b[0m \u001b[0mself\u001b[0m\u001b[0;34m.\u001b[0m\u001b[0mreindex\u001b[0m\u001b[0;34m(\u001b[0m\u001b[0;34m**\u001b[0m\u001b[0;34m{\u001b[0m\u001b[0maxis_name\u001b[0m\u001b[0;34m:\u001b[0m \u001b[0mnew_axis\u001b[0m\u001b[0;34m}\u001b[0m\u001b[0;34m)\u001b[0m\u001b[0;34m\u001b[0m\u001b[0;34m\u001b[0m\u001b[0m\n\u001b[1;32m   4187\u001b[0m \u001b[0;34m\u001b[0m\u001b[0m\n",
            "\u001b[0;32m/usr/local/lib/python3.7/dist-packages/pandas/core/indexes/base.py\u001b[0m in \u001b[0;36mdrop\u001b[0;34m(self, labels, errors)\u001b[0m\n\u001b[1;32m   6015\u001b[0m         \u001b[0;32mif\u001b[0m \u001b[0mmask\u001b[0m\u001b[0;34m.\u001b[0m\u001b[0many\u001b[0m\u001b[0;34m(\u001b[0m\u001b[0;34m)\u001b[0m\u001b[0;34m:\u001b[0m\u001b[0;34m\u001b[0m\u001b[0;34m\u001b[0m\u001b[0m\n\u001b[1;32m   6016\u001b[0m             \u001b[0;32mif\u001b[0m \u001b[0merrors\u001b[0m \u001b[0;34m!=\u001b[0m \u001b[0;34m\"ignore\"\u001b[0m\u001b[0;34m:\u001b[0m\u001b[0;34m\u001b[0m\u001b[0;34m\u001b[0m\u001b[0m\n\u001b[0;32m-> 6017\u001b[0;31m                 \u001b[0;32mraise\u001b[0m \u001b[0mKeyError\u001b[0m\u001b[0;34m(\u001b[0m\u001b[0;34mf\"{labels[mask]} not found in axis\"\u001b[0m\u001b[0;34m)\u001b[0m\u001b[0;34m\u001b[0m\u001b[0;34m\u001b[0m\u001b[0m\n\u001b[0m\u001b[1;32m   6018\u001b[0m             \u001b[0mindexer\u001b[0m \u001b[0;34m=\u001b[0m \u001b[0mindexer\u001b[0m\u001b[0;34m[\u001b[0m\u001b[0;34m~\u001b[0m\u001b[0mmask\u001b[0m\u001b[0;34m]\u001b[0m\u001b[0;34m\u001b[0m\u001b[0;34m\u001b[0m\u001b[0m\n\u001b[1;32m   6019\u001b[0m         \u001b[0;32mreturn\u001b[0m \u001b[0mself\u001b[0m\u001b[0;34m.\u001b[0m\u001b[0mdelete\u001b[0m\u001b[0;34m(\u001b[0m\u001b[0mindexer\u001b[0m\u001b[0;34m)\u001b[0m\u001b[0;34m\u001b[0m\u001b[0;34m\u001b[0m\u001b[0m\n",
            "\u001b[0;31mKeyError\u001b[0m: \"['ReportingOfficer'] not found in axis\""
          ]
        }
      ],
      "source": [
        "crimes = crimes.drop(\"ReportingOfficer\",axis=1)\n",
        "crimes = crimes.drop(\"DateReported\", axis=1)\n",
        "crimes = crimes.drop(\"IncidentID\", axis=1)\n",
        "crimes = crimes.drop(\"Agency\", axis=1)\n",
        "crimes = crimes.drop(\"RecordID\", axis=1)"
      ]
    },
    {
      "cell_type": "code",
      "execution_count": null,
      "metadata": {
        "id": "Uk_GRGlwaSrA"
      },
      "outputs": [],
      "source": [
        "crime_num = crimes.drop([\"Offense\", \"StreetName\"], axis=1)"
      ]
    },
    {
      "cell_type": "code",
      "execution_count": null,
      "metadata": {
        "colab": {
          "base_uri": "https://localhost:8080/"
        },
        "id": "4p11irr-a1V-",
        "outputId": "c189555b-68c6-48e9-8637-308047641c8a"
      },
      "outputs": [
        {
          "data": {
            "text/plain": [
              "SimpleImputer(strategy='median')"
            ]
          },
          "execution_count": 41,
          "metadata": {},
          "output_type": "execute_result"
        }
      ],
      "source": [
        "imputer.fit(crime_num)"
      ]
    },
    {
      "cell_type": "markdown",
      "metadata": {
        "id": "qgaRTCFBcCmD"
      },
      "source": [
        "Just want to look at the data in the imputed state"
      ]
    },
    {
      "cell_type": "code",
      "execution_count": null,
      "metadata": {
        "colab": {
          "base_uri": "https://localhost:8080/"
        },
        "id": "bbZrDBBga9Dk",
        "outputId": "4efefb76-ee9c-402e-857c-be077dae4843"
      },
      "outputs": [
        {
          "data": {
            "text/plain": [
              "array([ 800., 1405.])"
            ]
          },
          "execution_count": 43,
          "metadata": {},
          "output_type": "execute_result"
        }
      ],
      "source": [
        "imputer.statistics_"
      ]
    },
    {
      "cell_type": "code",
      "execution_count": null,
      "metadata": {
        "colab": {
          "base_uri": "https://localhost:8080/"
        },
        "id": "BzOp0Jv7bH85",
        "outputId": "9b44a434-4f97-4dbb-f3ab-58640efed43e"
      },
      "outputs": [
        {
          "data": {
            "text/plain": [
              "array([ 800., 1405.])"
            ]
          },
          "execution_count": 44,
          "metadata": {},
          "output_type": "execute_result"
        }
      ],
      "source": [
        "crime_num.median().values"
      ]
    },
    {
      "cell_type": "markdown",
      "metadata": {
        "id": "aRRa2TLqcIYU"
      },
      "source": [
        "Now we need to deal with the categorical data. This is where some big adjustments to what we have inputneed to happen. "
      ]
    },
    {
      "cell_type": "code",
      "execution_count": null,
      "metadata": {
        "colab": {
          "base_uri": "https://localhost:8080/",
          "height": 363
        },
        "id": "5gY23EomcO_i",
        "outputId": "18459b73-20fe-49cc-fa56-9cc8c74f3576"
      },
      "outputs": [
        {
          "data": {
            "text/html": [
              "\n",
              "  <div id=\"df-6b0e5325-387f-4041-8e1d-0040ce3300ff\">\n",
              "    <div class=\"colab-df-container\">\n",
              "      <div>\n",
              "<style scoped>\n",
              "    .dataframe tbody tr th:only-of-type {\n",
              "        vertical-align: middle;\n",
              "    }\n",
              "\n",
              "    .dataframe tbody tr th {\n",
              "        vertical-align: top;\n",
              "    }\n",
              "\n",
              "    .dataframe thead th {\n",
              "        text-align: right;\n",
              "    }\n",
              "</style>\n",
              "<table border=\"1\" class=\"dataframe\">\n",
              "  <thead>\n",
              "    <tr style=\"text-align: right;\">\n",
              "      <th></th>\n",
              "      <th>Offense</th>\n",
              "    </tr>\n",
              "  </thead>\n",
              "  <tbody>\n",
              "    <tr>\n",
              "      <th>0</th>\n",
              "      <td>Larceny - All Other</td>\n",
              "    </tr>\n",
              "    <tr>\n",
              "      <th>1</th>\n",
              "      <td>Burglary</td>\n",
              "    </tr>\n",
              "    <tr>\n",
              "      <th>2</th>\n",
              "      <td>Assault Aggravated</td>\n",
              "    </tr>\n",
              "    <tr>\n",
              "      <th>3</th>\n",
              "      <td>Assist Citizen - Mental/TDO/ECO</td>\n",
              "    </tr>\n",
              "    <tr>\n",
              "      <th>4</th>\n",
              "      <td>Assault Simple</td>\n",
              "    </tr>\n",
              "    <tr>\n",
              "      <th>5</th>\n",
              "      <td>Trespass</td>\n",
              "    </tr>\n",
              "    <tr>\n",
              "      <th>6</th>\n",
              "      <td>Motor Vehicle Theft</td>\n",
              "    </tr>\n",
              "    <tr>\n",
              "      <th>7</th>\n",
              "      <td>Larceny - Theft from Building</td>\n",
              "    </tr>\n",
              "    <tr>\n",
              "      <th>8</th>\n",
              "      <td>Larceny - From Motor Vehicle</td>\n",
              "    </tr>\n",
              "    <tr>\n",
              "      <th>9</th>\n",
              "      <td>Drug/Narcotics Violation</td>\n",
              "    </tr>\n",
              "  </tbody>\n",
              "</table>\n",
              "</div>\n",
              "      <button class=\"colab-df-convert\" onclick=\"convertToInteractive('df-6b0e5325-387f-4041-8e1d-0040ce3300ff')\"\n",
              "              title=\"Convert this dataframe to an interactive table.\"\n",
              "              style=\"display:none;\">\n",
              "        \n",
              "  <svg xmlns=\"http://www.w3.org/2000/svg\" height=\"24px\"viewBox=\"0 0 24 24\"\n",
              "       width=\"24px\">\n",
              "    <path d=\"M0 0h24v24H0V0z\" fill=\"none\"/>\n",
              "    <path d=\"M18.56 5.44l.94 2.06.94-2.06 2.06-.94-2.06-.94-.94-2.06-.94 2.06-2.06.94zm-11 1L8.5 8.5l.94-2.06 2.06-.94-2.06-.94L8.5 2.5l-.94 2.06-2.06.94zm10 10l.94 2.06.94-2.06 2.06-.94-2.06-.94-.94-2.06-.94 2.06-2.06.94z\"/><path d=\"M17.41 7.96l-1.37-1.37c-.4-.4-.92-.59-1.43-.59-.52 0-1.04.2-1.43.59L10.3 9.45l-7.72 7.72c-.78.78-.78 2.05 0 2.83L4 21.41c.39.39.9.59 1.41.59.51 0 1.02-.2 1.41-.59l7.78-7.78 2.81-2.81c.8-.78.8-2.07 0-2.86zM5.41 20L4 18.59l7.72-7.72 1.47 1.35L5.41 20z\"/>\n",
              "  </svg>\n",
              "      </button>\n",
              "      \n",
              "  <style>\n",
              "    .colab-df-container {\n",
              "      display:flex;\n",
              "      flex-wrap:wrap;\n",
              "      gap: 12px;\n",
              "    }\n",
              "\n",
              "    .colab-df-convert {\n",
              "      background-color: #E8F0FE;\n",
              "      border: none;\n",
              "      border-radius: 50%;\n",
              "      cursor: pointer;\n",
              "      display: none;\n",
              "      fill: #1967D2;\n",
              "      height: 32px;\n",
              "      padding: 0 0 0 0;\n",
              "      width: 32px;\n",
              "    }\n",
              "\n",
              "    .colab-df-convert:hover {\n",
              "      background-color: #E2EBFA;\n",
              "      box-shadow: 0px 1px 2px rgba(60, 64, 67, 0.3), 0px 1px 3px 1px rgba(60, 64, 67, 0.15);\n",
              "      fill: #174EA6;\n",
              "    }\n",
              "\n",
              "    [theme=dark] .colab-df-convert {\n",
              "      background-color: #3B4455;\n",
              "      fill: #D2E3FC;\n",
              "    }\n",
              "\n",
              "    [theme=dark] .colab-df-convert:hover {\n",
              "      background-color: #434B5C;\n",
              "      box-shadow: 0px 1px 3px 1px rgba(0, 0, 0, 0.15);\n",
              "      filter: drop-shadow(0px 1px 2px rgba(0, 0, 0, 0.3));\n",
              "      fill: #FFFFFF;\n",
              "    }\n",
              "  </style>\n",
              "\n",
              "      <script>\n",
              "        const buttonEl =\n",
              "          document.querySelector('#df-6b0e5325-387f-4041-8e1d-0040ce3300ff button.colab-df-convert');\n",
              "        buttonEl.style.display =\n",
              "          google.colab.kernel.accessAllowed ? 'block' : 'none';\n",
              "\n",
              "        async function convertToInteractive(key) {\n",
              "          const element = document.querySelector('#df-6b0e5325-387f-4041-8e1d-0040ce3300ff');\n",
              "          const dataTable =\n",
              "            await google.colab.kernel.invokeFunction('convertToInteractive',\n",
              "                                                     [key], {});\n",
              "          if (!dataTable) return;\n",
              "\n",
              "          const docLinkHtml = 'Like what you see? Visit the ' +\n",
              "            '<a target=\"_blank\" href=https://colab.research.google.com/notebooks/data_table.ipynb>data table notebook</a>'\n",
              "            + ' to learn more about interactive tables.';\n",
              "          element.innerHTML = '';\n",
              "          dataTable['output_type'] = 'display_data';\n",
              "          await google.colab.output.renderOutput(dataTable, element);\n",
              "          const docLink = document.createElement('div');\n",
              "          docLink.innerHTML = docLinkHtml;\n",
              "          element.appendChild(docLink);\n",
              "        }\n",
              "      </script>\n",
              "    </div>\n",
              "  </div>\n",
              "  "
            ],
            "text/plain": [
              "                           Offense\n",
              "0              Larceny - All Other\n",
              "1                         Burglary\n",
              "2               Assault Aggravated\n",
              "3  Assist Citizen - Mental/TDO/ECO\n",
              "4                   Assault Simple\n",
              "5                         Trespass\n",
              "6              Motor Vehicle Theft\n",
              "7    Larceny - Theft from Building\n",
              "8     Larceny - From Motor Vehicle\n",
              "9         Drug/Narcotics Violation"
            ]
          },
          "execution_count": 45,
          "metadata": {},
          "output_type": "execute_result"
        }
      ],
      "source": [
        "crime_offense_cat = crimes[[\"Offense\"]]\n",
        "crime_offense_cat.head(10)"
      ]
    },
    {
      "cell_type": "code",
      "execution_count": null,
      "metadata": {
        "colab": {
          "base_uri": "https://localhost:8080/"
        },
        "id": "uqorh0z6c0B5",
        "outputId": "98c52646-a7dc-46cb-8d84-c9500bb4d28f"
      },
      "outputs": [
        {
          "data": {
            "text/plain": [
              "array([[ 62.],\n",
              "       [ 24.],\n",
              "       [ 11.],\n",
              "       [ 18.],\n",
              "       [ 13.],\n",
              "       [114.],\n",
              "       [ 77.],\n",
              "       [ 69.],\n",
              "       [ 64.],\n",
              "       [ 39.]])"
            ]
          },
          "execution_count": 47,
          "metadata": {},
          "output_type": "execute_result"
        }
      ],
      "source": [
        "from sklearn.preprocessing import OrdinalEncoder\n",
        "ordinal_encoder = OrdinalEncoder()\n",
        "crime_offense_cat_encoded = ordinal_encoder.fit_transform(crime_offense_cat)\n",
        "crime_offense_cat_encoded[:10]"
      ]
    },
    {
      "cell_type": "code",
      "execution_count": null,
      "metadata": {
        "colab": {
          "base_uri": "https://localhost:8080/"
        },
        "id": "ndlWuJTRdSTu",
        "outputId": "a57152aa-7719-430c-e499-359e9c64a43e"
      },
      "outputs": [
        {
          "data": {
            "text/plain": [
              "[array(['911 Investigation', 'Accident - w/out Injuries',\n",
              "        'Accident Private Property', 'Accident Property Damage',\n",
              "        'Accident w/Injuries', 'Alarm - True', 'Alarm - Unknown',\n",
              "        'Alarm-Accidental', 'Animal - Bite', 'Animal Complaint', 'Arson',\n",
              "        'Assault Aggravated', 'Assault Intimidation', 'Assault Simple',\n",
              "        'Assist Agency - Arrest/warrant', 'Assist Agency - Backup/Assist',\n",
              "        'Assist Agency - Other', 'Assist Citizen - Medical',\n",
              "        'Assist Citizen - Mental/TDO/ECO', 'Assist Citizen - Misc',\n",
              "        'Assist Citizen - Welfare Check', 'Assisted on Prev Reported',\n",
              "        'Attemped Suicide', 'Bomb Threat', 'Burglary', 'COVID-19 Tracking',\n",
              "        'Child Ab - Contr to Delinquency',\n",
              "        'Comm Relations Initiative - CRI', 'Computer Crime',\n",
              "        'Crime Prevent Initiative - CPI', 'Crisis Assessment',\n",
              "        'Curfew/Loitering/Vagrancy', 'Death Investigation - DOA',\n",
              "        'Disorderly Conduct', 'Disturbance - Non Domestic',\n",
              "        'Domestic Disturbance', 'Driving Under the Influence',\n",
              "        'Drug Equipment Violation', 'Drug Investigation',\n",
              "        'Drug/Narcotics Violation', 'Drunkeness DIP', 'Embezzelment',\n",
              "        'Extortion/Blackmail', 'False Report of Crime',\n",
              "        'Family Offense - Non-Violent', 'Field Interview',\n",
              "        'Fires Not Arson', 'Fireworks Violation', 'Forgery/Counterfeiting',\n",
              "        'Found/Recovered Property', 'Fraud-credit card',\n",
              "        'Fraud-false pretense', 'Fraud-impersonation', 'Fraud-welfare',\n",
              "        'Fraud-wire fraud', 'Harassment', 'Hit and Run',\n",
              "        'Homicide-murder/non-negligent', 'Homicide-negligent manslaughter',\n",
              "        'Impersonating a Police Officer', 'Juvenile Investigation',\n",
              "        'Kidnap/Abduction', 'Larceny - All Other',\n",
              "        'Larceny - From Coin Oper Device', 'Larceny - From Motor Vehicle',\n",
              "        'Larceny - Of Veh Parts/Access', 'Larceny - Pocket Picking',\n",
              "        'Larceny - Purse Snatching', 'Larceny - Shoplifitng',\n",
              "        'Larceny - Theft from Building', 'Liquor Law Violation',\n",
              "        'Littering/Illegal Dumping', 'Lost/FoundProperty',\n",
              "        'Misc - Criminal Call', 'Misc - Non-Criminal Call',\n",
              "        'Missing Person-adult', 'Missing Person-juvenile',\n",
              "        'Motor Vehicle Theft', 'Narcotics', 'Noise Complaint',\n",
              "        'Open Door/Window', 'Phone Calls - Annoying',\n",
              "        'Phone Calls - Threat or Obscene', 'Pornography',\n",
              "        'Problem Solving Project - PSP', 'Prostitution',\n",
              "        'Prostitution-assisting/promoting', 'Prowler - Peeping  Tom',\n",
              "        'Robbery - Armed', 'Robbery - Strong Arm', 'Robbery/Conversion',\n",
              "        'Runaway', 'Sex Offense', 'Sex Offense - Assault w/Object',\n",
              "        'Sex Offense - Forcible Rape', 'Sex Offense - Forcible Sodomy',\n",
              "        'Sex Offense-forcible fondling', 'Sex Offense-statutory rape',\n",
              "        'Shots Fired/Illegal Hunting', 'Solicitation illegal w/o permit',\n",
              "        'Stalking', 'Stolen Property Offenses', 'Stop w/Search/Frisk',\n",
              "        'Stop w/o Search/Frisk', 'Suicide Investigation',\n",
              "        'Suspicious Activity', 'Suspicious Person', 'Suspicious Vehicle',\n",
              "        'Tactical Crime Initiative - TCI', 'Towed Vehicle',\n",
              "        'Traffic - Abandoned Vehicle', 'Traffic - Disabled Vehicle',\n",
              "        'Traffic - Traffic Hazard', 'Traffic Stops', 'Trespass',\n",
              "        'Unauthorized Use of Motor Veh', 'Vandalism', 'Warrant Service',\n",
              "        'Weapons Violations'], dtype=object)]"
            ]
          },
          "execution_count": 49,
          "metadata": {},
          "output_type": "execute_result"
        }
      ],
      "source": [
        "ordinal_encoder.categories_"
      ]
    },
    {
      "cell_type": "markdown",
      "metadata": {
        "id": "vSLbwZG3dgne"
      },
      "source": [
        "So many categories, Here is where we need to categorize the catagories, I am thinking violent crimes, none-violent crimes, and no crimes, but maybe binary choices is more optimal. We may do some testing and see what works best for the model."
      ]
    }
  ],
  "metadata": {
    "colab": {
      "collapsed_sections": [],
      "provenance": []
    },
    "kernelspec": {
      "display_name": "Python 3",
      "name": "python3"
    }
  },
  "nbformat": 4,
  "nbformat_minor": 0
}
