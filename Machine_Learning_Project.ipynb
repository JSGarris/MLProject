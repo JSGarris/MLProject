{
 "cells": [
  {
   "cell_type": "markdown",
   "metadata": {},
   "source": [
    "# Data Setup"
   ]
  },
  {
   "cell_type": "code",
   "execution_count": 2,
   "metadata": {
    "id": "QoOSTe5I6Om6"
   },
   "outputs": [],
   "source": [
    "# Some common packages that we may need\n",
    "from pandas.plotting import scatter_matrix \n",
    "from sklearn.impute import SimpleImputer\n",
    "from sklearn.preprocessing import LabelEncoder\n",
    "from sklearn.preprocessing import OneHotEncoder\n",
    "from sklearn.pipeline import Pipeline\n",
    "from sklearn.preprocessing import StandardScaler\n",
    "\n",
    "# Import some common packages\n",
    "import os\n",
    "import numpy as np\n",
    "import matplotlib\n",
    "import matplotlib.pyplot as plt\n",
    "import pandas as pd\n",
    "\n",
    "# to make this notebook's output stable across runs\n",
    "np.random.seed(42)\n",
    "\n",
    "def load_police_data():\n",
    "  crimes=pd.read_csv('./data/Crime_Data.csv')\n",
    "  return crimes\n",
    "\n",
    "def load_oridinal_violence_features():\n",
    "  ordinal_violence=pd.read_csv('./data/crime_categories.csv')\n",
    "  return ordinal_violence"
   ]
  },
  {
   "cell_type": "markdown",
   "metadata": {
    "id": "A9hjjV5SDs0z"
   },
   "source": [
    "Now that the data is loaded we want to look at the data and see how it is organized and what groups are being used. We can also get some insight onto if the data may be useful adn we can look and see how we may split or encode our data."
   ]
  },
  {
   "cell_type": "code",
   "execution_count": 3,
   "metadata": {
    "colab": {
     "base_uri": "https://localhost:8080/"
    },
    "id": "CZEtJ3IB6P3a",
    "outputId": "6b50b936-dc14-49b9-fecd-21461f2ee4f4"
   },
   "outputs": [
    {
     "name": "stdout",
     "output_type": "stream",
     "text": [
      "<class 'pandas.core.frame.DataFrame'>\n",
      "RangeIndex: 24577 entries, 0 to 24576\n",
      "Data columns (total 9 columns):\n",
      " #   Column            Non-Null Count  Dtype  \n",
      "---  ------            --------------  -----  \n",
      " 0   RecordID          24577 non-null  int64  \n",
      " 1   Offense           24577 non-null  object \n",
      " 2   IncidentID        24577 non-null  int64  \n",
      " 3   BlockNumber       23229 non-null  float64\n",
      " 4   StreetName        24577 non-null  object \n",
      " 5   Agency            24577 non-null  object \n",
      " 6   DateReported      24577 non-null  object \n",
      " 7   HourReported      24577 non-null  int64  \n",
      " 8   ReportingOfficer  24534 non-null  object \n",
      "dtypes: float64(1), int64(3), object(5)\n",
      "memory usage: 1.7+ MB\n"
     ]
    }
   ],
   "source": [
    "crimes = load_police_data()\n",
    "crimes.info()"
   ]
  },
  {
   "cell_type": "code",
   "execution_count": 4,
   "metadata": {
    "colab": {
     "base_uri": "https://localhost:8080/",
     "height": 601
    },
    "id": "7DdYGrkM6AAu",
    "outputId": "20e3dfee-509c-4997-cad9-b5c56ff8ab95"
   },
   "outputs": [
    {
     "data": {
      "text/plain": "   RecordID                          Offense    IncidentID  BlockNumber  \\\n0         1              Larceny - All Other  202200030104        800.0   \n1         2                         Burglary  202200030099        800.0   \n2         3               Assault Aggravated  202200030096        900.0   \n3         4  Assist Citizen - Mental/TDO/ECO  202200030087        600.0   \n4         5                   Assault Simple  202200030080       1400.0   \n5         6                         Trespass  202200030061        500.0   \n6         7              Motor Vehicle Theft  202200030053        600.0   \n7         8    Larceny - Theft from Building  202280000894        100.0   \n8         9     Larceny - From Motor Vehicle  202280000893       1400.0   \n9        10         Drug/Narcotics Violation  202200030029       1700.0   \n\n        StreetName Agency            DateReported  HourReported  \\\n0      ELLIOTT AVE    CPD  2022/10/18 01:08:59+00          2108   \n1       RAYMOND RD    CPD  2022/10/18 00:31:50+00          2031   \n2        W MAIN ST    CPD  2022/10/17 23:40:34+00          1940   \n3      E MARKET ST    CPD  2022/10/17 22:24:21+00          1824   \n4   UNIVERSITY AVE    CPD  2022/10/17 19:58:39+00          1558   \n5      PRESTON AVE    CPD  2022/10/17 17:35:18+00          1335   \n6       14TH ST NW    CPD  2022/10/17 14:54:03+00          1054   \n7        BAYLOR LN    CPD  2022/10/17 13:24:02+00           924   \n8  FOREST RIDGE RD    CPD  2022/10/17 12:39:53+00           839   \n9     HYDRAULIC RD    CPD  2022/10/17 10:40:25+00           640   \n\n   ReportingOfficer  \n0    Lowe, Courtney  \n1    Lowe, Courtney  \n2     Alfonso, Sean  \n3    Lowe, Courtney  \n4   Houchens, Logan  \n5  Houchens, Jamell  \n6      Nash, Darius  \n7      Moje, Ashley  \n8      Moje, Ashley  \n9      Curry, Brian  ",
      "text/html": "<div>\n<style scoped>\n    .dataframe tbody tr th:only-of-type {\n        vertical-align: middle;\n    }\n\n    .dataframe tbody tr th {\n        vertical-align: top;\n    }\n\n    .dataframe thead th {\n        text-align: right;\n    }\n</style>\n<table border=\"1\" class=\"dataframe\">\n  <thead>\n    <tr style=\"text-align: right;\">\n      <th></th>\n      <th>RecordID</th>\n      <th>Offense</th>\n      <th>IncidentID</th>\n      <th>BlockNumber</th>\n      <th>StreetName</th>\n      <th>Agency</th>\n      <th>DateReported</th>\n      <th>HourReported</th>\n      <th>ReportingOfficer</th>\n    </tr>\n  </thead>\n  <tbody>\n    <tr>\n      <th>0</th>\n      <td>1</td>\n      <td>Larceny - All Other</td>\n      <td>202200030104</td>\n      <td>800.0</td>\n      <td>ELLIOTT AVE</td>\n      <td>CPD</td>\n      <td>2022/10/18 01:08:59+00</td>\n      <td>2108</td>\n      <td>Lowe, Courtney</td>\n    </tr>\n    <tr>\n      <th>1</th>\n      <td>2</td>\n      <td>Burglary</td>\n      <td>202200030099</td>\n      <td>800.0</td>\n      <td>RAYMOND RD</td>\n      <td>CPD</td>\n      <td>2022/10/18 00:31:50+00</td>\n      <td>2031</td>\n      <td>Lowe, Courtney</td>\n    </tr>\n    <tr>\n      <th>2</th>\n      <td>3</td>\n      <td>Assault Aggravated</td>\n      <td>202200030096</td>\n      <td>900.0</td>\n      <td>W MAIN ST</td>\n      <td>CPD</td>\n      <td>2022/10/17 23:40:34+00</td>\n      <td>1940</td>\n      <td>Alfonso, Sean</td>\n    </tr>\n    <tr>\n      <th>3</th>\n      <td>4</td>\n      <td>Assist Citizen - Mental/TDO/ECO</td>\n      <td>202200030087</td>\n      <td>600.0</td>\n      <td>E MARKET ST</td>\n      <td>CPD</td>\n      <td>2022/10/17 22:24:21+00</td>\n      <td>1824</td>\n      <td>Lowe, Courtney</td>\n    </tr>\n    <tr>\n      <th>4</th>\n      <td>5</td>\n      <td>Assault Simple</td>\n      <td>202200030080</td>\n      <td>1400.0</td>\n      <td>UNIVERSITY AVE</td>\n      <td>CPD</td>\n      <td>2022/10/17 19:58:39+00</td>\n      <td>1558</td>\n      <td>Houchens, Logan</td>\n    </tr>\n    <tr>\n      <th>5</th>\n      <td>6</td>\n      <td>Trespass</td>\n      <td>202200030061</td>\n      <td>500.0</td>\n      <td>PRESTON AVE</td>\n      <td>CPD</td>\n      <td>2022/10/17 17:35:18+00</td>\n      <td>1335</td>\n      <td>Houchens, Jamell</td>\n    </tr>\n    <tr>\n      <th>6</th>\n      <td>7</td>\n      <td>Motor Vehicle Theft</td>\n      <td>202200030053</td>\n      <td>600.0</td>\n      <td>14TH ST NW</td>\n      <td>CPD</td>\n      <td>2022/10/17 14:54:03+00</td>\n      <td>1054</td>\n      <td>Nash, Darius</td>\n    </tr>\n    <tr>\n      <th>7</th>\n      <td>8</td>\n      <td>Larceny - Theft from Building</td>\n      <td>202280000894</td>\n      <td>100.0</td>\n      <td>BAYLOR LN</td>\n      <td>CPD</td>\n      <td>2022/10/17 13:24:02+00</td>\n      <td>924</td>\n      <td>Moje, Ashley</td>\n    </tr>\n    <tr>\n      <th>8</th>\n      <td>9</td>\n      <td>Larceny - From Motor Vehicle</td>\n      <td>202280000893</td>\n      <td>1400.0</td>\n      <td>FOREST RIDGE RD</td>\n      <td>CPD</td>\n      <td>2022/10/17 12:39:53+00</td>\n      <td>839</td>\n      <td>Moje, Ashley</td>\n    </tr>\n    <tr>\n      <th>9</th>\n      <td>10</td>\n      <td>Drug/Narcotics Violation</td>\n      <td>202200030029</td>\n      <td>1700.0</td>\n      <td>HYDRAULIC RD</td>\n      <td>CPD</td>\n      <td>2022/10/17 10:40:25+00</td>\n      <td>640</td>\n      <td>Curry, Brian</td>\n    </tr>\n  </tbody>\n</table>\n</div>"
     },
     "execution_count": 4,
     "metadata": {},
     "output_type": "execute_result"
    }
   ],
   "source": [
    "crimes.head(10)"
   ]
  },
  {
   "cell_type": "code",
   "execution_count": 5,
   "metadata": {
    "colab": {
     "base_uri": "https://localhost:8080/"
    },
    "id": "FoNBGaBZDqV8",
    "outputId": "7b9c4cc6-3919-4ade-f22e-ef578f1292ff"
   },
   "outputs": [
    {
     "name": "stdout",
     "output_type": "stream",
     "text": [
      "<class 'pandas.core.frame.DataFrame'>\n",
      "RangeIndex: 24577 entries, 0 to 24576\n",
      "Data columns (total 9 columns):\n",
      " #   Column            Non-Null Count  Dtype  \n",
      "---  ------            --------------  -----  \n",
      " 0   RecordID          24577 non-null  int64  \n",
      " 1   Offense           24577 non-null  object \n",
      " 2   IncidentID        24577 non-null  int64  \n",
      " 3   BlockNumber       23229 non-null  float64\n",
      " 4   StreetName        24577 non-null  object \n",
      " 5   Agency            24577 non-null  object \n",
      " 6   DateReported      24577 non-null  object \n",
      " 7   HourReported      24577 non-null  int64  \n",
      " 8   ReportingOfficer  24534 non-null  object \n",
      "dtypes: float64(1), int64(3), object(5)\n",
      "memory usage: 1.7+ MB\n"
     ]
    }
   ],
   "source": [
    "crimes.info()"
   ]
  },
  {
   "cell_type": "markdown",
   "metadata": {},
   "source": [
    "# Data Exploration"
   ]
  },
  {
   "cell_type": "markdown",
   "metadata": {
    "id": "slYFckZJIpnE"
   },
   "source": [
    "## Non Numerical Data Exploration"
   ]
  },
  {
   "cell_type": "markdown",
   "metadata": {
    "id": "AGo8CBHUESWQ"
   },
   "source": [
    "Now lets look a little closer at the non numerical data"
   ]
  },
  {
   "cell_type": "code",
   "execution_count": 6,
   "metadata": {
    "colab": {
     "base_uri": "https://localhost:8080/"
    },
    "id": "gMmPDQjqEs01",
    "outputId": "d3b1a6e5-02f4-48e5-85cd-93472c2636d5"
   },
   "outputs": [
    {
     "data": {
      "text/plain": "Hit and Run                         2120\nAssault Simple                      1963\nSuspicious Activity                 1634\nVandalism                           1609\nLarceny - All Other                 1557\n                                    ... \nTactical Crime Initiative - TCI        1\n911 Investigation                      1\nProstitution-assisting/promoting       1\nField Interview                        1\nAlarm-Accidental                       1\nName: Offense, Length: 119, dtype: int64"
     },
     "execution_count": 6,
     "metadata": {},
     "output_type": "execute_result"
    }
   ],
   "source": [
    "crimes[\"Offense\"].value_counts()"
   ]
  },
  {
   "cell_type": "code",
   "execution_count": 7,
   "metadata": {
    "colab": {
     "base_uri": "https://localhost:8080/"
    },
    "id": "3F9L_pO3E3El",
    "outputId": "e3ee62cd-b04e-406c-eaa9-7c6a917e10b9"
   },
   "outputs": [
    {
     "data": {
      "text/plain": "E MARKET ST               1134\nEMMET ST N                1048\nW MAIN ST                 1007\nE MAIN ST                  520\n5TH ST SW                  450\n                          ... \n1ST ST S, 207                1\nMICHIE DR, 115               1\nHOLIDAY DR, 116              1\nCULBRETH RD / RUGBY RD       1\n15TH ST NW, 2013             1\nName: StreetName, Length: 3401, dtype: int64"
     },
     "execution_count": 7,
     "metadata": {},
     "output_type": "execute_result"
    }
   ],
   "source": [
    "crimes[\"StreetName\"].value_counts()"
   ]
  },
  {
   "cell_type": "code",
   "execution_count": 8,
   "metadata": {
    "colab": {
     "base_uri": "https://localhost:8080/"
    },
    "id": "g9hUNNInE-YH",
    "outputId": "80f4d32d-fc97-4b36-c213-b329f4553ff1"
   },
   "outputs": [
    {
     "data": {
      "text/plain": "CPD    24577\nName: Agency, dtype: int64"
     },
     "execution_count": 8,
     "metadata": {},
     "output_type": "execute_result"
    }
   ],
   "source": [
    "crimes[\"Agency\"].value_counts()"
   ]
  },
  {
   "cell_type": "code",
   "execution_count": 9,
   "metadata": {
    "colab": {
     "base_uri": "https://localhost:8080/"
    },
    "id": "PkOLS_eyFEyt",
    "outputId": "ae3b28e5-fcf7-43c3-f67f-661e0fd4495d"
   },
   "outputs": [
    {
     "data": {
      "text/plain": "2017/10/21 12:30:00+00    6\n2018/06/29 02:20:19+00    6\n2017/11/04 15:00:00+00    4\n2019/10/07 18:46:09+00    4\n2018/06/15 14:08:49+00    4\n                         ..\n2021/04/02 19:55:45+00    1\n2021/04/03 00:29:07+00    1\n2021/04/03 02:48:26+00    1\n2021/04/03 03:17:20+00    1\n2017/10/20 04:35:00+00    1\nName: DateReported, Length: 24453, dtype: int64"
     },
     "execution_count": 9,
     "metadata": {},
     "output_type": "execute_result"
    }
   ],
   "source": [
    "crimes[\"DateReported\"].value_counts()"
   ]
  },
  {
   "cell_type": "code",
   "execution_count": 10,
   "metadata": {
    "colab": {
     "base_uri": "https://localhost:8080/"
    },
    "id": "YCClWbbeFIAY",
    "outputId": "abf73f86-e1bf-4a79-eb87-3f85209ba0ce"
   },
   "outputs": [
    {
     "data": {
      "text/plain": "Moje, Ashley        1060\nShiflett, Tammy      611\nStein, Nathan        523\nNewton, Arla         472\nPittman, Terry       447\n                    ... \nArnette, Locia         1\nBeasley, Timothy       1\nHopkins, Emma          1\nCosgro, Blaine         1\nThomas, Alfred         1\nName: ReportingOfficer, Length: 175, dtype: int64"
     },
     "execution_count": 10,
     "metadata": {},
     "output_type": "execute_result"
    }
   ],
   "source": [
    "crimes[\"ReportingOfficer\"].value_counts()"
   ]
  },
  {
   "cell_type": "markdown",
   "metadata": {
    "id": "mV36HCFbFMUu"
   },
   "source": [
    "There are a lot of categories in the non-numerical data. This is not as worrying as it could be since a lot of the data seems like it is unnecessary for our project. It does not seem like we are going to need Reporting Officer, Agency, and Date Reported. We can just use the hours integer to get the time. \n",
    "\n",
    "Small side note: It would be interesting to look up odds of getting arrested on certain streets depending on who is on duty, but that is outside of the scope of our particular project. "
   ]
  },
  {
   "cell_type": "markdown",
   "metadata": {
    "id": "AIOIhssAIjpI"
   },
   "source": [
    "## Numerical Data Exploration"
   ]
  },
  {
   "cell_type": "markdown",
   "metadata": {
    "id": "6ot4zJZOGOp9"
   },
   "source": [
    "Now we will look at histograms of the numerical data below. From this data we will determine what is important information and what is not. "
   ]
  },
  {
   "cell_type": "code",
   "execution_count": 11,
   "metadata": {
    "colab": {
     "base_uri": "https://localhost:8080/",
     "height": 566
    },
    "id": "v2F2rp1KF7X_",
    "outputId": "8b7d6f1a-3eaf-4ea0-cfe9-132ac7a4185f"
   },
   "outputs": [
    {
     "data": {
      "text/plain": "array([[<AxesSubplot: title={'center': 'RecordID'}>,\n        <AxesSubplot: title={'center': 'IncidentID'}>],\n       [<AxesSubplot: title={'center': 'BlockNumber'}>,\n        <AxesSubplot: title={'center': 'HourReported'}>]], dtype=object)"
     },
     "execution_count": 11,
     "metadata": {},
     "output_type": "execute_result"
    },
    {
     "data": {
      "text/plain": "<Figure size 2000x1500 with 4 Axes>",
      "image/png": "[encoded data removed]"
     },
     "metadata": {},
     "output_type": "display_data"
    }
   ],
   "source": [
    "crimes.hist(bins=50, figsize=(20,15))"
   ]
  },
  {
   "cell_type": "code",
   "execution_count": 12,
   "metadata": {},
   "outputs": [
    {
     "data": {
      "text/plain": "<AxesSubplot: >"
     },
     "execution_count": 12,
     "metadata": {},
     "output_type": "execute_result"
    },
    {
     "data": {
      "text/plain": "<Figure size 640x480 with 1 Axes>",
      "image/png": "[encoded data removed]"
     },
     "metadata": {},
     "output_type": "display_data"
    }
   ],
   "source": [
    "crimes['HourReported'].hist(bins=24) # if we use more than 24 bins, the fact that nothing can be reported after 59 minutes makes the bar plot really weird"
   ]
  },
  {
   "cell_type": "markdown",
   "metadata": {
    "id": "AeJyrfFpGcOU"
   },
   "source": [
    "The histrogram of the Record ID behaved exactly as expected. We assumed that Incident ID would also not be very useful but it is organized by year, which will not really fit into what we are doing for this part of the project, but it would be interesting to look at what crimes have become less frequent over time, and it may actually play a role so even though we initially plan on getting rid of it, we will reevaluate as we continue to work on the project. \n",
    "There are some correlations with lower block numbers having more incidents which we did not suspect as a group but more incidents at later hours was something we expected. "
   ]
  },
  {
   "cell_type": "markdown",
   "metadata": {
    "id": "yfQ1oFS7JF_5"
   },
   "source": [
    "## Null Data"
   ]
  },
  {
   "cell_type": "markdown",
   "metadata": {
    "id": "s5rkgN3mXrxd"
   },
   "source": [
    "First we will observe the null data and think of a plan to deal with it."
   ]
  },
  {
   "cell_type": "code",
   "execution_count": 13,
   "metadata": {
    "colab": {
     "base_uri": "https://localhost:8080/",
     "height": 444
    },
    "id": "-3FejjABJL_0",
    "outputId": "ad3f84eb-23f6-4afb-de54-07ebc4f942ae"
   },
   "outputs": [
    {
     "data": {
      "text/plain": "    RecordID                         Offense    IncidentID  BlockNumber  \\\n15        16                     Hit and Run  202200029979          NaN   \n39        40                     Hit and Run  202200029819          NaN   \n55        56                     Hit and Run  202200029704          NaN   \n57        58                       Vandalism  202200029697          NaN   \n71        72  Assist Citizen - Welfare Check  202200029599          NaN   \n\n                  StreetName Agency            DateReported  HourReported  \\\n15        BAILEY RD @ 5TH ST    CPD  2022/10/16 23:08:33+00          1908   \n39  ALTAMONT CIR / W HIGH ST    CPD  2022/10/15 05:38:27+00           138   \n55       IVY RD / EMMET ST N    CPD  2022/10/14 04:47:19+00            47   \n57    GARRETT ST / 2ND ST SE    CPD  2022/10/14 03:58:33+00          2358   \n71   LANKFORD AVE / 1ST ST S    CPD  2022/10/13 01:58:30+00          2158   \n\n   ReportingOfficer  \n15    Alfonso, Sean  \n39     Lowry, Brent  \n55     Hounsel, Eli  \n57  Blackwell, Ryan  \n71   Whitten, Tobyn  ",
      "text/html": "<div>\n<style scoped>\n    .dataframe tbody tr th:only-of-type {\n        vertical-align: middle;\n    }\n\n    .dataframe tbody tr th {\n        vertical-align: top;\n    }\n\n    .dataframe thead th {\n        text-align: right;\n    }\n</style>\n<table border=\"1\" class=\"dataframe\">\n  <thead>\n    <tr style=\"text-align: right;\">\n      <th></th>\n      <th>RecordID</th>\n      <th>Offense</th>\n      <th>IncidentID</th>\n      <th>BlockNumber</th>\n      <th>StreetName</th>\n      <th>Agency</th>\n      <th>DateReported</th>\n      <th>HourReported</th>\n      <th>ReportingOfficer</th>\n    </tr>\n  </thead>\n  <tbody>\n    <tr>\n      <th>15</th>\n      <td>16</td>\n      <td>Hit and Run</td>\n      <td>202200029979</td>\n      <td>NaN</td>\n      <td>BAILEY RD @ 5TH ST</td>\n      <td>CPD</td>\n      <td>2022/10/16 23:08:33+00</td>\n      <td>1908</td>\n      <td>Alfonso, Sean</td>\n    </tr>\n    <tr>\n      <th>39</th>\n      <td>40</td>\n      <td>Hit and Run</td>\n      <td>202200029819</td>\n      <td>NaN</td>\n      <td>ALTAMONT CIR / W HIGH ST</td>\n      <td>CPD</td>\n      <td>2022/10/15 05:38:27+00</td>\n      <td>138</td>\n      <td>Lowry, Brent</td>\n    </tr>\n    <tr>\n      <th>55</th>\n      <td>56</td>\n      <td>Hit and Run</td>\n      <td>202200029704</td>\n      <td>NaN</td>\n      <td>IVY RD / EMMET ST N</td>\n      <td>CPD</td>\n      <td>2022/10/14 04:47:19+00</td>\n      <td>47</td>\n      <td>Hounsel, Eli</td>\n    </tr>\n    <tr>\n      <th>57</th>\n      <td>58</td>\n      <td>Vandalism</td>\n      <td>202200029697</td>\n      <td>NaN</td>\n      <td>GARRETT ST / 2ND ST SE</td>\n      <td>CPD</td>\n      <td>2022/10/14 03:58:33+00</td>\n      <td>2358</td>\n      <td>Blackwell, Ryan</td>\n    </tr>\n    <tr>\n      <th>71</th>\n      <td>72</td>\n      <td>Assist Citizen - Welfare Check</td>\n      <td>202200029599</td>\n      <td>NaN</td>\n      <td>LANKFORD AVE / 1ST ST S</td>\n      <td>CPD</td>\n      <td>2022/10/13 01:58:30+00</td>\n      <td>2158</td>\n      <td>Whitten, Tobyn</td>\n    </tr>\n  </tbody>\n</table>\n</div>"
     },
     "execution_count": 13,
     "metadata": {},
     "output_type": "execute_result"
    }
   ],
   "source": [
    "incomplete_data = crimes[crimes.isnull().any(axis=1)].head()\n",
    "incomplete_data"
   ]
  },
  {
   "cell_type": "code",
   "execution_count": 14,
   "metadata": {
    "colab": {
     "base_uri": "https://localhost:8080/"
    },
    "id": "MhkNtVQwJgbe",
    "outputId": "9d3144eb-e9b7-4fbb-c2eb-054c5309af15"
   },
   "outputs": [
    {
     "name": "stdout",
     "output_type": "stream",
     "text": [
      "<class 'pandas.core.frame.DataFrame'>\n",
      "Int64Index: 23189 entries, 0 to 24576\n",
      "Data columns (total 9 columns):\n",
      " #   Column            Non-Null Count  Dtype  \n",
      "---  ------            --------------  -----  \n",
      " 0   RecordID          23189 non-null  int64  \n",
      " 1   Offense           23189 non-null  object \n",
      " 2   IncidentID        23189 non-null  int64  \n",
      " 3   BlockNumber       23189 non-null  float64\n",
      " 4   StreetName        23189 non-null  object \n",
      " 5   Agency            23189 non-null  object \n",
      " 6   DateReported      23189 non-null  object \n",
      " 7   HourReported      23189 non-null  int64  \n",
      " 8   ReportingOfficer  23189 non-null  object \n",
      "dtypes: float64(1), int64(3), object(5)\n",
      "memory usage: 1.8+ MB\n"
     ]
    }
   ],
   "source": [
    "crimes_without_null = crimes.dropna()\n",
    "crimes_without_null.info()"
   ]
  },
  {
   "cell_type": "code",
   "execution_count": 15,
   "metadata": {
    "colab": {
     "base_uri": "https://localhost:8080/"
    },
    "id": "nnVLbWixK9qM",
    "outputId": "26ecf8cd-9b27-4bfb-b6a7-d2ceb8f615af"
   },
   "outputs": [
    {
     "name": "stdout",
     "output_type": "stream",
     "text": [
      "<class 'pandas.core.frame.DataFrame'>\n",
      "RangeIndex: 24577 entries, 0 to 24576\n",
      "Data columns (total 9 columns):\n",
      " #   Column            Non-Null Count  Dtype  \n",
      "---  ------            --------------  -----  \n",
      " 0   RecordID          24577 non-null  int64  \n",
      " 1   Offense           24577 non-null  object \n",
      " 2   IncidentID        24577 non-null  int64  \n",
      " 3   BlockNumber       23229 non-null  float64\n",
      " 4   StreetName        24577 non-null  object \n",
      " 5   Agency            24577 non-null  object \n",
      " 6   DateReported      24577 non-null  object \n",
      " 7   HourReported      24577 non-null  int64  \n",
      " 8   ReportingOfficer  24534 non-null  object \n",
      "dtypes: float64(1), int64(3), object(5)\n",
      "memory usage: 1.7+ MB\n"
     ]
    }
   ],
   "source": [
    "crimes.info()"
   ]
  },
  {
   "cell_type": "markdown",
   "metadata": {
    "id": "kv-CCkMzLC-u"
   },
   "source": [
    "Looking at the data we see that there are about 1300 missing block numbers, I am not sure how cobining this data with the streetnames is going to work but we will try to use an imputer but it may cause some strange behaviors that will need to be looked at later depending on our observations."
   ]
  },
  {
   "cell_type": "code",
   "execution_count": 16,
   "metadata": {
    "id": "GpZGV5jDKeQx"
   },
   "outputs": [],
   "source": [
    "imputer = SimpleImputer(strategy=\"median\")"
   ]
  },
  {
   "cell_type": "markdown",
   "metadata": {
    "id": "c7M24p3RXze3"
   },
   "source": [
    "Here we are going to look at imputing the data but we decided we would get rid of the values that do not matter first. "
   ]
  },
  {
   "cell_type": "code",
   "execution_count": 17,
   "metadata": {
    "colab": {
     "base_uri": "https://localhost:8080/"
    },
    "id": "RJ1e3FV8ZlxU",
    "outputId": "5b777a73-5f12-4d52-8c30-19c49d2ccd70"
   },
   "outputs": [
    {
     "name": "stdout",
     "output_type": "stream",
     "text": [
      "<class 'pandas.core.frame.DataFrame'>\n",
      "RangeIndex: 24577 entries, 0 to 24576\n",
      "Data columns (total 9 columns):\n",
      " #   Column            Non-Null Count  Dtype  \n",
      "---  ------            --------------  -----  \n",
      " 0   RecordID          24577 non-null  int64  \n",
      " 1   Offense           24577 non-null  object \n",
      " 2   IncidentID        24577 non-null  int64  \n",
      " 3   BlockNumber       23229 non-null  float64\n",
      " 4   StreetName        24577 non-null  object \n",
      " 5   Agency            24577 non-null  object \n",
      " 6   DateReported      24577 non-null  object \n",
      " 7   HourReported      24577 non-null  int64  \n",
      " 8   ReportingOfficer  24534 non-null  object \n",
      "dtypes: float64(1), int64(3), object(5)\n",
      "memory usage: 1.7+ MB\n"
     ]
    }
   ],
   "source": [
    "crimes.info()"
   ]
  },
  {
   "cell_type": "code",
   "execution_count": 18,
   "metadata": {
    "colab": {
     "base_uri": "https://localhost:8080/",
     "height": 397
    },
    "id": "Iq8mWEMUZWsy",
    "outputId": "7fac3461-5c99-4071-c288-9e8aa5f378d6"
   },
   "outputs": [],
   "source": [
    "crimes_lean = crimes.drop([\"ReportingOfficer\",\"IncidentID\",\"Agency\",\"RecordID\",],axis=1)"
   ]
  },
  {
   "cell_type": "code",
   "execution_count": 19,
   "metadata": {
    "id": "Uk_GRGlwaSrA"
   },
   "outputs": [],
   "source": [
    "crime_num = crimes_lean.drop([\"Offense\",\"DateReported\",\"StreetName\"], axis=1)"
   ]
  },
  {
   "cell_type": "code",
   "execution_count": 20,
   "metadata": {
    "colab": {
     "base_uri": "https://localhost:8080/"
    },
    "id": "4p11irr-a1V-",
    "outputId": "c189555b-68c6-48e9-8637-308047641c8a"
   },
   "outputs": [
    {
     "data": {
      "text/plain": "SimpleImputer(strategy='median')",
      "text/html": "<style>#sk-container-id-1 {color: black;background-color: white;}#sk-container-id-1 pre{padding: 0;}#sk-container-id-1 div.sk-toggleable {background-color: white;}#sk-container-id-1 label.sk-toggleable__label {cursor: pointer;display: block;width: 100%;margin-bottom: 0;padding: 0.3em;box-sizing: border-box;text-align: center;}#sk-container-id-1 label.sk-toggleable__label-arrow:before {content: \"▸\";float: left;margin-right: 0.25em;color: #696969;}#sk-container-id-1 label.sk-toggleable__label-arrow:hover:before {color: black;}#sk-container-id-1 div.sk-estimator:hover label.sk-toggleable__label-arrow:before {color: black;}#sk-container-id-1 div.sk-toggleable__content {max-height: 0;max-width: 0;overflow: hidden;text-align: left;background-color: #f0f8ff;}#sk-container-id-1 div.sk-toggleable__content pre {margin: 0.2em;color: black;border-radius: 0.25em;background-color: #f0f8ff;}#sk-container-id-1 input.sk-toggleable__control:checked~div.sk-toggleable__content {max-height: 200px;max-width: 100%;overflow: auto;}#sk-container-id-1 input.sk-toggleable__control:checked~label.sk-toggleable__label-arrow:before {content: \"▾\";}#sk-container-id-1 div.sk-estimator input.sk-toggleable__control:checked~label.sk-toggleable__label {background-color: #d4ebff;}#sk-container-id-1 div.sk-label input.sk-toggleable__control:checked~label.sk-toggleable__label {background-color: #d4ebff;}#sk-container-id-1 input.sk-hidden--visually {border: 0;clip: rect(1px 1px 1px 1px);clip: rect(1px, 1px, 1px, 1px);height: 1px;margin: -1px;overflow: hidden;padding: 0;position: absolute;width: 1px;}#sk-container-id-1 div.sk-estimator {font-family: monospace;background-color: #f0f8ff;border: 1px dotted black;border-radius: 0.25em;box-sizing: border-box;margin-bottom: 0.5em;}#sk-container-id-1 div.sk-estimator:hover {background-color: #d4ebff;}#sk-container-id-1 div.sk-parallel-item::after {content: \"\";width: 100%;border-bottom: 1px solid gray;flex-grow: 1;}#sk-container-id-1 div.sk-label:hover label.sk-toggleable__label {background-color: #d4ebff;}#sk-container-id-1 div.sk-serial::before {content: \"\";position: absolute;border-left: 1px solid gray;box-sizing: border-box;top: 0;bottom: 0;left: 50%;z-index: 0;}#sk-container-id-1 div.sk-serial {display: flex;flex-direction: column;align-items: center;background-color: white;padding-right: 0.2em;padding-left: 0.2em;position: relative;}#sk-container-id-1 div.sk-item {position: relative;z-index: 1;}#sk-container-id-1 div.sk-parallel {display: flex;align-items: stretch;justify-content: center;background-color: white;position: relative;}#sk-container-id-1 div.sk-item::before, #sk-container-id-1 div.sk-parallel-item::before {content: \"\";position: absolute;border-left: 1px solid gray;box-sizing: border-box;top: 0;bottom: 0;left: 50%;z-index: -1;}#sk-container-id-1 div.sk-parallel-item {display: flex;flex-direction: column;z-index: 1;position: relative;background-color: white;}#sk-container-id-1 div.sk-parallel-item:first-child::after {align-self: flex-end;width: 50%;}#sk-container-id-1 div.sk-parallel-item:last-child::after {align-self: flex-start;width: 50%;}#sk-container-id-1 div.sk-parallel-item:only-child::after {width: 0;}#sk-container-id-1 div.sk-dashed-wrapped {border: 1px dashed gray;margin: 0 0.4em 0.5em 0.4em;box-sizing: border-box;padding-bottom: 0.4em;background-color: white;}#sk-container-id-1 div.sk-label label {font-family: monospace;font-weight: bold;display: inline-block;line-height: 1.2em;}#sk-container-id-1 div.sk-label-container {text-align: center;}#sk-container-id-1 div.sk-container {/* jupyter's `normalize.less` sets `[hidden] { display: none; }` but bootstrap.min.css set `[hidden] { display: none !important; }` so we also need the `!important` here to be able to override the default hidden behavior on the sphinx rendered scikit-learn.org. See: https://github.com/scikit-learn/scikit-learn/issues/21755 */display: inline-block !important;position: relative;}#sk-container-id-1 div.sk-text-repr-fallback {display: none;}</style><div id=\"sk-container-id-1\" class=\"sk-top-container\"><div class=\"sk-text-repr-fallback\"><pre>SimpleImputer(strategy=&#x27;median&#x27;)</pre><b>In a Jupyter environment, please rerun this cell to show the HTML representation or trust the notebook. <br />On GitHub, the HTML representation is unable to render, please try loading this page with nbviewer.org.</b></div><div class=\"sk-container\" hidden><div class=\"sk-item\"><div class=\"sk-estimator sk-toggleable\"><input class=\"sk-toggleable__control sk-hidden--visually\" id=\"sk-estimator-id-1\" type=\"checkbox\" checked><label for=\"sk-estimator-id-1\" class=\"sk-toggleable__label sk-toggleable__label-arrow\">SimpleImputer</label><div class=\"sk-toggleable__content\"><pre>SimpleImputer(strategy=&#x27;median&#x27;)</pre></div></div></div></div></div>"
     },
     "execution_count": 20,
     "metadata": {},
     "output_type": "execute_result"
    }
   ],
   "source": [
    "imputer.fit(crime_num)"
   ]
  },
  {
   "cell_type": "markdown",
   "metadata": {
    "id": "qgaRTCFBcCmD"
   },
   "source": [
    "Just want to look at the data in the imputed state"
   ]
  },
  {
   "cell_type": "code",
   "execution_count": 21,
   "metadata": {
    "colab": {
     "base_uri": "https://localhost:8080/"
    },
    "id": "bbZrDBBga9Dk",
    "outputId": "4efefb76-ee9c-402e-857c-be077dae4843"
   },
   "outputs": [
    {
     "data": {
      "text/plain": "array([ 800., 1405.])"
     },
     "execution_count": 21,
     "metadata": {},
     "output_type": "execute_result"
    }
   ],
   "source": [
    "imputer.statistics_"
   ]
  },
  {
   "cell_type": "code",
   "execution_count": 22,
   "metadata": {
    "colab": {
     "base_uri": "https://localhost:8080/"
    },
    "id": "BzOp0Jv7bH85",
    "outputId": "9b44a434-4f97-4dbb-f3ab-58640efed43e"
   },
   "outputs": [
    {
     "data": {
      "text/plain": "array([ 800., 1405.])"
     },
     "execution_count": 22,
     "metadata": {},
     "output_type": "execute_result"
    }
   ],
   "source": [
    "crime_num.median().values"
   ]
  },
  {
   "cell_type": "markdown",
   "metadata": {
    "id": "aRRa2TLqcIYU"
   },
   "source": [
    "Now we need to deal with the categorical data. This is where some big adjustments to what we have input need to happen. "
   ]
  },
  {
   "cell_type": "markdown",
   "metadata": {},
   "source": [
    "# Data Cleaning"
   ]
  },
  {
   "cell_type": "markdown",
   "metadata": {},
   "source": [
    "First, we are going to drop the features we determined are not particularly useful"
   ]
  },
  {
   "cell_type": "code",
   "execution_count": 23,
   "metadata": {},
   "outputs": [],
   "source": [
    "crimes_lean = crimes.drop([\"ReportingOfficer\",\"IncidentID\",\"Agency\",\"RecordID\",],axis=1)"
   ]
  },
  {
   "cell_type": "markdown",
   "metadata": {},
   "source": [
    "## Offense Encoding"
   ]
  },
  {
   "cell_type": "code",
   "execution_count": 24,
   "metadata": {
    "colab": {
     "base_uri": "https://localhost:8080/",
     "height": 363
    },
    "id": "5gY23EomcO_i",
    "outputId": "18459b73-20fe-49cc-fa56-9cc8c74f3576"
   },
   "outputs": [
    {
     "data": {
      "text/plain": "                           Offense\n0              Larceny - All Other\n1                         Burglary\n2               Assault Aggravated\n3  Assist Citizen - Mental/TDO/ECO\n4                   Assault Simple\n5                         Trespass\n6              Motor Vehicle Theft\n7    Larceny - Theft from Building\n8     Larceny - From Motor Vehicle\n9         Drug/Narcotics Violation",
      "text/html": "<div>\n<style scoped>\n    .dataframe tbody tr th:only-of-type {\n        vertical-align: middle;\n    }\n\n    .dataframe tbody tr th {\n        vertical-align: top;\n    }\n\n    .dataframe thead th {\n        text-align: right;\n    }\n</style>\n<table border=\"1\" class=\"dataframe\">\n  <thead>\n    <tr style=\"text-align: right;\">\n      <th></th>\n      <th>Offense</th>\n    </tr>\n  </thead>\n  <tbody>\n    <tr>\n      <th>0</th>\n      <td>Larceny - All Other</td>\n    </tr>\n    <tr>\n      <th>1</th>\n      <td>Burglary</td>\n    </tr>\n    <tr>\n      <th>2</th>\n      <td>Assault Aggravated</td>\n    </tr>\n    <tr>\n      <th>3</th>\n      <td>Assist Citizen - Mental/TDO/ECO</td>\n    </tr>\n    <tr>\n      <th>4</th>\n      <td>Assault Simple</td>\n    </tr>\n    <tr>\n      <th>5</th>\n      <td>Trespass</td>\n    </tr>\n    <tr>\n      <th>6</th>\n      <td>Motor Vehicle Theft</td>\n    </tr>\n    <tr>\n      <th>7</th>\n      <td>Larceny - Theft from Building</td>\n    </tr>\n    <tr>\n      <th>8</th>\n      <td>Larceny - From Motor Vehicle</td>\n    </tr>\n    <tr>\n      <th>9</th>\n      <td>Drug/Narcotics Violation</td>\n    </tr>\n  </tbody>\n</table>\n</div>"
     },
     "execution_count": 24,
     "metadata": {},
     "output_type": "execute_result"
    }
   ],
   "source": [
    "crime_offense_cat = crimes[[\"Offense\"]]\n",
    "crime_offense_cat.head(10)"
   ]
  },
  {
   "cell_type": "markdown",
   "metadata": {},
   "source": [
    "We are going to have to label these by hand by the look of it. There's no way to infer how dangerous an offense is by machine, unless perhaps by some sophisticated NLP algorithm which would take longer to write and design than it would to do this project most likely.\n",
    "\n",
    "It is important to acknowledge the fact that our labelling of the data is an inherent source of bias. Unfortunately, if we wish to use this data for predicting safety, it will be necessary as a trade-off, because it would just be too innacurrate to base a decision on walking safety on occurence of trafic law violations or something of that nature. Thus, this is a tradeoff that has to be acknowledged as an inherent source of bias since this is not really a clear-cut line between \"violent\" and \"non-violent\". Additionally, there seem to be some categories that we may or may not actually be able to interpret clearly, such as `'Tactical Crime Initiative - TCI'`, which may mean something to the police department, but has litte meaning for us, unless it's something we can find on Google. There may be very few features with these categorizations however, so this may be a case where we can simply drop those records."
   ]
  },
  {
   "cell_type": "markdown",
   "metadata": {},
   "source": [
    ". . .  time elapses . . .\n",
    "\n",
    "\n",
    "\n",
    "\n",
    "Having now hand-jammed an ordinal encoding for the categorical offense data, we can load it and see if we can't use this engineered feature to our advantage."
   ]
  },
  {
   "cell_type": "code",
   "execution_count": 25,
   "metadata": {},
   "outputs": [
    {
     "data": {
      "text/plain": "                     Offense  Danger_Level\n0          911 Investigation             1\n1  Accident - w/out Injuries             0\n2  Accident Private Property             2\n3   Accident Property Damage             2\n4        Accident w/Injuries             2",
      "text/html": "<div>\n<style scoped>\n    .dataframe tbody tr th:only-of-type {\n        vertical-align: middle;\n    }\n\n    .dataframe tbody tr th {\n        vertical-align: top;\n    }\n\n    .dataframe thead th {\n        text-align: right;\n    }\n</style>\n<table border=\"1\" class=\"dataframe\">\n  <thead>\n    <tr style=\"text-align: right;\">\n      <th></th>\n      <th>Offense</th>\n      <th>Danger_Level</th>\n    </tr>\n  </thead>\n  <tbody>\n    <tr>\n      <th>0</th>\n      <td>911 Investigation</td>\n      <td>1</td>\n    </tr>\n    <tr>\n      <th>1</th>\n      <td>Accident - w/out Injuries</td>\n      <td>0</td>\n    </tr>\n    <tr>\n      <th>2</th>\n      <td>Accident Private Property</td>\n      <td>2</td>\n    </tr>\n    <tr>\n      <th>3</th>\n      <td>Accident Property Damage</td>\n      <td>2</td>\n    </tr>\n    <tr>\n      <th>4</th>\n      <td>Accident w/Injuries</td>\n      <td>2</td>\n    </tr>\n  </tbody>\n</table>\n</div>"
     },
     "execution_count": 25,
     "metadata": {},
     "output_type": "execute_result"
    }
   ],
   "source": [
    "ord_offenses = load_oridinal_violence_features()\n",
    "ord_offenses.head()"
   ]
  },
  {
   "cell_type": "markdown",
   "metadata": {},
   "source": [
    "Unfortunately, this kind of solution is very prone to error, and introduces much inherent bias. This is probably something that it would be good to ask the police department to do, since they actually understand what all of the offences are and how dangerous they really are. Sadly, we are not the police force and they probably would not have time for such a thing if we were to ask them to do it."
   ]
  },
  {
   "cell_type": "markdown",
   "metadata": {},
   "source": [
    "The next task is to try and get this data mapped into the main data set. Notably, `ord_offenses` only has one entry for each kind of offense, so we will have to use some kind of pandas trick here. Or maybe just a good old fashioned nested for loop . . . Parallelization! I blow my nose at you!"
   ]
  },
  {
   "cell_type": "code",
   "execution_count": 26,
   "metadata": {},
   "outputs": [
    {
     "data": {
      "text/plain": "                           Offense  BlockNumber      StreetName  \\\n0              Larceny - All Other        800.0     ELLIOTT AVE   \n1                         Burglary        800.0      RAYMOND RD   \n2               Assault Aggravated        900.0       W MAIN ST   \n3  Assist Citizen - Mental/TDO/ECO        600.0     E MARKET ST   \n4                   Assault Simple       1400.0  UNIVERSITY AVE   \n\n             DateReported  HourReported  Danger  \n0  2022/10/18 01:08:59+00          2108       3  \n1  2022/10/18 00:31:50+00          2031       4  \n2  2022/10/17 23:40:34+00          1940       4  \n3  2022/10/17 22:24:21+00          1824       0  \n4  2022/10/17 19:58:39+00          1558       4  ",
      "text/html": "<div>\n<style scoped>\n    .dataframe tbody tr th:only-of-type {\n        vertical-align: middle;\n    }\n\n    .dataframe tbody tr th {\n        vertical-align: top;\n    }\n\n    .dataframe thead th {\n        text-align: right;\n    }\n</style>\n<table border=\"1\" class=\"dataframe\">\n  <thead>\n    <tr style=\"text-align: right;\">\n      <th></th>\n      <th>Offense</th>\n      <th>BlockNumber</th>\n      <th>StreetName</th>\n      <th>DateReported</th>\n      <th>HourReported</th>\n      <th>Danger</th>\n    </tr>\n  </thead>\n  <tbody>\n    <tr>\n      <th>0</th>\n      <td>Larceny - All Other</td>\n      <td>800.0</td>\n      <td>ELLIOTT AVE</td>\n      <td>2022/10/18 01:08:59+00</td>\n      <td>2108</td>\n      <td>3</td>\n    </tr>\n    <tr>\n      <th>1</th>\n      <td>Burglary</td>\n      <td>800.0</td>\n      <td>RAYMOND RD</td>\n      <td>2022/10/18 00:31:50+00</td>\n      <td>2031</td>\n      <td>4</td>\n    </tr>\n    <tr>\n      <th>2</th>\n      <td>Assault Aggravated</td>\n      <td>900.0</td>\n      <td>W MAIN ST</td>\n      <td>2022/10/17 23:40:34+00</td>\n      <td>1940</td>\n      <td>4</td>\n    </tr>\n    <tr>\n      <th>3</th>\n      <td>Assist Citizen - Mental/TDO/ECO</td>\n      <td>600.0</td>\n      <td>E MARKET ST</td>\n      <td>2022/10/17 22:24:21+00</td>\n      <td>1824</td>\n      <td>0</td>\n    </tr>\n    <tr>\n      <th>4</th>\n      <td>Assault Simple</td>\n      <td>1400.0</td>\n      <td>UNIVERSITY AVE</td>\n      <td>2022/10/17 19:58:39+00</td>\n      <td>1558</td>\n      <td>4</td>\n    </tr>\n  </tbody>\n</table>\n</div>"
     },
     "execution_count": 26,
     "metadata": {},
     "output_type": "execute_result"
    }
   ],
   "source": [
    "# first, we'll add a duplicate of the `Offense` column for the `danger` feature\n",
    "crimes_lean['Danger'] = crimes_lean.loc[:, 'Offense']\n",
    "\n",
    "# next, we'll turn the `ord_offenses` data frame into a dictionary\n",
    "danger_dict = dict(zip(ord_offenses.Offense, ord_offenses.Danger_Level))\n",
    "# print(danger_dict)\n",
    "\n",
    "# finally, we can map the new `Danger` column to it's categorical value\n",
    "crimes_lean['Danger'] = crimes_lean['Danger'].map(danger_dict)\n",
    "\n",
    "# now, we can take a peek at our lovely new column!\n",
    "crimes_lean.head()\n"
   ]
  },
  {
   "cell_type": "code",
   "execution_count": 27,
   "metadata": {},
   "outputs": [
    {
     "data": {
      "text/plain": "<AxesSubplot: >"
     },
     "execution_count": 27,
     "metadata": {},
     "output_type": "execute_result"
    },
    {
     "data": {
      "text/plain": "<Figure size 640x480 with 1 Axes>",
      "image/png": "[encoded data removed]"
     },
     "metadata": {},
     "output_type": "display_data"
    }
   ],
   "source": [
    "crimes_lean['Danger'].hist(bins=5)"
   ]
  },
  {
   "cell_type": "markdown",
   "metadata": {},
   "source": [
    "## Date Conversion"
   ]
  },
  {
   "cell_type": "markdown",
   "metadata": {},
   "source": [
    "Another problem we need to deal with is converting the date to some sort of usable numerical format, such as milliseconds since the last unix epoch. Let's examine this feature again."
   ]
  },
  {
   "cell_type": "code",
   "execution_count": 28,
   "metadata": {},
   "outputs": [
    {
     "data": {
      "text/plain": "0    2022/10/18 01:08:59+00\n1    2022/10/18 00:31:50+00\n2    2022/10/17 23:40:34+00\n3    2022/10/17 22:24:21+00\n4    2022/10/17 19:58:39+00\nName: DateReported, dtype: object"
     },
     "execution_count": 28,
     "metadata": {},
     "output_type": "execute_result"
    }
   ],
   "source": [
    "crimes_lean['DateReported'].head()"
   ]
  },
  {
   "cell_type": "markdown",
   "metadata": {},
   "source": [
    " Commence string munging tricks . . . or maybe we'll just find a library like [`dateutil`](https://labix.org/python-dateutil#head-a23e8ae0a661d77b89dfb3476f85b26f0b30349c)"
   ]
  },
  {
   "cell_type": "markdown",
   "metadata": {},
   "source": [
    "Yeah, the library is totally the way to go. Of course.\n",
    "\n",
    "Now, just a matter of using a map or something like that to convert the thing!"
   ]
  },
  {
   "cell_type": "code",
   "execution_count": 34,
   "metadata": {},
   "outputs": [
    {
     "data": {
      "text/plain": "                           Offense  BlockNumber      StreetName  \\\n0              Larceny - All Other        800.0     ELLIOTT AVE   \n1                         Burglary        800.0      RAYMOND RD   \n2               Assault Aggravated        900.0       W MAIN ST   \n3  Assist Citizen - Mental/TDO/ECO        600.0     E MARKET ST   \n4                   Assault Simple       1400.0  UNIVERSITY AVE   \n\n             DateReported  HourReported  Danger                   Epoch  \\\n0  2022/10/18 01:08:59+00          2108       3  2022/10/18 01:08:59+00   \n1  2022/10/18 00:31:50+00          2031       4  2022/10/18 00:31:50+00   \n2  2022/10/17 23:40:34+00          1940       4  2022/10/17 23:40:34+00   \n3  2022/10/17 22:24:21+00          1824       0  2022/10/17 22:24:21+00   \n4  2022/10/17 19:58:39+00          1558       4  2022/10/17 19:58:39+00   \n\n   Weekday  Week  Month  Day  Year  \n0        1  2022     10   18  2022  \n1        1  2022     10   18  2022  \n2        0  2022     10   17  2022  \n3        0  2022     10   17  2022  \n4        0  2022     10   17  2022  ",
      "text/html": "<div>\n<style scoped>\n    .dataframe tbody tr th:only-of-type {\n        vertical-align: middle;\n    }\n\n    .dataframe tbody tr th {\n        vertical-align: top;\n    }\n\n    .dataframe thead th {\n        text-align: right;\n    }\n</style>\n<table border=\"1\" class=\"dataframe\">\n  <thead>\n    <tr style=\"text-align: right;\">\n      <th></th>\n      <th>Offense</th>\n      <th>BlockNumber</th>\n      <th>StreetName</th>\n      <th>DateReported</th>\n      <th>HourReported</th>\n      <th>Danger</th>\n      <th>Epoch</th>\n      <th>Weekday</th>\n      <th>Week</th>\n      <th>Month</th>\n      <th>Day</th>\n      <th>Year</th>\n    </tr>\n  </thead>\n  <tbody>\n    <tr>\n      <th>0</th>\n      <td>Larceny - All Other</td>\n      <td>800.0</td>\n      <td>ELLIOTT AVE</td>\n      <td>2022/10/18 01:08:59+00</td>\n      <td>2108</td>\n      <td>3</td>\n      <td>2022/10/18 01:08:59+00</td>\n      <td>1</td>\n      <td>2022</td>\n      <td>10</td>\n      <td>18</td>\n      <td>2022</td>\n    </tr>\n    <tr>\n      <th>1</th>\n      <td>Burglary</td>\n      <td>800.0</td>\n      <td>RAYMOND RD</td>\n      <td>2022/10/18 00:31:50+00</td>\n      <td>2031</td>\n      <td>4</td>\n      <td>2022/10/18 00:31:50+00</td>\n      <td>1</td>\n      <td>2022</td>\n      <td>10</td>\n      <td>18</td>\n      <td>2022</td>\n    </tr>\n    <tr>\n      <th>2</th>\n      <td>Assault Aggravated</td>\n      <td>900.0</td>\n      <td>W MAIN ST</td>\n      <td>2022/10/17 23:40:34+00</td>\n      <td>1940</td>\n      <td>4</td>\n      <td>2022/10/17 23:40:34+00</td>\n      <td>0</td>\n      <td>2022</td>\n      <td>10</td>\n      <td>17</td>\n      <td>2022</td>\n    </tr>\n    <tr>\n      <th>3</th>\n      <td>Assist Citizen - Mental/TDO/ECO</td>\n      <td>600.0</td>\n      <td>E MARKET ST</td>\n      <td>2022/10/17 22:24:21+00</td>\n      <td>1824</td>\n      <td>0</td>\n      <td>2022/10/17 22:24:21+00</td>\n      <td>0</td>\n      <td>2022</td>\n      <td>10</td>\n      <td>17</td>\n      <td>2022</td>\n    </tr>\n    <tr>\n      <th>4</th>\n      <td>Assault Simple</td>\n      <td>1400.0</td>\n      <td>UNIVERSITY AVE</td>\n      <td>2022/10/17 19:58:39+00</td>\n      <td>1558</td>\n      <td>4</td>\n      <td>2022/10/17 19:58:39+00</td>\n      <td>0</td>\n      <td>2022</td>\n      <td>10</td>\n      <td>17</td>\n      <td>2022</td>\n    </tr>\n  </tbody>\n</table>\n</div>"
     },
     "execution_count": 34,
     "metadata": {},
     "output_type": "execute_result"
    }
   ],
   "source": [
    "import dateutil as du\n",
    "import datetime as dt\n",
    "\n",
    "# let's start by making a copy of the column like before\n",
    "crimes_lean['Epoch'] = crimes_lean.loc[:, 'DateReported']\n",
    "\n",
    "# next, we need a function that can be mapped over the column to do the conversion.\n",
    "def date_converter(in_str):\n",
    "    date = du.parser.parse(in_str)\n",
    "    return date\n",
    "\n",
    "# finally, we can map the function across the duplicate column to get the unix epoch\n",
    "crimes_lean['Weekday'] = crimes_lean['Epoch'].map(lambda x: date_converter(x).weekday())\n",
    "crimes_lean['Year'] = crimes_lean['Epoch'].map(lambda x: date_converter(x).year)\n",
    "crimes_lean['Month'] = crimes_lean['Epoch'].map(lambda x: date_converter(x).month)\n",
    "crimes_lean['Day'] = crimes_lean['Epoch'].map(lambda x: date_converter(x).day)\n",
    "\n",
    "\n",
    "# now, we can take a peek at our lovely new column!\n",
    "crimes_lean.head()\n",
    "   "
   ]
  },
  {
   "cell_type": "markdown",
   "metadata": {},
   "source": [
    "Booyah!"
   ]
  },
  {
   "cell_type": "markdown",
   "metadata": {},
   "source": [
    "Now we can actually look at these times numerically to see trends with time for example!"
   ]
  },
  {
   "cell_type": "markdown",
   "metadata": {},
   "source": [
    "## Location Encoding"
   ]
  },
  {
   "cell_type": "markdown",
   "metadata": {},
   "source": [
    "### Road Centerlines Dataset"
   ]
  },
  {
   "cell_type": "markdown",
   "metadata": {},
   "source": [
    "The first step to this process is going to be to find some sort of way to translate the block system used by the Charlottesville Police Department to something that is practically useful. To this end, we have downloaded and will utilize the [Road Centerlines](https://opendata.charlottesville.org/datasets/charlottesville::road-centerlines-block-level/about) dataset."
   ]
  },
  {
   "cell_type": "code",
   "execution_count": 37,
   "metadata": {},
   "outputs": [
    {
     "ename": "ImportError",
     "evalue": "The 'read_file' function requires the 'pyogrio' or 'fiona' package, but neither is installed or imports correctly.\nImporting fiona resulted in: dlopen(/Users/marcusmann/anaconda3/envs/assignment_4/lib/python3.10/site-packages/fiona/ogrext.cpython-310-darwin.so, 0x0002): Library not loaded: @rpath/libLerc.4.dylib\n  Referenced from: <EB51A80F-3F02-3439-A923-0B1268F24B9E> /Users/marcusmann/anaconda3/envs/assignment_4/lib/libgdal.31.dylib\n  Reason: tried: '/Users/marcusmann/anaconda3/envs/assignment_4/lib/libLerc.4.dylib' (no such file), '/Users/marcusmann/anaconda3/envs/assignment_4/lib/python3.10/site-packages/fiona/../../../libLerc.4.dylib' (no such file), '/Users/marcusmann/anaconda3/envs/assignment_4/lib/python3.10/site-packages/fiona/../../../libLerc.4.dylib' (no such file), '/Users/marcusmann/anaconda3/envs/assignment_4/bin/../lib/libLerc.4.dylib' (no such file), '/Users/marcusmann/anaconda3/envs/assignment_4/bin/../lib/libLerc.4.dylib' (no such file), '/System/Volumes/Preboot/Cryptexes/OS@rpath/libLerc.4.dylib' (no such file), '/Users/marcusmann/anaconda3/envs/assignment_4/lib/libLerc.4.dylib' (no such file), '/Users/marcusmann/anaconda3/envs/assignment_4/lib/python3.10/site-packages/fiona/../../../libLerc.4.dylib' (no such file), '/Users/marcusmann/anaconda3/envs/assignment_4/lib/python3.10/site-packages/fiona/../../../libLerc.4.dylib' (no such file), '/Users/marcusmann/anaconda3/envs/assignment_4/bin/../lib/libLerc.4.dylib' (no such file), '/Users/marcusmann/anaconda3/envs/assignment_4/bin/../lib/libLerc.4.dylib' (no such file), '/usr/local/lib/libLerc.4.dylib' (no such file), '/usr/lib/libLerc.4.dylib' (no such file, not in dyld cache)\nImporting pyogrio resulted in: No module named 'pyogrio'",
     "output_type": "error",
     "traceback": [
      "\u001B[0;31m---------------------------------------------------------------------------\u001B[0m",
      "\u001B[0;31mImportError\u001B[0m                               Traceback (most recent call last)",
      "Input \u001B[0;32mIn [37]\u001B[0m, in \u001B[0;36m<cell line: 3>\u001B[0;34m()\u001B[0m\n\u001B[1;32m      1\u001B[0m \u001B[38;5;28;01mimport\u001B[39;00m \u001B[38;5;21;01mgeopandas\u001B[39;00m \u001B[38;5;28;01mas\u001B[39;00m \u001B[38;5;21;01mgpd\u001B[39;00m                         \u001B[38;5;66;03m# this allows us to use standard geospatial formats (such as the geojson that we downloaded)\u001B[39;00m\n\u001B[0;32m----> 3\u001B[0m road_lines_full \u001B[38;5;241m=\u001B[39m \u001B[43mgpd\u001B[49m\u001B[38;5;241;43m.\u001B[39;49m\u001B[43mread_file\u001B[49m\u001B[43m(\u001B[49m\u001B[38;5;124;43m\"\u001B[39;49m\u001B[38;5;124;43m./data/Road_Centerlines_(Block_Level).geojson\u001B[39;49m\u001B[38;5;124;43m\"\u001B[39;49m\u001B[43m)\u001B[49m             \u001B[38;5;66;03m# Note that `road_lines` is a geodataframe, and is not json-esque\u001B[39;00m\n\u001B[1;32m      4\u001B[0m \u001B[38;5;28mprint\u001B[39m(road_lines_full\u001B[38;5;241m.\u001B[39mhead())\n",
      "File \u001B[0;32m~/anaconda3/envs/assignment_4/lib/python3.10/site-packages/geopandas/io/file.py:242\u001B[0m, in \u001B[0;36m_read_file\u001B[0;34m(filename, bbox, mask, rows, engine, **kwargs)\u001B[0m\n\u001B[1;32m    172\u001B[0m \u001B[38;5;28;01mdef\u001B[39;00m \u001B[38;5;21m_read_file\u001B[39m(filename, bbox\u001B[38;5;241m=\u001B[39m\u001B[38;5;28;01mNone\u001B[39;00m, mask\u001B[38;5;241m=\u001B[39m\u001B[38;5;28;01mNone\u001B[39;00m, rows\u001B[38;5;241m=\u001B[39m\u001B[38;5;28;01mNone\u001B[39;00m, engine\u001B[38;5;241m=\u001B[39m\u001B[38;5;28;01mNone\u001B[39;00m, \u001B[38;5;241m*\u001B[39m\u001B[38;5;241m*\u001B[39mkwargs):\n\u001B[1;32m    173\u001B[0m     \u001B[38;5;124;03m\"\"\"\u001B[39;00m\n\u001B[1;32m    174\u001B[0m \u001B[38;5;124;03m    Returns a GeoDataFrame from a file or URL.\u001B[39;00m\n\u001B[1;32m    175\u001B[0m \n\u001B[0;32m   (...)\u001B[0m\n\u001B[1;32m    240\u001B[0m \u001B[38;5;124;03m    by using the encoding keyword parameter, e.g. ``encoding='utf-8'``.\u001B[39;00m\n\u001B[1;32m    241\u001B[0m \u001B[38;5;124;03m    \"\"\"\u001B[39;00m\n\u001B[0;32m--> 242\u001B[0m     engine \u001B[38;5;241m=\u001B[39m \u001B[43m_check_engine\u001B[49m\u001B[43m(\u001B[49m\u001B[43mengine\u001B[49m\u001B[43m,\u001B[49m\u001B[43m \u001B[49m\u001B[38;5;124;43m\"\u001B[39;49m\u001B[38;5;124;43m'\u001B[39;49m\u001B[38;5;124;43mread_file\u001B[39;49m\u001B[38;5;124;43m'\u001B[39;49m\u001B[38;5;124;43m function\u001B[39;49m\u001B[38;5;124;43m\"\u001B[39;49m\u001B[43m)\u001B[49m\n\u001B[1;32m    244\u001B[0m     filename \u001B[38;5;241m=\u001B[39m _expand_user(filename)\n\u001B[1;32m    246\u001B[0m     from_bytes \u001B[38;5;241m=\u001B[39m \u001B[38;5;28;01mFalse\u001B[39;00m\n",
      "File \u001B[0;32m~/anaconda3/envs/assignment_4/lib/python3.10/site-packages/geopandas/io/file.py:112\u001B[0m, in \u001B[0;36m_check_engine\u001B[0;34m(engine, func)\u001B[0m\n\u001B[1;32m    110\u001B[0m     _check_pyogrio(func)\n\u001B[1;32m    111\u001B[0m \u001B[38;5;28;01melif\u001B[39;00m engine \u001B[38;5;129;01mis\u001B[39;00m \u001B[38;5;28;01mNone\u001B[39;00m:\n\u001B[0;32m--> 112\u001B[0m     \u001B[38;5;28;01mraise\u001B[39;00m \u001B[38;5;167;01mImportError\u001B[39;00m(\n\u001B[1;32m    113\u001B[0m         \u001B[38;5;124mf\u001B[39m\u001B[38;5;124m\"\u001B[39m\u001B[38;5;124mThe \u001B[39m\u001B[38;5;132;01m{\u001B[39;00mfunc\u001B[38;5;132;01m}\u001B[39;00m\u001B[38;5;124m requires the \u001B[39m\u001B[38;5;124m'\u001B[39m\u001B[38;5;124mpyogrio\u001B[39m\u001B[38;5;124m'\u001B[39m\u001B[38;5;124m or \u001B[39m\u001B[38;5;124m'\u001B[39m\u001B[38;5;124mfiona\u001B[39m\u001B[38;5;124m'\u001B[39m\u001B[38;5;124m package, \u001B[39m\u001B[38;5;124m\"\u001B[39m\n\u001B[1;32m    114\u001B[0m         \u001B[38;5;124m\"\u001B[39m\u001B[38;5;124mbut neither is installed or imports correctly.\u001B[39m\u001B[38;5;124m\"\u001B[39m\n\u001B[1;32m    115\u001B[0m         \u001B[38;5;124mf\u001B[39m\u001B[38;5;124m\"\u001B[39m\u001B[38;5;130;01m\\n\u001B[39;00m\u001B[38;5;124mImporting fiona resulted in: \u001B[39m\u001B[38;5;132;01m{\u001B[39;00mfiona_import_error\u001B[38;5;132;01m}\u001B[39;00m\u001B[38;5;124m\"\u001B[39m\n\u001B[1;32m    116\u001B[0m         \u001B[38;5;124mf\u001B[39m\u001B[38;5;124m\"\u001B[39m\u001B[38;5;130;01m\\n\u001B[39;00m\u001B[38;5;124mImporting pyogrio resulted in: \u001B[39m\u001B[38;5;132;01m{\u001B[39;00mpyogrio_import_error\u001B[38;5;132;01m}\u001B[39;00m\u001B[38;5;124m\"\u001B[39m\n\u001B[1;32m    117\u001B[0m     )\n\u001B[1;32m    119\u001B[0m \u001B[38;5;28;01mreturn\u001B[39;00m engine\n",
      "\u001B[0;31mImportError\u001B[0m: The 'read_file' function requires the 'pyogrio' or 'fiona' package, but neither is installed or imports correctly.\nImporting fiona resulted in: dlopen(/Users/marcusmann/anaconda3/envs/assignment_4/lib/python3.10/site-packages/fiona/ogrext.cpython-310-darwin.so, 0x0002): Library not loaded: @rpath/libLerc.4.dylib\n  Referenced from: <EB51A80F-3F02-3439-A923-0B1268F24B9E> /Users/marcusmann/anaconda3/envs/assignment_4/lib/libgdal.31.dylib\n  Reason: tried: '/Users/marcusmann/anaconda3/envs/assignment_4/lib/libLerc.4.dylib' (no such file), '/Users/marcusmann/anaconda3/envs/assignment_4/lib/python3.10/site-packages/fiona/../../../libLerc.4.dylib' (no such file), '/Users/marcusmann/anaconda3/envs/assignment_4/lib/python3.10/site-packages/fiona/../../../libLerc.4.dylib' (no such file), '/Users/marcusmann/anaconda3/envs/assignment_4/bin/../lib/libLerc.4.dylib' (no such file), '/Users/marcusmann/anaconda3/envs/assignment_4/bin/../lib/libLerc.4.dylib' (no such file), '/System/Volumes/Preboot/Cryptexes/OS@rpath/libLerc.4.dylib' (no such file), '/Users/marcusmann/anaconda3/envs/assignment_4/lib/libLerc.4.dylib' (no such file), '/Users/marcusmann/anaconda3/envs/assignment_4/lib/python3.10/site-packages/fiona/../../../libLerc.4.dylib' (no such file), '/Users/marcusmann/anaconda3/envs/assignment_4/lib/python3.10/site-packages/fiona/../../../libLerc.4.dylib' (no such file), '/Users/marcusmann/anaconda3/envs/assignment_4/bin/../lib/libLerc.4.dylib' (no such file), '/Users/marcusmann/anaconda3/envs/assignment_4/bin/../lib/libLerc.4.dylib' (no such file), '/usr/local/lib/libLerc.4.dylib' (no such file), '/usr/lib/libLerc.4.dylib' (no such file, not in dyld cache)\nImporting pyogrio resulted in: No module named 'pyogrio'"
     ]
    }
   ],
   "source": [
    "import geopandas as gpd                         # this allows us to use standard geospatial formats (such as the geojson that we downloaded)\n",
    "\n",
    "road_lines_full = gpd.read_file(\"./data/Road_Centerlines_(Block_Level).geojson\")             # Note that `road_lines` is a geodataframe, and is not json-esque\n",
    "print(road_lines_full.head())"
   ]
  },
  {
   "cell_type": "markdown",
   "metadata": {},
   "source": [
    "Oh, dear. I thought these were supposed to be centerlines . . . It looks like these are linestrings that describe the left and right edges of the road. \\*sigh\\*\n",
    "\n",
    "I suppose we could just pretend one side of the road doesn't exist . . ."
   ]
  },
  {
   "cell_type": "markdown",
   "metadata": {},
   "source": [
    "It could also be that those with a L / R  attribute are for split highways with a median in between. Regardless, we don't have that level of detail in our crimes data if I am not mistaken."
   ]
  },
  {
   "cell_type": "markdown",
   "metadata": {},
   "source": [
    "One thing we can try to simplify this scheme is to use the observation that the finest level of detail we have in the crimes data set is by the block number and street name. Therefore, we are not losing any precision if we were to take the center point of each block, and use that as the coordinate for any crime on that block. To do this, we can take the linestrings formed by the left and right halves of the data, draw additional lines between their starts and ends, which will turn each block into a polygon. We can then find the centerpoint of the polygon to determine a single lat-lon point for the block."
   ]
  },
  {
   "cell_type": "markdown",
   "metadata": {},
   "source": [
    "However, because time is short and `geopandas` is complex, we are instead just going to keep only the left side of each block, and we will use the center point of this line string as the geometric coordinate."
   ]
  },
  {
   "cell_type": "code",
   "execution_count": null,
   "metadata": {},
   "outputs": [],
   "source": [
    "# we would like to make sure that there isn't anything besides left and right\n",
    "print(road_lines_full.info())\n",
    "print(road_lines_full.value_counts([\"Side\"]))"
   ]
  },
  {
   "cell_type": "markdown",
   "metadata": {},
   "source": [
    "Notably, there are more left-hand sides than right hand sides. I am guessing/assuming this is because one-way streets only have a left-hand side. This doesn't really make sense though, because we really only drive on the right-hand side. Regardless, dropping all of the right-hand rows will work for now."
   ]
  },
  {
   "cell_type": "code",
   "execution_count": null,
   "metadata": {},
   "outputs": [],
   "source": [
    "# we start by dropping all of the right hand rows.\n",
    "\n",
    "road_lines_naive = road_lines_full[road_lines_full.Side != \"R\"]"
   ]
  },
  {
   "cell_type": "markdown",
   "metadata": {},
   "source": [
    "The center point can then be found with the this [function](https://geopandas.org/en/stable/docs/reference/api/geopandas.GeoSeries.centroid.html)"
   ]
  },
  {
   "cell_type": "code",
   "execution_count": null,
   "metadata": {},
   "outputs": [],
   "source": [
    "# we can start by making a copy of the geometry column\n",
    "road_lines_naive['point'] = road_lines_naive.loc[:, 'geometry']\n",
    "\n",
    "# then we can make our mapping function\n",
    "def naive_center_finder(linestring):\n",
    "    return gpd.GeoSeries([linestring]).centroid[0]\n",
    "\n",
    "# and then we can map our handy-dandy function over this column\n",
    "road_lines_naive['point'] = road_lines_naive['point'].map(naive_center_finder)\n",
    "\n",
    "# and finally see if it worked\n",
    "print(road_lines_naive.head(10))"
   ]
  },
  {
   "cell_type": "markdown",
   "metadata": {},
   "source": [
    "weeeellll . . . I suppose it worked. We have no real way of knowing whether those are actually the centerpoints I would hope to see, but hey, at least it's something."
   ]
  },
  {
   "cell_type": "markdown",
   "metadata": {},
   "source": [
    "### Using the Road Center Points in the Crimes Data"
   ]
  },
  {
   "cell_type": "markdown",
   "metadata": {},
   "source": [
    "To actually use what we just made, we can now use this data set to add a coordinate to each crime!"
   ]
  },
  {
   "cell_type": "code",
   "execution_count": null,
   "metadata": {},
   "outputs": [],
   "source": [
    "crimes_lean = crimes_lean.dropna()"
   ]
  },
  {
   "cell_type": "code",
   "execution_count": null,
   "metadata": {},
   "outputs": [],
   "source": [
    "# We are going to start by concatenating the block number and street name into one field.\n",
    "# hopefully these will be identical for both data sets.\n",
    "crimes_lean['road_location'] = crimes_lean['StreetName'] + crimes_lean['BlockNumber'].astype(int).astype(str)\n",
    "# print(crimes_lean.head())\n",
    "\n",
    "road_lines_naive['road_location'] = road_lines_naive['Street'] + road_lines_naive['Block'].astype(int).astype(str)\n",
    "print(road_lines_naive.head())"
   ]
  },
  {
   "cell_type": "code",
   "execution_count": null,
   "metadata": {},
   "outputs": [],
   "source": [
    "# next we can make a dictionary out of the road_lines_naive data set\n",
    "road_centers_dict = dict(zip(road_lines_naive.road_location, road_lines_naive.point))\n",
    "\n",
    "# and then make a point column for the crimes data\n",
    "crimes_lean['Point'] = crimes_lean.loc[:, 'road_location']\n",
    "\n",
    "# and finally we can use the dictionary to map over this column to get our points\n",
    "crimes_lean['Point'] = crimes_lean['Point'].map(road_centers_dict)\n",
    "\n",
    "print(crimes_lean.info())"
   ]
  },
  {
   "cell_type": "markdown",
   "metadata": {},
   "source": [
    "We have successfully given each crime a lat-lon coordinate, which is super fantastic! Even if we had to lose about 6k crimes in the process, and even if the point isn't as accurate as it could be since we only used half of the street."
   ]
  },
  {
   "cell_type": "markdown",
   "metadata": {},
   "source": [
    "Also, we really need that point to be split into latitude and longitude columns practically speaking . . ."
   ]
  },
  {
   "cell_type": "code",
   "execution_count": null,
   "metadata": {},
   "outputs": [],
   "source": [
    "# We can do that very easily using geopandas as well\n",
    "crimes_lean = crimes_lean.dropna()\n",
    "\n",
    "crimes_lean['Longitude'] = crimes_lean['Point'].apply(lambda point: point.x)\n",
    "crimes_lean['Latitude'] = crimes_lean['Point'].apply(lambda point: point.y)\n",
    "\n",
    "print(crimes_lean.head())"
   ]
  },
  {
   "cell_type": "markdown",
   "metadata": {},
   "source": [
    "# Modeling"
   ]
  },
  {
   "cell_type": "code",
   "execution_count": null,
   "metadata": {},
   "outputs": [],
   "source": [
    "# and now, lets grab just the really useful features we have constructed and see if we get some interesting regression results out of it\n",
    "crimes_sparse = crimes_lean[['Epoch', 'Latitude', 'Longitude', 'Danger']]\n",
    "\n",
    "print(crimes_sparse.head())"
   ]
  },
  {
   "cell_type": "markdown",
   "metadata": {},
   "source": [
    "Wow, we say \"sparse\", but we should probably say \"Charlie-Brown-Christmas-Tree-Esque\".\n",
    "\n",
    "![charlie-brown-tree](https://wallpapercave.com/wp/9Dvub0b.jpg)\n",
    "\n",
    "It's funny how after extracting the essential information out of the data, we really have very, very little to work with for each record. Just when the reported happened, where the reported incident happend, and how bad the incident was on a scale of 0 to 4. Hopefully that's enough to do some reasonable machine learning . . ."
   ]
  },
  {
   "cell_type": "markdown",
   "metadata": {},
   "source": [
    "### Visualization Detour"
   ]
  },
  {
   "cell_type": "markdown",
   "metadata": {},
   "source": [
    "Let's do a quick 3D graph with a random subset of our data to try and get a feel for whether we can legitimately try to use a linear regression to solve our problem."
   ]
  },
  {
   "cell_type": "code",
   "execution_count": null,
   "metadata": {},
   "outputs": [],
   "source": [
    "sample_crimes = crimes_sparse.sample(frac=0.1, random_state=42)\n",
    "\n",
    "fig = plt.figure()\n",
    "ax = plt.axes(projection='3d')\n",
    "ax.scatter3D(sample_crimes['Longitude'], sample_crimes['Latitude'], sample_crimes['Epoch'], c=sample_crimes['Danger'], cmap='jet')"
   ]
  },
  {
   "cell_type": "markdown",
   "metadata": {},
   "source": [
    "In the above plot, the axes are longitude, latitude, and time for x, y, and z respectively, and the color of each dot is based on its danger level from 0 to 4. Although this isn't the greatest plot, I tend to think this data is _not_ going to be linearly separable by any stretch of the imagination."
   ]
  },
  {
   "cell_type": "markdown",
   "metadata": {},
   "source": [
    "So the question then becomes, if we can't do a linear regression, what should we do instead? We have just graphed the full dimensionality of our space, so SVM may not be sufficient here as there doesn't seem to be any sort of clear pattern whatsoever. SVM might still be worth looking into however, especially since it can be used to map the feature space to higher dimensions.\n",
    "\n",
    "An interesting thing to consider here is that the feature we would want to predict, `Danger`, can be treated as either a categorical or a numeric value. What this means practically is that we can treat this problem not so much as a regression, but rather as a classification problem. Unfortunately, K-Means and other clustering methods will also probably fail to be of use here since the dimensionality is so very low, although they may still be worth trying. \n",
    "\n",
    "This leaves us with Neural Nets. A deep neural net may be able to make sense of this low dimensionality feature space in a meaningful way."
   ]
  },
  {
   "cell_type": "markdown",
   "metadata": {},
   "source": [
    "### Neural Net mk. I"
   ]
  },
  {
   "cell_type": "markdown",
   "metadata": {},
   "source": [
    "Let's give the neural net a go."
   ]
  },
  {
   "cell_type": "markdown",
   "metadata": {},
   "source": [
    "We can make a validation set and a training set."
   ]
  },
  {
   "cell_type": "code",
   "execution_count": null,
   "metadata": {},
   "outputs": [],
   "source": [
    "# and we can also standard scale our features\n",
    "from sklearn import pipeline\n",
    "\n",
    "# pipeline to standard scale the input\n",
    "nn_1_pipeline = pipeline.Pipeline([\n",
    "        ('std_scaler', StandardScaler()),\n",
    "    ])\n",
    "\n",
    "# # full pipeline:\n",
    "# full_pipeline = ColumnTransformer([\n",
    "#         (\"num\", num_pipeline, num_attribs),\n",
    "#     ])\n",
    "\n",
    "# crimes_sparse_1 = num_pipeline.fit_transform()"
   ]
  },
  {
   "cell_type": "code",
   "execution_count": null,
   "metadata": {},
   "outputs": [],
   "source": [
    "from sklearn.model_selection import train_test_split\n",
    "X = crimes_sparse.drop('Danger', axis=1)\n",
    "Y = crimes_sparse['Danger']\n",
    "\n",
    "nn_1_train_full_X, nn_1_test_X, nn_1_train_full_Y, nn_1_test_Y = train_test_split(X, Y, test_size=0.2, random_state=42)\n",
    "nn_1_train_full_X = nn_1_pipeline.fit_transform(nn_1_train_full_X, nn_1_train_full_Y)\n",
    "nn_1_test_X = nn_1_pipeline.fit(nn_1_test_X, nn_1_test_Y)\n",
    "nn_1_train_x, nn_1_val_x, nn_1_train_y, nn_1_val_y = train_test_split(nn_1_train_full_X, nn_1_train_full_Y, test_size=0.1, random_state=42)\n",
    "\n",
    "print(nn_1_train_x.shape)\n",
    "\n",
    "print(nn_1_val_x.shape)"
   ]
  },
  {
   "cell_type": "code",
   "execution_count": null,
   "metadata": {},
   "outputs": [],
   "source": [
    "import tensorflow as tf\n",
    "import keras\n",
    "\n",
    "nn_1 = tf.keras.models.Sequential(layers=[\n",
    "    keras.layers.Flatten(),        # input layer\n",
    "    keras.layers.Dense(units=75, activation='relu'),  # hidden layer\n",
    "    keras.layers.Dense(units=1750, activation='relu'), # hidden layer\n",
    "    keras.layers.Dense(units=200, activation='relu'), # hidden layer\n",
    "    keras.layers.Dense(units=5, activation='softmax') # output softmax layer\n",
    "])"
   ]
  },
  {
   "cell_type": "code",
   "execution_count": null,
   "metadata": {},
   "outputs": [],
   "source": [
    "nn_1_epochs = 50 \n",
    "# nn_1_opt = tf.keras.optimizers.SGD(learning_rate=0.2, momentum=0.1)\n",
    "nn_1_opt = tf.keras.optimizers.Nadam()\n",
    "nn_1_loss = [\"sparse_categorical_crossentropy\"]\n",
    "nn_1_mtrx = [\"accuracy\"] \n",
    "nn_1.compile(loss= nn_1_loss, optimizer = nn_1_opt, metrics = nn_1_mtrx)\n",
    "history = nn_1.fit(nn_1_train_x, nn_1_train_y, validation_data=(nn_1_val_x, nn_1_val_y), epochs = nn_1_epochs)"
   ]
  },
  {
   "cell_type": "code",
   "execution_count": null,
   "metadata": {},
   "outputs": [],
   "source": [
    "nn_1.summary()"
   ]
  },
  {
   "cell_type": "markdown",
   "metadata": {},
   "source": [
    "### SVM Model"
   ]
  },
  {
   "cell_type": "code",
   "execution_count": null,
   "metadata": {},
   "outputs": [],
   "source": [
    "from sklearn.svm import SVC\n",
    "from sklearn.model_selection import RandomizedSearchCV\n",
    "from sklearn.metrics import confusion_matrix, precision_score, recall_score\n",
    "from scipy.stats import reciprocal, uniform, randint\n",
    "\n",
    "\n",
    "X_train = nn_1_train_full_X\n",
    "y_train = nn_1_train_full_Y\n",
    "X_test  = nn_1_test_X\n",
    "y_test  = nn_1_test_Y"
   ]
  },
  {
   "cell_type": "code",
   "execution_count": null,
   "metadata": {},
   "outputs": [],
   "source": [
    "# linear\n",
    "svm_linear = SVC(kernel=\"linear\", C=1.0)\n",
    "svm_linear.fit(X_train, y_train)\n",
    "\n",
    "# print confusion matrix, precision score, and recall score\n",
    "y_pred = svm_linear.predict(X_test)\n",
    "confusion = confusion_matrix(y_test, y_pred)\n",
    "precision = precision_score(y_test, y_pred)\n",
    "recall = recall_score(y_test, y_pred)\n",
    "print(f'Confusion Matrix: {confusion}')\n",
    "print(f'Precision Score: {precision}')\n",
    "print(f'Recall Score: {recall}')"
   ]
  },
  {
   "cell_type": "code",
   "execution_count": null,
   "metadata": {},
   "outputs": [],
   "source": [
    "# Polynomial\n",
    "svm_poly = SVC(kernel=\"poly\", C=1.0)\n",
    "svm_poly.fit(X_train, y_train)"
   ]
  },
  {
   "cell_type": "code",
   "execution_count": null,
   "metadata": {},
   "outputs": [],
   "source": [
    "# Gaussian RBF \n",
    "svm_rbf = SVC(kernel=\"rbf\", C=1.0)\n",
    "svm_rbf.fit(X_train, y_train)"
   ]
  },
  {
   "cell_type": "code",
   "execution_count": null,
   "metadata": {},
   "outputs": [],
   "source": [
    "classifiers = [svm_linear, svm_poly, svm_rbf]\n",
    "names = ['linear', 'poly', 'rbf']\n",
    "\n",
    "param_distributions = [{\"gamma\": reciprocal(0.001, 0.1), \"C\": uniform(1, 100)},\n",
    "                       {\"gamma\": reciprocal(0.001, 0.1), \"C\": uniform(1, 100), \"degree\": randint(2, 10)},\n",
    "                       {\"gamma\": reciprocal(0.001, 0.1), \"C\": uniform(1, 100)}]\n",
    "\n",
    "for i in [0, 1, 2]:\n",
    "  rnd_search_cv = RandomizedSearchCV(classifiers[i], param_distributions[i], n_iter=5, verbose=3, cv=3)\n",
    "  rnd_search_cv.fit(X_train, y_train)\n",
    "  print('\\n\\n-----------------------------------------------------------------')\n",
    "  print(f'svc with {names[i]} kernel:')\n",
    "  print(f'best score: {rnd_search_cv.best_score_}')\n",
    "  print(f'best_estimator: {rnd_search_cv.best_estimator_}')\n",
    "\n",
    "  # print confusion matrix, precision score, and recall score\n",
    "  y_pred = rnd_search_cv.predict(X_test)\n",
    "  confusion = confusion_matrix(y_test, y_pred)\n",
    "  precision = precision_score(y_test, y_pred)\n",
    "  recall = recall_score(y_test, y_pred)\n",
    "  print(f'Confusion Matrix: {confusion}')\n",
    "  print(f'Precision Score: {precision}')\n",
    "  print(f'Recall Score: {recall}')"
   ]
  }
 ],
 "metadata": {
  "colab": {
   "collapsed_sections": [],
   "provenance": []
  },
  "kernelspec": {
   "display_name": "Python 3.10.6 64-bit",
   "language": "python",
   "name": "python3"
  },
  "language_info": {
   "codemirror_mode": {
    "name": "ipython",
    "version": 3
   },
   "file_extension": ".py",
   "mimetype": "text/x-python",
   "name": "python",
   "nbconvert_exporter": "python",
   "pygments_lexer": "ipython3",
   "version": "3.10.6"
  },
  "vscode": {
   "interpreter": {
    "hash": "26de051ba29f2982a8de78e945f0abaf191376122a1563185a90213a26c5da77"
   }
  }
 },
 "nbformat": 4,
 "nbformat_minor": 0
}
