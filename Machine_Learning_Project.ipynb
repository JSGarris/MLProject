{
  "cells": [
    {
      "cell_type": "markdown",
      "metadata": {},
      "source": [
        "# Data Setup"
      ]
    },
    {
      "cell_type": "code",
      "execution_count": 1,
      "metadata": {
        "id": "QoOSTe5I6Om6"
      },
      "outputs": [],
      "source": [
        "# Some common packages that we may need\n",
        "from pandas.plotting import scatter_matrix \n",
        "from sklearn.impute import SimpleImputer\n",
        "from sklearn.preprocessing import LabelEncoder\n",
        "from sklearn.preprocessing import OneHotEncoder\n",
        "from sklearn.pipeline import Pipeline\n",
        "from sklearn.preprocessing import StandardScaler\n",
        "\n",
        "# Import some common packages\n",
        "import os\n",
        "import numpy as np\n",
        "import matplotlib\n",
        "import matplotlib.pyplot as plt\n",
        "import pandas as pd\n",
        "\n",
        "# to make this notebook's output stable across runs\n",
        "np.random.seed(42)\n",
        "\n",
        "def load_police_data():\n",
        "  crimes=pd.read_csv('./data/Crime_Data.csv')\n",
        "  return crimes\n",
        "\n",
        "def load_oridinal_violence_features():\n",
        "  ordinal_violence=pd.read_csv('./data/crime_categories.csv')\n",
        "  return ordinal_violence"
      ]
    },
    {
      "cell_type": "markdown",
      "metadata": {
        "id": "A9hjjV5SDs0z"
      },
      "source": [
        "Now that the data is loaded we want to look at the data and see how it is organized and what groups are being used. We can also get some insight onto if the data may be useful adn we can look and see how we may split or encode our data."
      ]
    },
    {
      "cell_type": "code",
      "execution_count": 2,
      "metadata": {
        "colab": {
          "base_uri": "https://localhost:8080/"
        },
        "id": "CZEtJ3IB6P3a",
        "outputId": "6b50b936-dc14-49b9-fecd-21461f2ee4f4"
      },
      "outputs": [
        {
          "name": "stdout",
          "output_type": "stream",
          "text": [
            "<class 'pandas.core.frame.DataFrame'>\n",
            "RangeIndex: 24577 entries, 0 to 24576\n",
            "Data columns (total 9 columns):\n",
            " #   Column            Non-Null Count  Dtype  \n",
            "---  ------            --------------  -----  \n",
            " 0   RecordID          24577 non-null  int64  \n",
            " 1   Offense           24577 non-null  object \n",
            " 2   IncidentID        24577 non-null  int64  \n",
            " 3   BlockNumber       23229 non-null  float64\n",
            " 4   StreetName        24577 non-null  object \n",
            " 5   Agency            24577 non-null  object \n",
            " 6   DateReported      24577 non-null  object \n",
            " 7   HourReported      24577 non-null  int64  \n",
            " 8   ReportingOfficer  24534 non-null  object \n",
            "dtypes: float64(1), int64(3), object(5)\n",
            "memory usage: 1.7+ MB\n"
          ]
        }
      ],
      "source": [
        "crimes = load_police_data()\n",
        "crimes.info()"
      ]
    },
    {
      "cell_type": "code",
      "execution_count": 3,
      "metadata": {
        "colab": {
          "base_uri": "https://localhost:8080/",
          "height": 601
        },
        "id": "7DdYGrkM6AAu",
        "outputId": "20e3dfee-509c-4997-cad9-b5c56ff8ab95"
      },
      "outputs": [
        {
          "data": {
            "text/html": [
              "<div>\n",
              "<style scoped>\n",
              "    .dataframe tbody tr th:only-of-type {\n",
              "        vertical-align: middle;\n",
              "    }\n",
              "\n",
              "    .dataframe tbody tr th {\n",
              "        vertical-align: top;\n",
              "    }\n",
              "\n",
              "    .dataframe thead th {\n",
              "        text-align: right;\n",
              "    }\n",
              "</style>\n",
              "<table border=\"1\" class=\"dataframe\">\n",
              "  <thead>\n",
              "    <tr style=\"text-align: right;\">\n",
              "      <th></th>\n",
              "      <th>RecordID</th>\n",
              "      <th>Offense</th>\n",
              "      <th>IncidentID</th>\n",
              "      <th>BlockNumber</th>\n",
              "      <th>StreetName</th>\n",
              "      <th>Agency</th>\n",
              "      <th>DateReported</th>\n",
              "      <th>HourReported</th>\n",
              "      <th>ReportingOfficer</th>\n",
              "    </tr>\n",
              "  </thead>\n",
              "  <tbody>\n",
              "    <tr>\n",
              "      <th>0</th>\n",
              "      <td>1</td>\n",
              "      <td>Larceny - All Other</td>\n",
              "      <td>202200030104</td>\n",
              "      <td>800.0</td>\n",
              "      <td>ELLIOTT AVE</td>\n",
              "      <td>CPD</td>\n",
              "      <td>2022/10/18 01:08:59+00</td>\n",
              "      <td>2108</td>\n",
              "      <td>Lowe, Courtney</td>\n",
              "    </tr>\n",
              "    <tr>\n",
              "      <th>1</th>\n",
              "      <td>2</td>\n",
              "      <td>Burglary</td>\n",
              "      <td>202200030099</td>\n",
              "      <td>800.0</td>\n",
              "      <td>RAYMOND RD</td>\n",
              "      <td>CPD</td>\n",
              "      <td>2022/10/18 00:31:50+00</td>\n",
              "      <td>2031</td>\n",
              "      <td>Lowe, Courtney</td>\n",
              "    </tr>\n",
              "    <tr>\n",
              "      <th>2</th>\n",
              "      <td>3</td>\n",
              "      <td>Assault Aggravated</td>\n",
              "      <td>202200030096</td>\n",
              "      <td>900.0</td>\n",
              "      <td>W MAIN ST</td>\n",
              "      <td>CPD</td>\n",
              "      <td>2022/10/17 23:40:34+00</td>\n",
              "      <td>1940</td>\n",
              "      <td>Alfonso, Sean</td>\n",
              "    </tr>\n",
              "    <tr>\n",
              "      <th>3</th>\n",
              "      <td>4</td>\n",
              "      <td>Assist Citizen - Mental/TDO/ECO</td>\n",
              "      <td>202200030087</td>\n",
              "      <td>600.0</td>\n",
              "      <td>E MARKET ST</td>\n",
              "      <td>CPD</td>\n",
              "      <td>2022/10/17 22:24:21+00</td>\n",
              "      <td>1824</td>\n",
              "      <td>Lowe, Courtney</td>\n",
              "    </tr>\n",
              "    <tr>\n",
              "      <th>4</th>\n",
              "      <td>5</td>\n",
              "      <td>Assault Simple</td>\n",
              "      <td>202200030080</td>\n",
              "      <td>1400.0</td>\n",
              "      <td>UNIVERSITY AVE</td>\n",
              "      <td>CPD</td>\n",
              "      <td>2022/10/17 19:58:39+00</td>\n",
              "      <td>1558</td>\n",
              "      <td>Houchens, Logan</td>\n",
              "    </tr>\n",
              "    <tr>\n",
              "      <th>5</th>\n",
              "      <td>6</td>\n",
              "      <td>Trespass</td>\n",
              "      <td>202200030061</td>\n",
              "      <td>500.0</td>\n",
              "      <td>PRESTON AVE</td>\n",
              "      <td>CPD</td>\n",
              "      <td>2022/10/17 17:35:18+00</td>\n",
              "      <td>1335</td>\n",
              "      <td>Houchens, Jamell</td>\n",
              "    </tr>\n",
              "    <tr>\n",
              "      <th>6</th>\n",
              "      <td>7</td>\n",
              "      <td>Motor Vehicle Theft</td>\n",
              "      <td>202200030053</td>\n",
              "      <td>600.0</td>\n",
              "      <td>14TH ST NW</td>\n",
              "      <td>CPD</td>\n",
              "      <td>2022/10/17 14:54:03+00</td>\n",
              "      <td>1054</td>\n",
              "      <td>Nash, Darius</td>\n",
              "    </tr>\n",
              "    <tr>\n",
              "      <th>7</th>\n",
              "      <td>8</td>\n",
              "      <td>Larceny - Theft from Building</td>\n",
              "      <td>202280000894</td>\n",
              "      <td>100.0</td>\n",
              "      <td>BAYLOR LN</td>\n",
              "      <td>CPD</td>\n",
              "      <td>2022/10/17 13:24:02+00</td>\n",
              "      <td>924</td>\n",
              "      <td>Moje, Ashley</td>\n",
              "    </tr>\n",
              "    <tr>\n",
              "      <th>8</th>\n",
              "      <td>9</td>\n",
              "      <td>Larceny - From Motor Vehicle</td>\n",
              "      <td>202280000893</td>\n",
              "      <td>1400.0</td>\n",
              "      <td>FOREST RIDGE RD</td>\n",
              "      <td>CPD</td>\n",
              "      <td>2022/10/17 12:39:53+00</td>\n",
              "      <td>839</td>\n",
              "      <td>Moje, Ashley</td>\n",
              "    </tr>\n",
              "    <tr>\n",
              "      <th>9</th>\n",
              "      <td>10</td>\n",
              "      <td>Drug/Narcotics Violation</td>\n",
              "      <td>202200030029</td>\n",
              "      <td>1700.0</td>\n",
              "      <td>HYDRAULIC RD</td>\n",
              "      <td>CPD</td>\n",
              "      <td>2022/10/17 10:40:25+00</td>\n",
              "      <td>640</td>\n",
              "      <td>Curry, Brian</td>\n",
              "    </tr>\n",
              "  </tbody>\n",
              "</table>\n",
              "</div>"
            ],
            "text/plain": [
              "   RecordID                          Offense    IncidentID  BlockNumber  \\\n",
              "0         1              Larceny - All Other  202200030104        800.0   \n",
              "1         2                         Burglary  202200030099        800.0   \n",
              "2         3               Assault Aggravated  202200030096        900.0   \n",
              "3         4  Assist Citizen - Mental/TDO/ECO  202200030087        600.0   \n",
              "4         5                   Assault Simple  202200030080       1400.0   \n",
              "5         6                         Trespass  202200030061        500.0   \n",
              "6         7              Motor Vehicle Theft  202200030053        600.0   \n",
              "7         8    Larceny - Theft from Building  202280000894        100.0   \n",
              "8         9     Larceny - From Motor Vehicle  202280000893       1400.0   \n",
              "9        10         Drug/Narcotics Violation  202200030029       1700.0   \n",
              "\n",
              "        StreetName Agency            DateReported  HourReported  \\\n",
              "0      ELLIOTT AVE    CPD  2022/10/18 01:08:59+00          2108   \n",
              "1       RAYMOND RD    CPD  2022/10/18 00:31:50+00          2031   \n",
              "2        W MAIN ST    CPD  2022/10/17 23:40:34+00          1940   \n",
              "3      E MARKET ST    CPD  2022/10/17 22:24:21+00          1824   \n",
              "4   UNIVERSITY AVE    CPD  2022/10/17 19:58:39+00          1558   \n",
              "5      PRESTON AVE    CPD  2022/10/17 17:35:18+00          1335   \n",
              "6       14TH ST NW    CPD  2022/10/17 14:54:03+00          1054   \n",
              "7        BAYLOR LN    CPD  2022/10/17 13:24:02+00           924   \n",
              "8  FOREST RIDGE RD    CPD  2022/10/17 12:39:53+00           839   \n",
              "9     HYDRAULIC RD    CPD  2022/10/17 10:40:25+00           640   \n",
              "\n",
              "   ReportingOfficer  \n",
              "0    Lowe, Courtney  \n",
              "1    Lowe, Courtney  \n",
              "2     Alfonso, Sean  \n",
              "3    Lowe, Courtney  \n",
              "4   Houchens, Logan  \n",
              "5  Houchens, Jamell  \n",
              "6      Nash, Darius  \n",
              "7      Moje, Ashley  \n",
              "8      Moje, Ashley  \n",
              "9      Curry, Brian  "
            ]
          },
          "execution_count": 3,
          "metadata": {},
          "output_type": "execute_result"
        }
      ],
      "source": [
        "crimes.head(10)"
      ]
    },
    {
      "cell_type": "code",
      "execution_count": 4,
      "metadata": {
        "colab": {
          "base_uri": "https://localhost:8080/"
        },
        "id": "FoNBGaBZDqV8",
        "outputId": "7b9c4cc6-3919-4ade-f22e-ef578f1292ff"
      },
      "outputs": [
        {
          "name": "stdout",
          "output_type": "stream",
          "text": [
            "<class 'pandas.core.frame.DataFrame'>\n",
            "RangeIndex: 24577 entries, 0 to 24576\n",
            "Data columns (total 9 columns):\n",
            " #   Column            Non-Null Count  Dtype  \n",
            "---  ------            --------------  -----  \n",
            " 0   RecordID          24577 non-null  int64  \n",
            " 1   Offense           24577 non-null  object \n",
            " 2   IncidentID        24577 non-null  int64  \n",
            " 3   BlockNumber       23229 non-null  float64\n",
            " 4   StreetName        24577 non-null  object \n",
            " 5   Agency            24577 non-null  object \n",
            " 6   DateReported      24577 non-null  object \n",
            " 7   HourReported      24577 non-null  int64  \n",
            " 8   ReportingOfficer  24534 non-null  object \n",
            "dtypes: float64(1), int64(3), object(5)\n",
            "memory usage: 1.7+ MB\n"
          ]
        }
      ],
      "source": [
        "crimes.info()"
      ]
    },
    {
      "cell_type": "markdown",
      "metadata": {},
      "source": [
        "# Data Exploration"
      ]
    },
    {
      "cell_type": "markdown",
      "metadata": {
        "id": "slYFckZJIpnE"
      },
      "source": [
        "## Non Numerical Data Exploration"
      ]
    },
    {
      "cell_type": "markdown",
      "metadata": {
        "id": "AGo8CBHUESWQ"
      },
      "source": [
        "Now lets look a little closer at the non numerical data"
      ]
    },
    {
      "cell_type": "code",
      "execution_count": 5,
      "metadata": {
        "colab": {
          "base_uri": "https://localhost:8080/"
        },
        "id": "gMmPDQjqEs01",
        "outputId": "d3b1a6e5-02f4-48e5-85cd-93472c2636d5"
      },
      "outputs": [
        {
          "data": {
            "text/plain": [
              "Hit and Run                         2120\n",
              "Assault Simple                      1963\n",
              "Suspicious Activity                 1634\n",
              "Vandalism                           1609\n",
              "Larceny - All Other                 1557\n",
              "                                    ... \n",
              "Tactical Crime Initiative - TCI        1\n",
              "911 Investigation                      1\n",
              "Prostitution-assisting/promoting       1\n",
              "Field Interview                        1\n",
              "Alarm-Accidental                       1\n",
              "Name: Offense, Length: 119, dtype: int64"
            ]
          },
          "execution_count": 5,
          "metadata": {},
          "output_type": "execute_result"
        }
      ],
      "source": [
        "crimes[\"Offense\"].value_counts()"
      ]
    },
    {
      "cell_type": "code",
      "execution_count": 6,
      "metadata": {
        "colab": {
          "base_uri": "https://localhost:8080/"
        },
        "id": "3F9L_pO3E3El",
        "outputId": "e3ee62cd-b04e-406c-eaa9-7c6a917e10b9"
      },
      "outputs": [
        {
          "data": {
            "text/plain": [
              "E MARKET ST               1134\n",
              "EMMET ST N                1048\n",
              "W MAIN ST                 1007\n",
              "E MAIN ST                  520\n",
              "5TH ST SW                  450\n",
              "                          ... \n",
              "1ST ST S, 207                1\n",
              "MICHIE DR, 115               1\n",
              "HOLIDAY DR, 116              1\n",
              "CULBRETH RD / RUGBY RD       1\n",
              "15TH ST NW, 2013             1\n",
              "Name: StreetName, Length: 3401, dtype: int64"
            ]
          },
          "execution_count": 6,
          "metadata": {},
          "output_type": "execute_result"
        }
      ],
      "source": [
        "crimes[\"StreetName\"].value_counts()"
      ]
    },
    {
      "cell_type": "code",
      "execution_count": 7,
      "metadata": {
        "colab": {
          "base_uri": "https://localhost:8080/"
        },
        "id": "g9hUNNInE-YH",
        "outputId": "80f4d32d-fc97-4b36-c213-b329f4553ff1"
      },
      "outputs": [
        {
          "data": {
            "text/plain": [
              "CPD    24577\n",
              "Name: Agency, dtype: int64"
            ]
          },
          "execution_count": 7,
          "metadata": {},
          "output_type": "execute_result"
        }
      ],
      "source": [
        "crimes[\"Agency\"].value_counts()"
      ]
    },
    {
      "cell_type": "code",
      "execution_count": 8,
      "metadata": {
        "colab": {
          "base_uri": "https://localhost:8080/"
        },
        "id": "PkOLS_eyFEyt",
        "outputId": "ae3b28e5-fcf7-43c3-f67f-661e0fd4495d"
      },
      "outputs": [
        {
          "data": {
            "text/plain": [
              "2017/10/21 12:30:00+00    6\n",
              "2018/06/29 02:20:19+00    6\n",
              "2017/11/04 15:00:00+00    4\n",
              "2019/10/07 18:46:09+00    4\n",
              "2018/06/15 14:08:49+00    4\n",
              "                         ..\n",
              "2021/04/02 19:55:45+00    1\n",
              "2021/04/03 00:29:07+00    1\n",
              "2021/04/03 02:48:26+00    1\n",
              "2021/04/03 03:17:20+00    1\n",
              "2017/10/20 04:35:00+00    1\n",
              "Name: DateReported, Length: 24453, dtype: int64"
            ]
          },
          "execution_count": 8,
          "metadata": {},
          "output_type": "execute_result"
        }
      ],
      "source": [
        "crimes[\"DateReported\"].value_counts()"
      ]
    },
    {
      "cell_type": "code",
      "execution_count": 9,
      "metadata": {
        "colab": {
          "base_uri": "https://localhost:8080/"
        },
        "id": "YCClWbbeFIAY",
        "outputId": "abf73f86-e1bf-4a79-eb87-3f85209ba0ce"
      },
      "outputs": [
        {
          "data": {
            "text/plain": [
              "Moje, Ashley        1060\n",
              "Shiflett, Tammy      611\n",
              "Stein, Nathan        523\n",
              "Newton, Arla         472\n",
              "Pittman, Terry       447\n",
              "                    ... \n",
              "Arnette, Locia         1\n",
              "Beasley, Timothy       1\n",
              "Hopkins, Emma          1\n",
              "Cosgro, Blaine         1\n",
              "Thomas, Alfred         1\n",
              "Name: ReportingOfficer, Length: 175, dtype: int64"
            ]
          },
          "execution_count": 9,
          "metadata": {},
          "output_type": "execute_result"
        }
      ],
      "source": [
        "crimes[\"ReportingOfficer\"].value_counts()"
      ]
    },
    {
      "cell_type": "markdown",
      "metadata": {
        "id": "mV36HCFbFMUu"
      },
      "source": [
        "There are a lot of categories in the non-numerical data. This is not as worrying as it could be since a lot of the data seems like it is unnecessary for our project. It does not seem like we are going to need Reporting Officer, Agency, and Date Reported. We can just use the hours integer to get the time. \n",
        "\n",
        "Small side note: It would be interesting to look up odds of getting arrested on certain streets depending on who is on duty, but that is outside of the scope of our particular project. "
      ]
    },
    {
      "cell_type": "markdown",
      "metadata": {
        "id": "AIOIhssAIjpI"
      },
      "source": [
        "## Numerical Data Exploration"
      ]
    },
    {
      "cell_type": "markdown",
      "metadata": {
        "id": "6ot4zJZOGOp9"
      },
      "source": [
        "Now we will look at histograms of the numerical data below. From this data we will determine what is important information and what is not. "
      ]
    },
    {
      "cell_type": "code",
      "execution_count": 10,
      "metadata": {
        "colab": {
          "base_uri": "https://localhost:8080/",
          "height": 566
        },
        "id": "v2F2rp1KF7X_",
        "outputId": "8b7d6f1a-3eaf-4ea0-cfe9-132ac7a4185f"
      },
      "outputs": [
        {
          "data": {
            "text/plain": [
              "array([[<AxesSubplot:title={'center':'RecordID'}>,\n",
              "        <AxesSubplot:title={'center':'IncidentID'}>],\n",
              "       [<AxesSubplot:title={'center':'BlockNumber'}>,\n",
              "        <AxesSubplot:title={'center':'HourReported'}>]], dtype=object)"
            ]
          },
          "execution_count": 10,
          "metadata": {},
          "output_type": "execute_result"
        },
        {
          "data": {
            "image/png": "[encoded data removed]",
            "text/plain": [
              "<Figure size 2000x1500 with 4 Axes>"
            ]
          },
          "metadata": {},
          "output_type": "display_data"
        }
      ],
      "source": [
        "crimes.hist(bins=50, figsize=(20,15))"
      ]
    },
    {
      "cell_type": "code",
      "execution_count": 11,
      "metadata": {},
      "outputs": [
        {
          "data": {
            "text/plain": [
              "<AxesSubplot:>"
            ]
          },
          "execution_count": 11,
          "metadata": {},
          "output_type": "execute_result"
        },
        {
          "data": {
            "image/png": "[encoded data removed]",
            "text/plain": [
              "<Figure size 640x480 with 1 Axes>"
            ]
          },
          "metadata": {},
          "output_type": "display_data"
        }
      ],
      "source": [
        "crimes['HourReported'].hist(bins=24) # if we use more than 24 bins, the fact that nothing can be reported after 59 minutes makes the bar plot really weird"
      ]
    },
    {
      "cell_type": "markdown",
      "metadata": {
        "id": "AeJyrfFpGcOU"
      },
      "source": [
        "The histrogram of the Record ID behaved exactly as expected. We assumed that Incident ID would also not be very useful but it is organized by year, which will not really fit into what we are doing for this part of the project, but it would be interesting to look at what crimes have become less frequent over time, and it may actually play a role so even though we initially plan on getting rid of it, we will reevaluate as we continue to work on the project. \n",
        "There are some correlations with lower block numbers having more incidents which we did not suspect as a group but more incidents at later hours was something we expected. "
      ]
    },
    {
      "cell_type": "markdown",
      "metadata": {
        "id": "yfQ1oFS7JF_5"
      },
      "source": [
        "## Null Data"
      ]
    },
    {
      "cell_type": "markdown",
      "metadata": {
        "id": "s5rkgN3mXrxd"
      },
      "source": [
        "First we will observe the null data and think of a plan to deal with it."
      ]
    },
    {
      "cell_type": "code",
      "execution_count": 12,
      "metadata": {
        "colab": {
          "base_uri": "https://localhost:8080/",
          "height": 444
        },
        "id": "-3FejjABJL_0",
        "outputId": "ad3f84eb-23f6-4afb-de54-07ebc4f942ae"
      },
      "outputs": [
        {
          "data": {
            "text/html": [
              "<div>\n",
              "<style scoped>\n",
              "    .dataframe tbody tr th:only-of-type {\n",
              "        vertical-align: middle;\n",
              "    }\n",
              "\n",
              "    .dataframe tbody tr th {\n",
              "        vertical-align: top;\n",
              "    }\n",
              "\n",
              "    .dataframe thead th {\n",
              "        text-align: right;\n",
              "    }\n",
              "</style>\n",
              "<table border=\"1\" class=\"dataframe\">\n",
              "  <thead>\n",
              "    <tr style=\"text-align: right;\">\n",
              "      <th></th>\n",
              "      <th>RecordID</th>\n",
              "      <th>Offense</th>\n",
              "      <th>IncidentID</th>\n",
              "      <th>BlockNumber</th>\n",
              "      <th>StreetName</th>\n",
              "      <th>Agency</th>\n",
              "      <th>DateReported</th>\n",
              "      <th>HourReported</th>\n",
              "      <th>ReportingOfficer</th>\n",
              "    </tr>\n",
              "  </thead>\n",
              "  <tbody>\n",
              "    <tr>\n",
              "      <th>15</th>\n",
              "      <td>16</td>\n",
              "      <td>Hit and Run</td>\n",
              "      <td>202200029979</td>\n",
              "      <td>NaN</td>\n",
              "      <td>BAILEY RD @ 5TH ST</td>\n",
              "      <td>CPD</td>\n",
              "      <td>2022/10/16 23:08:33+00</td>\n",
              "      <td>1908</td>\n",
              "      <td>Alfonso, Sean</td>\n",
              "    </tr>\n",
              "    <tr>\n",
              "      <th>39</th>\n",
              "      <td>40</td>\n",
              "      <td>Hit and Run</td>\n",
              "      <td>202200029819</td>\n",
              "      <td>NaN</td>\n",
              "      <td>ALTAMONT CIR / W HIGH ST</td>\n",
              "      <td>CPD</td>\n",
              "      <td>2022/10/15 05:38:27+00</td>\n",
              "      <td>138</td>\n",
              "      <td>Lowry, Brent</td>\n",
              "    </tr>\n",
              "    <tr>\n",
              "      <th>55</th>\n",
              "      <td>56</td>\n",
              "      <td>Hit and Run</td>\n",
              "      <td>202200029704</td>\n",
              "      <td>NaN</td>\n",
              "      <td>IVY RD / EMMET ST N</td>\n",
              "      <td>CPD</td>\n",
              "      <td>2022/10/14 04:47:19+00</td>\n",
              "      <td>47</td>\n",
              "      <td>Hounsel, Eli</td>\n",
              "    </tr>\n",
              "    <tr>\n",
              "      <th>57</th>\n",
              "      <td>58</td>\n",
              "      <td>Vandalism</td>\n",
              "      <td>202200029697</td>\n",
              "      <td>NaN</td>\n",
              "      <td>GARRETT ST / 2ND ST SE</td>\n",
              "      <td>CPD</td>\n",
              "      <td>2022/10/14 03:58:33+00</td>\n",
              "      <td>2358</td>\n",
              "      <td>Blackwell, Ryan</td>\n",
              "    </tr>\n",
              "    <tr>\n",
              "      <th>71</th>\n",
              "      <td>72</td>\n",
              "      <td>Assist Citizen - Welfare Check</td>\n",
              "      <td>202200029599</td>\n",
              "      <td>NaN</td>\n",
              "      <td>LANKFORD AVE / 1ST ST S</td>\n",
              "      <td>CPD</td>\n",
              "      <td>2022/10/13 01:58:30+00</td>\n",
              "      <td>2158</td>\n",
              "      <td>Whitten, Tobyn</td>\n",
              "    </tr>\n",
              "  </tbody>\n",
              "</table>\n",
              "</div>"
            ],
            "text/plain": [
              "    RecordID                         Offense    IncidentID  BlockNumber  \\\n",
              "15        16                     Hit and Run  202200029979          NaN   \n",
              "39        40                     Hit and Run  202200029819          NaN   \n",
              "55        56                     Hit and Run  202200029704          NaN   \n",
              "57        58                       Vandalism  202200029697          NaN   \n",
              "71        72  Assist Citizen - Welfare Check  202200029599          NaN   \n",
              "\n",
              "                  StreetName Agency            DateReported  HourReported  \\\n",
              "15        BAILEY RD @ 5TH ST    CPD  2022/10/16 23:08:33+00          1908   \n",
              "39  ALTAMONT CIR / W HIGH ST    CPD  2022/10/15 05:38:27+00           138   \n",
              "55       IVY RD / EMMET ST N    CPD  2022/10/14 04:47:19+00            47   \n",
              "57    GARRETT ST / 2ND ST SE    CPD  2022/10/14 03:58:33+00          2358   \n",
              "71   LANKFORD AVE / 1ST ST S    CPD  2022/10/13 01:58:30+00          2158   \n",
              "\n",
              "   ReportingOfficer  \n",
              "15    Alfonso, Sean  \n",
              "39     Lowry, Brent  \n",
              "55     Hounsel, Eli  \n",
              "57  Blackwell, Ryan  \n",
              "71   Whitten, Tobyn  "
            ]
          },
          "execution_count": 12,
          "metadata": {},
          "output_type": "execute_result"
        }
      ],
      "source": [
        "incomplete_data = crimes[crimes.isnull().any(axis=1)].head()\n",
        "incomplete_data"
      ]
    },
    {
      "cell_type": "code",
      "execution_count": 13,
      "metadata": {
        "colab": {
          "base_uri": "https://localhost:8080/"
        },
        "id": "MhkNtVQwJgbe",
        "outputId": "9d3144eb-e9b7-4fbb-c2eb-054c5309af15"
      },
      "outputs": [
        {
          "name": "stdout",
          "output_type": "stream",
          "text": [
            "<class 'pandas.core.frame.DataFrame'>\n",
            "Int64Index: 23189 entries, 0 to 24576\n",
            "Data columns (total 9 columns):\n",
            " #   Column            Non-Null Count  Dtype  \n",
            "---  ------            --------------  -----  \n",
            " 0   RecordID          23189 non-null  int64  \n",
            " 1   Offense           23189 non-null  object \n",
            " 2   IncidentID        23189 non-null  int64  \n",
            " 3   BlockNumber       23189 non-null  float64\n",
            " 4   StreetName        23189 non-null  object \n",
            " 5   Agency            23189 non-null  object \n",
            " 6   DateReported      23189 non-null  object \n",
            " 7   HourReported      23189 non-null  int64  \n",
            " 8   ReportingOfficer  23189 non-null  object \n",
            "dtypes: float64(1), int64(3), object(5)\n",
            "memory usage: 1.8+ MB\n"
          ]
        }
      ],
      "source": [
        "crimes_without_null = crimes.dropna()\n",
        "crimes_without_null.info()"
      ]
    },
    {
      "cell_type": "code",
      "execution_count": 14,
      "metadata": {
        "colab": {
          "base_uri": "https://localhost:8080/"
        },
        "id": "nnVLbWixK9qM",
        "outputId": "26ecf8cd-9b27-4bfb-b6a7-d2ceb8f615af"
      },
      "outputs": [
        {
          "name": "stdout",
          "output_type": "stream",
          "text": [
            "<class 'pandas.core.frame.DataFrame'>\n",
            "RangeIndex: 24577 entries, 0 to 24576\n",
            "Data columns (total 9 columns):\n",
            " #   Column            Non-Null Count  Dtype  \n",
            "---  ------            --------------  -----  \n",
            " 0   RecordID          24577 non-null  int64  \n",
            " 1   Offense           24577 non-null  object \n",
            " 2   IncidentID        24577 non-null  int64  \n",
            " 3   BlockNumber       23229 non-null  float64\n",
            " 4   StreetName        24577 non-null  object \n",
            " 5   Agency            24577 non-null  object \n",
            " 6   DateReported      24577 non-null  object \n",
            " 7   HourReported      24577 non-null  int64  \n",
            " 8   ReportingOfficer  24534 non-null  object \n",
            "dtypes: float64(1), int64(3), object(5)\n",
            "memory usage: 1.7+ MB\n"
          ]
        }
      ],
      "source": [
        "crimes.info()"
      ]
    },
    {
      "cell_type": "markdown",
      "metadata": {
        "id": "kv-CCkMzLC-u"
      },
      "source": [
        "Looking at the data we see that there are about 1300 missing block numbers, I am not sure how cobining this data with the streetnames is going to work but we will try to use an imputer but it may cause some strange behaviors that will need to be looked at later depending on our observations."
      ]
    },
    {
      "cell_type": "code",
      "execution_count": 15,
      "metadata": {
        "id": "GpZGV5jDKeQx"
      },
      "outputs": [],
      "source": [
        "imputer = SimpleImputer(strategy=\"median\")"
      ]
    },
    {
      "cell_type": "markdown",
      "metadata": {
        "id": "c7M24p3RXze3"
      },
      "source": [
        "Here we are going to look at imputing the data but we decided we would get rid of the values that do not matter first. "
      ]
    },
    {
      "cell_type": "code",
      "execution_count": 16,
      "metadata": {
        "colab": {
          "base_uri": "https://localhost:8080/"
        },
        "id": "RJ1e3FV8ZlxU",
        "outputId": "5b777a73-5f12-4d52-8c30-19c49d2ccd70"
      },
      "outputs": [
        {
          "name": "stdout",
          "output_type": "stream",
          "text": [
            "<class 'pandas.core.frame.DataFrame'>\n",
            "RangeIndex: 24577 entries, 0 to 24576\n",
            "Data columns (total 9 columns):\n",
            " #   Column            Non-Null Count  Dtype  \n",
            "---  ------            --------------  -----  \n",
            " 0   RecordID          24577 non-null  int64  \n",
            " 1   Offense           24577 non-null  object \n",
            " 2   IncidentID        24577 non-null  int64  \n",
            " 3   BlockNumber       23229 non-null  float64\n",
            " 4   StreetName        24577 non-null  object \n",
            " 5   Agency            24577 non-null  object \n",
            " 6   DateReported      24577 non-null  object \n",
            " 7   HourReported      24577 non-null  int64  \n",
            " 8   ReportingOfficer  24534 non-null  object \n",
            "dtypes: float64(1), int64(3), object(5)\n",
            "memory usage: 1.7+ MB\n"
          ]
        }
      ],
      "source": [
        "crimes.info()"
      ]
    },
    {
      "cell_type": "code",
      "execution_count": 17,
      "metadata": {
        "colab": {
          "base_uri": "https://localhost:8080/",
          "height": 397
        },
        "id": "Iq8mWEMUZWsy",
        "outputId": "7fac3461-5c99-4071-c288-9e8aa5f378d6"
      },
      "outputs": [],
      "source": [
        "crimes_lean = crimes.drop([\"ReportingOfficer\",\"IncidentID\",\"Agency\",\"RecordID\",],axis=1)"
      ]
    },
    {
      "cell_type": "code",
      "execution_count": 18,
      "metadata": {
        "id": "Uk_GRGlwaSrA"
      },
      "outputs": [],
      "source": [
        "crime_num = crimes_lean.drop([\"Offense\",\"DateReported\",\"StreetName\"], axis=1)"
      ]
    },
    {
      "cell_type": "code",
      "execution_count": 19,
      "metadata": {
        "colab": {
          "base_uri": "https://localhost:8080/"
        },
        "id": "4p11irr-a1V-",
        "outputId": "c189555b-68c6-48e9-8637-308047641c8a"
      },
      "outputs": [
        {
          "data": {
            "text/html": [
              "<style>#sk-container-id-1 {color: black;background-color: white;}#sk-container-id-1 pre{padding: 0;}#sk-container-id-1 div.sk-toggleable {background-color: white;}#sk-container-id-1 label.sk-toggleable__label {cursor: pointer;display: block;width: 100%;margin-bottom: 0;padding: 0.3em;box-sizing: border-box;text-align: center;}#sk-container-id-1 label.sk-toggleable__label-arrow:before {content: \"▸\";float: left;margin-right: 0.25em;color: #696969;}#sk-container-id-1 label.sk-toggleable__label-arrow:hover:before {color: black;}#sk-container-id-1 div.sk-estimator:hover label.sk-toggleable__label-arrow:before {color: black;}#sk-container-id-1 div.sk-toggleable__content {max-height: 0;max-width: 0;overflow: hidden;text-align: left;background-color: #f0f8ff;}#sk-container-id-1 div.sk-toggleable__content pre {margin: 0.2em;color: black;border-radius: 0.25em;background-color: #f0f8ff;}#sk-container-id-1 input.sk-toggleable__control:checked~div.sk-toggleable__content {max-height: 200px;max-width: 100%;overflow: auto;}#sk-container-id-1 input.sk-toggleable__control:checked~label.sk-toggleable__label-arrow:before {content: \"▾\";}#sk-container-id-1 div.sk-estimator input.sk-toggleable__control:checked~label.sk-toggleable__label {background-color: #d4ebff;}#sk-container-id-1 div.sk-label input.sk-toggleable__control:checked~label.sk-toggleable__label {background-color: #d4ebff;}#sk-container-id-1 input.sk-hidden--visually {border: 0;clip: rect(1px 1px 1px 1px);clip: rect(1px, 1px, 1px, 1px);height: 1px;margin: -1px;overflow: hidden;padding: 0;position: absolute;width: 1px;}#sk-container-id-1 div.sk-estimator {font-family: monospace;background-color: #f0f8ff;border: 1px dotted black;border-radius: 0.25em;box-sizing: border-box;margin-bottom: 0.5em;}#sk-container-id-1 div.sk-estimator:hover {background-color: #d4ebff;}#sk-container-id-1 div.sk-parallel-item::after {content: \"\";width: 100%;border-bottom: 1px solid gray;flex-grow: 1;}#sk-container-id-1 div.sk-label:hover label.sk-toggleable__label {background-color: #d4ebff;}#sk-container-id-1 div.sk-serial::before {content: \"\";position: absolute;border-left: 1px solid gray;box-sizing: border-box;top: 0;bottom: 0;left: 50%;z-index: 0;}#sk-container-id-1 div.sk-serial {display: flex;flex-direction: column;align-items: center;background-color: white;padding-right: 0.2em;padding-left: 0.2em;position: relative;}#sk-container-id-1 div.sk-item {position: relative;z-index: 1;}#sk-container-id-1 div.sk-parallel {display: flex;align-items: stretch;justify-content: center;background-color: white;position: relative;}#sk-container-id-1 div.sk-item::before, #sk-container-id-1 div.sk-parallel-item::before {content: \"\";position: absolute;border-left: 1px solid gray;box-sizing: border-box;top: 0;bottom: 0;left: 50%;z-index: -1;}#sk-container-id-1 div.sk-parallel-item {display: flex;flex-direction: column;z-index: 1;position: relative;background-color: white;}#sk-container-id-1 div.sk-parallel-item:first-child::after {align-self: flex-end;width: 50%;}#sk-container-id-1 div.sk-parallel-item:last-child::after {align-self: flex-start;width: 50%;}#sk-container-id-1 div.sk-parallel-item:only-child::after {width: 0;}#sk-container-id-1 div.sk-dashed-wrapped {border: 1px dashed gray;margin: 0 0.4em 0.5em 0.4em;box-sizing: border-box;padding-bottom: 0.4em;background-color: white;}#sk-container-id-1 div.sk-label label {font-family: monospace;font-weight: bold;display: inline-block;line-height: 1.2em;}#sk-container-id-1 div.sk-label-container {text-align: center;}#sk-container-id-1 div.sk-container {/* jupyter's `normalize.less` sets `[hidden] { display: none; }` but bootstrap.min.css set `[hidden] { display: none !important; }` so we also need the `!important` here to be able to override the default hidden behavior on the sphinx rendered scikit-learn.org. See: https://github.com/scikit-learn/scikit-learn/issues/21755 */display: inline-block !important;position: relative;}#sk-container-id-1 div.sk-text-repr-fallback {display: none;}</style><div id=\"sk-container-id-1\" class=\"sk-top-container\"><div class=\"sk-text-repr-fallback\"><pre>SimpleImputer(strategy=&#x27;median&#x27;)</pre><b>In a Jupyter environment, please rerun this cell to show the HTML representation or trust the notebook. <br />On GitHub, the HTML representation is unable to render, please try loading this page with nbviewer.org.</b></div><div class=\"sk-container\" hidden><div class=\"sk-item\"><div class=\"sk-estimator sk-toggleable\"><input class=\"sk-toggleable__control sk-hidden--visually\" id=\"sk-estimator-id-1\" type=\"checkbox\" checked><label for=\"sk-estimator-id-1\" class=\"sk-toggleable__label sk-toggleable__label-arrow\">SimpleImputer</label><div class=\"sk-toggleable__content\"><pre>SimpleImputer(strategy=&#x27;median&#x27;)</pre></div></div></div></div></div>"
            ],
            "text/plain": [
              "SimpleImputer(strategy='median')"
            ]
          },
          "execution_count": 19,
          "metadata": {},
          "output_type": "execute_result"
        }
      ],
      "source": [
        "imputer.fit(crime_num)"
      ]
    },
    {
      "cell_type": "markdown",
      "metadata": {
        "id": "qgaRTCFBcCmD"
      },
      "source": [
        "Just want to look at the data in the imputed state"
      ]
    },
    {
      "cell_type": "code",
      "execution_count": 20,
      "metadata": {
        "colab": {
          "base_uri": "https://localhost:8080/"
        },
        "id": "bbZrDBBga9Dk",
        "outputId": "4efefb76-ee9c-402e-857c-be077dae4843"
      },
      "outputs": [
        {
          "data": {
            "text/plain": [
              "array([ 800., 1405.])"
            ]
          },
          "execution_count": 20,
          "metadata": {},
          "output_type": "execute_result"
        }
      ],
      "source": [
        "imputer.statistics_"
      ]
    },
    {
      "cell_type": "code",
      "execution_count": 21,
      "metadata": {
        "colab": {
          "base_uri": "https://localhost:8080/"
        },
        "id": "BzOp0Jv7bH85",
        "outputId": "9b44a434-4f97-4dbb-f3ab-58640efed43e"
      },
      "outputs": [
        {
          "data": {
            "text/plain": [
              "array([ 800., 1405.])"
            ]
          },
          "execution_count": 21,
          "metadata": {},
          "output_type": "execute_result"
        }
      ],
      "source": [
        "crime_num.median().values"
      ]
    },
    {
      "cell_type": "markdown",
      "metadata": {
        "id": "aRRa2TLqcIYU"
      },
      "source": [
        "Now we need to deal with the categorical data. This is where some big adjustments to what we have input need to happen. "
      ]
    },
    {
      "cell_type": "markdown",
      "metadata": {},
      "source": [
        "# Data Cleaning"
      ]
    },
    {
      "cell_type": "markdown",
      "metadata": {},
      "source": [
        "First, we are going to drop the features we determined are not particularly useful"
      ]
    },
    {
      "cell_type": "code",
      "execution_count": 22,
      "metadata": {},
      "outputs": [],
      "source": [
        "crimes_lean = crimes.drop([\"ReportingOfficer\",\"IncidentID\",\"Agency\",\"RecordID\",],axis=1)"
      ]
    },
    {
      "cell_type": "markdown",
      "metadata": {},
      "source": [
        "## Offense Encoding"
      ]
    },
    {
      "cell_type": "code",
      "execution_count": 23,
      "metadata": {
        "colab": {
          "base_uri": "https://localhost:8080/",
          "height": 363
        },
        "id": "5gY23EomcO_i",
        "outputId": "18459b73-20fe-49cc-fa56-9cc8c74f3576"
      },
      "outputs": [
        {
          "data": {
            "text/html": [
              "<div>\n",
              "<style scoped>\n",
              "    .dataframe tbody tr th:only-of-type {\n",
              "        vertical-align: middle;\n",
              "    }\n",
              "\n",
              "    .dataframe tbody tr th {\n",
              "        vertical-align: top;\n",
              "    }\n",
              "\n",
              "    .dataframe thead th {\n",
              "        text-align: right;\n",
              "    }\n",
              "</style>\n",
              "<table border=\"1\" class=\"dataframe\">\n",
              "  <thead>\n",
              "    <tr style=\"text-align: right;\">\n",
              "      <th></th>\n",
              "      <th>Offense</th>\n",
              "    </tr>\n",
              "  </thead>\n",
              "  <tbody>\n",
              "    <tr>\n",
              "      <th>0</th>\n",
              "      <td>Larceny - All Other</td>\n",
              "    </tr>\n",
              "    <tr>\n",
              "      <th>1</th>\n",
              "      <td>Burglary</td>\n",
              "    </tr>\n",
              "    <tr>\n",
              "      <th>2</th>\n",
              "      <td>Assault Aggravated</td>\n",
              "    </tr>\n",
              "    <tr>\n",
              "      <th>3</th>\n",
              "      <td>Assist Citizen - Mental/TDO/ECO</td>\n",
              "    </tr>\n",
              "    <tr>\n",
              "      <th>4</th>\n",
              "      <td>Assault Simple</td>\n",
              "    </tr>\n",
              "    <tr>\n",
              "      <th>5</th>\n",
              "      <td>Trespass</td>\n",
              "    </tr>\n",
              "    <tr>\n",
              "      <th>6</th>\n",
              "      <td>Motor Vehicle Theft</td>\n",
              "    </tr>\n",
              "    <tr>\n",
              "      <th>7</th>\n",
              "      <td>Larceny - Theft from Building</td>\n",
              "    </tr>\n",
              "    <tr>\n",
              "      <th>8</th>\n",
              "      <td>Larceny - From Motor Vehicle</td>\n",
              "    </tr>\n",
              "    <tr>\n",
              "      <th>9</th>\n",
              "      <td>Drug/Narcotics Violation</td>\n",
              "    </tr>\n",
              "  </tbody>\n",
              "</table>\n",
              "</div>"
            ],
            "text/plain": [
              "                           Offense\n",
              "0              Larceny - All Other\n",
              "1                         Burglary\n",
              "2               Assault Aggravated\n",
              "3  Assist Citizen - Mental/TDO/ECO\n",
              "4                   Assault Simple\n",
              "5                         Trespass\n",
              "6              Motor Vehicle Theft\n",
              "7    Larceny - Theft from Building\n",
              "8     Larceny - From Motor Vehicle\n",
              "9         Drug/Narcotics Violation"
            ]
          },
          "execution_count": 23,
          "metadata": {},
          "output_type": "execute_result"
        }
      ],
      "source": [
        "crime_offense_cat = crimes[[\"Offense\"]]\n",
        "crime_offense_cat.head(10)"
      ]
    },
    {
      "cell_type": "markdown",
      "metadata": {},
      "source": [
        "We are going to have to label these by hand by the look of it. There's no way to infer how dangerous an offense is by machine, unless perhaps by some sophisticated NLP algorithm which would take longer to write and design than it would to do this project most likely.\n",
        "\n",
        "It is important to acknowledge the fact that our labelling of the data is an inherent source of bias. Unfortunately, if we wish to use this data for predicting safety, it will be necessary as a trade-off, because it would just be too innacurrate to base a decision on walking safety on occurence of trafic law violations or something of that nature. Thus, this is a tradeoff that has to be acknowledged as an inherent source of bias since this is not really a clear-cut line between \"violent\" and \"non-violent\". Additionally, there seem to be some categories that we may or may not actually be able to interpret clearly, such as `'Tactical Crime Initiative - TCI'`, which may mean something to the police department, but has litte meaning for us, unless it's something we can find on Google. There may be very few features with these categorizations however, so this may be a case where we can simply drop those records."
      ]
    },
    {
      "cell_type": "markdown",
      "metadata": {},
      "source": [
        ". . .  time elapses . . .\n",
        "\n",
        "\n",
        "\n",
        "\n",
        "Having now hand-jammed an ordinal encoding for the categorical offense data, we can load it and see if we can't use this engineered feature to our advantage."
      ]
    },
    {
      "cell_type": "code",
      "execution_count": 24,
      "metadata": {},
      "outputs": [
        {
          "data": {
            "text/html": [
              "<div>\n",
              "<style scoped>\n",
              "    .dataframe tbody tr th:only-of-type {\n",
              "        vertical-align: middle;\n",
              "    }\n",
              "\n",
              "    .dataframe tbody tr th {\n",
              "        vertical-align: top;\n",
              "    }\n",
              "\n",
              "    .dataframe thead th {\n",
              "        text-align: right;\n",
              "    }\n",
              "</style>\n",
              "<table border=\"1\" class=\"dataframe\">\n",
              "  <thead>\n",
              "    <tr style=\"text-align: right;\">\n",
              "      <th></th>\n",
              "      <th>Offense</th>\n",
              "      <th>Danger_Level</th>\n",
              "    </tr>\n",
              "  </thead>\n",
              "  <tbody>\n",
              "    <tr>\n",
              "      <th>0</th>\n",
              "      <td>911 Investigation</td>\n",
              "      <td>1</td>\n",
              "    </tr>\n",
              "    <tr>\n",
              "      <th>1</th>\n",
              "      <td>Accident - w/out Injuries</td>\n",
              "      <td>0</td>\n",
              "    </tr>\n",
              "    <tr>\n",
              "      <th>2</th>\n",
              "      <td>Accident Private Property</td>\n",
              "      <td>2</td>\n",
              "    </tr>\n",
              "    <tr>\n",
              "      <th>3</th>\n",
              "      <td>Accident Property Damage</td>\n",
              "      <td>2</td>\n",
              "    </tr>\n",
              "    <tr>\n",
              "      <th>4</th>\n",
              "      <td>Accident w/Injuries</td>\n",
              "      <td>2</td>\n",
              "    </tr>\n",
              "  </tbody>\n",
              "</table>\n",
              "</div>"
            ],
            "text/plain": [
              "                     Offense  Danger_Level\n",
              "0          911 Investigation             1\n",
              "1  Accident - w/out Injuries             0\n",
              "2  Accident Private Property             2\n",
              "3   Accident Property Damage             2\n",
              "4        Accident w/Injuries             2"
            ]
          },
          "execution_count": 24,
          "metadata": {},
          "output_type": "execute_result"
        }
      ],
      "source": [
        "ord_offenses = load_oridinal_violence_features()\n",
        "ord_offenses.head()"
      ]
    },
    {
      "cell_type": "markdown",
      "metadata": {},
      "source": [
        "Unfortunately, this kind of solution is very prone to error, and introduces much inherent bias. This is probably something that it would be good to ask the police department to do, since they actually understand what all of the offences are and how dangerous they really are. Sadly, we are not the police force and they probably would not have time for such a thing if we were to ask them to do it."
      ]
    },
    {
      "cell_type": "markdown",
      "metadata": {},
      "source": [
        "The next task is to try and get this data mapped into the main data set. Notably, `ord_offenses` only has one entry for each kind of offense, so we will have to use some kind of pandas trick here. Or maybe just a good old fashioned nested for loop . . . Parallelization! I blow my nose at you!"
      ]
    },
    {
      "cell_type": "code",
      "execution_count": 25,
      "metadata": {},
      "outputs": [
        {
          "data": {
            "text/html": [
              "<div>\n",
              "<style scoped>\n",
              "    .dataframe tbody tr th:only-of-type {\n",
              "        vertical-align: middle;\n",
              "    }\n",
              "\n",
              "    .dataframe tbody tr th {\n",
              "        vertical-align: top;\n",
              "    }\n",
              "\n",
              "    .dataframe thead th {\n",
              "        text-align: right;\n",
              "    }\n",
              "</style>\n",
              "<table border=\"1\" class=\"dataframe\">\n",
              "  <thead>\n",
              "    <tr style=\"text-align: right;\">\n",
              "      <th></th>\n",
              "      <th>Offense</th>\n",
              "      <th>BlockNumber</th>\n",
              "      <th>StreetName</th>\n",
              "      <th>DateReported</th>\n",
              "      <th>HourReported</th>\n",
              "      <th>Danger</th>\n",
              "    </tr>\n",
              "  </thead>\n",
              "  <tbody>\n",
              "    <tr>\n",
              "      <th>0</th>\n",
              "      <td>Larceny - All Other</td>\n",
              "      <td>800.0</td>\n",
              "      <td>ELLIOTT AVE</td>\n",
              "      <td>2022/10/18 01:08:59+00</td>\n",
              "      <td>2108</td>\n",
              "      <td>3</td>\n",
              "    </tr>\n",
              "    <tr>\n",
              "      <th>1</th>\n",
              "      <td>Burglary</td>\n",
              "      <td>800.0</td>\n",
              "      <td>RAYMOND RD</td>\n",
              "      <td>2022/10/18 00:31:50+00</td>\n",
              "      <td>2031</td>\n",
              "      <td>4</td>\n",
              "    </tr>\n",
              "    <tr>\n",
              "      <th>2</th>\n",
              "      <td>Assault Aggravated</td>\n",
              "      <td>900.0</td>\n",
              "      <td>W MAIN ST</td>\n",
              "      <td>2022/10/17 23:40:34+00</td>\n",
              "      <td>1940</td>\n",
              "      <td>4</td>\n",
              "    </tr>\n",
              "    <tr>\n",
              "      <th>3</th>\n",
              "      <td>Assist Citizen - Mental/TDO/ECO</td>\n",
              "      <td>600.0</td>\n",
              "      <td>E MARKET ST</td>\n",
              "      <td>2022/10/17 22:24:21+00</td>\n",
              "      <td>1824</td>\n",
              "      <td>0</td>\n",
              "    </tr>\n",
              "    <tr>\n",
              "      <th>4</th>\n",
              "      <td>Assault Simple</td>\n",
              "      <td>1400.0</td>\n",
              "      <td>UNIVERSITY AVE</td>\n",
              "      <td>2022/10/17 19:58:39+00</td>\n",
              "      <td>1558</td>\n",
              "      <td>4</td>\n",
              "    </tr>\n",
              "  </tbody>\n",
              "</table>\n",
              "</div>"
            ],
            "text/plain": [
              "                           Offense  BlockNumber      StreetName  \\\n",
              "0              Larceny - All Other        800.0     ELLIOTT AVE   \n",
              "1                         Burglary        800.0      RAYMOND RD   \n",
              "2               Assault Aggravated        900.0       W MAIN ST   \n",
              "3  Assist Citizen - Mental/TDO/ECO        600.0     E MARKET ST   \n",
              "4                   Assault Simple       1400.0  UNIVERSITY AVE   \n",
              "\n",
              "             DateReported  HourReported  Danger  \n",
              "0  2022/10/18 01:08:59+00          2108       3  \n",
              "1  2022/10/18 00:31:50+00          2031       4  \n",
              "2  2022/10/17 23:40:34+00          1940       4  \n",
              "3  2022/10/17 22:24:21+00          1824       0  \n",
              "4  2022/10/17 19:58:39+00          1558       4  "
            ]
          },
          "execution_count": 25,
          "metadata": {},
          "output_type": "execute_result"
        }
      ],
      "source": [
        "# first, we'll add a duplicate of the `Offense` column for the `danger` feature\n",
        "crimes_lean['Danger'] = crimes_lean.loc[:, 'Offense']\n",
        "\n",
        "# next, we'll turn the `ord_offenses` data frame into a dictionary\n",
        "danger_dict = dict(zip(ord_offenses.Offense, ord_offenses.Danger_Level))\n",
        "# print(danger_dict)\n",
        "\n",
        "# finally, we can map the new `Danger` column to it's categorical value\n",
        "crimes_lean['Danger'] = crimes_lean['Danger'].map(danger_dict)\n",
        "\n",
        "# now, we can take a peek at our lovely new column!\n",
        "crimes_lean.head()\n"
      ]
    },
    {
      "cell_type": "code",
      "execution_count": 68,
      "metadata": {},
      "outputs": [
        {
          "data": {
            "text/plain": [
              "<AxesSubplot:>"
            ]
          },
          "execution_count": 68,
          "metadata": {},
          "output_type": "execute_result"
        },
        {
          "data": {
            "image/png": "[encoded data removed]",
            "text/plain": [
              "<Figure size 640x480 with 1 Axes>"
            ]
          },
          "metadata": {},
          "output_type": "display_data"
        }
      ],
      "source": [
        "crimes_lean['Danger'].hist(bins=5)"
      ]
    },
    {
      "cell_type": "markdown",
      "metadata": {},
      "source": [
        "## Date Conversion"
      ]
    },
    {
      "cell_type": "markdown",
      "metadata": {},
      "source": [
        "Another problem we need to deal with is converting the date to some sort of usable numerical format, such as milliseconds since the last unix epoch. Let's examine this feature again."
      ]
    },
    {
      "cell_type": "code",
      "execution_count": 27,
      "metadata": {},
      "outputs": [
        {
          "data": {
            "text/plain": [
              "0    2022/10/18 01:08:59+00\n",
              "1    2022/10/18 00:31:50+00\n",
              "2    2022/10/17 23:40:34+00\n",
              "3    2022/10/17 22:24:21+00\n",
              "4    2022/10/17 19:58:39+00\n",
              "Name: DateReported, dtype: object"
            ]
          },
          "execution_count": 27,
          "metadata": {},
          "output_type": "execute_result"
        }
      ],
      "source": [
        "crimes_lean['DateReported'].head()"
      ]
    },
    {
      "cell_type": "markdown",
      "metadata": {},
      "source": [
        " Commence string munging tricks . . . or maybe we'll just find a library like [`dateutil`](https://labix.org/python-dateutil#head-a23e8ae0a661d77b89dfb3476f85b26f0b30349c)"
      ]
    },
    {
      "cell_type": "markdown",
      "metadata": {},
      "source": [
        "Yeah, the library is totally the way to go. Of course.\n",
        "\n",
        "Now, just a matter of using a map or something like that to convert the thing!"
      ]
    },
    {
      "cell_type": "code",
      "execution_count": 28,
      "metadata": {},
      "outputs": [
        {
          "data": {
            "text/html": [
              "<div>\n",
              "<style scoped>\n",
              "    .dataframe tbody tr th:only-of-type {\n",
              "        vertical-align: middle;\n",
              "    }\n",
              "\n",
              "    .dataframe tbody tr th {\n",
              "        vertical-align: top;\n",
              "    }\n",
              "\n",
              "    .dataframe thead th {\n",
              "        text-align: right;\n",
              "    }\n",
              "</style>\n",
              "<table border=\"1\" class=\"dataframe\">\n",
              "  <thead>\n",
              "    <tr style=\"text-align: right;\">\n",
              "      <th></th>\n",
              "      <th>Offense</th>\n",
              "      <th>BlockNumber</th>\n",
              "      <th>StreetName</th>\n",
              "      <th>DateReported</th>\n",
              "      <th>HourReported</th>\n",
              "      <th>Danger</th>\n",
              "      <th>Epoch</th>\n",
              "    </tr>\n",
              "  </thead>\n",
              "  <tbody>\n",
              "    <tr>\n",
              "      <th>0</th>\n",
              "      <td>Larceny - All Other</td>\n",
              "      <td>800.0</td>\n",
              "      <td>ELLIOTT AVE</td>\n",
              "      <td>2022/10/18 01:08:59+00</td>\n",
              "      <td>2108</td>\n",
              "      <td>3</td>\n",
              "      <td>1.666055e+09</td>\n",
              "    </tr>\n",
              "    <tr>\n",
              "      <th>1</th>\n",
              "      <td>Burglary</td>\n",
              "      <td>800.0</td>\n",
              "      <td>RAYMOND RD</td>\n",
              "      <td>2022/10/18 00:31:50+00</td>\n",
              "      <td>2031</td>\n",
              "      <td>4</td>\n",
              "      <td>1.666053e+09</td>\n",
              "    </tr>\n",
              "    <tr>\n",
              "      <th>2</th>\n",
              "      <td>Assault Aggravated</td>\n",
              "      <td>900.0</td>\n",
              "      <td>W MAIN ST</td>\n",
              "      <td>2022/10/17 23:40:34+00</td>\n",
              "      <td>1940</td>\n",
              "      <td>4</td>\n",
              "      <td>1.666050e+09</td>\n",
              "    </tr>\n",
              "    <tr>\n",
              "      <th>3</th>\n",
              "      <td>Assist Citizen - Mental/TDO/ECO</td>\n",
              "      <td>600.0</td>\n",
              "      <td>E MARKET ST</td>\n",
              "      <td>2022/10/17 22:24:21+00</td>\n",
              "      <td>1824</td>\n",
              "      <td>0</td>\n",
              "      <td>1.666045e+09</td>\n",
              "    </tr>\n",
              "    <tr>\n",
              "      <th>4</th>\n",
              "      <td>Assault Simple</td>\n",
              "      <td>1400.0</td>\n",
              "      <td>UNIVERSITY AVE</td>\n",
              "      <td>2022/10/17 19:58:39+00</td>\n",
              "      <td>1558</td>\n",
              "      <td>4</td>\n",
              "      <td>1.666037e+09</td>\n",
              "    </tr>\n",
              "  </tbody>\n",
              "</table>\n",
              "</div>"
            ],
            "text/plain": [
              "                           Offense  BlockNumber      StreetName  \\\n",
              "0              Larceny - All Other        800.0     ELLIOTT AVE   \n",
              "1                         Burglary        800.0      RAYMOND RD   \n",
              "2               Assault Aggravated        900.0       W MAIN ST   \n",
              "3  Assist Citizen - Mental/TDO/ECO        600.0     E MARKET ST   \n",
              "4                   Assault Simple       1400.0  UNIVERSITY AVE   \n",
              "\n",
              "             DateReported  HourReported  Danger         Epoch  \n",
              "0  2022/10/18 01:08:59+00          2108       3  1.666055e+09  \n",
              "1  2022/10/18 00:31:50+00          2031       4  1.666053e+09  \n",
              "2  2022/10/17 23:40:34+00          1940       4  1.666050e+09  \n",
              "3  2022/10/17 22:24:21+00          1824       0  1.666045e+09  \n",
              "4  2022/10/17 19:58:39+00          1558       4  1.666037e+09  "
            ]
          },
          "execution_count": 28,
          "metadata": {},
          "output_type": "execute_result"
        }
      ],
      "source": [
        "import dateutil as du\n",
        "import datetime as dt\n",
        "\n",
        "# let's start by making a copy of the column like before\n",
        "crimes_lean['Epoch'] = crimes_lean.loc[:, 'DateReported']\n",
        "\n",
        "# next, we need a function that can be mapped over the column to do the conversion.\n",
        "def date_converter(in_str):\n",
        "    date = du.parser.parse(in_str)\n",
        "    return date.timestamp()\n",
        "\n",
        "# finally, we can map the function across the duplicate column to get the unix epoch\n",
        "crimes_lean['Epoch'] = crimes_lean['Epoch'].map(date_converter)\n",
        "\n",
        "# now, we can take a peek at our lovely new column!\n",
        "crimes_lean.head()\n",
        "   "
      ]
    },
    {
      "cell_type": "markdown",
      "metadata": {},
      "source": [
        "Booyah!"
      ]
    },
    {
      "cell_type": "markdown",
      "metadata": {},
      "source": [
        "Now we can actually look at these times numerically to see trends with time for example!"
      ]
    },
    {
      "cell_type": "markdown",
      "metadata": {},
      "source": [
        "## Location Encoding"
      ]
    },
    {
      "cell_type": "markdown",
      "metadata": {},
      "source": [
        "### Road Centerlines Dataset"
      ]
    },
    {
      "cell_type": "markdown",
      "metadata": {},
      "source": [
        "The first step to this process is going to be to find some sort of way to translate the block system used by the Charlottesville Police Department to something that is practically useful. To this end, we have downloaded and will utilize the [Road Centerlines](https://opendata.charlottesville.org/datasets/charlottesville::road-centerlines-block-level/about) dataset."
      ]
    },
    {
      "cell_type": "code",
      "execution_count": 29,
      "metadata": {},
      "outputs": [
        {
          "name": "stdout",
          "output_type": "stream",
          "text": [
            "   OBJECTID Block Side        Street  \\\n",
            "0         1   100    L  10 1/2 ST NW   \n",
            "1         2   100    R  10 1/2 ST NW   \n",
            "2         3   300    L  10 1/2 ST NW   \n",
            "3         4   300    R  10 1/2 ST NW   \n",
            "4         5   400    L  10 1/2 ST NW   \n",
            "\n",
            "                                            geometry  \n",
            "0  LINESTRING (-78.49530 38.03272, -78.49509 38.0...  \n",
            "1  LINESTRING (-78.49505 38.03335, -78.49527 38.0...  \n",
            "2  LINESTRING (-78.49435 38.03558, -78.49422 38.0...  \n",
            "3  LINESTRING (-78.49323 38.03760, -78.49331 38.0...  \n",
            "4  LINESTRING (-78.49298 38.03817, -78.49283 38.0...  \n"
          ]
        }
      ],
      "source": [
        "import geopandas as gpd                         # this allows us to use standard geospatial formats (such as the geojson that we downloaded)\n",
        "\n",
        "road_lines_full = gpd.read_file(\"./data/Road_Centerlines_(Block_Level).geojson\")             # Note that `road_lines` is a geodataframe, and is not json-esque\n",
        "print(road_lines_full.head())"
      ]
    },
    {
      "cell_type": "markdown",
      "metadata": {},
      "source": [
        "Oh, dear. I thought these were supposed to be centerlines . . . It looks like these are linestrings that describe the left and right edges of the road. \\*sigh\\*\n",
        "\n",
        "I suppose we could just pretend one side of the road doesn't exist . . ."
      ]
    },
    {
      "cell_type": "markdown",
      "metadata": {},
      "source": [
        "It could also be that those with a L / R  attribute are for split highways with a median in between. Regardless, we don't have that level of detail in our crimes data if I am not mistaken."
      ]
    },
    {
      "cell_type": "markdown",
      "metadata": {},
      "source": [
        "One thing we can try to simplify this scheme is to use the observation that the finest level of detail we have in the crimes data set is by the block number and street name. Therefore, we are not losing any precision if we were to take the center point of each block, and use that as the coordinate for any crime on that block. To do this, we can take the linestrings formed by the left and right halves of the data, draw additional lines between their starts and ends, which will turn each block into a polygon. We can then find the centerpoint of the polygon to determine a single lat-lon point for the block."
      ]
    },
    {
      "cell_type": "markdown",
      "metadata": {},
      "source": [
        "However, because time is short and `geopandas` is complex, we are instead just going to keep only the left side of each block, and we will use the center point of this line string as the geometric coordinate."
      ]
    },
    {
      "cell_type": "code",
      "execution_count": 30,
      "metadata": {},
      "outputs": [
        {
          "name": "stdout",
          "output_type": "stream",
          "text": [
            "<class 'geopandas.geodataframe.GeoDataFrame'>\n",
            "RangeIndex: 2754 entries, 0 to 2753\n",
            "Data columns (total 5 columns):\n",
            " #   Column    Non-Null Count  Dtype   \n",
            "---  ------    --------------  -----   \n",
            " 0   OBJECTID  2754 non-null   int64   \n",
            " 1   Block     2754 non-null   object  \n",
            " 2   Side      2754 non-null   object  \n",
            " 3   Street    2754 non-null   object  \n",
            " 4   geometry  2754 non-null   geometry\n",
            "dtypes: geometry(1), int64(1), object(3)\n",
            "memory usage: 107.7+ KB\n",
            "None\n",
            "Side\n",
            "L       1394\n",
            "R       1360\n",
            "dtype: int64\n"
          ]
        }
      ],
      "source": [
        "# we would like to make sure that there isn't anything besides left and right\n",
        "print(road_lines_full.info())\n",
        "print(road_lines_full.value_counts([\"Side\"]))"
      ]
    },
    {
      "cell_type": "markdown",
      "metadata": {},
      "source": [
        "Notably, there are more left-hand sides than right hand sides. I am guessing/assuming this is because one-way streets only have a left-hand side. This doesn't really make sense though, because we really only drive on the right-hand side. Regardless, dropping all of the right-hand rows will work for now."
      ]
    },
    {
      "cell_type": "code",
      "execution_count": 31,
      "metadata": {},
      "outputs": [],
      "source": [
        "# we start by dropping all of the right hand rows.\n",
        "\n",
        "road_lines_naive = road_lines_full[road_lines_full.Side != \"R\"]"
      ]
    },
    {
      "cell_type": "markdown",
      "metadata": {},
      "source": [
        "The center point can then be found with the this [function](https://geopandas.org/en/stable/docs/reference/api/geopandas.GeoSeries.centroid.html)"
      ]
    },
    {
      "cell_type": "code",
      "execution_count": 32,
      "metadata": {},
      "outputs": [
        {
          "name": "stderr",
          "output_type": "stream",
          "text": [
            "C:\\Users\\bgrim\\AppData\\Roaming\\Python\\Python310\\site-packages\\geopandas\\geodataframe.py:1443: SettingWithCopyWarning: \n",
            "A value is trying to be set on a copy of a slice from a DataFrame.\n",
            "Try using .loc[row_indexer,col_indexer] = value instead\n",
            "\n",
            "See the caveats in the documentation: https://pandas.pydata.org/pandas-docs/stable/user_guide/indexing.html#returning-a-view-versus-a-copy\n",
            "  super().__setitem__(key, value)\n"
          ]
        },
        {
          "name": "stdout",
          "output_type": "stream",
          "text": [
            "    OBJECTID Block Side        Street  \\\n",
            "0          1   100    L  10 1/2 ST NW   \n",
            "2          3   300    L  10 1/2 ST NW   \n",
            "4          5   400    L  10 1/2 ST NW   \n",
            "6          7   500    L  10 1/2 ST NW   \n",
            "7          8   600    L  10 1/2 ST NW   \n",
            "9         10   100    L    10TH ST NE   \n",
            "11        12   200    L    10TH ST NE   \n",
            "13        14   300    L    10TH ST NE   \n",
            "16        17   100    L    10TH ST NW   \n",
            "18        19   200    L    10TH ST NW   \n",
            "\n",
            "                                             geometry  \\\n",
            "0   LINESTRING (-78.49530 38.03272, -78.49509 38.0...   \n",
            "2   LINESTRING (-78.49435 38.03558, -78.49422 38.0...   \n",
            "4   LINESTRING (-78.49298 38.03817, -78.49283 38.0...   \n",
            "6   LINESTRING (-78.49326 38.03761, -78.49326 38.0...   \n",
            "7   LINESTRING (-78.49264 38.03882, -78.49264 38.0...   \n",
            "9   LINESTRING (-78.47393 38.02823, -78.47387 38.0...   \n",
            "11  LINESTRING (-78.47350 38.02888, -78.47339 38.0...   \n",
            "13  LINESTRING (-78.47261 38.03012, -78.47257 38.0...   \n",
            "16  LINESTRING (-78.49479 38.03261, -78.49479 38.0...   \n",
            "18  LINESTRING (-78.49382 38.03442, -78.49382 38.0...   \n",
            "\n",
            "                         point  \n",
            "0   POINT (-78.49520 38.03304)  \n",
            "2   POINT (-78.49380 38.03658)  \n",
            "4   POINT (-78.49281 38.03849)  \n",
            "6   POINT (-78.49312 38.03789)  \n",
            "7   POINT (-78.49234 38.03936)  \n",
            "9   POINT (-78.47372 38.02855)  \n",
            "11  POINT (-78.47314 38.02939)  \n",
            "13  POINT (-78.47227 38.03059)  \n",
            "16  POINT (-78.49456 38.03305)  \n",
            "18  POINT (-78.49362 38.03479)  \n"
          ]
        },
        {
          "name": "stderr",
          "output_type": "stream",
          "text": [
            "C:\\Users\\bgrim\\AppData\\Roaming\\Python\\Python310\\site-packages\\geopandas\\geodataframe.py:1443: SettingWithCopyWarning: \n",
            "A value is trying to be set on a copy of a slice from a DataFrame.\n",
            "Try using .loc[row_indexer,col_indexer] = value instead\n",
            "\n",
            "See the caveats in the documentation: https://pandas.pydata.org/pandas-docs/stable/user_guide/indexing.html#returning-a-view-versus-a-copy\n",
            "  super().__setitem__(key, value)\n"
          ]
        }
      ],
      "source": [
        "# we can start by making a copy of the geometry column\n",
        "road_lines_naive['point'] = road_lines_naive.loc[:, 'geometry']\n",
        "\n",
        "# then we can make our mapping function\n",
        "def naive_center_finder(linestring):\n",
        "    return gpd.GeoSeries([linestring]).centroid[0]\n",
        "\n",
        "# and then we can map our handy-dandy function over this column\n",
        "road_lines_naive['point'] = road_lines_naive['point'].map(naive_center_finder)\n",
        "\n",
        "# and finally see if it worked\n",
        "print(road_lines_naive.head(10))"
      ]
    },
    {
      "cell_type": "markdown",
      "metadata": {},
      "source": [
        "weeeellll . . . I suppose it worked. We have no real way of knowing whether those are actually the centerpoints I would hope to see, but hey, at least it's something."
      ]
    },
    {
      "cell_type": "markdown",
      "metadata": {},
      "source": [
        "### Using the Road Center Points in the Crimes Data"
      ]
    },
    {
      "cell_type": "markdown",
      "metadata": {},
      "source": [
        "To actually use what we just made, we can now use this data set to add a coordinate to each crime!"
      ]
    },
    {
      "cell_type": "code",
      "execution_count": 33,
      "metadata": {},
      "outputs": [],
      "source": [
        "crimes_lean = crimes_lean.dropna()"
      ]
    },
    {
      "cell_type": "code",
      "execution_count": 34,
      "metadata": {},
      "outputs": [
        {
          "name": "stdout",
          "output_type": "stream",
          "text": [
            "   OBJECTID Block Side        Street  \\\n",
            "0         1   100    L  10 1/2 ST NW   \n",
            "2         3   300    L  10 1/2 ST NW   \n",
            "4         5   400    L  10 1/2 ST NW   \n",
            "6         7   500    L  10 1/2 ST NW   \n",
            "7         8   600    L  10 1/2 ST NW   \n",
            "\n",
            "                                            geometry  \\\n",
            "0  LINESTRING (-78.49530 38.03272, -78.49509 38.0...   \n",
            "2  LINESTRING (-78.49435 38.03558, -78.49422 38.0...   \n",
            "4  LINESTRING (-78.49298 38.03817, -78.49283 38.0...   \n",
            "6  LINESTRING (-78.49326 38.03761, -78.49326 38.0...   \n",
            "7  LINESTRING (-78.49264 38.03882, -78.49264 38.0...   \n",
            "\n",
            "                        point    road_location  \n",
            "0  POINT (-78.49520 38.03304)  10 1/2 ST NW100  \n",
            "2  POINT (-78.49380 38.03658)  10 1/2 ST NW300  \n",
            "4  POINT (-78.49281 38.03849)  10 1/2 ST NW400  \n",
            "6  POINT (-78.49312 38.03789)  10 1/2 ST NW500  \n",
            "7  POINT (-78.49234 38.03936)  10 1/2 ST NW600  \n"
          ]
        },
        {
          "name": "stderr",
          "output_type": "stream",
          "text": [
            "C:\\Users\\bgrim\\AppData\\Roaming\\Python\\Python310\\site-packages\\geopandas\\geodataframe.py:1443: SettingWithCopyWarning: \n",
            "A value is trying to be set on a copy of a slice from a DataFrame.\n",
            "Try using .loc[row_indexer,col_indexer] = value instead\n",
            "\n",
            "See the caveats in the documentation: https://pandas.pydata.org/pandas-docs/stable/user_guide/indexing.html#returning-a-view-versus-a-copy\n",
            "  super().__setitem__(key, value)\n"
          ]
        }
      ],
      "source": [
        "# We are going to start by concatenating the block number and street name into one field.\n",
        "# hopefully these will be identical for both data sets.\n",
        "crimes_lean['road_location'] = crimes_lean['StreetName'] + crimes_lean['BlockNumber'].astype(int).astype(str)\n",
        "# print(crimes_lean.head())\n",
        "\n",
        "road_lines_naive['road_location'] = road_lines_naive['Street'] + road_lines_naive['Block'].astype(int).astype(str)\n",
        "print(road_lines_naive.head())"
      ]
    },
    {
      "cell_type": "code",
      "execution_count": 35,
      "metadata": {},
      "outputs": [
        {
          "name": "stdout",
          "output_type": "stream",
          "text": [
            "<class 'pandas.core.frame.DataFrame'>\n",
            "Int64Index: 23229 entries, 0 to 24576\n",
            "Data columns (total 9 columns):\n",
            " #   Column         Non-Null Count  Dtype  \n",
            "---  ------         --------------  -----  \n",
            " 0   Offense        23229 non-null  object \n",
            " 1   BlockNumber    23229 non-null  float64\n",
            " 2   StreetName     23229 non-null  object \n",
            " 3   DateReported   23229 non-null  object \n",
            " 4   HourReported   23229 non-null  int64  \n",
            " 5   Danger         23229 non-null  int64  \n",
            " 6   Epoch          23229 non-null  float64\n",
            " 7   road_location  23229 non-null  object \n",
            " 8   Point          17290 non-null  object \n",
            "dtypes: float64(2), int64(2), object(5)\n",
            "memory usage: 1.8+ MB\n",
            "None\n"
          ]
        },
        {
          "name": "stderr",
          "output_type": "stream",
          "text": [
            "C:\\Users\\bgrim\\AppData\\Roaming\\Python\\Python310\\site-packages\\pandas\\core\\dtypes\\cast.py:127: ShapelyDeprecationWarning: The array interface is deprecated and will no longer work in Shapely 2.0. Convert the '.coords' to a numpy array instead.\n",
            "  arr = construct_1d_object_array_from_listlike(values)\n"
          ]
        }
      ],
      "source": [
        "# next we can make a dictionary out of the road_lines_naive data set\n",
        "road_centers_dict = dict(zip(road_lines_naive.road_location, road_lines_naive.point))\n",
        "\n",
        "# and then make a point column for the crimes data\n",
        "crimes_lean['Point'] = crimes_lean.loc[:, 'road_location']\n",
        "\n",
        "# and finally we can use the dictionary to map over this column to get our points\n",
        "crimes_lean['Point'] = crimes_lean['Point'].map(road_centers_dict)\n",
        "\n",
        "print(crimes_lean.info())"
      ]
    },
    {
      "cell_type": "markdown",
      "metadata": {},
      "source": [
        "We have successfully given each crime a lat-lon coordinate, which is super fantastic! Even if we had to lose about 6k crimes in the process, and even if the point isn't as accurate as it could be since we only used half of the street."
      ]
    },
    {
      "cell_type": "markdown",
      "metadata": {},
      "source": [
        "Also, we really need that point to be split into latitude and longitude columns practically speaking . . ."
      ]
    },
    {
      "cell_type": "code",
      "execution_count": 36,
      "metadata": {},
      "outputs": [
        {
          "name": "stdout",
          "output_type": "stream",
          "text": [
            "                           Offense  BlockNumber      StreetName  \\\n",
            "0              Larceny - All Other        800.0     ELLIOTT AVE   \n",
            "1                         Burglary        800.0      RAYMOND RD   \n",
            "2               Assault Aggravated        900.0       W MAIN ST   \n",
            "3  Assist Citizen - Mental/TDO/ECO        600.0     E MARKET ST   \n",
            "4                   Assault Simple       1400.0  UNIVERSITY AVE   \n",
            "\n",
            "             DateReported  HourReported  Danger         Epoch  \\\n",
            "0  2022/10/18 01:08:59+00          2108       3  1.666055e+09   \n",
            "1  2022/10/18 00:31:50+00          2031       4  1.666053e+09   \n",
            "2  2022/10/17 23:40:34+00          1940       4  1.666050e+09   \n",
            "3  2022/10/17 22:24:21+00          1824       0  1.666045e+09   \n",
            "4  2022/10/17 19:58:39+00          1558       4  1.666037e+09   \n",
            "\n",
            "        road_location                                          Point  \\\n",
            "0      ELLIOTT AVE800   POINT (-78.47900013558797 38.02018638093148)   \n",
            "1       RAYMOND RD800    POINT (-78.4928023048947 38.01972150538345)   \n",
            "2        W MAIN ST900   POINT (-78.49430839164548 38.03249178536627)   \n",
            "3      E MARKET ST600  POINT (-78.47704152035922 38.030277200726914)   \n",
            "4  UNIVERSITY AVE1400   POINT (-78.50004637188796 38.03429477193843)   \n",
            "\n",
            "   Longitude   Latitude  \n",
            "0 -78.479000  38.020186  \n",
            "1 -78.492802  38.019722  \n",
            "2 -78.494308  38.032492  \n",
            "3 -78.477042  38.030277  \n",
            "4 -78.500046  38.034295  \n"
          ]
        }
      ],
      "source": [
        "# We can do that very easily using geopandas as well\n",
        "crimes_lean = crimes_lean.dropna()\n",
        "\n",
        "crimes_lean['Longitude'] = crimes_lean['Point'].apply(lambda point: point.x)\n",
        "crimes_lean['Latitude'] = crimes_lean['Point'].apply(lambda point: point.y)\n",
        "\n",
        "print(crimes_lean.head())"
      ]
    },
    {
      "cell_type": "markdown",
      "metadata": {},
      "source": [
        "# Modeling"
      ]
    },
    {
      "cell_type": "code",
      "execution_count": 37,
      "metadata": {},
      "outputs": [
        {
          "name": "stdout",
          "output_type": "stream",
          "text": [
            "          Epoch   Latitude  Longitude  Danger\n",
            "0  1.666055e+09  38.020186 -78.479000       3\n",
            "1  1.666053e+09  38.019722 -78.492802       4\n",
            "2  1.666050e+09  38.032492 -78.494308       4\n",
            "3  1.666045e+09  38.030277 -78.477042       0\n",
            "4  1.666037e+09  38.034295 -78.500046       4\n"
          ]
        }
      ],
      "source": [
        "# and now, lets grab just the really useful features we have constructed and see if we get some interesting regression results out of it\n",
        "crimes_sparse = crimes_lean[['Epoch', 'Latitude', 'Longitude', 'Danger']]\n",
        "\n",
        "print(crimes_sparse.head())"
      ]
    },
    {
      "cell_type": "markdown",
      "metadata": {},
      "source": [
        "Wow, we say \"sparse\", but we should probably say \"Charlie-Brown-Christmas-Tree-Esque\".\n",
        "\n",
        "![charlie-brown-tree](https://wallpapercave.com/wp/9Dvub0b.jpg)\n",
        "\n",
        "It's funny how after extracting the essential information out of the data, we really have very, very little to work with for each record. Just when the reported happened, where the reported incident happend, and how bad the incident was on a scale of 0 to 4. Hopefully that's enough to do some reasonable machine learning . . ."
      ]
    },
    {
      "cell_type": "markdown",
      "metadata": {},
      "source": [
        "### Visualization Detour"
      ]
    },
    {
      "cell_type": "markdown",
      "metadata": {},
      "source": [
        "Let's do a quick 3D graph with a random subset of our data to try and get a feel for whether we can legitimately try to use a linear regression to solve our problem."
      ]
    },
    {
      "cell_type": "code",
      "execution_count": 38,
      "metadata": {},
      "outputs": [
        {
          "data": {
            "text/plain": [
              "<mpl_toolkits.mplot3d.art3d.Path3DCollection at 0x2042eafeb60>"
            ]
          },
          "execution_count": 38,
          "metadata": {},
          "output_type": "execute_result"
        },
        {
          "data": {
            "image/png": "[encoded data removed]",
            "text/plain": [
              "<Figure size 640x480 with 1 Axes>"
            ]
          },
          "metadata": {},
          "output_type": "display_data"
        }
      ],
      "source": [
        "sample_crimes = crimes_sparse.sample(frac=0.1, random_state=42)\n",
        "\n",
        "fig = plt.figure()\n",
        "ax = plt.axes(projection='3d')\n",
        "ax.scatter3D(sample_crimes['Longitude'], sample_crimes['Latitude'], sample_crimes['Epoch'], c=sample_crimes['Danger'], cmap='jet')"
      ]
    },
    {
      "cell_type": "markdown",
      "metadata": {},
      "source": [
        "In the above plot, the axes are longitude, latitude, and time for x, y, and z respectively, and the color of each dot is based on its danger level from 0 to 4. Although this isn't the greatest plot, I tend to think this data is _not_ going to be linearly separable by any stretch of the imagination."
      ]
    },
    {
      "cell_type": "markdown",
      "metadata": {},
      "source": [
        "So the question then becomes, if we can't do a linear regression, what should we do instead? We have just graphed the full dimensionality of our space, so SVM may not be sufficient here as there doesn't seem to be any sort of clear pattern whatsoever. SVM might still be worth looking into however, especially since it can be used to map the feature space to higher dimensions.\n",
        "\n",
        "An interesting thing to consider here is that the feature we would want to predict, `Danger`, can be treated as either a categorical or a numeric value. What this means practically is that we can treat this problem not so much as a regression, but rather as a classification problem. Unfortunately, K-Means and other clustering methods will also probably fail to be of use here since the dimensionality is so very low, although they may still be worth trying. \n",
        "\n",
        "This leaves us with Neural Nets. A deep neural net may be able to make sense of this low dimensionality feature space in a meaningful way."
      ]
    },
    {
      "cell_type": "markdown",
      "metadata": {},
      "source": [
        "### Neural Net mk. I"
      ]
    },
    {
      "cell_type": "markdown",
      "metadata": {},
      "source": [
        "Let's give the neural net a go."
      ]
    },
    {
      "cell_type": "markdown",
      "metadata": {},
      "source": [
        "We can make a validation set and a training set."
      ]
    },
    {
      "cell_type": "code",
      "execution_count": 39,
      "metadata": {},
      "outputs": [],
      "source": [
        "# and we can also standard scale our features\n",
        "from sklearn import pipeline\n",
        "\n",
        "# pipeline to standard scale the input\n",
        "nn_1_pipeline = pipeline.Pipeline([\n",
        "        ('std_scaler', StandardScaler()),\n",
        "    ])\n",
        "\n",
        "# # full pipeline:\n",
        "# full_pipeline = ColumnTransformer([\n",
        "#         (\"num\", num_pipeline, num_attribs),\n",
        "#     ])\n",
        "\n",
        "# crimes_sparse_1 = num_pipeline.fit_transform()"
      ]
    },
    {
      "cell_type": "code",
      "execution_count": 48,
      "metadata": {},
      "outputs": [
        {
          "name": "stdout",
          "output_type": "stream",
          "text": [
            "(12448, 3)\n",
            "(1384, 3)\n"
          ]
        }
      ],
      "source": [
        "from sklearn.model_selection import train_test_split\n",
        "X = crimes_sparse.drop('Danger', axis=1)\n",
        "Y = crimes_sparse['Danger']\n",
        "\n",
        "nn_1_train_full_X, nn_1_test_X, nn_1_train_full_Y, nn_1_test_Y = train_test_split(X, Y, test_size=0.2, random_state=42)\n",
        "nn_1_train_full_X = nn_1_pipeline.fit_transform(nn_1_train_full_X, nn_1_train_full_Y)\n",
        "nn_1_test_X = nn_1_pipeline.fit(nn_1_test_X, nn_1_test_Y)\n",
        "nn_1_train_x, nn_1_val_x, nn_1_train_y, nn_1_val_y = train_test_split(nn_1_train_full_X, nn_1_train_full_Y, test_size=0.1, random_state=42)\n",
        "\n",
        "print(nn_1_train_x.shape)\n",
        "\n",
        "print(nn_1_val_x.shape)"
      ]
    },
    {
      "cell_type": "code",
      "execution_count": 61,
      "metadata": {},
      "outputs": [],
      "source": [
        "import tensorflow as tf\n",
        "import keras\n",
        "\n",
        "nn_1 = tf.keras.models.Sequential(layers=[\n",
        "    keras.layers.Flatten(),        # input layer\n",
        "    keras.layers.Dense(units=75, activation='relu'),  # hidden layer\n",
        "    keras.layers.Dense(units=1750, activation='relu'), # hidden layer\n",
        "    keras.layers.Dense(units=200, activation='relu'), # hidden layer\n",
        "    keras.layers.Dense(units=5, activation='softmax') # output softmax layer\n",
        "])"
      ]
    },
    {
      "cell_type": "code",
      "execution_count": 62,
      "metadata": {},
      "outputs": [
        {
          "name": "stdout",
          "output_type": "stream",
          "text": [
            "Epoch 1/50\n",
            "389/389 [==============================] - 7s 14ms/step - loss: 1.4257 - accuracy: 0.4107 - val_loss: 1.3990 - val_accuracy: 0.4162\n",
            "Epoch 2/50\n",
            "389/389 [==============================] - 5s 12ms/step - loss: 1.4077 - accuracy: 0.4116 - val_loss: 1.4075 - val_accuracy: 0.4162\n",
            "Epoch 3/50\n",
            "389/389 [==============================] - 4s 10ms/step - loss: 1.4032 - accuracy: 0.4120 - val_loss: 1.3924 - val_accuracy: 0.4184\n",
            "Epoch 4/50\n",
            "389/389 [==============================] - 4s 10ms/step - loss: 1.3997 - accuracy: 0.4161 - val_loss: 1.3926 - val_accuracy: 0.4169\n",
            "Epoch 5/50\n",
            "153/389 [==========>...................] - ETA: 2s - loss: 1.3897 - accuracy: 0.4167"
          ]
        },
        {
          "ename": "KeyboardInterrupt",
          "evalue": "",
          "output_type": "error",
          "traceback": [
            "\u001b[1;31m---------------------------------------------------------------------------\u001b[0m",
            "\u001b[1;31mKeyboardInterrupt\u001b[0m                         Traceback (most recent call last)",
            "\u001b[1;32mg:\\My Drive\\Class_Folders\\CS_4774\\Project\\MLProject\\Machine_Learning_Project.ipynb Cell 93\u001b[0m in \u001b[0;36m<cell line: 7>\u001b[1;34m()\u001b[0m\n\u001b[0;32m      <a href='vscode-notebook-cell:/g%3A/My%20Drive/Class_Folders/CS_4774/Project/MLProject/Machine_Learning_Project.ipynb#Y161sZmlsZQ%3D%3D?line=4'>5</a>\u001b[0m nn_1_mtrx \u001b[39m=\u001b[39m [\u001b[39m\"\u001b[39m\u001b[39maccuracy\u001b[39m\u001b[39m\"\u001b[39m] \n\u001b[0;32m      <a href='vscode-notebook-cell:/g%3A/My%20Drive/Class_Folders/CS_4774/Project/MLProject/Machine_Learning_Project.ipynb#Y161sZmlsZQ%3D%3D?line=5'>6</a>\u001b[0m nn_1\u001b[39m.\u001b[39mcompile(loss\u001b[39m=\u001b[39m nn_1_loss, optimizer \u001b[39m=\u001b[39m nn_1_opt, metrics \u001b[39m=\u001b[39m nn_1_mtrx)\n\u001b[1;32m----> <a href='vscode-notebook-cell:/g%3A/My%20Drive/Class_Folders/CS_4774/Project/MLProject/Machine_Learning_Project.ipynb#Y161sZmlsZQ%3D%3D?line=6'>7</a>\u001b[0m history \u001b[39m=\u001b[39m nn_1\u001b[39m.\u001b[39;49mfit(nn_1_train_x, nn_1_train_y, validation_data\u001b[39m=\u001b[39;49m(nn_1_val_x, nn_1_val_y), epochs \u001b[39m=\u001b[39;49m nn_1_epochs)\n",
            "File \u001b[1;32m~\\AppData\\Roaming\\Python\\Python310\\site-packages\\keras\\utils\\traceback_utils.py:65\u001b[0m, in \u001b[0;36mfilter_traceback.<locals>.error_handler\u001b[1;34m(*args, **kwargs)\u001b[0m\n\u001b[0;32m     63\u001b[0m filtered_tb \u001b[39m=\u001b[39m \u001b[39mNone\u001b[39;00m\n\u001b[0;32m     64\u001b[0m \u001b[39mtry\u001b[39;00m:\n\u001b[1;32m---> 65\u001b[0m     \u001b[39mreturn\u001b[39;00m fn(\u001b[39m*\u001b[39margs, \u001b[39m*\u001b[39m\u001b[39m*\u001b[39mkwargs)\n\u001b[0;32m     66\u001b[0m \u001b[39mexcept\u001b[39;00m \u001b[39mException\u001b[39;00m \u001b[39mas\u001b[39;00m e:\n\u001b[0;32m     67\u001b[0m     filtered_tb \u001b[39m=\u001b[39m _process_traceback_frames(e\u001b[39m.\u001b[39m__traceback__)\n",
            "File \u001b[1;32m~\\AppData\\Roaming\\Python\\Python310\\site-packages\\keras\\engine\\training.py:1650\u001b[0m, in \u001b[0;36mModel.fit\u001b[1;34m(self, x, y, batch_size, epochs, verbose, callbacks, validation_split, validation_data, shuffle, class_weight, sample_weight, initial_epoch, steps_per_epoch, validation_steps, validation_batch_size, validation_freq, max_queue_size, workers, use_multiprocessing)\u001b[0m\n\u001b[0;32m   1642\u001b[0m \u001b[39mwith\u001b[39;00m tf\u001b[39m.\u001b[39mprofiler\u001b[39m.\u001b[39mexperimental\u001b[39m.\u001b[39mTrace(\n\u001b[0;32m   1643\u001b[0m     \u001b[39m\"\u001b[39m\u001b[39mtrain\u001b[39m\u001b[39m\"\u001b[39m,\n\u001b[0;32m   1644\u001b[0m     epoch_num\u001b[39m=\u001b[39mepoch,\n\u001b[1;32m   (...)\u001b[0m\n\u001b[0;32m   1647\u001b[0m     _r\u001b[39m=\u001b[39m\u001b[39m1\u001b[39m,\n\u001b[0;32m   1648\u001b[0m ):\n\u001b[0;32m   1649\u001b[0m     callbacks\u001b[39m.\u001b[39mon_train_batch_begin(step)\n\u001b[1;32m-> 1650\u001b[0m     tmp_logs \u001b[39m=\u001b[39m \u001b[39mself\u001b[39;49m\u001b[39m.\u001b[39;49mtrain_function(iterator)\n\u001b[0;32m   1651\u001b[0m     \u001b[39mif\u001b[39;00m data_handler\u001b[39m.\u001b[39mshould_sync:\n\u001b[0;32m   1652\u001b[0m         context\u001b[39m.\u001b[39masync_wait()\n",
            "File \u001b[1;32m~\\AppData\\Roaming\\Python\\Python310\\site-packages\\tensorflow\\python\\util\\traceback_utils.py:150\u001b[0m, in \u001b[0;36mfilter_traceback.<locals>.error_handler\u001b[1;34m(*args, **kwargs)\u001b[0m\n\u001b[0;32m    148\u001b[0m filtered_tb \u001b[39m=\u001b[39m \u001b[39mNone\u001b[39;00m\n\u001b[0;32m    149\u001b[0m \u001b[39mtry\u001b[39;00m:\n\u001b[1;32m--> 150\u001b[0m   \u001b[39mreturn\u001b[39;00m fn(\u001b[39m*\u001b[39margs, \u001b[39m*\u001b[39m\u001b[39m*\u001b[39mkwargs)\n\u001b[0;32m    151\u001b[0m \u001b[39mexcept\u001b[39;00m \u001b[39mException\u001b[39;00m \u001b[39mas\u001b[39;00m e:\n\u001b[0;32m    152\u001b[0m   filtered_tb \u001b[39m=\u001b[39m _process_traceback_frames(e\u001b[39m.\u001b[39m__traceback__)\n",
            "File \u001b[1;32m~\\AppData\\Roaming\\Python\\Python310\\site-packages\\tensorflow\\python\\eager\\polymorphic_function\\polymorphic_function.py:880\u001b[0m, in \u001b[0;36mFunction.__call__\u001b[1;34m(self, *args, **kwds)\u001b[0m\n\u001b[0;32m    877\u001b[0m compiler \u001b[39m=\u001b[39m \u001b[39m\"\u001b[39m\u001b[39mxla\u001b[39m\u001b[39m\"\u001b[39m \u001b[39mif\u001b[39;00m \u001b[39mself\u001b[39m\u001b[39m.\u001b[39m_jit_compile \u001b[39melse\u001b[39;00m \u001b[39m\"\u001b[39m\u001b[39mnonXla\u001b[39m\u001b[39m\"\u001b[39m\n\u001b[0;32m    879\u001b[0m \u001b[39mwith\u001b[39;00m OptionalXlaContext(\u001b[39mself\u001b[39m\u001b[39m.\u001b[39m_jit_compile):\n\u001b[1;32m--> 880\u001b[0m   result \u001b[39m=\u001b[39m \u001b[39mself\u001b[39m\u001b[39m.\u001b[39m_call(\u001b[39m*\u001b[39margs, \u001b[39m*\u001b[39m\u001b[39m*\u001b[39mkwds)\n\u001b[0;32m    882\u001b[0m new_tracing_count \u001b[39m=\u001b[39m \u001b[39mself\u001b[39m\u001b[39m.\u001b[39mexperimental_get_tracing_count()\n\u001b[0;32m    883\u001b[0m without_tracing \u001b[39m=\u001b[39m (tracing_count \u001b[39m==\u001b[39m new_tracing_count)\n",
            "File \u001b[1;32m~\\AppData\\Roaming\\Python\\Python310\\site-packages\\tensorflow\\python\\eager\\polymorphic_function\\polymorphic_function.py:912\u001b[0m, in \u001b[0;36mFunction._call\u001b[1;34m(self, *args, **kwds)\u001b[0m\n\u001b[0;32m    909\u001b[0m   \u001b[39mself\u001b[39m\u001b[39m.\u001b[39m_lock\u001b[39m.\u001b[39mrelease()\n\u001b[0;32m    910\u001b[0m   \u001b[39m# In this case we have created variables on the first call, so we run the\u001b[39;00m\n\u001b[0;32m    911\u001b[0m   \u001b[39m# defunned version which is guaranteed to never create variables.\u001b[39;00m\n\u001b[1;32m--> 912\u001b[0m   \u001b[39mreturn\u001b[39;00m \u001b[39mself\u001b[39m\u001b[39m.\u001b[39m_no_variable_creation_fn(\u001b[39m*\u001b[39margs, \u001b[39m*\u001b[39m\u001b[39m*\u001b[39mkwds)  \u001b[39m# pylint: disable=not-callable\u001b[39;00m\n\u001b[0;32m    913\u001b[0m \u001b[39melif\u001b[39;00m \u001b[39mself\u001b[39m\u001b[39m.\u001b[39m_variable_creation_fn \u001b[39mis\u001b[39;00m \u001b[39mnot\u001b[39;00m \u001b[39mNone\u001b[39;00m:\n\u001b[0;32m    914\u001b[0m   \u001b[39m# Release the lock early so that multiple threads can perform the call\u001b[39;00m\n\u001b[0;32m    915\u001b[0m   \u001b[39m# in parallel.\u001b[39;00m\n\u001b[0;32m    916\u001b[0m   \u001b[39mself\u001b[39m\u001b[39m.\u001b[39m_lock\u001b[39m.\u001b[39mrelease()\n",
            "File \u001b[1;32m~\\AppData\\Roaming\\Python\\Python310\\site-packages\\tensorflow\\python\\eager\\polymorphic_function\\tracing_compiler.py:134\u001b[0m, in \u001b[0;36mTracingCompiler.__call__\u001b[1;34m(self, *args, **kwargs)\u001b[0m\n\u001b[0;32m    131\u001b[0m \u001b[39mwith\u001b[39;00m \u001b[39mself\u001b[39m\u001b[39m.\u001b[39m_lock:\n\u001b[0;32m    132\u001b[0m   (concrete_function,\n\u001b[0;32m    133\u001b[0m    filtered_flat_args) \u001b[39m=\u001b[39m \u001b[39mself\u001b[39m\u001b[39m.\u001b[39m_maybe_define_function(args, kwargs)\n\u001b[1;32m--> 134\u001b[0m \u001b[39mreturn\u001b[39;00m concrete_function\u001b[39m.\u001b[39;49m_call_flat(\n\u001b[0;32m    135\u001b[0m     filtered_flat_args, captured_inputs\u001b[39m=\u001b[39;49mconcrete_function\u001b[39m.\u001b[39;49mcaptured_inputs)\n",
            "File \u001b[1;32m~\\AppData\\Roaming\\Python\\Python310\\site-packages\\tensorflow\\python\\eager\\polymorphic_function\\monomorphic_function.py:1745\u001b[0m, in \u001b[0;36mConcreteFunction._call_flat\u001b[1;34m(self, args, captured_inputs, cancellation_manager)\u001b[0m\n\u001b[0;32m   1741\u001b[0m possible_gradient_type \u001b[39m=\u001b[39m gradients_util\u001b[39m.\u001b[39mPossibleTapeGradientTypes(args)\n\u001b[0;32m   1742\u001b[0m \u001b[39mif\u001b[39;00m (possible_gradient_type \u001b[39m==\u001b[39m gradients_util\u001b[39m.\u001b[39mPOSSIBLE_GRADIENT_TYPES_NONE\n\u001b[0;32m   1743\u001b[0m     \u001b[39mand\u001b[39;00m executing_eagerly):\n\u001b[0;32m   1744\u001b[0m   \u001b[39m# No tape is watching; skip to running the function.\u001b[39;00m\n\u001b[1;32m-> 1745\u001b[0m   \u001b[39mreturn\u001b[39;00m \u001b[39mself\u001b[39m\u001b[39m.\u001b[39m_build_call_outputs(\u001b[39mself\u001b[39;49m\u001b[39m.\u001b[39;49m_inference_function\u001b[39m.\u001b[39;49mcall(\n\u001b[0;32m   1746\u001b[0m       ctx, args, cancellation_manager\u001b[39m=\u001b[39;49mcancellation_manager))\n\u001b[0;32m   1747\u001b[0m forward_backward \u001b[39m=\u001b[39m \u001b[39mself\u001b[39m\u001b[39m.\u001b[39m_select_forward_and_backward_functions(\n\u001b[0;32m   1748\u001b[0m     args,\n\u001b[0;32m   1749\u001b[0m     possible_gradient_type,\n\u001b[0;32m   1750\u001b[0m     executing_eagerly)\n\u001b[0;32m   1751\u001b[0m forward_function, args_with_tangents \u001b[39m=\u001b[39m forward_backward\u001b[39m.\u001b[39mforward()\n",
            "File \u001b[1;32m~\\AppData\\Roaming\\Python\\Python310\\site-packages\\tensorflow\\python\\eager\\polymorphic_function\\monomorphic_function.py:378\u001b[0m, in \u001b[0;36m_EagerDefinedFunction.call\u001b[1;34m(self, ctx, args, cancellation_manager)\u001b[0m\n\u001b[0;32m    376\u001b[0m \u001b[39mwith\u001b[39;00m _InterpolateFunctionError(\u001b[39mself\u001b[39m):\n\u001b[0;32m    377\u001b[0m   \u001b[39mif\u001b[39;00m cancellation_manager \u001b[39mis\u001b[39;00m \u001b[39mNone\u001b[39;00m:\n\u001b[1;32m--> 378\u001b[0m     outputs \u001b[39m=\u001b[39m execute\u001b[39m.\u001b[39;49mexecute(\n\u001b[0;32m    379\u001b[0m         \u001b[39mstr\u001b[39;49m(\u001b[39mself\u001b[39;49m\u001b[39m.\u001b[39;49msignature\u001b[39m.\u001b[39;49mname),\n\u001b[0;32m    380\u001b[0m         num_outputs\u001b[39m=\u001b[39;49m\u001b[39mself\u001b[39;49m\u001b[39m.\u001b[39;49m_num_outputs,\n\u001b[0;32m    381\u001b[0m         inputs\u001b[39m=\u001b[39;49margs,\n\u001b[0;32m    382\u001b[0m         attrs\u001b[39m=\u001b[39;49mattrs,\n\u001b[0;32m    383\u001b[0m         ctx\u001b[39m=\u001b[39;49mctx)\n\u001b[0;32m    384\u001b[0m   \u001b[39melse\u001b[39;00m:\n\u001b[0;32m    385\u001b[0m     outputs \u001b[39m=\u001b[39m execute\u001b[39m.\u001b[39mexecute_with_cancellation(\n\u001b[0;32m    386\u001b[0m         \u001b[39mstr\u001b[39m(\u001b[39mself\u001b[39m\u001b[39m.\u001b[39msignature\u001b[39m.\u001b[39mname),\n\u001b[0;32m    387\u001b[0m         num_outputs\u001b[39m=\u001b[39m\u001b[39mself\u001b[39m\u001b[39m.\u001b[39m_num_outputs,\n\u001b[1;32m   (...)\u001b[0m\n\u001b[0;32m    390\u001b[0m         ctx\u001b[39m=\u001b[39mctx,\n\u001b[0;32m    391\u001b[0m         cancellation_manager\u001b[39m=\u001b[39mcancellation_manager)\n",
            "File \u001b[1;32m~\\AppData\\Roaming\\Python\\Python310\\site-packages\\tensorflow\\python\\eager\\execute.py:52\u001b[0m, in \u001b[0;36mquick_execute\u001b[1;34m(op_name, num_outputs, inputs, attrs, ctx, name)\u001b[0m\n\u001b[0;32m     50\u001b[0m \u001b[39mtry\u001b[39;00m:\n\u001b[0;32m     51\u001b[0m   ctx\u001b[39m.\u001b[39mensure_initialized()\n\u001b[1;32m---> 52\u001b[0m   tensors \u001b[39m=\u001b[39m pywrap_tfe\u001b[39m.\u001b[39;49mTFE_Py_Execute(ctx\u001b[39m.\u001b[39;49m_handle, device_name, op_name,\n\u001b[0;32m     53\u001b[0m                                       inputs, attrs, num_outputs)\n\u001b[0;32m     54\u001b[0m \u001b[39mexcept\u001b[39;00m core\u001b[39m.\u001b[39m_NotOkStatusException \u001b[39mas\u001b[39;00m e:\n\u001b[0;32m     55\u001b[0m   \u001b[39mif\u001b[39;00m name \u001b[39mis\u001b[39;00m \u001b[39mnot\u001b[39;00m \u001b[39mNone\u001b[39;00m:\n",
            "\u001b[1;31mKeyboardInterrupt\u001b[0m: "
          ]
        }
      ],
      "source": [
        "nn_1_epochs = 50 \n",
        "# nn_1_opt = tf.keras.optimizers.SGD(learning_rate=0.2, momentum=0.1)\n",
        "nn_1_opt = tf.keras.optimizers.Nadam()\n",
        "nn_1_loss = [\"sparse_categorical_crossentropy\"]\n",
        "nn_1_mtrx = [\"accuracy\"] \n",
        "nn_1.compile(loss= nn_1_loss, optimizer = nn_1_opt, metrics = nn_1_mtrx)\n",
        "history = nn_1.fit(nn_1_train_x, nn_1_train_y, validation_data=(nn_1_val_x, nn_1_val_y), epochs = nn_1_epochs)"
      ]
    },
    {
      "cell_type": "code",
      "execution_count": 44,
      "metadata": {},
      "outputs": [
        {
          "name": "stdout",
          "output_type": "stream",
          "text": [
            "Model: \"sequential\"\n",
            "_________________________________________________________________\n",
            " Layer (type)                Output Shape              Param #   \n",
            "=================================================================\n",
            " flatten (Flatten)           (None, 3)                 0         \n",
            "                                                                 \n",
            " dense (Dense)               (None, 75)                300       \n",
            "                                                                 \n",
            " dense_1 (Dense)             (None, 175)               13300     \n",
            "                                                                 \n",
            " dense_2 (Dense)             (None, 200)               35200     \n",
            "                                                                 \n",
            " dense_3 (Dense)             (None, 5)                 1005      \n",
            "                                                                 \n",
            "=================================================================\n",
            "Total params: 49,805\n",
            "Trainable params: 49,805\n",
            "Non-trainable params: 0\n",
            "_________________________________________________________________\n"
          ]
        }
      ],
      "source": [
        "nn_1.summary()"
      ]
    },
    {
      "cell_type": "markdown",
      "metadata": {},
      "source": [
        "### SVM Model"
      ]
    },
    {
      "cell_type": "code",
      "execution_count": null,
      "metadata": {},
      "outputs": [],
      "source": [
        "from sklearn.svm import SVC\n",
        "from sklearn.model_selection import RandomizedSearchCV\n",
        "from sklearn.metrics import confusion_matrix, precision_score, recall_score\n",
        "from scipy.stats import reciprocal, uniform, randint\n",
        "\n",
        "\n",
        "X_train = nn_1_train_full_X\n",
        "y_train = nn_1_train_full_Y\n",
        "X_test  = nn_1_test_X\n",
        "y_test  = nn_1_test_Y"
      ]
    },
    {
      "cell_type": "code",
      "execution_count": 46,
      "metadata": {},
      "outputs": [
        {
          "ename": "TypeError",
          "evalue": "float() argument must be a string or a real number, not 'StandardScaler'",
          "output_type": "error",
          "traceback": [
            "\u001b[1;31m---------------------------------------------------------------------------\u001b[0m",
            "\u001b[1;31mTypeError\u001b[0m                                 Traceback (most recent call last)",
            "\u001b[1;32mg:\\My Drive\\Class_Folders\\CS_4774\\Project\\MLProject\\Machine_Learning_Project.ipynb Cell 97\u001b[0m in \u001b[0;36m<cell line: 6>\u001b[1;34m()\u001b[0m\n\u001b[0;32m      <a href='vscode-notebook-cell:/g%3A/My%20Drive/Class_Folders/CS_4774/Project/MLProject/Machine_Learning_Project.ipynb#Y201sZmlsZQ%3D%3D?line=2'>3</a>\u001b[0m svm_linear\u001b[39m.\u001b[39mfit(X_train, y_train)\n\u001b[0;32m      <a href='vscode-notebook-cell:/g%3A/My%20Drive/Class_Folders/CS_4774/Project/MLProject/Machine_Learning_Project.ipynb#Y201sZmlsZQ%3D%3D?line=4'>5</a>\u001b[0m \u001b[39m# print confusion matrix, precision score, and recall score\u001b[39;00m\n\u001b[1;32m----> <a href='vscode-notebook-cell:/g%3A/My%20Drive/Class_Folders/CS_4774/Project/MLProject/Machine_Learning_Project.ipynb#Y201sZmlsZQ%3D%3D?line=5'>6</a>\u001b[0m y_pred \u001b[39m=\u001b[39m svm_linear\u001b[39m.\u001b[39;49mpredict(X_test)\n\u001b[0;32m      <a href='vscode-notebook-cell:/g%3A/My%20Drive/Class_Folders/CS_4774/Project/MLProject/Machine_Learning_Project.ipynb#Y201sZmlsZQ%3D%3D?line=6'>7</a>\u001b[0m confusion \u001b[39m=\u001b[39m confusion_matrix(y_test, y_pred)\n\u001b[0;32m      <a href='vscode-notebook-cell:/g%3A/My%20Drive/Class_Folders/CS_4774/Project/MLProject/Machine_Learning_Project.ipynb#Y201sZmlsZQ%3D%3D?line=7'>8</a>\u001b[0m precision \u001b[39m=\u001b[39m precision_score(y_test, y_pred)\n",
            "File \u001b[1;32m~\\AppData\\Roaming\\Python\\Python310\\site-packages\\sklearn\\svm\\_base.py:810\u001b[0m, in \u001b[0;36mBaseSVC.predict\u001b[1;34m(self, X)\u001b[0m\n\u001b[0;32m    808\u001b[0m     y \u001b[39m=\u001b[39m np\u001b[39m.\u001b[39margmax(\u001b[39mself\u001b[39m\u001b[39m.\u001b[39mdecision_function(X), axis\u001b[39m=\u001b[39m\u001b[39m1\u001b[39m)\n\u001b[0;32m    809\u001b[0m \u001b[39melse\u001b[39;00m:\n\u001b[1;32m--> 810\u001b[0m     y \u001b[39m=\u001b[39m \u001b[39msuper\u001b[39;49m()\u001b[39m.\u001b[39;49mpredict(X)\n\u001b[0;32m    811\u001b[0m \u001b[39mreturn\u001b[39;00m \u001b[39mself\u001b[39m\u001b[39m.\u001b[39mclasses_\u001b[39m.\u001b[39mtake(np\u001b[39m.\u001b[39masarray(y, dtype\u001b[39m=\u001b[39mnp\u001b[39m.\u001b[39mintp))\n",
            "File \u001b[1;32m~\\AppData\\Roaming\\Python\\Python310\\site-packages\\sklearn\\svm\\_base.py:433\u001b[0m, in \u001b[0;36mBaseLibSVM.predict\u001b[1;34m(self, X)\u001b[0m\n\u001b[0;32m    417\u001b[0m \u001b[39mdef\u001b[39;00m \u001b[39mpredict\u001b[39m(\u001b[39mself\u001b[39m, X):\n\u001b[0;32m    418\u001b[0m     \u001b[39m\"\"\"Perform regression on samples in X.\u001b[39;00m\n\u001b[0;32m    419\u001b[0m \n\u001b[0;32m    420\u001b[0m \u001b[39m    For an one-class model, +1 (inlier) or -1 (outlier) is returned.\u001b[39;00m\n\u001b[1;32m   (...)\u001b[0m\n\u001b[0;32m    431\u001b[0m \u001b[39m        The predicted values.\u001b[39;00m\n\u001b[0;32m    432\u001b[0m \u001b[39m    \"\"\"\u001b[39;00m\n\u001b[1;32m--> 433\u001b[0m     X \u001b[39m=\u001b[39m \u001b[39mself\u001b[39;49m\u001b[39m.\u001b[39;49m_validate_for_predict(X)\n\u001b[0;32m    434\u001b[0m     predict \u001b[39m=\u001b[39m \u001b[39mself\u001b[39m\u001b[39m.\u001b[39m_sparse_predict \u001b[39mif\u001b[39;00m \u001b[39mself\u001b[39m\u001b[39m.\u001b[39m_sparse \u001b[39melse\u001b[39;00m \u001b[39mself\u001b[39m\u001b[39m.\u001b[39m_dense_predict\n\u001b[0;32m    435\u001b[0m     \u001b[39mreturn\u001b[39;00m predict(X)\n",
            "File \u001b[1;32m~\\AppData\\Roaming\\Python\\Python310\\site-packages\\sklearn\\svm\\_base.py:611\u001b[0m, in \u001b[0;36mBaseLibSVM._validate_for_predict\u001b[1;34m(self, X)\u001b[0m\n\u001b[0;32m    608\u001b[0m check_is_fitted(\u001b[39mself\u001b[39m)\n\u001b[0;32m    610\u001b[0m \u001b[39mif\u001b[39;00m \u001b[39mnot\u001b[39;00m callable(\u001b[39mself\u001b[39m\u001b[39m.\u001b[39mkernel):\n\u001b[1;32m--> 611\u001b[0m     X \u001b[39m=\u001b[39m \u001b[39mself\u001b[39;49m\u001b[39m.\u001b[39;49m_validate_data(\n\u001b[0;32m    612\u001b[0m         X,\n\u001b[0;32m    613\u001b[0m         accept_sparse\u001b[39m=\u001b[39;49m\u001b[39m\"\u001b[39;49m\u001b[39mcsr\u001b[39;49m\u001b[39m\"\u001b[39;49m,\n\u001b[0;32m    614\u001b[0m         dtype\u001b[39m=\u001b[39;49mnp\u001b[39m.\u001b[39;49mfloat64,\n\u001b[0;32m    615\u001b[0m         order\u001b[39m=\u001b[39;49m\u001b[39m\"\u001b[39;49m\u001b[39mC\u001b[39;49m\u001b[39m\"\u001b[39;49m,\n\u001b[0;32m    616\u001b[0m         accept_large_sparse\u001b[39m=\u001b[39;49m\u001b[39mFalse\u001b[39;49;00m,\n\u001b[0;32m    617\u001b[0m         reset\u001b[39m=\u001b[39;49m\u001b[39mFalse\u001b[39;49;00m,\n\u001b[0;32m    618\u001b[0m     )\n\u001b[0;32m    620\u001b[0m \u001b[39mif\u001b[39;00m \u001b[39mself\u001b[39m\u001b[39m.\u001b[39m_sparse \u001b[39mand\u001b[39;00m \u001b[39mnot\u001b[39;00m sp\u001b[39m.\u001b[39misspmatrix(X):\n\u001b[0;32m    621\u001b[0m     X \u001b[39m=\u001b[39m sp\u001b[39m.\u001b[39mcsr_matrix(X)\n",
            "File \u001b[1;32m~\\AppData\\Roaming\\Python\\Python310\\site-packages\\sklearn\\base.py:577\u001b[0m, in \u001b[0;36mBaseEstimator._validate_data\u001b[1;34m(self, X, y, reset, validate_separately, **check_params)\u001b[0m\n\u001b[0;32m    575\u001b[0m     \u001b[39mraise\u001b[39;00m \u001b[39mValueError\u001b[39;00m(\u001b[39m\"\u001b[39m\u001b[39mValidation should be done on X, y or both.\u001b[39m\u001b[39m\"\u001b[39m)\n\u001b[0;32m    576\u001b[0m \u001b[39melif\u001b[39;00m \u001b[39mnot\u001b[39;00m no_val_X \u001b[39mand\u001b[39;00m no_val_y:\n\u001b[1;32m--> 577\u001b[0m     X \u001b[39m=\u001b[39m check_array(X, input_name\u001b[39m=\u001b[39m\u001b[39m\"\u001b[39m\u001b[39mX\u001b[39m\u001b[39m\"\u001b[39m, \u001b[39m*\u001b[39m\u001b[39m*\u001b[39mcheck_params)\n\u001b[0;32m    578\u001b[0m     out \u001b[39m=\u001b[39m X\n\u001b[0;32m    579\u001b[0m \u001b[39melif\u001b[39;00m no_val_X \u001b[39mand\u001b[39;00m \u001b[39mnot\u001b[39;00m no_val_y:\n",
            "File \u001b[1;32m~\\AppData\\Roaming\\Python\\Python310\\site-packages\\sklearn\\utils\\validation.py:856\u001b[0m, in \u001b[0;36mcheck_array\u001b[1;34m(array, accept_sparse, accept_large_sparse, dtype, order, copy, force_all_finite, ensure_2d, allow_nd, ensure_min_samples, ensure_min_features, estimator, input_name)\u001b[0m\n\u001b[0;32m    854\u001b[0m         array \u001b[39m=\u001b[39m array\u001b[39m.\u001b[39mastype(dtype, casting\u001b[39m=\u001b[39m\u001b[39m\"\u001b[39m\u001b[39munsafe\u001b[39m\u001b[39m\"\u001b[39m, copy\u001b[39m=\u001b[39m\u001b[39mFalse\u001b[39;00m)\n\u001b[0;32m    855\u001b[0m     \u001b[39melse\u001b[39;00m:\n\u001b[1;32m--> 856\u001b[0m         array \u001b[39m=\u001b[39m np\u001b[39m.\u001b[39;49masarray(array, order\u001b[39m=\u001b[39;49morder, dtype\u001b[39m=\u001b[39;49mdtype)\n\u001b[0;32m    857\u001b[0m \u001b[39mexcept\u001b[39;00m ComplexWarning \u001b[39mas\u001b[39;00m complex_warning:\n\u001b[0;32m    858\u001b[0m     \u001b[39mraise\u001b[39;00m \u001b[39mValueError\u001b[39;00m(\n\u001b[0;32m    859\u001b[0m         \u001b[39m\"\u001b[39m\u001b[39mComplex data not supported\u001b[39m\u001b[39m\\n\u001b[39;00m\u001b[39m{}\u001b[39;00m\u001b[39m\\n\u001b[39;00m\u001b[39m\"\u001b[39m\u001b[39m.\u001b[39mformat(array)\n\u001b[0;32m    860\u001b[0m     ) \u001b[39mfrom\u001b[39;00m \u001b[39mcomplex_warning\u001b[39;00m\n",
            "\u001b[1;31mTypeError\u001b[0m: float() argument must be a string or a real number, not 'StandardScaler'"
          ]
        }
      ],
      "source": [
        "# linear\n",
        "svm_linear = SVC(kernel=\"linear\", C=1.0)\n",
        "svm_linear.fit(X_train, y_train)\n",
        "\n",
        "# print confusion matrix, precision score, and recall score\n",
        "y_pred = svm_linear.predict(X_test)\n",
        "confusion = confusion_matrix(y_test, y_pred)\n",
        "precision = precision_score(y_test, y_pred)\n",
        "recall = recall_score(y_test, y_pred)\n",
        "print(f'Confusion Matrix: {confusion}')\n",
        "print(f'Precision Score: {precision}')\n",
        "print(f'Recall Score: {recall}')"
      ]
    },
    {
      "cell_type": "code",
      "execution_count": null,
      "metadata": {},
      "outputs": [],
      "source": [
        "# Polynomial\n",
        "svm_poly = SVC(kernel=\"poly\", C=1.0)\n",
        "svm_poly.fit(X_train, y_train)"
      ]
    },
    {
      "cell_type": "code",
      "execution_count": null,
      "metadata": {},
      "outputs": [],
      "source": [
        "# Gaussian RBF \n",
        "svm_rbf = SVC(kernel=\"rbf\", C=1.0)\n",
        "svm_rbf.fit(X_train, y_train)"
      ]
    },
    {
      "cell_type": "code",
      "execution_count": null,
      "metadata": {},
      "outputs": [],
      "source": [
        "classifiers = [svm_linear, svm_poly, svm_rbf]\n",
        "names = ['linear', 'poly', 'rbf']\n",
        "\n",
        "param_distributions = [{\"gamma\": reciprocal(0.001, 0.1), \"C\": uniform(1, 100)},\n",
        "                       {\"gamma\": reciprocal(0.001, 0.1), \"C\": uniform(1, 100), \"degree\": randint(2, 10)},\n",
        "                       {\"gamma\": reciprocal(0.001, 0.1), \"C\": uniform(1, 100)}]\n",
        "\n",
        "for i in [0, 1, 2]:\n",
        "  rnd_search_cv = RandomizedSearchCV(classifiers[i], param_distributions[i], n_iter=5, verbose=3, cv=3)\n",
        "  rnd_search_cv.fit(X_train, y_train)\n",
        "  print('\\n\\n-----------------------------------------------------------------')\n",
        "  print(f'svc with {names[i]} kernel:')\n",
        "  print(f'best score: {rnd_search_cv.best_score_}')\n",
        "  print(f'best_estimator: {rnd_search_cv.best_estimator_}')\n",
        "\n",
        "  # print confusion matrix, precision score, and recall score\n",
        "  y_pred = rnd_search_cv.predict(X_test)\n",
        "  confusion = confusion_matrix(y_test, y_pred)\n",
        "  precision = precision_score(y_test, y_pred)\n",
        "  recall = recall_score(y_test, y_pred)\n",
        "  print(f'Confusion Matrix: {confusion}')\n",
        "  print(f'Precision Score: {precision}')\n",
        "  print(f'Recall Score: {recall}')"
      ]
    }
  ],
  "metadata": {
    "colab": {
      "collapsed_sections": [],
      "provenance": []
    },
    "kernelspec": {
      "display_name": "Python 3.10.6 64-bit",
      "language": "python",
      "name": "python3"
    },
    "language_info": {
      "codemirror_mode": {
        "name": "ipython",
        "version": 3
      },
      "file_extension": ".py",
      "mimetype": "text/x-python",
      "name": "python",
      "nbconvert_exporter": "python",
      "pygments_lexer": "ipython3",
      "version": "3.10.6"
    },
    "vscode": {
      "interpreter": {
        "hash": "26de051ba29f2982a8de78e945f0abaf191376122a1563185a90213a26c5da77"
      }
    }
  },
  "nbformat": 4,
  "nbformat_minor": 0
}
